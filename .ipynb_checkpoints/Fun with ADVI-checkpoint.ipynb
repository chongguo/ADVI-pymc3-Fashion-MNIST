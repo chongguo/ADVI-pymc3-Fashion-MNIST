{
 "cells": [
  {
   "cell_type": "code",
   "execution_count": 179,
   "metadata": {},
   "outputs": [
    {
     "data": {
      "image/png": "[encoded data removed]",
      "text/plain": [
       "<Figure size 1080x1080 with 5 Axes>"
      ]
     },
     "metadata": {
      "needs_background": "light"
     },
     "output_type": "display_data"
    }
   ],
   "source": [
    "%matplotlib inline\n",
    "import os, sys\n",
    "sys.path.insert(1, os.path.join(sys.path[0], '..'))\n",
    "import pymc3 as pm\n",
    "import theano\n",
    "floatX = theano.config.floatX\n",
    "import theano.tensor as T\n",
    "import matplotlib.pyplot as plt\n",
    "import numpy as np\n",
    "from scipy.stats import mode\n",
    "from warnings import filterwarnings\n",
    "filterwarnings('ignore')\n",
    "from utils.mnist_reader import load_mnist\n",
    "from pymc3.theanof import set_tt_rng, MRG_RandomStreams\n",
    "set_tt_rng(MRG_RandomStreams(1))\n",
    "\n",
    "# import fashion mnist data\n",
    "X_train, y_train = load_mnist('data/fashion', kind='train')\n",
    "X_test, y_test = load_mnist('data/fashion', kind='t10k')\n",
    "n_in = X_train.shape[1]\n",
    "n_out = 10\n",
    "n_train = X_train.shape[0]\n",
    "n_test = X_test.shape[0]\n",
    "\n",
    "# one hot encoding\n",
    "#y_train = np.zeros((y_train_cat.shape[0],n_out))\n",
    "#y_test = np.zeros((y_test_cat.shape[0],n_out))\n",
    "#y_train[np.arange(y_train.shape[0]), y_train_cat] = 1\n",
    "#y_test[np.arange(y_test.shape[0]), y_test_cat] = 1\n",
    "\n",
    "# cast as theano float32\n",
    "X_train = X_train.astype(floatX)/255\n",
    "y_train = y_train.astype(floatX)\n",
    "X_test = X_test.astype(floatX)/255\n",
    "y_test = y_test.astype(floatX)\n",
    "\n",
    "label_dict = {\n",
    " 0: 'T-shirt/top',\n",
    " 1: 'Trouser',\n",
    " 2: 'Pullover',\n",
    " 3: 'Dress',\n",
    " 4: 'Coat',\n",
    " 5: 'Sandal',\n",
    " 6: 'Shirt',\n",
    " 7: 'Sneaker',\n",
    " 8: 'Bag',\n",
    " 9: 'Ankle boot'\n",
    "}\n",
    "\n",
    "# show a few samples\n",
    "nsamples = 5\n",
    "fig = plt.figure(figsize=(15,15))\n",
    "ax = fig.subplots(1,nsamples)\n",
    "for i in range(nsamples):\n",
    "    ax[i].imshow(np.reshape(X_train[i],(28,28)),cmap='gray')\n",
    "    ax[i].axis('off')\n",
    "    ax[i].set_title(label_dict[y_train[i]])\n",
    "fig.show()"
   ]
  },
  {
   "cell_type": "code",
   "execution_count": 182,
   "metadata": {},
   "outputs": [],
   "source": [
    "# now create a simple 3-layer bayesian neural network in pymc3\n",
    "def construct_nn(ann_input, ann_output):\n",
    "    n_hidden_1 = 64\n",
    "    n_hidden_2 = 32\n",
    "    \n",
    "    # Initialize random weights between each layer\n",
    "    init_1 = np.random.randn(n_in, n_hidden_1).astype(floatX)\n",
    "    init_2 = np.random.randn(n_hidden_1, n_hidden_2).astype(floatX)\n",
    "    init_out = np.random.randn(n_hidden_2,n_out).astype(floatX)\n",
    "\n",
    "    with pm.Model() as neural_network:\n",
    "        # Weights from input to hidden layer\n",
    "        weights_in_1 = pm.Normal('w_in_1', 0, sd=1,\n",
    "                                 shape=(n_in, n_hidden_1),\n",
    "                                 testval=init_1)\n",
    "\n",
    "        # Weights from 1st to 2nd layer\n",
    "        weights_1_2 = pm.Normal('w_1_2', 0, sd=1,\n",
    "                                shape=(n_hidden_1, n_hidden_2),\n",
    "                                testval=init_2)\n",
    "\n",
    "        # Weights from hidden layer to output\n",
    "        weights_2_out = pm.Normal('w_2_out', 0, sd=1,\n",
    "                                  shape=(n_hidden_2,n_out),\n",
    "                                  testval=init_out)\n",
    "\n",
    "        # Build neural-network using tanh activation function\n",
    "        act_1 = pm.math.tanh(pm.math.dot(ann_input,\n",
    "                                         weights_in_1))\n",
    "        act_2 = pm.math.tanh(pm.math.dot(act_1,\n",
    "                                         weights_1_2))\n",
    "        act_out = pm.math.sigmoid(pm.math.dot(act_2,\n",
    "                                              weights_2_out))\n",
    "\n",
    "        # Classification -> Bernoulli likelihood\n",
    "        out = pm.Categorical('out',\n",
    "                           act_out,\n",
    "                           observed=ann_output,\n",
    "                           total_size=n_train\n",
    "                          )\n",
    "    return neural_network"
   ]
  },
  {
   "cell_type": "code",
   "execution_count": 183,
   "metadata": {},
   "outputs": [
    {
     "name": "stderr",
     "output_type": "stream",
     "text": [
      "Average Loss = 89.601: 100%|█████████████████████████████████████████████████████| 10000/10000 [02:56<00:00, 56.73it/s]\n",
      "Finished [100%]: Average Loss = 89.611\n"
     ]
    }
   ],
   "source": [
    "minibatch_x = pm.Minibatch(X_train, batch_size=40)\n",
    "minibatch_y = pm.Minibatch(y_train, batch_size=40)\n",
    "neural_network_minibatch = construct_nn(minibatch_x, minibatch_y)\n",
    "with neural_network_minibatch:\n",
    "    inference = pm.ADVI()\n",
    "    approx = pm.fit(10000, method=inference)"
   ]
  },
  {
   "cell_type": "code",
   "execution_count": 184,
   "metadata": {},
   "outputs": [
    {
     "data": {
      "image/png": "[encoded data removed]",
      "text/plain": [
       "<Figure size 432x288 with 1 Axes>"
      ]
     },
     "metadata": {
      "needs_background": "light"
     },
     "output_type": "display_data"
    }
   ],
   "source": [
    "plt.plot(-inference.hist)\n",
    "plt.ylabel('ELBO')\n",
    "plt.xlabel('iteration')\n",
    "plt.show()"
   ]
  },
  {
   "cell_type": "code",
   "execution_count": 185,
   "metadata": {},
   "outputs": [],
   "source": [
    "trace = approx.sample(draws=1000)"
   ]
  },
  {
   "cell_type": "code",
   "execution_count": 186,
   "metadata": {},
   "outputs": [
    {
     "name": "stderr",
     "output_type": "stream",
     "text": [
      "100%|████████████████████████████████████████████████████████████████████████████████| 500/500 [00:14<00:00, 37.34it/s]\n"
     ]
    }
   ],
   "source": [
    "minibatch_x.set_value(X_test)\n",
    "minibatch_y.set_value(y_test)\n",
    "with neural_network_minibatch:\n",
    "        ppc = pm.sample_ppc(trace, samples=500)"
   ]
  },
  {
   "cell_type": "code",
   "execution_count": 190,
   "metadata": {},
   "outputs": [
    {
     "data": {
      "text/plain": [
       "array([8, 4, 8, 2, 4, 4, 4, 6, 6, 6, 4, 8, 2, 6, 4, 6, 2, 2, 6, 2, 2, 8,\n",
       "       6, 4, 4, 8, 2, 4, 5, 6, 2, 0, 2, 2, 2, 4, 2, 2, 4, 4])"
      ]
     },
     "execution_count": 190,
     "metadata": {},
     "output_type": "execute_result"
    }
   ],
   "source": [
    "y_pred = mode(ppc['out'], axis=0).mode[0,:]\n",
    "y_pred"
   ]
  },
  {
   "cell_type": "code",
   "execution_count": 191,
   "metadata": {},
   "outputs": [
    {
     "data": {
      "text/plain": [
       "array([9., 2., 1., 1., 6., 1., 4., 6., 5., 7., 4., 5., 7., 3., 4., 1., 2.,\n",
       "       4., 8., 0., 2., 5., 7., 9., 1., 4., 6., 0., 9., 3., 8., 8., 3., 3.,\n",
       "       8., 0., 7., 5., 7., 9., 6., 1., 3., 7., 6., 7., 2., 1., 2.])"
      ]
     },
     "execution_count": 191,
     "metadata": {},
     "output_type": "execute_result"
    }
   ],
   "source": [
    "y_test[0:49]"
   ]
  },
  {
   "cell_type": "code",
   "execution_count": 192,
   "metadata": {},
   "outputs": [
    {
     "data": {
      "image/png": "[encoded data removed]",
      "text/plain": [
       "<Figure size 1080x1080 with 5 Axes>"
      ]
     },
     "metadata": {
      "needs_background": "light"
     },
     "output_type": "display_data"
    }
   ],
   "source": [
    "# show a few samples\n",
    "nsamples = 5\n",
    "fig = plt.figure(figsize=(15,15))\n",
    "ax = fig.subplots(1,nsamples)\n",
    "for i in range(nsamples):\n",
    "    ax[i].imshow(np.reshape(X_test[i],(28,28)),cmap='gray')\n",
    "    ax[i].set_title(label_dict[y_test[i]])\n",
    "    ax[i].set_xlabel(label_dict[y_pred[i]])\n",
    "fig.show()"
   ]
  },
  {
   "cell_type": "code",
   "execution_count": null,
   "metadata": {},
   "outputs": [],
   "source": []
  }
 ],
 "metadata": {
  "kernelspec": {
   "display_name": "Python (pymc3)",
   "language": "python",
   "name": "pymc3"
  },
  "language_info": {
   "codemirror_mode": {
    "name": "ipython",
    "version": 3
   },
   "file_extension": ".py",
   "mimetype": "text/x-python",
   "name": "python",
   "nbconvert_exporter": "python",
   "pygments_lexer": "ipython3",
   "version": "3.6.6"
  }
 },
 "nbformat": 4,
 "nbformat_minor": 2
}
