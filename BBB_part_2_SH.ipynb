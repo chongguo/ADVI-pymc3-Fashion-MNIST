{
 "cells": [
  {
   "cell_type": "markdown",
   "metadata": {},
   "source": [
    "BBB Project Part 2\n",
    "===\n"
   ]
  },
  {
   "cell_type": "code",
   "execution_count": 64,
   "metadata": {},
   "outputs": [],
   "source": [
    "import os, sys\n",
    "sys.path.insert(1, os.path.join(sys.path[0], '..'))"
   ]
  },
  {
   "cell_type": "code",
   "execution_count": 65,
   "metadata": {},
   "outputs": [
    {
     "name": "stdout",
     "output_type": "stream",
     "text": [
      "Running on PyMC3 v3.5\n"
     ]
    }
   ],
   "source": [
    "import pymc3 as pm\n",
    "print('Running on PyMC3 v{}'.format(pm.__version__))\n",
    "import theano\n",
    "import theano.tensor as T\n",
    "\n",
    "import matplotlib.pyplot as plt\n",
    "import numpy as np\n",
    "\n",
    "from scipy.stats import mode\n",
    "from utils.mnist_reader import load_mnist\n",
    "from pymc3.theanof import set_tt_rng, MRG_RandomStreams\n",
    "\n",
    "from sklearn.datasets import make_moons\n",
    "from sklearn.preprocessing import scale\n",
    "from sklearn.model_selection import train_test_split\n",
    "\n",
    "%matplotlib inline"
   ]
  },
  {
   "cell_type": "code",
   "execution_count": 66,
   "metadata": {},
   "outputs": [],
   "source": [
    "# Avoid warnings on batches below\n",
    "from warnings import filterwarnings\n",
    "filterwarnings('ignore')"
   ]
  },
  {
   "cell_type": "code",
   "execution_count": null,
   "metadata": {},
   "outputs": [],
   "source": []
  },
  {
   "cell_type": "code",
   "execution_count": 67,
   "metadata": {},
   "outputs": [
    {
     "name": "stdout",
     "output_type": "stream",
     "text": [
      "N Input for fashion_mnist = 784\n"
     ]
    }
   ],
   "source": [
    "# Use tensorflow to \n",
    "import tensorflow as tf\n",
    "reshape_img = lambda img : img.reshape(img.shape[0],-1)\n",
    "floatX = theano.config.floatX\n",
    "\n",
    "dataset = 'fashion_mnist'\n",
    "\n",
    "if dataset == 'mnist':\n",
    "    (X_train, y_train), (X_test, y_test) = tf.keras.datasets.mnist.load_data()\n",
    "    X_train,X_test = reshape_img(X_train),reshape_img(X_test)\n",
    "    label_dict = {i:str(i) for i in range(10)}\n",
    "    \n",
    "    X_train = X_train.astype(floatX)/255\n",
    "    y_train = y_train.astype(np.int)\n",
    "    X_test = X_test.astype(floatX)/255\n",
    "    y_test = y_test.astype(np.int)\n",
    "elif dataset == 'fashion_mnist':\n",
    "    (X_train, y_train), (X_test, y_test) = tf.keras.datasets.fashion_mnist.load_data()\n",
    "    X_train,X_test = reshape_img(X_train),reshape_img(X_test)\n",
    "    label_dict = {0: 'T-shirt/top',\n",
    "                  1: 'Trouser',\n",
    "                  2: 'Pullover',\n",
    "                  3: 'Dress',\n",
    "                  4: 'Coat',\n",
    "                  5: 'Sandal',\n",
    "                  6: 'Shirt',\n",
    "                  7: 'Sneaker',\n",
    "                  8: 'Bag',\n",
    "                  9: 'Ankle boot'}\n",
    "    X_train = X_train.astype(floatX)/255\n",
    "    y_train = y_train.astype(np.int)\n",
    "    X_test = X_test.astype(floatX)/255\n",
    "    y_test = y_test.astype(np.int)\n",
    "elif dataset == 'moon':   \n",
    "    # for moon dataset example\n",
    "    X, Y = make_moons(noise=0.2, random_state=0, n_samples=1000)\n",
    "    X = scale(X)\n",
    "    X = X.astype(floatX)\n",
    "    Y = Y.astype(floatX)\n",
    "    X_train, X_test, y_train, y_test = train_test_split(X, Y, test_size=.5)\n",
    "\n",
    "(n_train,n_input) = X_train.shape\n",
    "n_out = len(label_dict)\n",
    "print(\"N Input for {} = {}\".format(dataset,n_input))"
   ]
  },
  {
   "cell_type": "code",
   "execution_count": 68,
   "metadata": {},
   "outputs": [],
   "source": [
    "set_tt_rng(MRG_RandomStreams(10))"
   ]
  },
  {
   "cell_type": "code",
   "execution_count": 69,
   "metadata": {},
   "outputs": [
    {
     "data": {
      "image/png": "[encoded data removed]",
      "text/plain": [
       "<Figure size 1080x1080 with 5 Axes>"
      ]
     },
     "metadata": {
      "needs_background": "light"
     },
     "output_type": "display_data"
    }
   ],
   "source": [
    "# show a few samples\n",
    "nsamples = 5\n",
    "fig = plt.figure(figsize=(15,15))\n",
    "ax = fig.subplots(1,nsamples)\n",
    "for i in range(nsamples):\n",
    "    ax[i].imshow(np.reshape(X_train[i],(28,28)),cmap='gray')\n",
    "    ax[i].axis('off')\n",
    "    ax[i].set_title(label_dict[y_train[i]])\n",
    "fig.show()"
   ]
  },
  {
   "cell_type": "code",
   "execution_count": 70,
   "metadata": {},
   "outputs": [
    {
     "data": {
      "text/plain": [
       "<theano.tensor.elemwise.Elemwise at 0x10d95bef0>"
      ]
     },
     "execution_count": 70,
     "metadata": {},
     "output_type": "execute_result"
    }
   ],
   "source": [
    "pm.math.sigmoid"
   ]
  },
  {
   "cell_type": "code",
   "execution_count": 71,
   "metadata": {},
   "outputs": [],
   "source": [
    "# now create a simple 3-layer bayesian neural network in pymc3\n",
    "def construct_nn(ann_input, ann_output):\n",
    "    n_hidden_1 = 64\n",
    "    n_hidden_2 = 32\n",
    "    \n",
    "    # Initialize random weights between each layer\n",
    "    init_1 = np.random.randn(n_input, n_hidden_1).astype(floatX)\n",
    "    init_2 = np.random.randn(n_hidden_1, n_hidden_2).astype(floatX)\n",
    "    init_out = np.random.randn(n_hidden_2,n_out).astype(floatX)\n",
    "\n",
    "    with pm.Model() as neural_network:\n",
    "        # Weights from input to hidden layer\n",
    "        weights_in_1 = pm.Normal('w_in_1', 0, sd=1.2,\n",
    "                                 shape=(n_input, n_hidden_1),\n",
    "                                 testval=init_1)\n",
    "\n",
    "        # Weights from 1st to 2nd layer\n",
    "        weights_1_2 = pm.Normal('w_1_2', 0, sd=1.2,\n",
    "                                shape=(n_hidden_1, n_hidden_2),\n",
    "                                testval=init_2)\n",
    "\n",
    "        # Weights from hidden layer to output\n",
    "        weights_2_out = pm.Normal('w_2_out', 0, sd=1.2,\n",
    "                                  shape=(n_hidden_2,n_out),\n",
    "                                  testval=init_out)\n",
    "\n",
    "        # Build neural-network using tanh activation function\n",
    "        act_1 = pm.math.tanh(pm.math.dot(ann_input,\n",
    "                                         weights_in_1))\n",
    "        act_2 = pm.math.tanh(pm.math.dot(act_1,\n",
    "                                         weights_1_2))\n",
    "        act_out = pm.math.sigmoid(pm.math.dot(act_2,\n",
    "                                              weights_2_out))\n",
    "\n",
    "        # Classification\n",
    "        out = pm.Categorical('out',\n",
    "                           act_out,\n",
    "                           observed=ann_output,\n",
    "                           total_size=n_train\n",
    "                          )\n",
    "    return neural_network"
   ]
  },
  {
   "cell_type": "code",
   "execution_count": 79,
   "metadata": {},
   "outputs": [],
   "source": [
    "# now create a simple 3-layer bayesian neural network in pymc3\n",
    "def construct_nn(ann_input, ann_output):\n",
    "    n_hidden_1 = 64\n",
    "    n_hidden_2 = 32\n",
    "    \n",
    "    # Initialize random weights between each layer\n",
    "    init_1 = np.random.randn(n_input, n_hidden_1).astype(floatX)\n",
    "    init_2 = np.random.randn(n_hidden_1, n_hidden_2).astype(floatX)\n",
    "    init_out = np.random.randn(n_hidden_2,n_out).astype(floatX)\n",
    "\n",
    "    with pm.Model() as neural_network:\n",
    "        # Weights from input to hidden layer\n",
    "        weights_in_1 = pm.Normal('w_in_1', 0, sd=1.2,\n",
    "                                 shape=(n_input, n_hidden_1),\n",
    "                                 testval=init_1)\n",
    "\n",
    "        # Weights from 1st to 2nd layer\n",
    "        weights_1_2 = pm.Normal('w_1_2', 0, sd=1.2,\n",
    "                                shape=(n_hidden_1, n_hidden_2),\n",
    "                                testval=init_2)\n",
    "\n",
    "        # Weights from hidden layer to output\n",
    "        weights_2_out = pm.Normal('w_2_out', 0, sd=1.2,\n",
    "                                  shape=(n_hidden_2,n_out),\n",
    "                                  testval=init_out)\n",
    "\n",
    "        # Build neural-network using tanh activation function\n",
    "        act_1 = pm.math.tanh(pm.math.dot(ann_input,\n",
    "                                         weights_in_1))\n",
    "        act_2 = pm.math.maximum(pm.math.dot(act_1,\n",
    "                                         weights_1_2),1e-4)\n",
    "        act_out = pm.math.sigmoid(pm.math.dot(act_2,\n",
    "                                              weights_2_out))\n",
    "\n",
    "        # Classification\n",
    "        out = pm.Categorical('out',\n",
    "                           act_out,\n",
    "                           observed=ann_output,\n",
    "                           total_size=n_train\n",
    "                          )\n",
    "    return neural_network"
   ]
  },
  {
   "cell_type": "code",
   "execution_count": 80,
   "metadata": {},
   "outputs": [
    {
     "name": "stderr",
     "output_type": "stream",
     "text": [
      "Average Loss = 106.1: 100%|██████████| 10000/10000 [01:04<00:00, 154.53it/s]\n",
      "Finished [100%]: Average Loss = 106.07\n"
     ]
    }
   ],
   "source": [
    "minibatch_x = pm.Minibatch(X_train, batch_size=40)\n",
    "minibatch_y = pm.Minibatch(y_train, batch_size=40)\n",
    "neural_network_minibatch = construct_nn(minibatch_x, minibatch_y)\n",
    "with neural_network_minibatch:\n",
    "    inference = pm.ADVI()\n",
    "    approx = pm.fit(10000, method=inference)"
   ]
  },
  {
   "cell_type": "code",
   "execution_count": 81,
   "metadata": {},
   "outputs": [],
   "source": [
    "elbo = -inference.hist"
   ]
  },
  {
   "cell_type": "code",
   "execution_count": null,
   "metadata": {},
   "outputs": [],
   "source": [
    "plt.plot(elbo)\n",
    "plt.ylabel('ELBO')\n",
    "plt.xlabel('iteration')\n",
    "plt.show()"
   ]
  },
  {
   "cell_type": "code",
   "execution_count": null,
   "metadata": {},
   "outputs": [],
   "source": [
    "trace = approx.sample(draws=1000)"
   ]
  },
  {
   "cell_type": "code",
   "execution_count": null,
   "metadata": {},
   "outputs": [],
   "source": [
    "minibatch_x.set_value(X_test)\n",
    "minibatch_y.set_value(y_test)\n",
    "with neural_network_minibatch:\n",
    "        ppc = pm.sample_ppc(trace, samples=100)"
   ]
  },
  {
   "cell_type": "code",
   "execution_count": null,
   "metadata": {},
   "outputs": [],
   "source": [
    "ppc.keys()"
   ]
  },
  {
   "cell_type": "code",
   "execution_count": null,
   "metadata": {},
   "outputs": [],
   "source": [
    "y_pred = mode(ppc['out'], axis=0).mode[0,:]\n",
    "y_pred"
   ]
  },
  {
   "cell_type": "code",
   "execution_count": null,
   "metadata": {},
   "outputs": [],
   "source": [
    "y_test[0:49]"
   ]
  },
  {
   "cell_type": "code",
   "execution_count": null,
   "metadata": {},
   "outputs": [],
   "source": [
    "# show a few samples\n",
    "nsamples = 10\n",
    "fig = plt.figure(figsize=(15,15))\n",
    "ax = fig.subplots(1,nsamples)\n",
    "for i in range(nsamples):\n",
    "    ax[i].imshow(np.reshape(X_test[i],(28,28)),cmap='gray')\n",
    "    ax[i].set_title(label_dict[y_test[i]])\n",
    "    ax[i].set_xlabel(label_dict[y_pred[i]])\n",
    "fig.show()"
   ]
  },
  {
   "cell_type": "code",
   "execution_count": null,
   "metadata": {},
   "outputs": [],
   "source": []
  },
  {
   "cell_type": "code",
   "execution_count": null,
   "metadata": {},
   "outputs": [],
   "source": []
  },
  {
   "cell_type": "code",
   "execution_count": null,
   "metadata": {},
   "outputs": [],
   "source": []
  }
 ],
 "metadata": {
  "kernelspec": {
   "display_name": "Python [conda env:am207]",
   "language": "python",
   "name": "conda-env-am207-py"
  },
  "language_info": {
   "codemirror_mode": {
    "name": "ipython",
    "version": 3
   },
   "file_extension": ".py",
   "mimetype": "text/x-python",
   "name": "python",
   "nbconvert_exporter": "python",
   "pygments_lexer": "ipython3",
   "version": "3.6.7"
  }
 },
 "nbformat": 4,
 "nbformat_minor": 2
}
