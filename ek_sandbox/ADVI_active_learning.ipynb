{
 "cells": [
  {
   "cell_type": "code",
   "execution_count": 53,
   "metadata": {},
   "outputs": [],
   "source": [
    "# %matplotlib inline\n",
    "# import os, sys\n",
    "# sys.path.insert(1, os.path.join(sys.path[0], '..'))\n",
    "# import pymc3 as pm\n",
    "# import theano\n",
    "# floatX = theano.config.floatX\n",
    "# import theano.tensor as T\n",
    "# import matplotlib.pyplot as plt\n",
    "# import numpy as np\n",
    "# from scipy.stats import mode\n",
    "# from warnings import filterwarnings\n",
    "# filterwarnings('ignore')\n",
    "# from utils.mnist_reader import load_mnist\n",
    "# from pymc3.theanof import set_tt_rng, MRG_RandomStreams\n",
    "# set_tt_rng(MRG_RandomStreams(10))\n",
    "# print('Running on PyMC3 v{}'.format(pm.__version__))\n",
    "\n",
    "# # import fashion mnist data\n",
    "# X_train, y_train = load_mnist('data/fashion', kind='train')\n",
    "# X_test, y_test = load_mnist('data/fashion', kind='t10k')\n",
    "\n",
    "# # one hot encoding\n",
    "# #y_train = np.zeros((y_train_cat.shape[0],n_out))\n",
    "# #y_test = np.zeros((y_test_cat.shape[0],n_out))\n",
    "# #y_train[np.arange(y_train.shape[0]), y_train_cat] = 1\n",
    "# #y_test[np.arange(y_test.shape[0]), y_test_cat] = 1\n",
    "\n",
    "# # cast as theano float32\n",
    "# X_train = X_train.astype(floatX)/255\n",
    "# y_train = y_train.astype(floatX)\n",
    "# X_test = X_test.astype(floatX)/255\n",
    "# y_test = y_test.astype(floatX)\n",
    "\n",
    "# n_in = X_train.shape[1]\n",
    "# n_out = 10\n",
    "# n_train = X_train.shape[0]\n",
    "# n_test = X_test.shape[0]\n",
    "\n",
    "# label_dict = {\n",
    "#  0: 'T-shirt/top',\n",
    "#  1: 'Trouser',\n",
    "#  2: 'Pullover',\n",
    "#  3: 'Dress',\n",
    "#  4: 'Coat',\n",
    "#  5: 'Sandal',\n",
    "#  6: 'Shirt',\n",
    "#  7: 'Sneaker',\n",
    "#  8: 'Bag',\n",
    "#  9: 'Ankle boot'\n",
    "# }\n",
    "\n",
    "# # show a few samples\n",
    "# nsamples = 5\n",
    "# fig = plt.figure(figsize=(15,15))\n",
    "# ax = fig.subplots(1,nsamples)\n",
    "# rndidx = np.random.choice(np.arange(n_train),size=(nsamples,1))\n",
    "# for i, idx in enumerate(rndidx):\n",
    "#     ax[i].imshow(np.reshape(X_train[idx],(28,28)),cmap='gray')\n",
    "#     ax[i].axis('off')\n",
    "#     ax[i].set_title(label_dict[y_train[idx.tolist()]])\n",
    "# fig.show()"
   ]
  },
  {
   "cell_type": "code",
   "execution_count": 6,
   "metadata": {},
   "outputs": [],
   "source": [
    "import os, sys\n",
    "sys.path.insert(1, os.path.join(sys.path[0], '..'))"
   ]
  },
  {
   "cell_type": "code",
   "execution_count": 20,
   "metadata": {},
   "outputs": [
    {
     "name": "stdout",
     "output_type": "stream",
     "text": [
      "Running on PyMC3 v3.5\n"
     ]
    }
   ],
   "source": [
    "import pymc3 as pm\n",
    "print('Running on PyMC3 v{}'.format(pm.__version__))\n",
    "import theano\n",
    "import theano.tensor as T\n",
    "\n",
    "import matplotlib.pyplot as plt\n",
    "import numpy as np\n",
    "\n",
    "from scipy.stats import mode\n",
    "from utils.mnist_reader import load_mnist\n",
    "from pymc3.theanof import set_tt_rng, MRG_RandomStreams\n",
    "import tqdm\n",
    "\n",
    "%matplotlib inline"
   ]
  },
  {
   "cell_type": "code",
   "execution_count": 8,
   "metadata": {},
   "outputs": [],
   "source": [
    "# Avoid warnings on batches below\n",
    "from warnings import filterwarnings\n",
    "filterwarnings('ignore')"
   ]
  },
  {
   "cell_type": "code",
   "execution_count": 31,
   "metadata": {},
   "outputs": [
    {
     "name": "stdout",
     "output_type": "stream",
     "text": [
      "N Input for mnist = 784\n"
     ]
    }
   ],
   "source": [
    "import tensorflow as tf\n",
    "\n",
    "clas_dataset = 'mnist'\n",
    "\n",
    "if clas_dataset == 'mnist':\n",
    "    (X_train, y_train), (X_test, y_test) = tf.keras.datasets.mnist.load_data()\n",
    "    label_dict = {i:str(i) for i in range(10)}\n",
    "elif clas_dataset == 'fashion_mnist':\n",
    "    (X_train, y_train), (X_test, y_test) = tf.keras.datasets.fashion_mnist.load_data()\n",
    "    label_dict = {0: 'T-shirt/top',\n",
    "                  1: 'Trouser',\n",
    "                  2: 'Pullover',\n",
    "                  3: 'Dress',\n",
    "                  4: 'Coat',\n",
    "                  5: 'Sandal',\n",
    "                  6: 'Shirt',\n",
    "                  7: 'Sneaker',\n",
    "                  8: 'Bag',\n",
    "                  9: 'Ankle boot'}\n",
    "    \n",
    "X_train = X_train.reshape(X_train.shape[0],-1)\n",
    "X_test = X_test.reshape(X_test.shape[0],-1)\n",
    "\n",
    "(n_train,n_input) = X_train.shape\n",
    "n_out = len(label_dict)\n",
    "print(\"N Input for {} = {}\".format(clas_dataset,n_input))"
   ]
  },
  {
   "cell_type": "code",
   "execution_count": 32,
   "metadata": {},
   "outputs": [],
   "source": [
    "set_tt_rng(MRG_RandomStreams(10))"
   ]
  },
  {
   "cell_type": "code",
   "execution_count": 33,
   "metadata": {},
   "outputs": [],
   "source": [
    "# cast as theano float32\n",
    "floatX = theano.config.floatX # does this make it a shared?\n",
    "\n",
    "X_train = X_train.astype(floatX)/255\n",
    "y_train = y_train.astype(np.int)\n",
    "X_test = X_test.astype(floatX)/255\n",
    "y_test = y_test.astype(np.int)"
   ]
  },
  {
   "cell_type": "code",
   "execution_count": 34,
   "metadata": {},
   "outputs": [
    {
     "data": {
      "image/png": "[encoded data removed]",
      "text/plain": [
       "<matplotlib.figure.Figure at 0x1c8a33c7b8>"
      ]
     },
     "metadata": {
      "needs_background": "light"
     },
     "output_type": "display_data"
    }
   ],
   "source": [
    "# show a few samples\n",
    "nsamples = 5\n",
    "fig, ax = plt.subplots(1, nsamples, figsize=(15,15))\n",
    "# ax = fig.subplots(1,nsamples)\n",
    "for i in range(nsamples):\n",
    "    ax[i].imshow(np.reshape(X_train[i],(28,28)),cmap='gray')\n",
    "    ax[i].axis('off')\n",
    "    ax[i].set_title(label_dict[y_train[i]])\n",
    "fig.show()"
   ]
  },
  {
   "cell_type": "code",
   "execution_count": 46,
   "metadata": {},
   "outputs": [],
   "source": [
    "# now create a simple 3-layer bayesian neural network in pymc3\n",
    "def construct_nn(ann_input, ann_output):\n",
    "    n_hidden_1 = 128\n",
    "#     n_hidden_2 = 34\n",
    "    \n",
    "    # Initialize random weights between each layer\n",
    "    init_1 = np.random.randn(n_input, n_hidden_1).astype(floatX)\n",
    "#     init_2 = np.random.randn(n_hidden_1, n_hidden_2).astype(floatX)\n",
    "    init_out = np.random.randn(n_hidden_1,n_out).astype(floatX)\n",
    "\n",
    "    with pm.Model() as neural_network:\n",
    "        # Weights from input to hidden layer\n",
    "        weights_in_1 = pm.Normal('w_in_1', 0, sd=1.2,\n",
    "                                 shape=(n_input, n_hidden_1),\n",
    "                                 testval=init_1)\n",
    "\n",
    "#         # Weights from 1st to 2nd layer\n",
    "#         weights_1_2 = pm.Normal('w_1_2', 0, sd=1.2,\n",
    "#                                 shape=(n_hidden_1, n_hidden_2),\n",
    "#                                 testval=init_2)\n",
    "\n",
    "        # Weights from hidden layer to output\n",
    "        weights_2_out = pm.Normal('w_2_out', 0, sd=1.2,\n",
    "                                  shape=(n_hidden_1,n_out),\n",
    "                                  testval=init_out)\n",
    "\n",
    "        # Build neural-network using tanh activation function\n",
    "        act_1 = pm.math.tanh(pm.math.dot(ann_input,\n",
    "                                         weights_in_1))\n",
    "#         act_2 = pm.math.tanh(pm.math.dot(act_1,\n",
    "#                                          weights_1_2))\n",
    "        act_out = pm.math.sigmoid(pm.math.dot(act_1,\n",
    "                                              weights_2_out))\n",
    "        \n",
    "        # Classification\n",
    "        out = pm.Categorical('out',\n",
    "                           act_out,\n",
    "                           observed=ann_output,\n",
    "                           total_size=n_train\n",
    "                          )\n",
    "    return neural_network"
   ]
  },
  {
   "cell_type": "code",
   "execution_count": 67,
   "metadata": {},
   "outputs": [],
   "source": [
    "# train on minibatch with ADVI\n",
    "minibatch_x = pm.Minibatch(X_train, batch_size=50)\n",
    "minibatch_y = pm.Minibatch(y_train, batch_size=50)\n",
    "neural_network_minibatch = construct_nn(minibatch_x, minibatch_y)"
   ]
  },
  {
   "cell_type": "code",
   "execution_count": null,
   "metadata": {},
   "outputs": [],
   "source": [
    "with neural_network_minibatch:\n",
    "    inference = pm.ADVI()\n",
    "    approx = pm.fit(10000, method=inference)"
   ]
  },
  {
   "cell_type": "code",
   "execution_count": 79,
   "metadata": {},
   "outputs": [
    {
     "name": "stderr",
     "output_type": "stream",
     "text": [
      "100%|██████████| 300/300 [02:39<00:00,  1.78it/s]\n"
     ]
    }
   ],
   "source": [
    "with neural_network_minibatch:\n",
    "    sgd_result = pm.sgd(learning_rate=.01)\n",
    "    svgd_approx = pm.fit(300, method='svgd',\n",
    "                         obj_optimizer=pm.sgd(learning_rate=0.01))\n",
    "#     approx = pm.fit(10000, method=sgd_result)"
   ]
  },
  {
   "cell_type": "code",
   "execution_count": null,
   "metadata": {},
   "outputs": [],
   "source": [
    "# plotting the training progress\n",
    "plt.plot(-inference.hist)\n",
    "plt.ylabel('ELBO')\n",
    "plt.xlabel('iteration')\n",
    "plt.show()"
   ]
  },
  {
   "cell_type": "code",
   "execution_count": 81,
   "metadata": {},
   "outputs": [],
   "source": [
    "# get samples of the weight\n",
    "trace = approx.sample(draws=2000)"
   ]
  },
  {
   "cell_type": "code",
   "execution_count": null,
   "metadata": {},
   "outputs": [],
   "source": []
  },
  {
   "cell_type": "code",
   "execution_count": 82,
   "metadata": {},
   "outputs": [
    {
     "name": "stderr",
     "output_type": "stream",
     "text": [
      "100%|██████████| 100/100 [00:49<00:00,  2.08it/s]\n"
     ]
    }
   ],
   "source": [
    "# network for testing with trace of the minbatch network\n",
    "test_x = theano.shared(X_test)\n",
    "test_y = theano.shared(y_test)\n",
    "neural_network_test = construct_nn(test_x, test_y)\n",
    "with neural_network_test:\n",
    "    ppc = pm.sample_ppc(trace, samples=100)"
   ]
  },
  {
   "cell_type": "code",
   "execution_count": 83,
   "metadata": {},
   "outputs": [
    {
     "data": {
      "image/png": "[encoded data removed]",
      "text/plain": [
       "<matplotlib.figure.Figure at 0x1c62cff240>"
      ]
     },
     "metadata": {
      "needs_background": "light"
     },
     "output_type": "display_data"
    }
   ],
   "source": [
    "y_pred = mode(ppc['out'], axis=0).mode[0,:]\n",
    "# show a few samples\n",
    "nsamples = 10\n",
    "fig, ax = plt.subplots(1, nsamples, figsize=(15,15))\n",
    "# ax = fig.subplots(1,nsamples)\n",
    "for i in range(nsamples):\n",
    "    ax[i].imshow(np.reshape(X_test[i],(28,28)),cmap='gray')\n",
    "    if y_pred[i]==y_test[i]:\n",
    "        ax[i].set_title([y_pred[i],y_test[i]])\n",
    "    else:\n",
    "        ax[i].set_title([y_pred[i],y_test[i]],color='r')\n",
    "fig.show()"
   ]
  },
  {
   "cell_type": "code",
   "execution_count": 84,
   "metadata": {},
   "outputs": [
    {
     "data": {
      "text/plain": [
       "0.076600000000000001"
      ]
     },
     "execution_count": 84,
     "metadata": {},
     "output_type": "execute_result"
    }
   ],
   "source": [
    "np.mean(y_pred==y_test)"
   ]
  },
  {
   "cell_type": "code",
   "execution_count": null,
   "metadata": {},
   "outputs": [],
   "source": []
  }
 ],
 "metadata": {
  "kernelspec": {
   "display_name": "Python 3",
   "language": "python",
   "name": "python3"
  },
  "language_info": {
   "codemirror_mode": {
    "name": "ipython",
    "version": 3
   },
   "file_extension": ".py",
   "mimetype": "text/x-python",
   "name": "python",
   "nbconvert_exporter": "python",
   "pygments_lexer": "ipython3",
   "version": "3.6.2"
  }
 },
 "nbformat": 4,
 "nbformat_minor": 2
}
