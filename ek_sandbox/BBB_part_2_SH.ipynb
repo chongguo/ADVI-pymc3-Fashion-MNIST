{
 "cells": [
  {
   "cell_type": "markdown",
   "metadata": {},
   "source": [
    "BBB Project Part 2\n",
    "===\n",
    "\n",
    "- Shows performance of bayes by backprop, a method using Variational Inference on a network"
   ]
  },
  {
   "cell_type": "markdown",
   "metadata": {},
   "source": [
    "## Import files: same as other BBB project parts"
   ]
  },
  {
   "cell_type": "code",
   "execution_count": 16,
   "metadata": {},
   "outputs": [],
   "source": [
    "# Add local folders to path\n",
    "import os, sys\n",
    "sys.path.insert(1, os.path.join(sys.path[0], '..'))"
   ]
  },
  {
   "cell_type": "code",
   "execution_count": 17,
   "metadata": {},
   "outputs": [],
   "source": [
    "from collections import OrderedDict\n",
    "\n",
    "import pymc3 as pm\n",
    "import theano\n",
    "import theano.tensor as tt\n",
    "\n",
    "import matplotlib.pyplot as plt\n",
    "import seaborn as sns\n",
    "import numpy as np\n",
    "\n",
    "from scipy.stats import mode\n",
    "from pymc3.theanof import set_tt_rng, MRG_RandomStreams\n",
    "\n",
    "%matplotlib inline"
   ]
  },
  {
   "cell_type": "code",
   "execution_count": 18,
   "metadata": {},
   "outputs": [
    {
     "name": "stdout",
     "output_type": "stream",
     "text": [
      "PyMC3 v3.5\n",
      "Theano v1.0.3\n"
     ]
    }
   ],
   "source": [
    "print('PyMC3 v{}\\nTheano v{}'.format(pm.__version__,theano.__version__))"
   ]
  },
  {
   "cell_type": "code",
   "execution_count": 19,
   "metadata": {},
   "outputs": [],
   "source": [
    "# Set random seeds\n",
    "np.random.seed(42)\n",
    "pm.set_tt_rng(42)"
   ]
  },
  {
   "cell_type": "code",
   "execution_count": 20,
   "metadata": {},
   "outputs": [],
   "source": [
    "# Avoid warnings on batches below\n",
    "from warnings import filterwarnings\n",
    "filterwarnings('ignore')"
   ]
  },
  {
   "cell_type": "code",
   "execution_count": 21,
   "metadata": {},
   "outputs": [
    {
     "name": "stdout",
     "output_type": "stream",
     "text": [
      "N Input for fashion_mnist = 784\n"
     ]
    }
   ],
   "source": [
    "# Use tensorflow to import image datasets\n",
    "import tensorflow as tf\n",
    "\n",
    "reshape_train_imgs = lambda img : img.reshape(img.shape[0],-1)\n",
    "imgvec2img = lambda vec : vec.reshape((np.sqrt(vec.shape[0]).astype(int),np.sqrt(vec.shape[0]).astype(int)))\n",
    "floatX = theano.config.floatX\n",
    "\n",
    "dataset = 'fashion_mnist'\n",
    "\n",
    "if dataset == 'mnist':\n",
    "    (X_train, y_train), (X_test, y_test) = tf.keras.datasets.mnist.load_data()\n",
    "    X_train,X_test = reshape_train_imgs(X_train),reshape_train_imgs(X_test)\n",
    "    label_dict = OrderedDict({i:str(i) for i in range(10)})\n",
    "    \n",
    "    X_train = X_train.astype(floatX)/255\n",
    "    y_train = y_train.astype(np.int)\n",
    "    X_test = X_test.astype(floatX)/255\n",
    "    y_test = y_test.astype(np.int)\n",
    "    \n",
    "    n_output = len(label_dict)\n",
    "    \n",
    "elif dataset == 'fashion_mnist':\n",
    "    (X_train, y_train), (X_test, y_test) = tf.keras.datasets.fashion_mnist.load_data()\n",
    "    X_train,X_test = reshape_train_imgs(X_train),reshape_train_imgs(X_test)\n",
    "    label_dict = OrderedDict({0: 'T-shirt/top',\n",
    "                              1: 'Trouser',\n",
    "                              2: 'Pullover',\n",
    "                              3: 'Dress',\n",
    "                              4: 'Coat',\n",
    "                              5: 'Sandal',\n",
    "                              6: 'Shirt',\n",
    "                              7: 'Sneaker',\n",
    "                              8: 'Bag',\n",
    "                              9: 'Ankle boot'})\n",
    "    X_train = X_train.astype(floatX)/255\n",
    "    y_train = y_train.astype(np.int)\n",
    "    X_test = X_test.astype(floatX)/255\n",
    "    y_test = y_test.astype(np.int)\n",
    "    \n",
    "    n_output = len(label_dict)\n",
    "\n",
    "(n_train,n_input) = X_train.shape\n",
    "print(\"N Input for {} = {}\".format(dataset,n_input))"
   ]
  },
  {
   "cell_type": "code",
   "execution_count": 13,
   "metadata": {},
   "outputs": [
    {
     "data": {
      "image/png": "[encoded data removed]",
      "text/plain": [
       "<matplotlib.figure.Figure at 0x1c3bfd71d0>"
      ]
     },
     "metadata": {
      "needs_background": "light"
     },
     "output_type": "display_data"
    }
   ],
   "source": [
    "# PLot random subset of images\n",
    "n_plot_samples = 5\n",
    "rand_samps = np.random.choice(X_train.shape[0],size=n_plot_samples)\n",
    "\n",
    "figsize = (10,3); fontsize = 16;\n",
    "f, axs = plt.subplots(1,n_plot_samples,sharex=True,figsize=figsize);\n",
    "for rs,ax in zip(rand_samps,axs):\n",
    "    ax.imshow(imgvec2img(X_train[rs]),cmap='gray');\n",
    "    ax.axis('off')\n",
    "    ax.set_title(label_dict[y_train[rs]]);\n",
    "    sns.despine();\n",
    "f.suptitle(\"Example Images\",fontsize=fontsize+4);"
   ]
  },
  {
   "cell_type": "markdown",
   "metadata": {},
   "source": [
    "Use %load magic here to load `bbb_nn.py`. Delete are re-run a cell as below for updates:\n",
    "```python\n",
    "%load bbb_nn.py\n",
    "```"
   ]
  },
  {
   "cell_type": "code",
   "execution_count": 14,
   "metadata": {},
   "outputs": [],
   "source": [
    "# %load bbb_nn.py\n",
    "def construct_nn(ann_input, ann_output, n_input, n_output, n_train, n_hidden_1=64, n_hidden_2=32):\n",
    "    \n",
    "    # Initialize random weights between each layer\n",
    "    init_w_1 = np.random.randn(n_input, n_hidden_1).astype(theano.config.floatX)\n",
    "    init_w_2 = np.random.randn(n_hidden_1, n_hidden_2).astype(theano.config.floatX)\n",
    "    init_out = np.random.randn(n_hidden_2,n_output).astype(theano.config.floatX)\n",
    "    \n",
    "    # Initialize bias for each layer\n",
    "    init_b_1 = np.random.randn(n_hidden_1).astype(theano.config.floatX)\n",
    "    init_b_2 = np.random.randn(n_hidden_2).astype(theano.config.floatX)\n",
    "\n",
    "    with pm.Model() as neural_network:\n",
    "        # Weights from input to hidden layer\n",
    "        w_0_1 = pm.Normal('w_0_1', 0, sd=1, shape=(n_input, n_hidden_1), testval=init_w_1)\n",
    "        # Bias from in first layer\n",
    "        b_1 = pm.Normal('b_1', 0, sd=1, shape=(n_hidden_1), testval=init_b_1)\n",
    "        \n",
    "        # Weights from 1st to 2nd layer\n",
    "        w_1_2 = pm.Normal('w_1_2', 0, sd=1, shape=(n_hidden_1, n_hidden_2), testval=init_w_2)\n",
    "        # Bias from in first layer\n",
    "        b_2 = pm.Normal('b_2', 0, sd=1, shape=(n_hidden_2), testval=init_b_2)\n",
    "        \n",
    "        # Weights from hidden layer to output\n",
    "        w_2_out = pm.Normal('w_2_out', 0, sd=1.2,shape=(n_hidden_2,n_output),testval=init_out)\n",
    "\n",
    "        # Build neural-network using tanh activation function\n",
    "        act_1 = pm.math.tanh(pm.math.dot(ann_input,w_0_1)+b_1)\n",
    "        act_2 = pm.math.tanh(pm.math.dot(act_1,w_1_2)+b_2)\n",
    "        \n",
    "        # Softmax is required at last layer\n",
    "        act_out = tt.nnet.softmax(pm.math.dot(act_2,w_2_out))\n",
    "        \n",
    "        # Classification\n",
    "        out = pm.Categorical('out',act_out,observed=ann_output,total_size=n_train)\n",
    "        \n",
    "    return neural_network"
   ]
  },
  {
   "cell_type": "markdown",
   "metadata": {},
   "source": [
    "## Active Learning"
   ]
  },
  {
   "cell_type": "markdown",
   "metadata": {},
   "source": [
    "In this section we will see how having an estiamte of uncertainty can help to choose training data that efficiently reduces uncertainty, and consequently improves performance. We will begin with a proof-of-concept exercise using the fashion_mnist dataset. Next we will apply this principle in a more useful scenario to see how active learning can drive efficient exploration in a reinforcement learning example. "
   ]
  },
  {
   "cell_type": "markdown",
   "metadata": {},
   "source": [
    "### Fashion MNIST active learning example\n",
    "\n",
    "Here we will chunk our training data into 5 chunks randomly. We will 1) train a network using one of these chunks, 2) test the uncertainty of the network output on each of the remaining 4 chunks, 3) continue training the original using the training data with the highest uncertainty, and 4) repeat sets 2-3 until all training data is used. We will also train one network on all training data chunks in a random order to serve as a comparison. After each training session we will evaluate the test performance to see how quickly the network is learning. "
   ]
  },
  {
   "cell_type": "code",
   "execution_count": 9,
   "metadata": {},
   "outputs": [
    {
     "name": "stdout",
     "output_type": "stream",
     "text": [
      "L1:128,L2:92\n"
     ]
    }
   ],
   "source": [
    "# Run a small number of networks to see which is the best\n",
    "layers_mat = [[16,8],[32,16],[64,32],[128,64],[128,92],[128,128],[256,92]]\n",
    "layers_dict = OrderedDict({i : \"L1:{},L2:{}\".format(lm[0],lm[1]) for i,lm in enumerate(layers_mat)})\n",
    "\n",
    "minibatch_x = pm.Minibatch(X_train, batch_size=50)\n",
    "minibatch_y = pm.Minibatch(y_train, batch_size=50)\n",
    "\n",
    "nn_idx = 4 # larger networks fail to sample for TBD reasons\n",
    "lm = layers_mat[nn_idx]\n",
    "ld = layers_dict[nn_idx]\n",
    "\n",
    "(n_train,n_input) = X_train.shape\n",
    "NN_model = construct_nn(minibatch_x, minibatch_y, n_input, n_output, n_train, n_hidden_1=lm[0], n_hidden_2=lm[1])\n",
    "\n",
    "NN_model.name = ld\n",
    "print(NN_model.name)"
   ]
  },
  {
   "cell_type": "code",
   "execution_count": 10,
   "metadata": {},
   "outputs": [
    {
     "name": "stdout",
     "output_type": "stream",
     "text": [
      "{'mu': mu, 'rho': rho}\n",
      "{'mean': <bound method Variable.eval of mu>, 'std': <bound method Variable.eval of softplus.0>}\n"
     ]
    },
    {
     "name": "stderr",
     "output_type": "stream",
     "text": [
      "Average Loss = 283.53: 100%|██████████| 10000/10000 [03:39<00:00, 45.57it/s]\n",
      "Finished [100%]: Average Loss = 283.22\n"
     ]
    }
   ],
   "source": [
    "# convergence not great, use a different method for conv check after:\n",
    "# https://docs.pymc.io/notebooks/variational_api_quickstart.html\n",
    "with NN_model:\n",
    "    advi = pm.ADVI()\n",
    "    \n",
    "# After the bayes by BackProp paper!\n",
    "print(advi.approx.shared_params)\n",
    "\n",
    "# To better look at convergence, we keep track of parameter mean and std\n",
    "ev_mean = advi.approx.mean.eval # callable that returns mean\n",
    "ev_std = advi.approx.std.eval # callable that returns std\n",
    "tracker = pm.callbacks.Tracker(mean=ev_mean,std=ev_std)\n",
    "print(tracker.whatchdict)\n",
    "\n",
    "n_approx_iter = 10000\n",
    "with NN_model:\n",
    "    approx = advi.fit(n=n_approx_iter, callbacks=[tracker])"
   ]
  },
  {
   "cell_type": "code",
   "execution_count": 11,
   "metadata": {},
   "outputs": [],
   "source": [
    "get_weight_mean = lambda i : [t[i] for t in tracker['mean']]\n",
    "get_weight_stds = lambda i : [t[i] for t in tracker['std']]"
   ]
  },
  {
   "cell_type": "code",
   "execution_count": 12,
   "metadata": {},
   "outputs": [
    {
     "data": {
      "image/png": "[encoded data removed]",
      "text/plain": [
       "<matplotlib.figure.Figure at 0x1c55cff2b0>"
      ]
     },
     "metadata": {
      "needs_background": "light"
     },
     "output_type": "display_data"
    }
   ],
   "source": [
    "# Not sure this is doing what we want...\n",
    "figsize = (8,3); fontsize = 16;\n",
    "f, ax = plt.subplots(1,1)\n",
    "for i in range(30):\n",
    "    ax.plot(get_weight_stds(i),alpha=0.5,label=i)\n",
    "ax.set_xlabel('iteration',fontsize=fontsize);\n",
    "sns.despine();"
   ]
  },
  {
   "cell_type": "code",
   "execution_count": 13,
   "metadata": {},
   "outputs": [
    {
     "data": {
      "image/png": "[encoded data removed]",
      "text/plain": [
       "<matplotlib.figure.Figure at 0x1ce2ecca58>"
      ]
     },
     "metadata": {
      "needs_background": "light"
     },
     "output_type": "display_data"
    }
   ],
   "source": [
    "# plotting the training progress\n",
    "elbo_1 = -advi.hist\n",
    "\n",
    "figsize = (8,3); fontsize = 16;\n",
    "f, ax = plt.subplots(1,1,figsize=figsize);\n",
    "\n",
    "ax.plot(elbo_1,label='1')\n",
    "ax.set_ylabel('ELBO',fontsize=fontsize)\n",
    "ax.set_xlabel('iteration',fontsize=fontsize);\n",
    "sns.despine();"
   ]
  },
  {
   "cell_type": "code",
   "execution_count": 14,
   "metadata": {},
   "outputs": [],
   "source": [
    "# Run for a few more samples if desired\n",
    "run_again = False\n",
    "if run_again:\n",
    "    approx.refine(n=int(n_approx_iter/2));\n",
    "    elbo_2 = -advi.hist\n",
    "    plt.plot(elbo_2,label='2')\n",
    "    plt.ylabel('ELBO')\n",
    "    plt.xlabel('iteration')"
   ]
  },
  {
   "cell_type": "code",
   "execution_count": 15,
   "metadata": {},
   "outputs": [],
   "source": [
    "# Draw samples from variational posterior (the weights in the network)\n",
    "n_draws = 1000 # > 2k hangs for almost all network sizes on my 2018 MBP -SH\n",
    "trace = approx.sample(draws=n_draws)"
   ]
  },
  {
   "cell_type": "markdown",
   "metadata": {},
   "source": [
    "### Look at training set performance"
   ]
  },
  {
   "cell_type": "code",
   "execution_count": 16,
   "metadata": {},
   "outputs": [
    {
     "name": "stderr",
     "output_type": "stream",
     "text": [
      "100%|██████████| 100/100 [05:36<00:00,  3.28s/it]\n"
     ]
    }
   ],
   "source": [
    "# network at performance on the training set\n",
    "(n_train,n_input) = X_train.shape\n",
    "train_x = theano.shared(X_train)\n",
    "train_y = theano.shared(y_train)\n",
    "NN_model_train = construct_nn(train_x, train_y, n_input, n_output, n_train, n_hidden_1=lm[0],n_hidden_2=lm[1])\n",
    "with NN_model_train:\n",
    "    ppc_train = pm.sample_ppc(trace, samples=100)"
   ]
  },
  {
   "cell_type": "code",
   "execution_count": 17,
   "metadata": {},
   "outputs": [
    {
     "name": "stdout",
     "output_type": "stream",
     "text": [
      "Network Training Set Performance: 0.745917\n"
     ]
    }
   ],
   "source": [
    "# Prediction is mode of each\n",
    "train_y_pred = mode(ppc_train['out'], axis=0).mode[0,:]\n",
    "\n",
    "mean_train_perf = np.mean(train_y_pred==y_train)\n",
    "print(\"Network Training Set Performance: {:f}\".format(mean_train_perf))"
   ]
  },
  {
   "cell_type": "markdown",
   "metadata": {},
   "source": [
    "### Look at test set performance"
   ]
  },
  {
   "cell_type": "code",
   "execution_count": 18,
   "metadata": {},
   "outputs": [
    {
     "name": "stderr",
     "output_type": "stream",
     "text": [
      "100%|██████████| 100/100 [00:55<00:00,  1.80it/s]\n"
     ]
    }
   ],
   "source": [
    "# network at performance on the test set\n",
    "(n_train,n_input) = X_test.shape\n",
    "test_x = theano.shared(X_test)\n",
    "test_y = theano.shared(y_test)\n",
    "NN_model_test = construct_nn(test_x, test_y, n_input, n_output, n_train, n_hidden_1=lm[0],n_hidden_2=lm[1])\n",
    "with NN_model_test:\n",
    "    ppc_test = pm.sample_ppc(trace, samples=100)"
   ]
  },
  {
   "cell_type": "code",
   "execution_count": 19,
   "metadata": {},
   "outputs": [
    {
     "name": "stdout",
     "output_type": "stream",
     "text": [
      "Network Test Set Performance: 0.732400\n"
     ]
    }
   ],
   "source": [
    "# Prediction is mode of each\n",
    "test_y_pred = mode(ppc_test['out'], axis=0).mode[0,:]\n",
    "\n",
    "mean_test_perf = np.mean(test_y_pred==y_test)\n",
    "print(\"Network Test Set Performance: {:f}\".format(mean_test_perf))"
   ]
  },
  {
   "cell_type": "code",
   "execution_count": 15,
   "metadata": {},
   "outputs": [
    {
     "ename": "NameError",
     "evalue": "name 'test_y_pred' is not defined",
     "output_type": "error",
     "traceback": [
      "\u001b[0;31m---------------------------------------------------------------------------\u001b[0m",
      "\u001b[0;31mNameError\u001b[0m                                 Traceback (most recent call last)",
      "\u001b[0;32m<ipython-input-15-2e45c71ab39a>\u001b[0m in \u001b[0;36m<module>\u001b[0;34m()\u001b[0m\n\u001b[1;32m      8\u001b[0m \u001b[0;32mfor\u001b[0m \u001b[0mrs\u001b[0m\u001b[0;34m,\u001b[0m\u001b[0max\u001b[0m \u001b[0;32min\u001b[0m \u001b[0mzip\u001b[0m\u001b[0;34m(\u001b[0m\u001b[0mrand_samps\u001b[0m\u001b[0;34m,\u001b[0m\u001b[0maxs\u001b[0m\u001b[0;34m)\u001b[0m\u001b[0;34m:\u001b[0m\u001b[0;34m\u001b[0m\u001b[0m\n\u001b[1;32m      9\u001b[0m     \u001b[0max\u001b[0m\u001b[0;34m.\u001b[0m\u001b[0mimshow\u001b[0m\u001b[0;34m(\u001b[0m\u001b[0mimgvec2img\u001b[0m\u001b[0;34m(\u001b[0m\u001b[0mX_train\u001b[0m\u001b[0;34m[\u001b[0m\u001b[0mrs\u001b[0m\u001b[0;34m]\u001b[0m\u001b[0;34m)\u001b[0m\u001b[0;34m,\u001b[0m\u001b[0mcmap\u001b[0m\u001b[0;34m=\u001b[0m\u001b[0;34m'gray'\u001b[0m\u001b[0;34m)\u001b[0m\u001b[0;34m;\u001b[0m\u001b[0;34m\u001b[0m\u001b[0m\n\u001b[0;32m---> 10\u001b[0;31m     \u001b[0mtl\u001b[0m \u001b[0;34m=\u001b[0m \u001b[0;34m\"{}: {},\\n{}: {}\"\u001b[0m\u001b[0;34m.\u001b[0m\u001b[0mformat\u001b[0m\u001b[0;34m(\u001b[0m\u001b[0mtest_y_pred\u001b[0m\u001b[0;34m[\u001b[0m\u001b[0mrs\u001b[0m\u001b[0;34m]\u001b[0m\u001b[0;34m,\u001b[0m\u001b[0mlabel_dict\u001b[0m\u001b[0;34m[\u001b[0m\u001b[0mtest_y_pred\u001b[0m\u001b[0;34m[\u001b[0m\u001b[0mrs\u001b[0m\u001b[0;34m]\u001b[0m\u001b[0;34m]\u001b[0m\u001b[0;34m,\u001b[0m\u001b[0my_test\u001b[0m\u001b[0;34m[\u001b[0m\u001b[0mrs\u001b[0m\u001b[0;34m]\u001b[0m\u001b[0;34m,\u001b[0m\u001b[0mlabel_dict\u001b[0m\u001b[0;34m[\u001b[0m\u001b[0my_test\u001b[0m\u001b[0;34m[\u001b[0m\u001b[0mrs\u001b[0m\u001b[0;34m]\u001b[0m\u001b[0;34m]\u001b[0m\u001b[0;34m)\u001b[0m\u001b[0;34m\u001b[0m\u001b[0m\n\u001b[0m\u001b[1;32m     11\u001b[0m     \u001b[0;32mif\u001b[0m \u001b[0mtest_y_pred\u001b[0m\u001b[0;34m[\u001b[0m\u001b[0mrs\u001b[0m\u001b[0;34m]\u001b[0m \u001b[0;34m==\u001b[0m \u001b[0my_test\u001b[0m\u001b[0;34m[\u001b[0m\u001b[0mrs\u001b[0m\u001b[0;34m]\u001b[0m\u001b[0;34m:\u001b[0m\u001b[0;34m\u001b[0m\u001b[0m\n\u001b[1;32m     12\u001b[0m         \u001b[0max\u001b[0m\u001b[0;34m.\u001b[0m\u001b[0mset_title\u001b[0m\u001b[0;34m(\u001b[0m\u001b[0mtl\u001b[0m\u001b[0;34m,\u001b[0m\u001b[0mcolor\u001b[0m\u001b[0;34m=\u001b[0m\u001b[0;34m'k'\u001b[0m\u001b[0;34m)\u001b[0m\u001b[0;34m;\u001b[0m\u001b[0;34m\u001b[0m\u001b[0m\n",
      "\u001b[0;31mNameError\u001b[0m: name 'test_y_pred' is not defined"
     ]
    },
    {
     "data": {
      "image/png": "[encoded data removed]",
      "text/plain": [
       "<matplotlib.figure.Figure at 0x1c3bfc42b0>"
      ]
     },
     "metadata": {
      "needs_background": "light"
     },
     "output_type": "display_data"
    }
   ],
   "source": [
    "# PLot random subset of images\n",
    "n_plot_samples = 10\n",
    "rand_samps = np.random.choice(X_test.shape[0],size=n_plot_samples)\n",
    "\n",
    "figsize = (18,3); fontsize = 16;\n",
    "f, axs = plt.subplots(1, n_plot_samples, figsize=figsize);\n",
    "\n",
    "for rs,ax in zip(rand_samps,axs):\n",
    "    ax.imshow(imgvec2img(X_train[rs]),cmap='gray');\n",
    "    tl = \"{}: {},\\n{}: {}\".format(test_y_pred[rs],label_dict[test_y_pred[rs]],y_test[rs],label_dict[y_test[rs]])\n",
    "    if test_y_pred[rs] == y_test[rs]:\n",
    "        ax.set_title(tl,color='k');\n",
    "    else:\n",
    "        ax.set_title(tl,color='r');\n",
    "    ax.axis('off');\n",
    "    sns.despine();\n",
    "    \n",
    "f.suptitle(\"Example BBB Classification\",fontsize=fontsize+4);"
   ]
  },
  {
   "cell_type": "code",
   "execution_count": null,
   "metadata": {},
   "outputs": [],
   "source": []
  }
 ],
 "metadata": {
  "kernelspec": {
   "display_name": "Python 3",
   "language": "python",
   "name": "python3"
  },
  "language_info": {
   "codemirror_mode": {
    "name": "ipython",
    "version": 3
   },
   "file_extension": ".py",
   "mimetype": "text/x-python",
   "name": "python",
   "nbconvert_exporter": "python",
   "pygments_lexer": "ipython3",
   "version": "3.6.2"
  }
 },
 "nbformat": 4,
 "nbformat_minor": 2
}
