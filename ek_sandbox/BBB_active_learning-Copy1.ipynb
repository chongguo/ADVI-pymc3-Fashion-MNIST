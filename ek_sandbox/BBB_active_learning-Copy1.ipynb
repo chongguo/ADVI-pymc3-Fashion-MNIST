{
 "cells": [
  {
   "cell_type": "markdown",
   "metadata": {},
   "source": [
    "BBB Project Part 2\n",
    "===\n",
    "\n",
    "- Shows performance of bayes by backprop, a method using Variational Inference on a network"
   ]
  },
  {
   "cell_type": "markdown",
   "metadata": {},
   "source": [
    "## Import files: same as other BBB project parts"
   ]
  },
  {
   "cell_type": "code",
   "execution_count": 4,
   "metadata": {},
   "outputs": [],
   "source": [
    "# Add local folders to path\n",
    "import os, sys\n",
    "sys.path.insert(1, os.path.join(sys.path[0], '..'))"
   ]
  },
  {
   "cell_type": "code",
   "execution_count": 5,
   "metadata": {},
   "outputs": [],
   "source": [
    "from collections import OrderedDict\n",
    "\n",
    "import pymc3 as pm\n",
    "import theano\n",
    "import theano.tensor as tt\n",
    "\n",
    "import matplotlib.pyplot as plt\n",
    "import seaborn as sns\n",
    "import numpy as np\n",
    "\n",
    "from scipy.stats import mode\n",
    "from pymc3.theanof import set_tt_rng, MRG_RandomStreams\n",
    "\n",
    "%matplotlib inline"
   ]
  },
  {
   "cell_type": "code",
   "execution_count": 6,
   "metadata": {},
   "outputs": [
    {
     "name": "stdout",
     "output_type": "stream",
     "text": [
      "PyMC3 v3.5\n",
      "Theano v1.0.3\n"
     ]
    }
   ],
   "source": [
    "print('PyMC3 v{}\\nTheano v{}'.format(pm.__version__,theano.__version__))"
   ]
  },
  {
   "cell_type": "code",
   "execution_count": 7,
   "metadata": {},
   "outputs": [],
   "source": [
    "# Set random seeds\n",
    "np.random.seed(42)\n",
    "pm.set_tt_rng(42)"
   ]
  },
  {
   "cell_type": "code",
   "execution_count": 8,
   "metadata": {},
   "outputs": [],
   "source": [
    "# Avoid warnings on batches below\n",
    "from warnings import filterwarnings\n",
    "filterwarnings('ignore')"
   ]
  },
  {
   "cell_type": "code",
   "execution_count": 9,
   "metadata": {},
   "outputs": [
    {
     "name": "stdout",
     "output_type": "stream",
     "text": [
      "N Input for fashion_mnist = 784\n"
     ]
    }
   ],
   "source": [
    "# Use tensorflow to import image datasets\n",
    "import tensorflow as tf\n",
    "\n",
    "reshape_train_imgs = lambda img : img.reshape(img.shape[0],-1)\n",
    "imgvec2img = lambda vec : vec.reshape((np.sqrt(vec.shape[0]).astype(int),np.sqrt(vec.shape[0]).astype(int)))\n",
    "floatX = theano.config.floatX\n",
    "\n",
    "dataset = 'fashion_mnist'\n",
    "\n",
    "if dataset == 'mnist':\n",
    "    (X_train, y_train), (X_test, y_test) = tf.keras.datasets.mnist.load_data()\n",
    "    X_train,X_test = reshape_train_imgs(X_train),reshape_train_imgs(X_test)\n",
    "    label_dict = OrderedDict({i:str(i) for i in range(10)})\n",
    "    \n",
    "    X_train = X_train.astype(floatX)/255\n",
    "    y_train = y_train.astype(np.int)\n",
    "    X_test = X_test.astype(floatX)/255\n",
    "    y_test = y_test.astype(np.int)\n",
    "    \n",
    "    n_output = len(label_dict)\n",
    "    \n",
    "elif dataset == 'fashion_mnist':\n",
    "    (X_train, y_train), (X_test, y_test) = tf.keras.datasets.fashion_mnist.load_data()\n",
    "    X_train,X_test = reshape_train_imgs(X_train),reshape_train_imgs(X_test)\n",
    "    label_dict = OrderedDict({0: 'T-shirt/top',\n",
    "                              1: 'Trouser',\n",
    "                              2: 'Pullover',\n",
    "                              3: 'Dress',\n",
    "                              4: 'Coat',\n",
    "                              5: 'Sandal',\n",
    "                              6: 'Shirt',\n",
    "                              7: 'Sneaker',\n",
    "                              8: 'Bag',\n",
    "                              9: 'Ankle boot'})\n",
    "    X_train = X_train.astype(floatX)/255\n",
    "    y_train = y_train.astype(np.int)\n",
    "    X_test = X_test.astype(floatX)/255\n",
    "    y_test = y_test.astype(np.int)\n",
    "    \n",
    "    n_output = len(label_dict)\n",
    "\n",
    "(n_train,n_input) = X_train.shape\n",
    "print(\"N Input for {} = {}\".format(dataset,n_input))"
   ]
  },
  {
   "cell_type": "code",
   "execution_count": 10,
   "metadata": {},
   "outputs": [
    {
     "data": {
      "image/png": "[encoded data removed]",
      "text/plain": [
       "<matplotlib.figure.Figure at 0x1c3d58aa90>"
      ]
     },
     "metadata": {
      "needs_background": "light"
     },
     "output_type": "display_data"
    }
   ],
   "source": [
    "# PLot random subset of images\n",
    "n_plot_samples = 5\n",
    "rand_samps = np.random.choice(X_train.shape[0],size=n_plot_samples)\n",
    "\n",
    "figsize = (10,3); fontsize = 16;\n",
    "f, axs = plt.subplots(1,n_plot_samples,sharex=True,figsize=figsize);\n",
    "for rs,ax in zip(rand_samps,axs):\n",
    "    ax.imshow(imgvec2img(X_train[rs]),cmap='gray');\n",
    "    ax.axis('off')\n",
    "    ax.set_title(label_dict[y_train[rs]]);\n",
    "    sns.despine();\n",
    "f.suptitle(\"Example Images\",fontsize=fontsize+4);"
   ]
  },
  {
   "cell_type": "markdown",
   "metadata": {},
   "source": [
    "Use %load magic here to load `bbb_nn.py`. Delete are re-run a cell as below for updates:\n",
    "```python\n",
    "%load bbb_nn.py\n",
    "```"
   ]
  },
  {
   "cell_type": "code",
   "execution_count": 9,
   "metadata": {},
   "outputs": [],
   "source": [
    "# %load bbb_nn.py\n",
    "def construct_nn(ann_input, ann_output, n_input, n_output, n_train, n_hidden_1=64, n_hidden_2=32):\n",
    "    \n",
    "    # Initialize random weights between each layer\n",
    "    init_w_1 = np.random.randn(n_input, n_hidden_1).astype(theano.config.floatX)\n",
    "#     init_w_2 = np.random.randn(n_hidden_1, n_hidden_2).astype(theano.config.floatX)\n",
    "    init_out = np.random.randn(n_hidden_1,n_output).astype(theano.config.floatX)\n",
    "    \n",
    "    # Initialize bias for each layer\n",
    "#     init_b_1 = np.random.randn(n_hidden_1).astype(theano.config.floatX)\n",
    "#     init_b_2 = np.random.randn(n_hidden_2).astype(theano.config.floatX)\n",
    "\n",
    "    with pm.Model() as neural_network:\n",
    "        # Weights from input to hidden layer\n",
    "        w_0_1 = pm.Normal('w_0_1', 0, sd=1, shape=(n_input, n_hidden_1), testval=init_w_1)\n",
    "        # Bias from in first layer\n",
    "#         b_1 = pm.Normal('b_1', 0, sd=1, shape=(n_hidden_1), testval=init_b_1)\n",
    "        \n",
    "        # Weights from 1st to 2nd layer\n",
    "#         w_1_2 = pm.Normal('w_1_2', 0, sd=1, shape=(n_hidden_1, n_hidden_2), testval=init_w_2)\n",
    "        # Bias from in first layer\n",
    "#         b_2 = pm.Normal('b_2', 0, sd=1, shape=(n_hidden_2), testval=init_b_2)\n",
    "        \n",
    "        # Weights from hidden layer to output\n",
    "        w_1_out = pm.Normal('w_2_out', 0, sd=1,shape=(n_hidden_1,n_output),testval=init_out)\n",
    "\n",
    "        # Build neural-network using tanh activation function\n",
    "        act_1 = pm.Deterministic('act_1',var=pm.math.tanh(pm.math.dot(ann_input,w_0_1)))#+b_1))\n",
    "#         act_2 = pm.Deterministic('act_2',var=pm.math.tanh(pm.math.dot(act_1,w_1_2)))#+b_2))\n",
    "        \n",
    "        # Softmax is required at last layer\n",
    "        act_out = pm.Deterministic('act_out',var=tt.nnet.softmax(pm.math.dot(act_1,w_1_out)))\n",
    "    \n",
    "        # Classification\n",
    "        out = pm.Categorical('out',act_out,observed=ann_output,total_size=n_train)\n",
    "        \n",
    "    return neural_network"
   ]
  },
  {
   "cell_type": "code",
   "execution_count": 11,
   "metadata": {},
   "outputs": [],
   "source": [
    "# %load bbb_nn.py\n",
    "def construct_nn(ann_input, ann_output, n_input, n_output, n_train, n_hidden_1=128):\n",
    "    \n",
    "    # Initialize random weights between each layer\n",
    "    init_w_1 = np.random.randn(n_input, n_hidden_1).astype(theano.config.floatX)\n",
    "    init_out = np.random.randn(n_hidden_1,n_output).astype(theano.config.floatX)\n",
    "    \n",
    "    with pm.Model() as neural_network:\n",
    "        # Weights from input to hidden layer\n",
    "        w_0_1 = pm.Normal('w_0_1', 0, sd=1, shape=(n_input, n_hidden_1), testval=init_w_1)\n",
    "     \n",
    "        # Weights from hidden layer to output\n",
    "        w_1_out = pm.Normal('w_2_out', 0, sd=1,shape=(n_hidden_1,n_output),testval=init_out)\n",
    "\n",
    "        # Build neural-network using tanh activation function\n",
    "        act_1 = pm.Deterministic('act_1',var=pm.math.tanh(pm.math.dot(ann_input,w_0_1)))#+b_1))\n",
    "        \n",
    "        # Softmax is required at last layer\n",
    "        act_out = pm.Deterministic('act_out',var=tt.nnet.softmax(pm.math.dot(act_1,w_1_out)))\n",
    "    \n",
    "        # Classification\n",
    "        out = pm.Categorical('out',act_out,observed=ann_output,total_size=n_train)\n",
    "        \n",
    "    return neural_network"
   ]
  },
  {
   "cell_type": "markdown",
   "metadata": {},
   "source": [
    "## Application: Active Learning"
   ]
  },
  {
   "cell_type": "markdown",
   "metadata": {},
   "source": [
    "In this section we will see how having an estiamte of uncertainty can help to choose training data that efficiently reduces uncertainty, and consequently improves performance. We will begin with a proof-of-concept exercise using the fashion_mnist dataset. Next we will apply this principle in a more useful scenario to see how active learning can drive efficient exploration in a reinforcement learning example. "
   ]
  },
  {
   "cell_type": "markdown",
   "metadata": {},
   "source": [
    "### Fashion MNIST active learning example\n",
    "\n",
    "We are now going to apply active learning to training a BNN for classification on the fashion_mnist dataset. Our hope is that we can speed up learning by feeding the network data according to which categories it is the most uncertain about. \n",
    "\n",
    "\n",
    "Here we will chunk our training data into 5 chunks randomly. We will 1) train a network using one of these chunks, 2) test the uncertainty of the network output on each of the remaining 4 chunks, 3) continue training the original using the training data with the highest uncertainty, and 4) repeat sets 2-3 until all training data is used. We will also train one network on all training data chunks in a random order to serve as a comparison. After each training session we will evaluate the test performance to see how quickly the network is learning. "
   ]
  },
  {
   "cell_type": "markdown",
   "metadata": {},
   "source": [
    "### Train network on full dataset (control)"
   ]
  },
  {
   "cell_type": "code",
   "execution_count": 13,
   "metadata": {},
   "outputs": [],
   "source": [
    "minibatch_x = pm.Minibatch(X_train, batch_size=50)\n",
    "minibatch_y = pm.Minibatch(y_train, batch_size=50)\n",
    "\n",
    "(n_train,n_input) = X_train.shape\n",
    "NN_model = construct_nn(minibatch_x, minibatch_y, n_input, n_output, n_train, n_hidden_1=128)"
   ]
  },
  {
   "cell_type": "code",
   "execution_count": 14,
   "metadata": {},
   "outputs": [
    {
     "name": "stdout",
     "output_type": "stream",
     "text": [
      "{'mu': mu, 'rho': rho}\n",
      "{'mean': <bound method Variable.eval of mu>, 'std': <bound method Variable.eval of softplus.0>}\n"
     ]
    },
    {
     "name": "stderr",
     "output_type": "stream",
     "text": [
      "Average Loss = 243.02: 100%|██████████| 10000/10000 [03:05<00:00, 53.96it/s]\n",
      "Finished [100%]: Average Loss = 243.41\n"
     ]
    }
   ],
   "source": [
    "# convergence not great, use a different method for conv check after:\n",
    "# https://docs.pymc.io/notebooks/variational_api_quickstart.html\n",
    "with NN_model:\n",
    "    advi = pm.ADVI()\n",
    "    \n",
    "# After the bayes by BackProp paper!\n",
    "print(advi.approx.shared_params)\n",
    "\n",
    "# To better look at convergence, we keep track of parameter mean and std\n",
    "ev_mean = advi.approx.mean.eval # callable that returns mean\n",
    "ev_std = advi.approx.std.eval # callable that returns std\n",
    "tracker = pm.callbacks.Tracker(mean=ev_mean,std=ev_std)\n",
    "print(tracker.whatchdict)\n",
    "\n",
    "n_approx_iter = 10000\n",
    "with NN_model:\n",
    "    approx = advi.fit(n=n_approx_iter, callbacks=[tracker])"
   ]
  },
  {
   "cell_type": "code",
   "execution_count": 15,
   "metadata": {},
   "outputs": [],
   "source": [
    "get_weight_mean = lambda i : [t[i] for t in tracker['mean']]\n",
    "get_weight_stds = lambda i : [t[i] for t in tracker['std']]"
   ]
  },
  {
   "cell_type": "code",
   "execution_count": 16,
   "metadata": {},
   "outputs": [
    {
     "data": {
      "image/png": "[encoded data removed]",
      "text/plain": [
       "<matplotlib.figure.Figure at 0x1c61d880f0>"
      ]
     },
     "metadata": {
      "needs_background": "light"
     },
     "output_type": "display_data"
    }
   ],
   "source": [
    "# Not sure this is doing what we want...\n",
    "figsize = (8,3); fontsize = 16;\n",
    "f, ax = plt.subplots(1,1)\n",
    "for i in range(30):\n",
    "    ax.plot(get_weight_mean(i),alpha=0.5,label=i)\n",
    "ax.set_xlabel('iteration',fontsize=fontsize);\n",
    "sns.despine();"
   ]
  },
  {
   "cell_type": "code",
   "execution_count": 17,
   "metadata": {},
   "outputs": [
    {
     "data": {
      "image/png": "[encoded data removed]",
      "text/plain": [
       "<matplotlib.figure.Figure at 0x1c60b4c9b0>"
      ]
     },
     "metadata": {
      "needs_background": "light"
     },
     "output_type": "display_data"
    }
   ],
   "source": [
    "# plotting the training progress\n",
    "elbo_1 = -advi.hist\n",
    "\n",
    "figsize = (8,3); fontsize = 16;\n",
    "f, ax = plt.subplots(1,1,figsize=figsize);\n",
    "\n",
    "ax.plot(elbo_1,label='1')\n",
    "ax.set_ylabel('ELBO',fontsize=fontsize)\n",
    "ax.set_xlabel('iteration',fontsize=fontsize);\n",
    "sns.despine();"
   ]
  },
  {
   "cell_type": "markdown",
   "metadata": {},
   "source": [
    "### Assess test performance"
   ]
  },
  {
   "cell_type": "code",
   "execution_count": 18,
   "metadata": {},
   "outputs": [],
   "source": [
    "# Draw samples from variational posterior (the weights in the network)\n",
    "n_draws = 500 # > 2k hangs for almost all network sizes on my 2018 MBP -SH\n",
    "trace = approx.sample(draws=n_draws)"
   ]
  },
  {
   "cell_type": "code",
   "execution_count": 19,
   "metadata": {},
   "outputs": [
    {
     "name": "stderr",
     "output_type": "stream",
     "text": [
      "100%|██████████| 100/100 [00:53<00:00,  1.96it/s]\n"
     ]
    }
   ],
   "source": [
    "# network at performance on the test set\n",
    "(n_test,n_input) = X_test.shape\n",
    "test_x = theano.shared(X_test)\n",
    "test_y = theano.shared(y_test)\n",
    "NN_model_test = construct_nn(test_x, test_y, n_input, n_output, n_test, n_hidden_1=128)\n",
    "n_samples = 100\n",
    "with NN_model_test:\n",
    "    ppc_test = pm.sample_ppc(trace, samples=n_samples)"
   ]
  },
  {
   "cell_type": "code",
   "execution_count": 20,
   "metadata": {},
   "outputs": [
    {
     "name": "stdout",
     "output_type": "stream",
     "text": [
      "Network Test Set Performance: 0.770700\n"
     ]
    }
   ],
   "source": [
    "# Prediction is mode of each\n",
    "test_y_pred = mode(ppc_test['out'], axis=0).mode[0,:]\n",
    "\n",
    "mean_test_perf = np.mean(test_y_pred==y_test)\n",
    "print(\"Network Test Set Performance: {:f}\".format(mean_test_perf))"
   ]
  },
  {
   "cell_type": "markdown",
   "metadata": {},
   "source": [
    "### Assess uncertainty by category"
   ]
  },
  {
   "cell_type": "code",
   "execution_count": 46,
   "metadata": {},
   "outputs": [],
   "source": [
    "import scipy as sp\n",
    "\n",
    "def get_cat_entropy(X_test, y_test, ppc_test):\n",
    "    # get other parameters that need\n",
    "    (n_test,n_input) = X_test.shape\n",
    "    n_output = 10\n",
    "    n_samples = np.shape(ppc_test['out'])[0]\n",
    "    \n",
    "    # make one-hot matrix\n",
    "    one_hot = np.zeros((n_samples, n_test, n_output))\n",
    "    for i in range(n_samples):\n",
    "        one_hot[i][np.arange(n_test), ppc_test['out'][i]] = 1\n",
    "    \n",
    "    # make histograms \n",
    "    y_test_dist = np.histogram(y_test, bins=n_output)[0]\n",
    "    cat_hist = np.zeros((n_output, n_output))\n",
    "    cat_entropy = np.zeros(n_output)\n",
    "    cat_KL = np.zeros(n_output)\n",
    "    histograms = np.sum(one_hot, axis=0)\n",
    "    for i in range(n_output):\n",
    "        cat_hist[i,:] = np.sum(histograms[y_test == i], axis=0)\n",
    "        cat_entropy[i] = sp.stats.entropy(cat_hist[i,:])\n",
    "        cat_KL[i] = sp.stats.entropy(y_test_dist, cat_hist[i,:])\n",
    "    return one_hot, cat_hist, cat_entropy, cat_KL"
   ]
  },
  {
   "cell_type": "code",
   "execution_count": 35,
   "metadata": {},
   "outputs": [
    {
     "data": {
      "image/png": "[encoded data removed]",
      "text/plain": [
       "<matplotlib.figure.Figure at 0x113c312b0>"
      ]
     },
     "metadata": {
      "needs_background": "light"
     },
     "output_type": "display_data"
    },
    {
     "data": {
      "image/png": "[encoded data removed]",
      "text/plain": [
       "<matplotlib.figure.Figure at 0x204e5cd550>"
      ]
     },
     "metadata": {
      "needs_background": "light"
     },
     "output_type": "display_data"
    }
   ],
   "source": [
    "one_hot, cat_hist, cat_entropy, cat_KL = get_cat_entropy(X_test, y_test, ppc_test)\n",
    "plt.imshow(cat_hist)\n",
    "plt.show()\n",
    "plt.plot(cat_entropy, label='entropy')\n",
    "plt.plot(cat_KL, label='KL')\n",
    "plt.legend()\n",
    "plt.xlabel('category label')\n",
    "plt.show()"
   ]
  },
  {
   "cell_type": "markdown",
   "metadata": {},
   "source": [
    "one layer 128 neurons\n",
    "10,000 - 77%\n",
    "40,000 - 81%"
   ]
  },
  {
   "cell_type": "markdown",
   "metadata": {},
   "source": [
    "## Assess test performance as a function of number of training data points\n",
    "\n",
    "Before moving on with active learning, I want to get a sense of how test set performace depends on the number of training samples. It would be pretty slow to look at this with out pymc3 model, but we can use Adam optimization in tensorflow to get an idea of the learning curve on an ANN trained with SGD. "
   ]
  },
  {
   "cell_type": "code",
   "execution_count": 135,
   "metadata": {},
   "outputs": [
    {
     "name": "stdout",
     "output_type": "stream",
     "text": [
      "Epoch 1/5\n",
      "60000/60000 [==============================] - 8s 136us/step - loss: 0.4770 - acc: 0.8297\n",
      "Epoch 2/5\n",
      "60000/60000 [==============================] - 9s 158us/step - loss: 0.3707 - acc: 0.8658\n",
      "Epoch 3/5\n",
      "60000/60000 [==============================] - 8s 130us/step - loss: 0.3364 - acc: 0.8769\n",
      "Epoch 4/5\n",
      "60000/60000 [==============================] - 7s 123us/step - loss: 0.3147 - acc: 0.8838\n",
      "Epoch 5/5\n",
      "60000/60000 [==============================] - 7s 114us/step - loss: 0.2938 - acc: 0.8917\n",
      "10000/10000 [==============================] - 1s 96us/step\n",
      "Test accuracy: 0.8759\n"
     ]
    }
   ],
   "source": [
    "from tensorflow import keras\n",
    "\n",
    "def tf_model(X_train, y_train):\n",
    "    model = keras.Sequential([\n",
    "        keras.layers.Dense(128, activation=tf.nn.tanh),\n",
    "        keras.layers.Dense(n_output, activation=tf.nn.softmax)\n",
    "    ])\n",
    "\n",
    "    model.compile(optimizer=tf.train.AdamOptimizer(), \n",
    "                  loss='sparse_categorical_crossentropy',\n",
    "                  metrics=['accuracy'])\n",
    "\n",
    "    model.fit(X_train, y_train, epochs=5)\n",
    "    test_loss, test_acc = model.evaluate(X_test, y_test)\n",
    "    \n",
    "    return test_acc\n",
    "    \n",
    "test_acc = tf_model(X_train, y_train)\n",
    "print('Test accuracy:', test_acc)"
   ]
  },
  {
   "cell_type": "code",
   "execution_count": 145,
   "metadata": {},
   "outputs": [
    {
     "name": "stdout",
     "output_type": "stream",
     "text": [
      "[10, 20, 30, 40, 50, 70, 100, 150, 200, 500, 1000, 10000, 60000]\n",
      "10\n",
      "Epoch 1/5\n",
      "9/9 [==============================] - 2s 239ms/step - loss: 2.4269 - acc: 0.1111\n",
      "Epoch 2/5\n",
      "9/9 [==============================] - 0s 684us/step - loss: 1.7624 - acc: 0.4444\n",
      "Epoch 3/5\n",
      "9/9 [==============================] - 0s 774us/step - loss: 1.2923 - acc: 0.5556\n",
      "Epoch 4/5\n",
      "9/9 [==============================] - 0s 822us/step - loss: 0.9105 - acc: 1.0000\n",
      "Epoch 5/5\n",
      "9/9 [==============================] - 0s 916us/step - loss: 0.6307 - acc: 1.0000\n",
      "10000/10000 [==============================] - 2s 208us/step\n",
      "Epoch 1/5\n",
      "9/9 [==============================] - 2s 231ms/step - loss: 2.4940 - acc: 0.2222\n",
      "Epoch 2/5\n",
      "9/9 [==============================] - 0s 754us/step - loss: 1.9537 - acc: 0.4444\n",
      "Epoch 3/5\n",
      "9/9 [==============================] - 0s 630us/step - loss: 1.5194 - acc: 0.4444\n",
      "Epoch 4/5\n",
      "9/9 [==============================] - 0s 797us/step - loss: 1.1550 - acc: 0.8889\n",
      "Epoch 5/5\n",
      "9/9 [==============================] - 0s 777us/step - loss: 0.8630 - acc: 0.8889\n",
      "10000/10000 [==============================] - 2s 204us/step\n",
      "Epoch 1/5\n",
      "9/9 [==============================] - 2s 248ms/step - loss: 2.1166 - acc: 0.2222\n",
      "Epoch 2/5\n",
      "9/9 [==============================] - 0s 673us/step - loss: 1.6100 - acc: 0.7778\n",
      "Epoch 3/5\n",
      "9/9 [==============================] - 0s 791us/step - loss: 1.2362 - acc: 0.8889\n",
      "Epoch 4/5\n",
      "9/9 [==============================] - 0s 783us/step - loss: 0.9427 - acc: 1.0000\n",
      "Epoch 5/5\n",
      "9/9 [==============================] - 0s 1ms/step - loss: 0.7092 - acc: 1.0000\n",
      "10000/10000 [==============================] - 2s 226us/step\n",
      "Epoch 1/5\n",
      "9/9 [==============================] - 3s 312ms/step - loss: 2.4708 - acc: 0.1111\n",
      "Epoch 2/5\n",
      "9/9 [==============================] - 0s 1ms/step - loss: 1.8149 - acc: 0.2222\n",
      "Epoch 3/5\n",
      "9/9 [==============================] - 0s 958us/step - loss: 1.3733 - acc: 0.7778\n",
      "Epoch 4/5\n",
      "9/9 [==============================] - 0s 1ms/step - loss: 1.0253 - acc: 0.8889\n",
      "Epoch 5/5\n",
      "9/9 [==============================] - 0s 998us/step - loss: 0.7542 - acc: 0.8889\n",
      "10000/10000 [==============================] - 2s 235us/step\n",
      "Epoch 1/5\n",
      "9/9 [==============================] - 2s 256ms/step - loss: 2.2688 - acc: 0.2222\n",
      "Epoch 2/5\n",
      "9/9 [==============================] - 0s 716us/step - loss: 1.6748 - acc: 0.5556\n",
      "Epoch 3/5\n",
      "9/9 [==============================] - 0s 662us/step - loss: 1.2751 - acc: 0.6667\n",
      "Epoch 4/5\n",
      "9/9 [==============================] - 0s 664us/step - loss: 0.9863 - acc: 0.8889\n",
      "Epoch 5/5\n",
      "9/9 [==============================] - 0s 730us/step - loss: 0.7666 - acc: 0.8889\n",
      "10000/10000 [==============================] - 2s 198us/step\n",
      "20\n",
      "Epoch 1/5\n",
      "18/18 [==============================] - 3s 146ms/step - loss: 2.5281 - acc: 0.1111\n",
      "Epoch 2/5\n",
      "18/18 [==============================] - 0s 419us/step - loss: 1.9522 - acc: 0.3333\n",
      "Epoch 3/5\n",
      "18/18 [==============================] - 0s 377us/step - loss: 1.5696 - acc: 0.4444\n",
      "Epoch 4/5\n",
      "18/18 [==============================] - 0s 315us/step - loss: 1.2492 - acc: 0.6667\n",
      "Epoch 5/5\n",
      "18/18 [==============================] - 0s 341us/step - loss: 0.9898 - acc: 0.8889\n",
      "10000/10000 [==============================] - 3s 301us/step\n",
      "Epoch 1/5\n",
      "18/18 [==============================] - 3s 143ms/step - loss: 2.4728 - acc: 0.1111\n",
      "Epoch 2/5\n",
      "18/18 [==============================] - 0s 419us/step - loss: 1.9592 - acc: 0.3333\n",
      "Epoch 3/5\n",
      "18/18 [==============================] - 0s 381us/step - loss: 1.5834 - acc: 0.6111\n",
      "Epoch 4/5\n",
      "18/18 [==============================] - 0s 440us/step - loss: 1.2611 - acc: 0.7222\n",
      "Epoch 5/5\n",
      "18/18 [==============================] - 0s 418us/step - loss: 1.0030 - acc: 0.8889\n",
      "10000/10000 [==============================] - 3s 255us/step\n",
      "Epoch 1/5\n",
      "18/18 [==============================] - 3s 150ms/step - loss: 2.4600 - acc: 0.1667\n",
      "Epoch 2/5\n",
      "18/18 [==============================] - 0s 366us/step - loss: 1.8822 - acc: 0.3333\n",
      "Epoch 3/5\n",
      "18/18 [==============================] - 0s 374us/step - loss: 1.4897 - acc: 0.7222\n",
      "Epoch 4/5\n",
      "18/18 [==============================] - 0s 391us/step - loss: 1.1912 - acc: 0.7778\n",
      "Epoch 5/5\n",
      "18/18 [==============================] - 0s 329us/step - loss: 0.9429 - acc: 0.8333\n",
      "10000/10000 [==============================] - 2s 234us/step\n",
      "Epoch 1/5\n",
      "18/18 [==============================] - 3s 142ms/step - loss: 2.4467 - acc: 0.1667\n",
      "Epoch 2/5\n",
      "18/18 [==============================] - 0s 376us/step - loss: 1.8982 - acc: 0.1667\n",
      "Epoch 3/5\n",
      "18/18 [==============================] - 0s 332us/step - loss: 1.5255 - acc: 0.5000\n",
      "Epoch 4/5\n",
      "18/18 [==============================] - 0s 377us/step - loss: 1.2109 - acc: 0.6667\n",
      "Epoch 5/5\n",
      "18/18 [==============================] - 0s 338us/step - loss: 0.9522 - acc: 0.9444\n",
      "10000/10000 [==============================] - 2s 225us/step\n",
      "Epoch 1/5\n",
      "18/18 [==============================] - 3s 144ms/step - loss: 2.4344 - acc: 0.0000e+00\n",
      "Epoch 2/5\n",
      "18/18 [==============================] - 0s 369us/step - loss: 1.8644 - acc: 0.3333\n",
      "Epoch 3/5\n",
      "18/18 [==============================] - 0s 508us/step - loss: 1.4696 - acc: 0.6111\n",
      "Epoch 4/5\n",
      "18/18 [==============================] - 0s 407us/step - loss: 1.1573 - acc: 0.9444\n",
      "Epoch 5/5\n",
      "18/18 [==============================] - 0s 368us/step - loss: 0.9185 - acc: 0.9444\n",
      "10000/10000 [==============================] - 2s 222us/step\n",
      "30\n",
      "Epoch 1/5\n",
      "27/27 [==============================] - 3s 95ms/step - loss: 2.5989 - acc: 0.1111\n",
      "Epoch 2/5\n",
      "27/27 [==============================] - 0s 275us/step - loss: 1.9987 - acc: 0.2593\n",
      "Epoch 3/5\n",
      "27/27 [==============================] - 0s 263us/step - loss: 1.6387 - acc: 0.5556\n",
      "Epoch 4/5\n",
      "27/27 [==============================] - 0s 248us/step - loss: 1.3868 - acc: 0.6667\n",
      "Epoch 5/5\n",
      "27/27 [==============================] - 0s 243us/step - loss: 1.1522 - acc: 0.8148\n",
      "10000/10000 [==============================] - 2s 234us/step\n",
      "Epoch 1/5\n",
      "27/27 [==============================] - 3s 101ms/step - loss: 2.4352 - acc: 0.1111\n",
      "Epoch 2/5\n",
      "27/27 [==============================] - 0s 332us/step - loss: 1.9428 - acc: 0.2963\n",
      "Epoch 3/5\n",
      "27/27 [==============================] - 0s 312us/step - loss: 1.5983 - acc: 0.5556\n",
      "Epoch 4/5\n",
      "27/27 [==============================] - 0s 305us/step - loss: 1.3265 - acc: 0.6296\n",
      "Epoch 5/5\n",
      "27/27 [==============================] - 0s 293us/step - loss: 1.0989 - acc: 0.8148\n",
      "10000/10000 [==============================] - 2s 234us/step\n",
      "Epoch 1/5\n",
      "27/27 [==============================] - 3s 96ms/step - loss: 2.4669 - acc: 0.0741\n",
      "Epoch 2/5\n",
      "27/27 [==============================] - 0s 328us/step - loss: 1.9221 - acc: 0.2963\n",
      "Epoch 3/5\n",
      "27/27 [==============================] - 0s 286us/step - loss: 1.5398 - acc: 0.5926\n",
      "Epoch 4/5\n",
      "27/27 [==============================] - 0s 253us/step - loss: 1.2265 - acc: 0.7778\n",
      "Epoch 5/5\n",
      "27/27 [==============================] - 0s 276us/step - loss: 0.9817 - acc: 0.9259\n",
      "10000/10000 [==============================] - 2s 218us/step\n",
      "Epoch 1/5\n",
      "27/27 [==============================] - 3s 114ms/step - loss: 2.3940 - acc: 0.1111\n",
      "Epoch 2/5\n",
      "27/27 [==============================] - 0s 346us/step - loss: 1.9580 - acc: 0.2593\n",
      "Epoch 3/5\n",
      "27/27 [==============================] - 0s 358us/step - loss: 1.6489 - acc: 0.5185\n",
      "Epoch 4/5\n",
      "27/27 [==============================] - 0s 309us/step - loss: 1.3680 - acc: 0.7407\n",
      "Epoch 5/5\n",
      "27/27 [==============================] - 0s 327us/step - loss: 1.1426 - acc: 0.8148\n",
      "10000/10000 [==============================] - 2s 246us/step\n",
      "Epoch 1/5\n",
      "27/27 [==============================] - 3s 104ms/step - loss: 2.4470 - acc: 0.1111\n",
      "Epoch 2/5\n",
      "27/27 [==============================] - 0s 248us/step - loss: 1.9162 - acc: 0.4815\n",
      "Epoch 3/5\n",
      "27/27 [==============================] - 0s 281us/step - loss: 1.5953 - acc: 0.5556\n",
      "Epoch 4/5\n",
      "27/27 [==============================] - 0s 255us/step - loss: 1.3513 - acc: 0.7037\n",
      "Epoch 5/5\n",
      "27/27 [==============================] - 0s 246us/step - loss: 1.1397 - acc: 0.8519\n",
      "10000/10000 [==============================] - 3s 282us/step\n",
      "40\n",
      "Epoch 1/5\n",
      "36/36 [==============================] - 3s 92ms/step - loss: 2.5796 - acc: 0.0556\n",
      "Epoch 2/5\n",
      "36/36 [==============================] - 0s 441us/step - loss: 1.9522 - acc: 0.2222\n",
      "Epoch 3/5\n",
      "36/36 [==============================] - 0s 425us/step - loss: 1.6137 - acc: 0.4722\n",
      "Epoch 4/5\n",
      "36/36 [==============================] - 0s 418us/step - loss: 1.2907 - acc: 0.5278\n",
      "Epoch 5/5\n",
      "36/36 [==============================] - 0s 445us/step - loss: 1.0673 - acc: 0.7778\n",
      "10000/10000 [==============================] - 3s 326us/step\n",
      "Epoch 1/5\n",
      "36/36 [==============================] - 3s 83ms/step - loss: 2.4887 - acc: 0.0556\n",
      "Epoch 2/5\n",
      "36/36 [==============================] - 0s 437us/step - loss: 1.8283 - acc: 0.3056\n",
      "Epoch 3/5\n",
      "36/36 [==============================] - 0s 474us/step - loss: 1.5330 - acc: 0.5278\n",
      "Epoch 4/5\n",
      "36/36 [==============================] - 0s 468us/step - loss: 1.3004 - acc: 0.6111\n",
      "Epoch 5/5\n",
      "36/36 [==============================] - 0s 487us/step - loss: 1.0755 - acc: 0.6667\n",
      "10000/10000 [==============================] - 3s 252us/step\n",
      "Epoch 1/5\n",
      "36/36 [==============================] - 3s 84ms/step - loss: 2.5016 - acc: 0.0833\n",
      "Epoch 2/5\n",
      "36/36 [==============================] - 0s 435us/step - loss: 1.9197 - acc: 0.4444\n",
      "Epoch 3/5\n",
      "36/36 [==============================] - 0s 395us/step - loss: 1.7354 - acc: 0.4722\n",
      "Epoch 4/5\n",
      "36/36 [==============================] - 0s 400us/step - loss: 1.4340 - acc: 0.5556\n",
      "Epoch 5/5\n",
      "36/36 [==============================] - 0s 385us/step - loss: 1.1725 - acc: 0.6389\n",
      "10000/10000 [==============================] - 3s 251us/step\n",
      "Epoch 1/5\n",
      "36/36 [==============================] - 3s 84ms/step - loss: 2.3233 - acc: 0.1389\n",
      "Epoch 2/5\n",
      "36/36 [==============================] - 0s 507us/step - loss: 1.6924 - acc: 0.4167\n",
      "Epoch 3/5\n",
      "36/36 [==============================] - 0s 439us/step - loss: 1.5021 - acc: 0.4167\n",
      "Epoch 4/5\n",
      "36/36 [==============================] - 0s 411us/step - loss: 1.2107 - acc: 0.5278\n",
      "Epoch 5/5\n",
      "36/36 [==============================] - 0s 410us/step - loss: 0.9332 - acc: 0.7222\n",
      "10000/10000 [==============================] - 3s 261us/step\n",
      "Epoch 1/5\n",
      "36/36 [==============================] - 3s 87ms/step - loss: 2.4161 - acc: 0.0278\n",
      "Epoch 2/5\n",
      "36/36 [==============================] - 0s 452us/step - loss: 1.8046 - acc: 0.4444\n",
      "Epoch 3/5\n",
      "36/36 [==============================] - 0s 511us/step - loss: 1.6393 - acc: 0.4167\n",
      "Epoch 4/5\n",
      "36/36 [==============================] - 0s 608us/step - loss: 1.2982 - acc: 0.6111\n",
      "Epoch 5/5\n",
      "36/36 [==============================] - 0s 521us/step - loss: 1.0812 - acc: 0.7222\n",
      "10000/10000 [==============================] - 3s 277us/step\n",
      "50\n",
      "Epoch 1/5\n",
      "45/45 [==============================] - 3s 77ms/step - loss: 2.5977 - acc: 0.0000e+00\n",
      "Epoch 2/5\n",
      "45/45 [==============================] - 0s 429us/step - loss: 1.8641 - acc: 0.2222\n",
      "Epoch 3/5\n",
      "45/45 [==============================] - 0s 446us/step - loss: 1.4949 - acc: 0.5333\n",
      "Epoch 4/5\n",
      "45/45 [==============================] - 0s 482us/step - loss: 1.2337 - acc: 0.6444\n",
      "Epoch 5/5\n",
      "45/45 [==============================] - 0s 573us/step - loss: 1.0444 - acc: 0.7111\n",
      "10000/10000 [==============================] - 3s 318us/step\n",
      "Epoch 1/5\n",
      "45/45 [==============================] - 3s 73ms/step - loss: 2.6152 - acc: 0.0889\n",
      "Epoch 2/5\n",
      "45/45 [==============================] - 0s 344us/step - loss: 1.8717 - acc: 0.3556\n",
      "Epoch 3/5\n",
      "45/45 [==============================] - 0s 337us/step - loss: 1.3826 - acc: 0.6000\n",
      "Epoch 4/5\n",
      "45/45 [==============================] - 0s 342us/step - loss: 1.0626 - acc: 0.8000\n",
      "Epoch 5/5\n",
      "45/45 [==============================] - 0s 349us/step - loss: 0.8652 - acc: 0.8000\n",
      "10000/10000 [==============================] - 4s 367us/step\n",
      "Epoch 1/5\n",
      "45/45 [==============================] - 3s 69ms/step - loss: 2.3988 - acc: 0.1333\n",
      "Epoch 2/5\n",
      "45/45 [==============================] - 0s 338us/step - loss: 1.8005 - acc: 0.4889\n",
      "Epoch 3/5\n",
      "45/45 [==============================] - 0s 333us/step - loss: 1.4573 - acc: 0.5556\n",
      "Epoch 4/5\n",
      "45/45 [==============================] - 0s 381us/step - loss: 1.1805 - acc: 0.7556\n",
      "Epoch 5/5\n",
      "45/45 [==============================] - 0s 345us/step - loss: 1.0027 - acc: 0.8222\n",
      "10000/10000 [==============================] - 3s 276us/step\n",
      "Epoch 1/5\n",
      "45/45 [==============================] - 3s 67ms/step - loss: 2.2906 - acc: 0.0889\n",
      "Epoch 2/5\n",
      "45/45 [==============================] - 0s 329us/step - loss: 1.6960 - acc: 0.5111\n",
      "Epoch 3/5\n",
      "45/45 [==============================] - 0s 334us/step - loss: 1.3886 - acc: 0.6667\n",
      "Epoch 4/5\n",
      "45/45 [==============================] - 0s 335us/step - loss: 1.1877 - acc: 0.5778\n",
      "Epoch 5/5\n",
      "45/45 [==============================] - 0s 348us/step - loss: 1.0394 - acc: 0.6889\n",
      "10000/10000 [==============================] - 3s 254us/step\n",
      "Epoch 1/5\n",
      "45/45 [==============================] - 3s 68ms/step - loss: 2.3012 - acc: 0.2222\n",
      "Epoch 2/5\n",
      "45/45 [==============================] - 0s 319us/step - loss: 1.7508 - acc: 0.4000\n",
      "Epoch 3/5\n",
      "45/45 [==============================] - 0s 330us/step - loss: 1.4456 - acc: 0.5778\n",
      "Epoch 4/5\n",
      "45/45 [==============================] - 0s 363us/step - loss: 1.2178 - acc: 0.6000\n",
      "Epoch 5/5\n",
      "45/45 [==============================] - 0s 336us/step - loss: 1.0401 - acc: 0.6667\n",
      "10000/10000 [==============================] - 3s 270us/step\n",
      "70\n",
      "Epoch 1/5\n",
      "63/63 [==============================] - 3s 50ms/step - loss: 2.3207 - acc: 0.1587\n",
      "Epoch 2/5\n",
      "63/63 [==============================] - 0s 248us/step - loss: 1.7394 - acc: 0.4921\n",
      "Epoch 3/5\n",
      "63/63 [==============================] - 0s 266us/step - loss: 1.4080 - acc: 0.7302\n",
      "Epoch 4/5\n",
      "63/63 [==============================] - 0s 248us/step - loss: 1.1622 - acc: 0.7778\n",
      "Epoch 5/5\n",
      "63/63 [==============================] - 0s 252us/step - loss: 0.9595 - acc: 0.8254\n",
      "10000/10000 [==============================] - 3s 297us/step\n",
      "Epoch 1/5\n",
      "63/63 [==============================] - 3s 52ms/step - loss: 2.2539 - acc: 0.1905\n",
      "Epoch 2/5\n",
      "63/63 [==============================] - 0s 252us/step - loss: 1.6678 - acc: 0.6349\n",
      "Epoch 3/5\n",
      "63/63 [==============================] - 0s 284us/step - loss: 1.3649 - acc: 0.6190\n",
      "Epoch 4/5\n",
      "63/63 [==============================] - 0s 319us/step - loss: 1.1219 - acc: 0.7302\n",
      "Epoch 5/5\n",
      "63/63 [==============================] - 0s 293us/step - loss: 0.9375 - acc: 0.8095\n",
      "10000/10000 [==============================] - 3s 262us/step\n",
      "Epoch 1/5\n",
      "63/63 [==============================] - 3s 52ms/step - loss: 2.3303 - acc: 0.1111\n",
      "Epoch 2/5\n",
      "63/63 [==============================] - 0s 248us/step - loss: 1.8038 - acc: 0.3175\n",
      "Epoch 3/5\n",
      "63/63 [==============================] - 0s 245us/step - loss: 1.4671 - acc: 0.5238\n",
      "Epoch 4/5\n",
      "63/63 [==============================] - 0s 266us/step - loss: 1.2215 - acc: 0.7302\n",
      "Epoch 5/5\n",
      "63/63 [==============================] - 0s 264us/step - loss: 1.0639 - acc: 0.7460\n",
      "10000/10000 [==============================] - 3s 262us/step\n",
      "Epoch 1/5\n",
      "63/63 [==============================] - 3s 51ms/step - loss: 2.3609 - acc: 0.0952\n",
      "Epoch 2/5\n",
      "63/63 [==============================] - 0s 248us/step - loss: 1.8339 - acc: 0.3492\n",
      "Epoch 3/5\n",
      "63/63 [==============================] - 0s 258us/step - loss: 1.3978 - acc: 0.5873\n",
      "Epoch 4/5\n",
      "63/63 [==============================] - 0s 275us/step - loss: 1.1120 - acc: 0.7778\n",
      "Epoch 5/5\n",
      "63/63 [==============================] - 0s 260us/step - loss: 0.9335 - acc: 0.7937\n",
      "10000/10000 [==============================] - 3s 264us/step\n",
      "Epoch 1/5\n",
      "63/63 [==============================] - 3s 52ms/step - loss: 2.3432 - acc: 0.0952\n",
      "Epoch 2/5\n",
      "63/63 [==============================] - 0s 247us/step - loss: 1.6956 - acc: 0.4603\n",
      "Epoch 3/5\n",
      "63/63 [==============================] - 0s 238us/step - loss: 1.3934 - acc: 0.6349\n",
      "Epoch 4/5\n",
      "63/63 [==============================] - 0s 269us/step - loss: 1.0830 - acc: 0.7937\n",
      "Epoch 5/5\n",
      "63/63 [==============================] - 0s 266us/step - loss: 0.9009 - acc: 0.7778\n",
      "10000/10000 [==============================] - 3s 266us/step\n",
      "100\n",
      "Epoch 1/5\n",
      "90/90 [==============================] - 3s 37ms/step - loss: 2.4817 - acc: 0.0667\n",
      "Epoch 2/5\n",
      "90/90 [==============================] - 0s 249us/step - loss: 1.6335 - acc: 0.4889\n",
      "Epoch 3/5\n",
      "90/90 [==============================] - 0s 264us/step - loss: 1.2539 - acc: 0.7667\n",
      "Epoch 4/5\n",
      "90/90 [==============================] - 0s 264us/step - loss: 0.9821 - acc: 0.6889\n",
      "Epoch 5/5\n",
      "90/90 [==============================] - 0s 269us/step - loss: 0.7867 - acc: 0.8000\n",
      "10000/10000 [==============================] - 3s 276us/step\n",
      "Epoch 1/5\n",
      "90/90 [==============================] - 3s 37ms/step - loss: 2.1806 - acc: 0.1778\n",
      "Epoch 2/5\n",
      "90/90 [==============================] - 0s 246us/step - loss: 1.4975 - acc: 0.5556\n",
      "Epoch 3/5\n",
      "90/90 [==============================] - 0s 269us/step - loss: 1.2008 - acc: 0.6222\n",
      "Epoch 4/5\n",
      "90/90 [==============================] - 0s 261us/step - loss: 0.9768 - acc: 0.7111\n",
      "Epoch 5/5\n",
      "90/90 [==============================] - 0s 279us/step - loss: 0.8242 - acc: 0.8333\n",
      "10000/10000 [==============================] - 3s 292us/step\n",
      "Epoch 1/5\n",
      "90/90 [==============================] - 3s 38ms/step - loss: 2.3575 - acc: 0.1222\n",
      "Epoch 2/5\n",
      "90/90 [==============================] - 0s 305us/step - loss: 1.5941 - acc: 0.5333\n",
      "Epoch 3/5\n",
      "90/90 [==============================] - 0s 299us/step - loss: 1.2040 - acc: 0.7556\n",
      "Epoch 4/5\n",
      "90/90 [==============================] - 0s 311us/step - loss: 0.9605 - acc: 0.7778\n",
      "Epoch 5/5\n",
      "90/90 [==============================] - 0s 332us/step - loss: 0.7843 - acc: 0.7889\n",
      "10000/10000 [==============================] - 3s 279us/step\n",
      "Epoch 1/5\n",
      "90/90 [==============================] - 3s 39ms/step - loss: 2.4679 - acc: 0.1333\n",
      "Epoch 2/5\n",
      "90/90 [==============================] - 0s 253us/step - loss: 1.6867 - acc: 0.3889\n",
      "Epoch 3/5\n",
      "90/90 [==============================] - 0s 260us/step - loss: 1.3335 - acc: 0.5667\n",
      "Epoch 4/5\n",
      "90/90 [==============================] - 0s 269us/step - loss: 1.0238 - acc: 0.7222\n",
      "Epoch 5/5\n",
      "90/90 [==============================] - 0s 265us/step - loss: 0.8834 - acc: 0.7111\n",
      "10000/10000 [==============================] - 3s 283us/step\n",
      "Epoch 1/5\n",
      "90/90 [==============================] - 3s 39ms/step - loss: 2.2449 - acc: 0.1333\n",
      "Epoch 2/5\n",
      "90/90 [==============================] - 0s 258us/step - loss: 1.6164 - acc: 0.5000\n",
      "Epoch 3/5\n",
      "90/90 [==============================] - 0s 289us/step - loss: 1.1592 - acc: 0.6889\n",
      "Epoch 4/5\n",
      "90/90 [==============================] - 0s 280us/step - loss: 0.8953 - acc: 0.7667\n",
      "Epoch 5/5\n",
      "90/90 [==============================] - 0s 261us/step - loss: 0.7619 - acc: 0.7667\n",
      "10000/10000 [==============================] - 3s 286us/step\n",
      "150\n",
      "Epoch 1/5\n",
      "135/135 [==============================] - 3s 26ms/step - loss: 2.0204 - acc: 0.2741\n",
      "Epoch 2/5\n",
      "135/135 [==============================] - 0s 256us/step - loss: 1.2506 - acc: 0.4963\n",
      "Epoch 3/5\n",
      "135/135 [==============================] - 0s 277us/step - loss: 0.9567 - acc: 0.6889\n",
      "Epoch 4/5\n",
      "135/135 [==============================] - 0s 287us/step - loss: 0.7201 - acc: 0.7852\n",
      "Epoch 5/5\n",
      "135/135 [==============================] - 0s 285us/step - loss: 0.6850 - acc: 0.7407\n",
      "10000/10000 [==============================] - 3s 288us/step\n",
      "Epoch 1/5\n",
      "135/135 [==============================] - 4s 27ms/step - loss: 2.0625 - acc: 0.1778\n",
      "Epoch 2/5\n",
      "135/135 [==============================] - 0s 270us/step - loss: 1.3174 - acc: 0.5926\n",
      "Epoch 3/5\n",
      "135/135 [==============================] - 0s 273us/step - loss: 1.0631 - acc: 0.6593\n",
      "Epoch 4/5\n",
      "135/135 [==============================] - 0s 277us/step - loss: 0.8492 - acc: 0.7926\n",
      "Epoch 5/5\n",
      "135/135 [==============================] - 0s 271us/step - loss: 0.7192 - acc: 0.8370\n",
      "10000/10000 [==============================] - 3s 295us/step\n",
      "Epoch 1/5\n",
      "135/135 [==============================] - 4s 28ms/step - loss: 1.9388 - acc: 0.3185\n",
      "Epoch 2/5\n",
      "135/135 [==============================] - 0s 279us/step - loss: 1.2573 - acc: 0.6593\n",
      "Epoch 3/5\n",
      "135/135 [==============================] - 0s 283us/step - loss: 0.9080 - acc: 0.7259\n",
      "Epoch 4/5\n",
      "135/135 [==============================] - 0s 283us/step - loss: 0.7157 - acc: 0.7926\n",
      "Epoch 5/5\n",
      "135/135 [==============================] - 0s 285us/step - loss: 0.6255 - acc: 0.8000\n",
      "10000/10000 [==============================] - 4s 352us/step\n",
      "Epoch 1/5\n",
      "135/135 [==============================] - 4s 29ms/step - loss: 2.1066 - acc: 0.2222\n",
      "Epoch 2/5\n",
      "135/135 [==============================] - 0s 311us/step - loss: 1.3823 - acc: 0.5481\n",
      "Epoch 3/5\n",
      "135/135 [==============================] - 0s 306us/step - loss: 1.0902 - acc: 0.6370\n",
      "Epoch 4/5\n",
      "135/135 [==============================] - 0s 315us/step - loss: 0.8759 - acc: 0.7037\n",
      "Epoch 5/5\n",
      "135/135 [==============================] - 0s 310us/step - loss: 0.7412 - acc: 0.8148\n",
      "10000/10000 [==============================] - 3s 305us/step\n",
      "Epoch 1/5\n",
      "135/135 [==============================] - 4s 31ms/step - loss: 2.2551 - acc: 0.1852\n",
      "Epoch 2/5\n",
      "135/135 [==============================] - 0s 412us/step - loss: 1.4658 - acc: 0.5185\n",
      "Epoch 3/5\n",
      "135/135 [==============================] - 0s 394us/step - loss: 1.0254 - acc: 0.6593\n",
      "Epoch 4/5\n",
      "135/135 [==============================] - 0s 379us/step - loss: 0.9125 - acc: 0.7185\n",
      "Epoch 5/5\n",
      "135/135 [==============================] - 0s 425us/step - loss: 0.7236 - acc: 0.7778\n",
      "10000/10000 [==============================] - 4s 366us/step\n",
      "200\n",
      "Epoch 1/5\n",
      "180/180 [==============================] - 4s 22ms/step - loss: 2.0633 - acc: 0.2611\n",
      "Epoch 2/5\n",
      "180/180 [==============================] - 0s 277us/step - loss: 1.3597 - acc: 0.4944\n",
      "Epoch 3/5\n",
      "180/180 [==============================] - 0s 277us/step - loss: 1.0040 - acc: 0.6667\n",
      "Epoch 4/5\n",
      "180/180 [==============================] - 0s 270us/step - loss: 0.8626 - acc: 0.7278\n",
      "Epoch 5/5\n",
      "180/180 [==============================] - 0s 260us/step - loss: 0.7514 - acc: 0.8000\n",
      "10000/10000 [==============================] - 3s 317us/step\n",
      "Epoch 1/5\n",
      "180/180 [==============================] - 4s 22ms/step - loss: 2.2284 - acc: 0.2222\n",
      "Epoch 2/5\n",
      "180/180 [==============================] - 0s 272us/step - loss: 1.3417 - acc: 0.5000\n",
      "Epoch 3/5\n",
      "180/180 [==============================] - 0s 263us/step - loss: 0.9679 - acc: 0.6722\n",
      "Epoch 4/5\n",
      "180/180 [==============================] - 0s 257us/step - loss: 0.7690 - acc: 0.7667\n",
      "Epoch 5/5\n",
      "180/180 [==============================] - 0s 260us/step - loss: 0.6549 - acc: 0.8056\n",
      "10000/10000 [==============================] - 3s 316us/step\n",
      "Epoch 1/5\n",
      "180/180 [==============================] - 4s 23ms/step - loss: 2.0857 - acc: 0.2500\n",
      "Epoch 2/5\n",
      "180/180 [==============================] - 0s 452us/step - loss: 1.2158 - acc: 0.6556\n",
      "Epoch 3/5\n",
      "180/180 [==============================] - 0s 474us/step - loss: 0.8863 - acc: 0.7500\n",
      "Epoch 4/5\n",
      "180/180 [==============================] - 0s 452us/step - loss: 0.6970 - acc: 0.8000\n",
      "Epoch 5/5\n",
      "180/180 [==============================] - 0s 475us/step - loss: 0.6165 - acc: 0.8278\n",
      "10000/10000 [==============================] - 4s 370us/step\n",
      "Epoch 1/5\n",
      "180/180 [==============================] - 4s 22ms/step - loss: 2.1198 - acc: 0.1833\n",
      "Epoch 2/5\n",
      "180/180 [==============================] - 0s 260us/step - loss: 1.2746 - acc: 0.6056\n",
      "Epoch 3/5\n",
      "180/180 [==============================] - 0s 258us/step - loss: 0.8952 - acc: 0.7556\n",
      "Epoch 4/5\n",
      "180/180 [==============================] - 0s 267us/step - loss: 0.7242 - acc: 0.8000\n",
      "Epoch 5/5\n",
      "180/180 [==============================] - 0s 260us/step - loss: 0.5976 - acc: 0.8333\n",
      "10000/10000 [==============================] - 3s 327us/step\n",
      "Epoch 1/5\n",
      "180/180 [==============================] - 4s 22ms/step - loss: 1.8587 - acc: 0.3333\n",
      "Epoch 2/5\n",
      "180/180 [==============================] - 0s 271us/step - loss: 1.1419 - acc: 0.6444\n",
      "Epoch 3/5\n",
      "180/180 [==============================] - 0s 265us/step - loss: 0.8742 - acc: 0.7611\n",
      "Epoch 4/5\n",
      "180/180 [==============================] - 0s 262us/step - loss: 0.7216 - acc: 0.7667\n",
      "Epoch 5/5\n",
      "180/180 [==============================] - 0s 267us/step - loss: 0.6675 - acc: 0.8111\n",
      "10000/10000 [==============================] - 4s 387us/step\n",
      "500\n",
      "Epoch 1/5\n",
      "450/450 [==============================] - 5s 12ms/step - loss: 1.4863 - acc: 0.4689\n",
      "Epoch 2/5\n",
      "450/450 [==============================] - 0s 247us/step - loss: 0.7916 - acc: 0.7467\n",
      "Epoch 3/5\n",
      "450/450 [==============================] - 0s 416us/step - loss: 0.6379 - acc: 0.8044\n",
      "Epoch 4/5\n",
      "450/450 [==============================] - 0s 407us/step - loss: 0.5372 - acc: 0.8089\n",
      "Epoch 5/5\n",
      "450/450 [==============================] - 0s 244us/step - loss: 0.4790 - acc: 0.8267\n",
      "10000/10000 [==============================] - 4s 419us/step\n",
      "Epoch 1/5\n",
      "450/450 [==============================] - 4s 10ms/step - loss: 1.6853 - acc: 0.4422\n",
      "Epoch 2/5\n",
      "450/450 [==============================] - 0s 312us/step - loss: 0.9565 - acc: 0.6800\n",
      "Epoch 3/5\n",
      "450/450 [==============================] - 0s 342us/step - loss: 0.8311 - acc: 0.7089\n",
      "Epoch 4/5\n",
      "450/450 [==============================] - 0s 308us/step - loss: 0.6742 - acc: 0.7622\n",
      "Epoch 5/5\n",
      "450/450 [==============================] - 0s 293us/step - loss: 0.6335 - acc: 0.7778\n",
      "10000/10000 [==============================] - 4s 383us/step\n",
      "Epoch 1/5\n",
      "450/450 [==============================] - 6s 13ms/step - loss: 1.6356 - acc: 0.3889\n",
      "Epoch 2/5\n",
      "450/450 [==============================] - 0s 295us/step - loss: 0.9048 - acc: 0.6844\n",
      "Epoch 3/5\n",
      "450/450 [==============================] - 0s 293us/step - loss: 0.7530 - acc: 0.7422\n",
      "Epoch 4/5\n",
      "450/450 [==============================] - 0s 503us/step - loss: 0.6712 - acc: 0.8067\n",
      "Epoch 5/5\n",
      "450/450 [==============================] - 0s 502us/step - loss: 0.5849 - acc: 0.8333\n",
      "10000/10000 [==============================] - 4s 423us/step\n",
      "Epoch 1/5\n",
      "450/450 [==============================] - 5s 10ms/step - loss: 1.5301 - acc: 0.4733\n",
      "Epoch 2/5\n",
      "450/450 [==============================] - 0s 297us/step - loss: 0.9058 - acc: 0.6800\n",
      "Epoch 3/5\n",
      "450/450 [==============================] - 0s 282us/step - loss: 0.7050 - acc: 0.7444\n",
      "Epoch 4/5\n",
      "450/450 [==============================] - 0s 256us/step - loss: 0.5906 - acc: 0.8044\n",
      "Epoch 5/5\n",
      "450/450 [==============================] - 0s 260us/step - loss: 0.5477 - acc: 0.8356\n",
      "10000/10000 [==============================] - 4s 374us/step\n",
      "Epoch 1/5\n",
      "450/450 [==============================] - 5s 10ms/step - loss: 1.6193 - acc: 0.4511\n",
      "Epoch 2/5\n",
      "450/450 [==============================] - 0s 259us/step - loss: 0.9061 - acc: 0.6733\n",
      "Epoch 3/5\n",
      "450/450 [==============================] - 0s 240us/step - loss: 0.7835 - acc: 0.7200\n",
      "Epoch 4/5\n",
      "450/450 [==============================] - 0s 255us/step - loss: 0.6545 - acc: 0.7911\n",
      "Epoch 5/5\n",
      "450/450 [==============================] - 0s 281us/step - loss: 0.6239 - acc: 0.7822\n",
      "10000/10000 [==============================] - 4s 367us/step\n",
      "1000\n",
      "Epoch 1/5\n",
      "900/900 [==============================] - 5s 5ms/step - loss: 1.2358 - acc: 0.5767\n",
      "Epoch 2/5\n",
      "900/900 [==============================] - 0s 304us/step - loss: 0.7196 - acc: 0.7311\n",
      "Epoch 3/5\n",
      "900/900 [==============================] - 0s 287us/step - loss: 0.5870 - acc: 0.8244\n",
      "Epoch 4/5\n",
      "900/900 [==============================] - 0s 237us/step - loss: 0.5356 - acc: 0.8144\n",
      "Epoch 5/5\n",
      "900/900 [==============================] - 0s 274us/step - loss: 0.5249 - acc: 0.8189\n",
      "10000/10000 [==============================] - 4s 401us/step\n",
      "Epoch 1/5\n",
      "900/900 [==============================] - 5s 5ms/step - loss: 1.2697 - acc: 0.5578\n",
      "Epoch 2/5\n",
      "900/900 [==============================] - 0s 309us/step - loss: 0.7248 - acc: 0.7400\n",
      "Epoch 3/5\n",
      "900/900 [==============================] - 0s 298us/step - loss: 0.6139 - acc: 0.7878\n",
      "Epoch 4/5\n",
      "900/900 [==============================] - 0s 285us/step - loss: 0.5589 - acc: 0.7956\n",
      "Epoch 5/5\n",
      "900/900 [==============================] - 0s 312us/step - loss: 0.4975 - acc: 0.8300\n",
      "10000/10000 [==============================] - 4s 403us/step\n",
      "Epoch 1/5\n",
      "900/900 [==============================] - 5s 5ms/step - loss: 1.3041 - acc: 0.5411\n",
      "Epoch 2/5\n",
      "900/900 [==============================] - 0s 271us/step - loss: 0.7731 - acc: 0.7378\n",
      "Epoch 3/5\n",
      "900/900 [==============================] - 0s 249us/step - loss: 0.6178 - acc: 0.7889\n",
      "Epoch 4/5\n",
      "900/900 [==============================] - 0s 267us/step - loss: 0.5827 - acc: 0.8000\n",
      "Epoch 5/5\n",
      "900/900 [==============================] - 0s 263us/step - loss: 0.4958 - acc: 0.8300\n",
      "10000/10000 [==============================] - 4s 409us/step\n",
      "Epoch 1/5\n",
      "900/900 [==============================] - 5s 5ms/step - loss: 1.3065 - acc: 0.5667\n",
      "Epoch 2/5\n",
      "900/900 [==============================] - 0s 296us/step - loss: 0.7478 - acc: 0.7311\n",
      "Epoch 3/5\n",
      "900/900 [==============================] - 0s 312us/step - loss: 0.6333 - acc: 0.7844\n",
      "Epoch 4/5\n",
      "900/900 [==============================] - 0s 290us/step - loss: 0.5576 - acc: 0.8078\n",
      "Epoch 5/5\n",
      "900/900 [==============================] - 0s 274us/step - loss: 0.5019 - acc: 0.8378\n",
      "10000/10000 [==============================] - 4s 391us/step\n",
      "Epoch 1/5\n",
      "900/900 [==============================] - 5s 5ms/step - loss: 1.2434 - acc: 0.5778\n",
      "Epoch 2/5\n",
      "900/900 [==============================] - 0s 258us/step - loss: 0.6918 - acc: 0.7578\n",
      "Epoch 3/5\n",
      "900/900 [==============================] - 0s 389us/step - loss: 0.5758 - acc: 0.7967\n",
      "Epoch 4/5\n",
      "900/900 [==============================] - 0s 371us/step - loss: 0.5365 - acc: 0.8178\n",
      "Epoch 5/5\n",
      "900/900 [==============================] - 0s 266us/step - loss: 0.5066 - acc: 0.8411\n",
      "10000/10000 [==============================] - 5s 494us/step\n",
      "10000\n",
      "Epoch 1/5\n",
      "9000/9000 [==============================] - 10s 1ms/step - loss: 0.6595 - acc: 0.7684\n",
      "Epoch 2/5\n",
      "9000/9000 [==============================] - 4s 398us/step - loss: 0.4697 - acc: 0.8323\n",
      "Epoch 3/5\n",
      "9000/9000 [==============================] - 3s 302us/step - loss: 0.4238 - acc: 0.8483\n",
      "Epoch 4/5\n",
      "9000/9000 [==============================] - 3s 329us/step - loss: 0.3937 - acc: 0.8589\n",
      "Epoch 5/5\n",
      "9000/9000 [==============================] - 2s 273us/step - loss: 0.3670 - acc: 0.8686\n",
      "10000/10000 [==============================] - 4s 381us/step\n",
      "Epoch 1/5\n",
      "9000/9000 [==============================] - 7s 785us/step - loss: 0.6814 - acc: 0.7614\n",
      "Epoch 2/5\n",
      "9000/9000 [==============================] - 3s 348us/step - loss: 0.4854 - acc: 0.8303\n",
      "Epoch 3/5\n",
      "9000/9000 [==============================] - 3s 308us/step - loss: 0.4342 - acc: 0.8417\n",
      "Epoch 4/5\n",
      "9000/9000 [==============================] - 3s 331us/step - loss: 0.4041 - acc: 0.8557\n",
      "Epoch 5/5\n",
      "9000/9000 [==============================] - 3s 305us/step - loss: 0.3743 - acc: 0.8664\n",
      "10000/10000 [==============================] - 5s 491us/step\n",
      "Epoch 1/5\n",
      "9000/9000 [==============================] - 8s 878us/step - loss: 0.6712 - acc: 0.7602\n",
      "Epoch 2/5\n",
      "9000/9000 [==============================] - 2s 275us/step - loss: 0.4760 - acc: 0.8272\n",
      "Epoch 3/5\n",
      "9000/9000 [==============================] - 3s 330us/step - loss: 0.4258 - acc: 0.8422\n",
      "Epoch 4/5\n",
      "9000/9000 [==============================] - 3s 304us/step - loss: 0.3951 - acc: 0.8550\n",
      "Epoch 5/5\n",
      "9000/9000 [==============================] - 3s 319us/step - loss: 0.3745 - acc: 0.8633\n",
      "10000/10000 [==============================] - 4s 434us/step\n",
      "Epoch 1/5\n",
      "9000/9000 [==============================] - 8s 885us/step - loss: 0.6679 - acc: 0.7632\n",
      "Epoch 2/5\n",
      "9000/9000 [==============================] - 3s 329us/step - loss: 0.4695 - acc: 0.8329\n",
      "Epoch 3/5\n",
      "9000/9000 [==============================] - 3s 310us/step - loss: 0.4196 - acc: 0.8483\n",
      "Epoch 4/5\n",
      "9000/9000 [==============================] - 3s 282us/step - loss: 0.3851 - acc: 0.8617\n",
      "Epoch 5/5\n",
      "9000/9000 [==============================] - 3s 308us/step - loss: 0.3680 - acc: 0.8654\n",
      "10000/10000 [==============================] - 4s 424us/step\n",
      "Epoch 1/5\n",
      "9000/9000 [==============================] - 8s 878us/step - loss: 0.6711 - acc: 0.7658\n",
      "Epoch 2/5\n",
      "9000/9000 [==============================] - 3s 348us/step - loss: 0.4694 - acc: 0.8380\n",
      "Epoch 3/5\n",
      "9000/9000 [==============================] - 3s 335us/step - loss: 0.4333 - acc: 0.8468\n",
      "Epoch 4/5\n",
      "9000/9000 [==============================] - 3s 373us/step - loss: 0.4016 - acc: 0.8543\n",
      "Epoch 5/5\n",
      "9000/9000 [==============================] - 3s 297us/step - loss: 0.3727 - acc: 0.8647\n",
      "10000/10000 [==============================] - 4s 435us/step\n",
      "60000\n",
      "Epoch 1/5\n",
      "60000/60000 [==============================] - 23s 391us/step - loss: 0.4749 - acc: 0.8290\n",
      "Epoch 2/5\n",
      "60000/60000 [==============================] - 19s 309us/step - loss: 0.3679 - acc: 0.8658\n",
      "Epoch 3/5\n",
      "60000/60000 [==============================] - 20s 329us/step - loss: 0.3355 - acc: 0.8756\n",
      "Epoch 4/5\n",
      "60000/60000 [==============================] - 17s 279us/step - loss: 0.3150 - acc: 0.8842\n",
      "Epoch 5/5\n",
      "60000/60000 [==============================] - 18s 307us/step - loss: 0.2965 - acc: 0.8898\n",
      "10000/10000 [==============================] - 5s 505us/step\n",
      "Epoch 1/5\n",
      "60000/60000 [==============================] - 23s 388us/step - loss: 0.4721 - acc: 0.8316\n",
      "Epoch 2/5\n",
      "60000/60000 [==============================] - 17s 276us/step - loss: 0.3688 - acc: 0.8665\n",
      "Epoch 3/5\n",
      "60000/60000 [==============================] - 16s 273us/step - loss: 0.3360 - acc: 0.8773\n",
      "Epoch 4/5\n",
      "60000/60000 [==============================] - 17s 284us/step - loss: 0.3119 - acc: 0.8845\n",
      "Epoch 5/5\n",
      "60000/60000 [==============================] - 19s 321us/step - loss: 0.2984 - acc: 0.8899\n",
      "10000/10000 [==============================] - 6s 570us/step\n",
      "Epoch 1/5\n",
      "60000/60000 [==============================] - 26s 426us/step - loss: 0.4775 - acc: 0.8290\n",
      "Epoch 2/5\n",
      "60000/60000 [==============================] - 21s 358us/step - loss: 0.3689 - acc: 0.8654\n",
      "Epoch 3/5\n",
      "60000/60000 [==============================] - 22s 359us/step - loss: 0.3328 - acc: 0.8783\n",
      "Epoch 4/5\n",
      "60000/60000 [==============================] - 20s 328us/step - loss: 0.3103 - acc: 0.8854\n",
      "Epoch 5/5\n",
      "60000/60000 [==============================] - 19s 320us/step - loss: 0.2955 - acc: 0.8910\n",
      "10000/10000 [==============================] - 5s 505us/step\n",
      "Epoch 1/5\n",
      "60000/60000 [==============================] - 26s 428us/step - loss: 0.4797 - acc: 0.8295\n",
      "Epoch 2/5\n",
      "60000/60000 [==============================] - 21s 355us/step - loss: 0.3703 - acc: 0.8645\n",
      "Epoch 3/5\n",
      "60000/60000 [==============================] - 20s 327us/step - loss: 0.3352 - acc: 0.8777\n",
      "Epoch 4/5\n",
      "60000/60000 [==============================] - 21s 345us/step - loss: 0.3129 - acc: 0.8846\n",
      "Epoch 5/5\n",
      "60000/60000 [==============================] - 22s 361us/step - loss: 0.2964 - acc: 0.8897\n",
      "10000/10000 [==============================] - 5s 523us/step\n",
      "Epoch 1/5\n",
      "60000/60000 [==============================] - 24s 394us/step - loss: 0.4799 - acc: 0.8279\n",
      "Epoch 2/5\n",
      "60000/60000 [==============================] - 21s 344us/step - loss: 0.3638 - acc: 0.8674\n",
      "Epoch 3/5\n",
      "60000/60000 [==============================] - 18s 298us/step - loss: 0.3331 - acc: 0.8776\n",
      "Epoch 4/5\n",
      "60000/60000 [==============================] - 19s 321us/step - loss: 0.3121 - acc: 0.8856\n",
      "Epoch 5/5\n",
      "60000/60000 [==============================] - 20s 332us/step - loss: 0.2919 - acc: 0.8920\n",
      "10000/10000 [==============================] - 5s 511us/step\n"
     ]
    }
   ],
   "source": [
    "n_samples_vec = [10,20, 30, 40, 50, 70, 100, 150, 200, 500, 1000, 10000, 60000]\n",
    "\n",
    "n_trials = 5\n",
    "test_acc_results = np.zeros((len(n_samples_vec), n_trials))\n",
    "for i, n_samples in enumerate(n_samples_vec):\n",
    "    print(n_samples)\n",
    "    for j in range(n_trials):\n",
    "        X_train_subset, y_train_subset = get_training_subset(X_train, y_train, n_samples)\n",
    "        test_acc = tf_model(X_train_subset, y_train_subset)\n",
    "        test_acc_results[i,j] = test_acc"
   ]
  },
  {
   "cell_type": "code",
   "execution_count": 182,
   "metadata": {},
   "outputs": [
    {
     "data": {
      "image/png": "[encoded data removed]",
      "text/plain": [
       "<matplotlib.figure.Figure at 0x24a0f649b0>"
      ]
     },
     "metadata": {
      "needs_background": "light"
     },
     "output_type": "display_data"
    }
   ],
   "source": [
    "mean_perf = np.mean(test_acc_results, axis=1)\n",
    "std_perf = np.std(test_acc_results, axis=1)\n",
    "num_points_plot = 11\n",
    "plt.plot(n_samples_vec[:num_points_plot], mean_perf[:num_points_plot], c='blue')\n",
    "plt.fill_between(n_samples_vec[:num_points_plot], mean_perf[:num_points_plot]+std_perf[:num_points_plot], mean_perf[:num_points_plot]-std_perf[:num_points_plot], color='blue', alpha=.25)\n",
    "plt.show()"
   ]
  },
  {
   "cell_type": "markdown",
   "metadata": {},
   "source": [
    "The relationship between the number of training data points and test set performance is highly nonlinear. We see a large jump in performance between 10 and 200 training data points, and then a linear increase from then on. With this model, we don't reach assymptotic performance even with the full dataset (though this might not be true if we increase the number of iterations). Since the performance curve is already very steep at the beginning of learning, I am not sure that we will see a large improvement with active learning."
   ]
  },
  {
   "cell_type": "markdown",
   "metadata": {},
   "source": [
    "## Active Learning\n",
    "\n",
    "Functions for getting subset (balanced)"
   ]
  },
  {
   "cell_type": "code",
   "execution_count": 110,
   "metadata": {},
   "outputs": [],
   "source": [
    "def get_training_subset(X_train, y_train, n_samples):\n",
    "    (n_train, n_input) = np.shape(X_train)\n",
    "    n_cat = 10\n",
    "    if n_train == n_samples:\n",
    "        return X_train, y_train\n",
    "    # make n_samples a multiple of 10 for ease of balancing the dataset\n",
    "    n_cat_samples = int(n_samples/10)\n",
    "    # get appropraite number of samples from each category\n",
    "    cat_ind = list()\n",
    "    ind_array = np.arange(n_train)\n",
    "    for cat in range(n_cat):\n",
    "        cat_ind = np.append(cat_ind, np.random.choice(ind_array[y_train == cat], size=n_cat_samples, replace=False))\n",
    "    np.random.shuffle(cat_ind)\n",
    "    X_train_subset = X_train[cat_ind.astype(int)]\n",
    "    y_train_subset = y_train[cat_ind.astype(int)]\n",
    "    return X_train_subset, y_train_subset"
   ]
  },
  {
   "cell_type": "markdown",
   "metadata": {},
   "source": [
    "### Train Network on subset of data"
   ]
  },
  {
   "cell_type": "code",
   "execution_count": 112,
   "metadata": {},
   "outputs": [],
   "source": [
    "n_samples = 10\n",
    "X_train_subset, y_train_subset = get_training_subset(X_train, y_train, n_samples)\n",
    "\n",
    "NN_model = construct_nn(X_train_subset, y_train_subset, n_input, n_output, n_samples, n_hidden_1=128)"
   ]
  },
  {
   "cell_type": "code",
   "execution_count": 39,
   "metadata": {},
   "outputs": [
    {
     "name": "stdout",
     "output_type": "stream",
     "text": [
      "{'mu': mu, 'rho': rho}\n"
     ]
    },
    {
     "name": "stderr",
     "output_type": "stream",
     "text": [
      "Average Loss = 2,812.8: 100%|██████████| 10000/10000 [03:26<00:00, 48.40it/s]\n",
      "Finished [100%]: Average Loss = 2,808.3\n"
     ]
    }
   ],
   "source": [
    "# convergence not great, use a different method for conv check after:\n",
    "# https://docs.pymc.io/notebooks/variational_api_quickstart.html\n",
    "with NN_model:\n",
    "    advi = pm.ADVI()\n",
    "    \n",
    "# After the bayes by BackProp paper!\n",
    "print(advi.approx.shared_params)\n",
    "\n",
    "# To better look at convergence, we keep track of parameter mean and std\n",
    "# ev_mean = advi.approx.mean.eval # callable that returns mean\n",
    "# ev_std = advi.approx.std.eval # callable that returns std\n",
    "# tracker = pm.callbacks.Tracker(mean=ev_mean,std=ev_std)\n",
    "# print(tracker.whatchdict)\n",
    "\n",
    "n_approx_iter = 10000\n",
    "with NN_model:\n",
    "    approx = advi.fit(n=n_approx_iter, callbacks=[tracker])"
   ]
  },
  {
   "cell_type": "code",
   "execution_count": 41,
   "metadata": {},
   "outputs": [
    {
     "data": {
      "image/png": "[encoded data removed]",
      "text/plain": [
       "<matplotlib.figure.Figure at 0x205d5296a0>"
      ]
     },
     "metadata": {
      "needs_background": "light"
     },
     "output_type": "display_data"
    }
   ],
   "source": [
    "# plotting the training progress\n",
    "elbo_1 = -advi.hist\n",
    "\n",
    "figsize = (8,3); fontsize = 16;\n",
    "f, ax = plt.subplots(1,1,figsize=figsize);\n",
    "\n",
    "ax.plot(elbo_1,label='1')\n",
    "ax.set_ylabel('ELBO',fontsize=fontsize)\n",
    "ax.set_xlabel('iteration',fontsize=fontsize);\n",
    "sns.despine();"
   ]
  },
  {
   "cell_type": "markdown",
   "metadata": {},
   "source": [
    "### Test this network performance on test set"
   ]
  },
  {
   "cell_type": "code",
   "execution_count": 42,
   "metadata": {},
   "outputs": [],
   "source": [
    "# Draw samples from variational posterior (the weights in the network)\n",
    "n_draws = 500 # > 2k hangs for almost all network sizes on my 2018 MBP -SH\n",
    "trace = approx.sample(draws=n_draws)"
   ]
  },
  {
   "cell_type": "code",
   "execution_count": 43,
   "metadata": {},
   "outputs": [
    {
     "name": "stderr",
     "output_type": "stream",
     "text": [
      "100%|██████████| 100/100 [00:52<00:00,  1.98it/s]\n"
     ]
    }
   ],
   "source": [
    "# network at performance on the test set\n",
    "(n_test,n_input) = X_test.shape\n",
    "test_x = theano.shared(X_test)\n",
    "test_y = theano.shared(y_test)\n",
    "NN_model_test = construct_nn(test_x, test_y, n_input, n_output, n_test, n_hidden_1=128)\n",
    "n_samples = 100\n",
    "with NN_model_test:\n",
    "    ppc_test = pm.sample_ppc(trace, samples=n_samples)"
   ]
  },
  {
   "cell_type": "code",
   "execution_count": 44,
   "metadata": {},
   "outputs": [
    {
     "name": "stdout",
     "output_type": "stream",
     "text": [
      "Network Test Set Performance: 0.579100\n"
     ]
    }
   ],
   "source": [
    "# Prediction is mode of each\n",
    "test_y_pred = mode(ppc_test['out'], axis=0).mode[0,:]\n",
    "\n",
    "mean_test_perf = np.mean(test_y_pred==y_test)\n",
    "print(\"Network Test Set Performance: {:f}\".format(mean_test_perf))"
   ]
  },
  {
   "cell_type": "markdown",
   "metadata": {},
   "source": [
    "1. check uncertainty on each category\n",
    "2. see choose next batch of those categories (or proportional to that)"
   ]
  },
  {
   "cell_type": "markdown",
   "metadata": {},
   "source": [
    "### Evaluate uncertainty within each category"
   ]
  },
  {
   "cell_type": "code",
   "execution_count": 60,
   "metadata": {},
   "outputs": [
    {
     "data": {
      "image/png": "[encoded data removed]",
      "text/plain": [
       "<matplotlib.figure.Figure at 0x1c60e3c1d0>"
      ]
     },
     "metadata": {},
     "output_type": "display_data"
    },
    {
     "data": {
      "text/plain": [
       "<matplotlib.legend.Legend at 0x204d5dec18>"
      ]
     },
     "execution_count": 60,
     "metadata": {},
     "output_type": "execute_result"
    },
    {
     "data": {
      "image/png": "[encoded data removed]",
      "text/plain": [
       "<matplotlib.figure.Figure at 0x1c61873390>"
      ]
     },
     "metadata": {},
     "output_type": "display_data"
    }
   ],
   "source": [
    "one_hot, cat_hist, cat_entropy, cat_KL = get_cat_entropy(X_test, y_test, ppc_test)\n",
    "plt.figure(figsize=(5,3))\n",
    "plt.imshow(cat_hist)\n",
    "plt.show()\n",
    "plt.figure(figsize=(5,3))\n",
    "plt.plot(cat_entropy, label='entropy')\n",
    "plt.plot(cat_KL, label='KL')\n",
    "plt.legend()"
   ]
  },
  {
   "cell_type": "code",
   "execution_count": 106,
   "metadata": {},
   "outputs": [],
   "source": [
    "def get_training_subset_prop(X_train, y_train, n_samples, p_vals):\n",
    "    (n_train, n_input) = np.shape(X_train)\n",
    "    n_cat = 10\n",
    "    # make n_samples a multiple of 10 for ease of balancing the dataset\n",
    "#     n_cat_samples = np.random.multinomial(n_samples, p_vals, size=1)[0]\n",
    "    n_cat_samples = (p_vals*n_samples)\n",
    "    print(p_vals)\n",
    "    print(n_cat_samples)\n",
    "    print(np.sum(n_cat_samples))\n",
    "    # get appropraite number of samples from each category\n",
    "    cat_ind = list()\n",
    "    ind_array = np.arange(n_train)\n",
    "    for cat in range(n_cat):\n",
    "        cat_ind = np.append(cat_ind, np.random.choice(ind_array[y_train == cat], size=n_cat_samples[cat], replace=False))\n",
    "    cat_ind = cat_ind.astype(int)\n",
    "#     print(y_train[cat_ind])\n",
    "    np.random.shuffle(cat_ind)\n",
    "    X_train_subset = X_train[cat_ind.astype(int)]\n",
    "    y_train_subset = y_train[cat_ind.astype(int)]\n",
    "    X_train_subset = theano.shared(X_train_subset)\n",
    "    y_train_subset = theano.shared(X_train_subset)\n",
    "    return X_train_subset, y_train_subset"
   ]
  },
  {
   "cell_type": "code",
   "execution_count": 107,
   "metadata": {},
   "outputs": [
    {
     "name": "stdout",
     "output_type": "stream",
     "text": [
      "[ 0.10098997  0.09479443  0.10113645  0.10259419  0.10259993  0.10181689\n",
      "  0.10348427  0.09024839  0.10261927  0.09971622]\n",
      "[ 5.04949866  4.73972129  5.05682228  5.12970931  5.12999644  5.09084451\n",
      "  5.17421358  4.5124193   5.13096369  4.98581094]\n",
      "50.0\n"
     ]
    },
    {
     "ename": "TypeError",
     "evalue": "'numpy.float64' object cannot be interpreted as an integer",
     "output_type": "error",
     "traceback": [
      "\u001b[0;31m---------------------------------------------------------------------------\u001b[0m",
      "\u001b[0;31mTypeError\u001b[0m                                 Traceback (most recent call last)",
      "\u001b[0;32m<ipython-input-107-41674543b756>\u001b[0m in \u001b[0;36m<module>\u001b[0;34m()\u001b[0m\n\u001b[1;32m      3\u001b[0m \u001b[0mplt\u001b[0m\u001b[0;34m.\u001b[0m\u001b[0mplot\u001b[0m\u001b[0;34m(\u001b[0m\u001b[0mp_vals\u001b[0m\u001b[0;34m)\u001b[0m\u001b[0;34m\u001b[0m\u001b[0m\n\u001b[1;32m      4\u001b[0m \u001b[0mn_samples\u001b[0m \u001b[0;34m=\u001b[0m \u001b[0;36m50\u001b[0m\u001b[0;34m\u001b[0m\u001b[0m\n\u001b[0;32m----> 5\u001b[0;31m \u001b[0mX_train_subset\u001b[0m\u001b[0;34m,\u001b[0m \u001b[0my_train_subset\u001b[0m \u001b[0;34m=\u001b[0m \u001b[0mget_training_subset_prop\u001b[0m\u001b[0;34m(\u001b[0m\u001b[0mX_train\u001b[0m\u001b[0;34m,\u001b[0m \u001b[0my_train\u001b[0m\u001b[0;34m,\u001b[0m \u001b[0mn_samples\u001b[0m\u001b[0;34m,\u001b[0m \u001b[0mp_vals\u001b[0m\u001b[0;34m)\u001b[0m\u001b[0;34m\u001b[0m\u001b[0m\n\u001b[0m\u001b[1;32m      6\u001b[0m \u001b[0mnp\u001b[0m\u001b[0;34m.\u001b[0m\u001b[0mshape\u001b[0m\u001b[0;34m(\u001b[0m\u001b[0mX_train_subset\u001b[0m\u001b[0;34m)\u001b[0m\u001b[0;34m\u001b[0m\u001b[0m\n\u001b[1;32m      7\u001b[0m \u001b[0mplt\u001b[0m\u001b[0;34m.\u001b[0m\u001b[0mhist\u001b[0m\u001b[0;34m(\u001b[0m\u001b[0my_train_subset\u001b[0m\u001b[0;34m,\u001b[0m \u001b[0mbins\u001b[0m\u001b[0;34m=\u001b[0m\u001b[0;36m10\u001b[0m\u001b[0;34m)\u001b[0m\u001b[0;34m\u001b[0m\u001b[0m\n",
      "\u001b[0;32m<ipython-input-106-3ff8ead9479f>\u001b[0m in \u001b[0;36mget_training_subset_prop\u001b[0;34m(X_train, y_train, n_samples, p_vals)\u001b[0m\n\u001b[1;32m     12\u001b[0m     \u001b[0mind_array\u001b[0m \u001b[0;34m=\u001b[0m \u001b[0mnp\u001b[0m\u001b[0;34m.\u001b[0m\u001b[0marange\u001b[0m\u001b[0;34m(\u001b[0m\u001b[0mn_train\u001b[0m\u001b[0;34m)\u001b[0m\u001b[0;34m\u001b[0m\u001b[0m\n\u001b[1;32m     13\u001b[0m     \u001b[0;32mfor\u001b[0m \u001b[0mcat\u001b[0m \u001b[0;32min\u001b[0m \u001b[0mrange\u001b[0m\u001b[0;34m(\u001b[0m\u001b[0mn_cat\u001b[0m\u001b[0;34m)\u001b[0m\u001b[0;34m:\u001b[0m\u001b[0;34m\u001b[0m\u001b[0m\n\u001b[0;32m---> 14\u001b[0;31m         \u001b[0mcat_ind\u001b[0m \u001b[0;34m=\u001b[0m \u001b[0mnp\u001b[0m\u001b[0;34m.\u001b[0m\u001b[0mappend\u001b[0m\u001b[0;34m(\u001b[0m\u001b[0mcat_ind\u001b[0m\u001b[0;34m,\u001b[0m \u001b[0mnp\u001b[0m\u001b[0;34m.\u001b[0m\u001b[0mrandom\u001b[0m\u001b[0;34m.\u001b[0m\u001b[0mchoice\u001b[0m\u001b[0;34m(\u001b[0m\u001b[0mind_array\u001b[0m\u001b[0;34m[\u001b[0m\u001b[0my_train\u001b[0m \u001b[0;34m==\u001b[0m \u001b[0mcat\u001b[0m\u001b[0;34m]\u001b[0m\u001b[0;34m,\u001b[0m \u001b[0msize\u001b[0m\u001b[0;34m=\u001b[0m\u001b[0mn_cat_samples\u001b[0m\u001b[0;34m[\u001b[0m\u001b[0mcat\u001b[0m\u001b[0;34m]\u001b[0m\u001b[0;34m,\u001b[0m \u001b[0mreplace\u001b[0m\u001b[0;34m=\u001b[0m\u001b[0;32mFalse\u001b[0m\u001b[0;34m)\u001b[0m\u001b[0;34m)\u001b[0m\u001b[0;34m\u001b[0m\u001b[0m\n\u001b[0m\u001b[1;32m     15\u001b[0m     \u001b[0mcat_ind\u001b[0m \u001b[0;34m=\u001b[0m \u001b[0mcat_ind\u001b[0m\u001b[0;34m.\u001b[0m\u001b[0mastype\u001b[0m\u001b[0;34m(\u001b[0m\u001b[0mint\u001b[0m\u001b[0;34m)\u001b[0m\u001b[0;34m\u001b[0m\u001b[0m\n\u001b[1;32m     16\u001b[0m \u001b[0;31m#     print(y_train[cat_ind])\u001b[0m\u001b[0;34m\u001b[0m\u001b[0;34m\u001b[0m\u001b[0m\n",
      "\u001b[0;32mmtrand.pyx\u001b[0m in \u001b[0;36mmtrand.RandomState.choice\u001b[0;34m()\u001b[0m\n",
      "\u001b[0;31mTypeError\u001b[0m: 'numpy.float64' object cannot be interpreted as an integer"
     ]
    },
    {
     "data": {
      "image/png": "[encoded data removed]",
      "text/plain": [
       "<matplotlib.figure.Figure at 0x1c61643d68>"
      ]
     },
     "metadata": {},
     "output_type": "display_data"
    }
   ],
   "source": [
    "p_vals = 1-(cat_KL/np.sum(cat_KL))\n",
    "p_vals /= np.sum(p_vals)\n",
    "plt.plot(p_vals)\n",
    "n_samples = 50\n",
    "X_train_subset, y_train_subset = get_training_subset_prop(X_train, y_train, n_samples, p_vals)\n",
    "np.shape(X_train_subset)\n",
    "plt.hist(y_train_subset, bins=10)\n",
    "plt.show()"
   ]
  },
  {
   "cell_type": "code",
   "execution_count": null,
   "metadata": {},
   "outputs": [],
   "source": [
    "shared_x = theano.shared(X_train_init)\n",
    "shared_y = theano.shared(y_train_init)\n",
    "\n",
    "(n_train,n_input) = X_train.shape\n",
    "NN_model = construct_nn_1lay_2p(minibatch_x, minibatch_y, n_input, n_output, n_train, n_hidden_1=n_hidden)\n",
    "\n",
    "with NN_model:\n",
    "    advi = pm.ADVI()\n",
    "    \n",
    "n_approx_iter = 10000\n",
    "with NN_model:\n",
    "    approx = advi.fit(n=n_approx_iter, callbacks=[tracker])\n",
    "\n",
    "X_train_subset, y_train_subset = get_training_subset_prop(X_train, y_train, n_samples, p_vals)\n",
    "    \n",
    "shared_x.set_value(X_train_subset)\n",
    "shared_y.set_value(y_train_subset)\n",
    "with NN_model:\n",
    "    approx = advi.fit(n=1000)"
   ]
  },
  {
   "cell_type": "code",
   "execution_count": 97,
   "metadata": {},
   "outputs": [
    {
     "data": {
      "image/png": "[encoded data removed]",
      "text/plain": [
       "<matplotlib.figure.Figure at 0x1c61657780>"
      ]
     },
     "metadata": {},
     "output_type": "display_data"
    }
   ],
   "source": [
    "# PLot random subset of images\n",
    "n_plot_samples = 10\n",
    "rand_samps = np.random.choice(X_test.shape[0],size=n_plot_samples)\n",
    "\n",
    "figsize = (18,3); fontsize = 16;\n",
    "f, axs = plt.subplots(1, n_plot_samples, figsize=figsize);\n",
    "\n",
    "for rs,ax in zip(rand_samps,axs):\n",
    "    ax.imshow(imgvec2img(X_train[rs]),cmap='gray');\n",
    "    tl = \"{}: {},\\n{}: {}\".format(test_y_pred[rs],label_dict[test_y_pred[rs]],y_test[rs],label_dict[y_test[rs]])\n",
    "    if test_y_pred[rs] == y_test[rs]:\n",
    "        ax.set_title(tl,color='k');\n",
    "    else:\n",
    "        ax.set_title(tl,color='r');\n",
    "    ax.axis('off');\n",
    "    sns.despine();\n",
    "    \n",
    "f.suptitle(\"Example BBB Classification\",fontsize=fontsize+4);"
   ]
  },
  {
   "cell_type": "markdown",
   "metadata": {},
   "source": [
    "### FULL EXAMPLE"
   ]
  },
  {
   "cell_type": "code",
   "execution_count": 327,
   "metadata": {},
   "outputs": [],
   "source": [
    "def get_training_subset_init(X_train, y_train, n_samples):\n",
    "    # make n_samples a multiple of 10 for ease of balancing the dataset\n",
    "    n_cat = 10\n",
    "    n_cat_samples = int(n_samples/10)\n",
    "    n_train = np.shape(X_train)[0]\n",
    "    ind_array = np.arange(n_train)\n",
    "    \n",
    "    # make cat list\n",
    "    ind_remaining = list()\n",
    "    for i in range(10):\n",
    "        ind_remaining.append(ind_array[y_train == i])\n",
    "    \n",
    "    ind_used = [[]]*n_cat\n",
    "    ind_subset = list()\n",
    "    for cat in range(n_cat):\n",
    "        cat_ind = np.random.choice(cat_ind_remaining[cat], size=n_cat_samples, replace=False).astype(int)\n",
    "        ind_remaining[cat] = np.delete(ind_remaining[cat], np.argwhere(np.in1d(ind_remaining[cat], cat_ind)))\n",
    "        ind_used[cat] = np.append(ind_used[cat], cat_ind)\n",
    "        ind_subset = np.append(ind_subset, cat_ind)\n",
    "    ind_subset = ind_subset.astype(int)\n",
    "    np.random.shuffle(ind_subset)\n",
    "    X_train_subset = X_train[ind_subset]\n",
    "    y_train_subset = y_train[ind_subset]\n",
    "    samples_left = np.arange(n_cat)\n",
    "    return X_train_subset, y_train_subset, ind_used, ind_remaining, samples_left\n",
    "\n",
    "\n",
    "def get_cat_subset(X_train, y_train, ind_used, ind_remaining, samples_left, n_samples, cat):\n",
    "    # get appropraite number of samples from given category\n",
    "#     if cat not in samples_left:\n",
    "#         cat = np.random.choice(samples_left)\n",
    "    cat_ind = np.random.choice(cat_ind_remaining[cat], size=n_samples, replace=False).astype(int)\n",
    "    ind_used[cat] = np.append(ind_used[cat], cat_ind)\n",
    "    cat_ind_remaining[cat] = np.delete(cat_ind_remaining[cat], np.argwhere(np.in1d(cat_ind_remaining[cat], cat_ind)))\n",
    "    X_train_subset = X_train[cat_ind]\n",
    "    y_train_subset = y_train[cat_ind]\n",
    "    if len(cat_ind_remaining[cat]) == 0:\n",
    "        samples_left = p.delete(np.argwhere(samples_left == cat))\n",
    "    return X_train_subset, y_train_subset, ind_used, ind_remaining, samples_left\n",
    "\n",
    "def get_used_subset(X_train, y_train, ind_used, n_samples):\n",
    "    n_cat = 10\n",
    "    n_cat_samples = int(n_samples/n_cat)\n",
    "    cat_ind_list = list()\n",
    "    for cat in range(n_cat):\n",
    "#         all_cat_ind_used = np.squeeze(np.argwhere(np.in1d(np.argwhere(y_train == cat), ind_used)))\n",
    "        cat_ind = np.random.choice(ind_used[cat], size=n_cat_samples, replace=False)\n",
    "        cat_ind_list = np.append(cat_ind_list, cat_ind)\n",
    "    cat_ind_list = cat_ind_list.astype(int)\n",
    "    X_used_subset = X_train[cat_ind_list]\n",
    "    y_used_subset = y_train[cat_ind_list]\n",
    "    return X_used_subset, y_used_subset"
   ]
  },
  {
   "cell_type": "code",
   "execution_count": 328,
   "metadata": {},
   "outputs": [],
   "source": [
    "def get_max_uncertainty(X_train, y_train, ind_used, n_samples):\n",
    "    X_used_subset, y_used_subset = get_used_subset(X_train, y_train, ind_used, n_samples)\n",
    "    (n_test,n_input) = X_test.shape\n",
    "    X_used_shared = theano.shared(X_used_subset)\n",
    "    y_used_shared = theano.shared(y_used_subset)\n",
    "    n_input = 28*28\n",
    "    n_output = 10\n",
    "    NN_model_test = construct_nn_active_learning(X_used_shared, y_used_shared, n_input, n_output, n_hidden=128)\n",
    "    n_samples = 100\n",
    "    with NN_model_test:\n",
    "        ppc_test = pm.sample_ppc(trace, samples=n_samples)\n",
    "    one_hot, cat_hist, cat_entropy, cat_KL = get_cat_entropy(X_used_subset, y_used_subset, ppc_test)\n",
    "    return np.argmin(cat_KL)"
   ]
  },
  {
   "cell_type": "code",
   "execution_count": 256,
   "metadata": {},
   "outputs": [],
   "source": [
    "# Draw samples from variational posterior (the weights in the network)\n",
    "n_draws = 500 # > 2k hangs for almost all network sizes on my 2018 MBP -SH\n",
    "trace = approx.sample(draws=n_draws)"
   ]
  },
  {
   "cell_type": "code",
   "execution_count": 257,
   "metadata": {},
   "outputs": [
    {
     "name": "stderr",
     "output_type": "stream",
     "text": [
      "100%|██████████| 100/100 [00:55<00:00,  1.66it/s]\n"
     ]
    }
   ],
   "source": [
    "# network at performance on the test set\n",
    "\n",
    "(n_test,n_input) = X_test.shape\n",
    "test_x = theano.shared(X_test)\n",
    "test_y = theano.shared(y_test)\n",
    "NN_model_test = construct_nn(test_x, test_y, n_input, n_output, n_test, n_hidden_1=128)\n",
    "n_samples = 100\n",
    "with NN_model_test:\n",
    "    ppc_test = pm.sample_ppc(trace, samples=n_samples)"
   ]
  },
  {
   "cell_type": "code",
   "execution_count": 252,
   "metadata": {},
   "outputs": [],
   "source": [
    "# %load bbb_nn.py\n",
    "def construct_nn_active_learning(ann_input, ann_output, n_input, n_output, n_hidden=128):\n",
    "    \n",
    "    # Initialize random weights between each layer\n",
    "    init_w_1 = np.random.randn(n_input, n_hidden).astype(theano.config.floatX)\n",
    "    init_out = np.random.randn(n_hidden,n_output).astype(theano.config.floatX)\n",
    "    \n",
    "    with pm.Model() as neural_network:\n",
    "        # Weights from input to hidden layer\n",
    "        w_0_1 = pm.Normal('w_0_1', 0, sd=1, shape=(n_input, n_hidden), testval=init_w_1)\n",
    "     \n",
    "        # Weights from hidden layer to output\n",
    "        w_1_out = pm.Normal('w_2_out', 0, sd=1,shape=(n_hidden,n_output),testval=init_out)\n",
    "\n",
    "        # Build neural-network using tanh activation function\n",
    "        act_1 = pm.Deterministic('act_1',var=pm.math.tanh(pm.math.dot(ann_input,w_0_1)))#+b_1))\n",
    "        \n",
    "        # Softmax is required at last layer\n",
    "        act_out = pm.Deterministic('act_out',var=tt.nnet.softmax(pm.math.dot(act_1,w_1_out)))\n",
    "    \n",
    "        # Classification\n",
    "        out = pm.Categorical('out',act_out,observed=ann_output)\n",
    "        \n",
    "    return neural_network"
   ]
  },
  {
   "cell_type": "markdown",
   "metadata": {},
   "source": [
    "Variables: \n",
    "- ind_used: nested list of used training samples\n",
    "- ind_subset: list of training samples for this iteration\n",
    "- ind_remaining: nested list of remaining training samples\n",
    "- samples_left: list of categories with remaining training data"
   ]
  },
  {
   "cell_type": "markdown",
   "metadata": {},
   "source": [
    "### CONTROL"
   ]
  },
  {
   "cell_type": "code",
   "execution_count": 340,
   "metadata": {},
   "outputs": [
    {
     "name": "stdout",
     "output_type": "stream",
     "text": [
      "5\n"
     ]
    },
    {
     "name": "stderr",
     "output_type": "stream",
     "text": [
      "Average Loss = 62,348: 100%|██████████| 50/50 [00:00<00:00, 54.90it/s]\n",
      "Finished [100%]: Average Loss = 62,238\n",
      "100%|██████████| 100/100 [00:01<00:00, 72.24it/s]\n",
      "Average Loss = 60,150: 100%|██████████| 10/10 [00:00<00:00, 67.35it/s]\n",
      "Finished [100%]: Average Loss = 60,286\n",
      "100%|██████████| 100/100 [00:01<00:00, 77.25it/s]\n",
      "Average Loss = 59,970: 100%|██████████| 10/10 [00:00<00:00, 68.04it/s]\n",
      "Finished [100%]: Average Loss = 60,082\n",
      "100%|██████████| 100/100 [00:01<00:00, 76.04it/s]\n",
      "Average Loss = 60,240: 100%|██████████| 10/10 [00:00<00:00, 66.02it/s]\n",
      "Finished [100%]: Average Loss = 59,666\n",
      "100%|██████████| 100/100 [00:01<00:00, 81.30it/s]\n",
      "Average Loss = 59,347: 100%|██████████| 10/10 [00:00<00:00, 67.53it/s]\n",
      "Finished [100%]: Average Loss = 59,074\n",
      "100%|██████████| 100/100 [00:01<00:00, 82.96it/s]\n",
      "Average Loss = 59,304: 100%|██████████| 10/10 [00:00<00:00, 65.22it/s]\n",
      "Finished [100%]: Average Loss = 58,881\n",
      "100%|██████████| 100/100 [00:01<00:00, 51.96it/s]\n",
      "Average Loss = 58,922: 100%|██████████| 10/10 [00:00<00:00, 41.91it/s]\n",
      "Finished [100%]: Average Loss = 58,352\n",
      "100%|██████████| 100/100 [00:02<00:00, 48.94it/s]\n",
      "Average Loss = 57,592: 100%|██████████| 10/10 [00:00<00:00, 63.31it/s]\n",
      "Finished [100%]: Average Loss = 57,866\n",
      "100%|██████████| 100/100 [00:01<00:00, 73.95it/s]\n",
      "Average Loss = 58,044: 100%|██████████| 10/10 [00:00<00:00, 72.35it/s]\n",
      "Finished [100%]: Average Loss = 57,707\n",
      "100%|██████████| 100/100 [00:02<00:00, 48.02it/s]\n",
      "Average Loss = 57,543: 100%|██████████| 10/10 [00:00<00:00, 73.74it/s]\n",
      "Finished [100%]: Average Loss = 57,131\n",
      "100%|██████████| 100/100 [00:01<00:00, 87.01it/s]\n",
      "Average Loss = 57,359: 100%|██████████| 10/10 [00:00<00:00, 60.27it/s]\n",
      "Finished [100%]: Average Loss = 56,808\n",
      "100%|██████████| 100/100 [00:01<00:00, 80.25it/s]\n",
      "Average Loss = 56,174: 100%|██████████| 10/10 [00:00<00:00, 76.09it/s]\n",
      "Finished [100%]: Average Loss = 56,333\n",
      "100%|██████████| 100/100 [00:01<00:00, 82.38it/s]\n",
      "Average Loss = 55,581: 100%|██████████| 10/10 [00:00<00:00, 73.81it/s]\n",
      "Finished [100%]: Average Loss = 55,880\n",
      "100%|██████████| 100/100 [00:01<00:00, 82.73it/s]\n",
      "Average Loss = 55,819: 100%|██████████| 10/10 [00:00<00:00, 77.65it/s]\n",
      "Finished [100%]: Average Loss = 55,553\n",
      "100%|██████████| 100/100 [00:01<00:00, 87.02it/s]\n",
      "Average Loss = 55,171: 100%|██████████| 10/10 [00:00<00:00, 77.30it/s]\n",
      "Finished [100%]: Average Loss = 55,178\n",
      "100%|██████████| 100/100 [00:01<00:00, 87.72it/s]\n",
      "Average Loss = 55,024: 100%|██████████| 10/10 [00:00<00:00, 76.52it/s]\n",
      "Finished [100%]: Average Loss = 54,830\n",
      "100%|██████████| 100/100 [00:01<00:00, 77.32it/s]\n",
      "Average Loss = 54,664: 100%|██████████| 10/10 [00:00<00:00, 76.26it/s]\n",
      "Finished [100%]: Average Loss = 54,457\n",
      "100%|██████████| 100/100 [00:01<00:00, 49.89it/s]\n",
      "Average Loss = 54,595: 100%|██████████| 10/10 [00:00<00:00, 64.52it/s]\n",
      "Finished [100%]: Average Loss = 54,200\n",
      "100%|██████████| 100/100 [00:01<00:00, 72.39it/s]\n",
      "Average Loss = 53,797: 100%|██████████| 10/10 [00:00<00:00, 46.55it/s]\n",
      "Finished [100%]: Average Loss = 53,674\n",
      "100%|██████████| 100/100 [00:01<00:00, 63.24it/s]\n",
      "Average Loss = 53,361: 100%|██████████| 10/10 [00:00<00:00, 53.52it/s]\n",
      "Finished [100%]: Average Loss = 53,398\n",
      "100%|██████████| 100/100 [00:01<00:00, 74.78it/s]\n",
      "Average Loss = 53,435: 100%|██████████| 10/10 [00:00<00:00, 73.70it/s]\n",
      "Finished [100%]: Average Loss = 52,969\n",
      "100%|██████████| 100/100 [00:01<00:00, 80.27it/s]\n",
      "Average Loss = 52,490: 100%|██████████| 10/10 [00:00<00:00, 76.75it/s]\n",
      "Finished [100%]: Average Loss = 52,532\n",
      "100%|██████████| 100/100 [00:01<00:00, 90.75it/s]\n",
      "Average Loss = 52,193: 100%|██████████| 10/10 [00:00<00:00, 77.29it/s]\n",
      "Finished [100%]: Average Loss = 52,190\n",
      "100%|██████████| 100/100 [00:01<00:00, 76.18it/s]\n",
      "Average Loss = 51,957: 100%|██████████| 10/10 [00:00<00:00, 76.92it/s]\n",
      "Finished [100%]: Average Loss = 51,906\n",
      "100%|██████████| 100/100 [00:01<00:00, 84.01it/s]\n",
      "Average Loss = 51,837: 100%|██████████| 10/10 [00:00<00:00, 60.02it/s]\n",
      "Finished [100%]: Average Loss = 51,495\n",
      "100%|██████████| 100/100 [00:01<00:00, 78.38it/s]\n",
      "Average Loss = 51,209: 100%|██████████| 10/10 [00:00<00:00, 72.40it/s]\n",
      "Finished [100%]: Average Loss = 51,187\n",
      "100%|██████████| 100/100 [00:01<00:00, 80.92it/s]\n",
      "Average Loss = 50,756: 100%|██████████| 10/10 [00:00<00:00, 66.94it/s]\n",
      "Finished [100%]: Average Loss = 50,702\n",
      "100%|██████████| 100/100 [00:01<00:00, 74.67it/s]\n",
      "Average Loss = 50,689: 100%|██████████| 10/10 [00:00<00:00, 76.54it/s]\n",
      "Finished [100%]: Average Loss = 50,546\n",
      "100%|██████████| 100/100 [00:01<00:00, 91.91it/s]\n",
      "Average Loss = 50,389: 100%|██████████| 10/10 [00:00<00:00, 70.36it/s]\n",
      "Finished [100%]: Average Loss = 50,107\n",
      "100%|██████████| 100/100 [00:01<00:00, 83.44it/s]\n",
      "Average Loss = 49,702: 100%|██████████| 10/10 [00:00<00:00, 75.89it/s]\n",
      "Finished [100%]: Average Loss = 49,696\n",
      "100%|██████████| 100/100 [00:01<00:00, 83.41it/s]\n",
      "Average Loss = 49,718: 100%|██████████| 10/10 [00:00<00:00, 71.13it/s]\n",
      "Finished [100%]: Average Loss = 49,410\n",
      "100%|██████████| 100/100 [00:01<00:00, 80.67it/s]\n",
      "Average Loss = 48,944: 100%|██████████| 10/10 [00:00<00:00, 70.10it/s]\n",
      "Finished [100%]: Average Loss = 48,907\n",
      "100%|██████████| 100/100 [00:01<00:00, 81.65it/s]\n",
      "Average Loss = 49,190: 100%|██████████| 10/10 [00:00<00:00, 73.08it/s]\n",
      "Finished [100%]: Average Loss = 48,730\n",
      "100%|██████████| 100/100 [00:01<00:00, 80.67it/s]\n",
      "Average Loss = 48,325: 100%|██████████| 10/10 [00:00<00:00, 75.02it/s]\n",
      "Finished [100%]: Average Loss = 48,428\n",
      "100%|██████████| 100/100 [00:01<00:00, 83.67it/s]\n",
      "Average Loss = 48,262: 100%|██████████| 10/10 [00:00<00:00, 69.97it/s]\n",
      "Finished [100%]: Average Loss = 47,966\n",
      "100%|██████████| 100/100 [00:01<00:00, 80.59it/s]\n",
      "Average Loss = 47,765: 100%|██████████| 10/10 [00:00<00:00, 73.48it/s]\n",
      "Finished [100%]: Average Loss = 47,575\n",
      "100%|██████████| 100/100 [00:01<00:00, 83.81it/s]\n",
      "Average Loss = 47,866: 100%|██████████| 10/10 [00:00<00:00, 68.96it/s]\n",
      "Finished [100%]: Average Loss = 47,267\n",
      "100%|██████████| 100/100 [00:01<00:00, 85.90it/s]\n",
      "Average Loss = 47,273: 100%|██████████| 10/10 [00:00<00:00, 65.95it/s]\n",
      "Finished [100%]: Average Loss = 47,017\n",
      "100%|██████████| 100/100 [00:01<00:00, 80.06it/s]\n",
      "Average Loss = 46,948: 100%|██████████| 10/10 [00:00<00:00, 71.95it/s]\n",
      "Finished [100%]: Average Loss = 46,657\n",
      "100%|██████████| 100/100 [00:01<00:00, 87.01it/s]\n",
      "Average Loss = 46,460: 100%|██████████| 10/10 [00:00<00:00, 71.23it/s]\n",
      "Finished [100%]: Average Loss = 46,350\n",
      "100%|██████████| 100/100 [00:01<00:00, 85.90it/s]\n",
      "Average Loss = 46,021: 100%|██████████| 10/10 [00:00<00:00, 73.50it/s]\n",
      "Finished [100%]: Average Loss = 45,943\n",
      "100%|██████████| 100/100 [00:01<00:00, 75.93it/s]\n",
      "Average Loss = 45,651: 100%|██████████| 10/10 [00:00<00:00, 70.09it/s]\n",
      "Finished [100%]: Average Loss = 45,664\n",
      "100%|██████████| 100/100 [00:03<00:00, 31.78it/s]\n",
      "Average Loss = 45,373: 100%|██████████| 10/10 [00:00<00:00, 72.06it/s]\n",
      "Finished [100%]: Average Loss = 45,390\n",
      "100%|██████████| 100/100 [00:01<00:00, 78.12it/s]\n",
      "Average Loss = 45,215: 100%|██████████| 10/10 [00:00<00:00, 72.88it/s]\n",
      "Finished [100%]: Average Loss = 45,066\n",
      "100%|██████████| 100/100 [00:01<00:00, 82.63it/s]\n",
      "Average Loss = 44,800: 100%|██████████| 10/10 [00:00<00:00, 71.10it/s]\n",
      "Finished [100%]: Average Loss = 44,682\n",
      "100%|██████████| 100/100 [00:01<00:00, 62.43it/s]\n",
      "Average Loss = 45,006: 100%|██████████| 10/10 [00:00<00:00, 46.47it/s]\n",
      "Finished [100%]: Average Loss = 44,319\n",
      "100%|██████████| 100/100 [00:01<00:00, 58.46it/s]\n",
      "Average Loss = 44,070: 100%|██████████| 10/10 [00:00<00:00, 45.06it/s]\n",
      "Finished [100%]: Average Loss = 43,978\n",
      "100%|██████████| 100/100 [00:01<00:00, 83.38it/s]\n",
      "Average Loss = 43,537: 100%|██████████| 10/10 [00:00<00:00, 67.74it/s]\n",
      "Finished [100%]: Average Loss = 43,749\n",
      "100%|██████████| 100/100 [00:01<00:00, 79.70it/s]\n",
      "Average Loss = 43,386: 100%|██████████| 10/10 [00:00<00:00, 75.78it/s]\n",
      "Finished [100%]: Average Loss = 43,385\n",
      "100%|██████████| 100/100 [00:01<00:00, 70.46it/s]\n",
      "Average Loss = 43,511: 100%|██████████| 10/10 [00:00<00:00, 74.30it/s]\n",
      "Finished [100%]: Average Loss = 43,065\n"
     ]
    }
   ],
   "source": [
    "# initialize model\n",
    "n_samples = 50\n",
    "X_train_init, y_train_init, ind_used, ind_remaining, samples_left = get_training_subset_init(X_train, y_train, n_samples)\n",
    "print(np.sum(y_train_init == 0))\n",
    "shared_x = theano.shared(X_train_init)\n",
    "shared_y = theano.shared(y_train_init)\n",
    "\n",
    "# make neural network (only diff is not using minibatches)\n",
    "(n_train,n_input) = X_train_init.shape\n",
    "n_output = 10\n",
    "NN_model_control = construct_nn_active_learning(shared_x, shared_y, n_input, n_output, n_hidden=128)\n",
    "\n",
    "# train network on initial subset of data\n",
    "n_approx_iter = 50\n",
    "with NN_model_control:\n",
    "    advi_control = pm.ADVI()\n",
    "    approx_control = advi_control.fit(n=n_approx_iter, callbacks=[tracker])\n",
    "\n",
    "# train on remaining data according to uncertainty in model\n",
    "n_iterations = 10\n",
    "n_next_data_points = 5\n",
    "n_used_data_points = 30\n",
    "samples_remaining = True\n",
    "i = 1\n",
    "while i < 50: #samples_remaining:\n",
    "    cat = get_max_uncertainty(X_train, y_train, ind_used, n_used_data_points)\n",
    "#     cat = np.random.choice(n_output)\n",
    "    X_train_subset, y_train_subset, ind_used, ind_remaining, samples_left = \\\n",
    "        get_cat_subset(X_train, y_train, ind_used, ind_remaining, samples_left, n_next_data_points, cat)\n",
    "    shared_x.set_value(X_train_subset)\n",
    "    shared_y.set_value(y_train_subset)\n",
    "    with NN_model_control:\n",
    "        approx_control = advi_control.fit(n=n_iterations)\n",
    "    if len(samples_left) == 0:\n",
    "        samples_remaining = False\n",
    "    i += 1"
   ]
  },
  {
   "cell_type": "markdown",
   "metadata": {},
   "source": [
    "### ACTIVE"
   ]
  },
  {
   "cell_type": "code",
   "execution_count": 333,
   "metadata": {},
   "outputs": [
    {
     "name": "stdout",
     "output_type": "stream",
     "text": [
      "5\n"
     ]
    },
    {
     "name": "stderr",
     "output_type": "stream",
     "text": [
      "Average Loss = 62,413: 100%|██████████| 50/50 [00:00<00:00, 54.39it/s]\n",
      "Finished [100%]: Average Loss = 62,286\n",
      "100%|██████████| 100/100 [00:01<00:00, 92.91it/s]\n",
      "Average Loss = 60,606: 100%|██████████| 10/10 [00:00<00:00, 44.46it/s]\n",
      "Finished [100%]: Average Loss = 60,550\n",
      "100%|██████████| 100/100 [00:01<00:00, 97.04it/s]\n",
      "Average Loss = 60,454: 100%|██████████| 10/10 [00:00<00:00, 66.86it/s]\n",
      "Finished [100%]: Average Loss = 60,234\n",
      "100%|██████████| 100/100 [00:01<00:00, 96.38it/s]\n",
      "Average Loss = 60,135: 100%|██████████| 10/10 [00:00<00:00, 42.32it/s]\n",
      "Finished [100%]: Average Loss = 59,850\n",
      "100%|██████████| 100/100 [00:01<00:00, 68.82it/s]\n",
      "Average Loss = 59,345: 100%|██████████| 10/10 [00:00<00:00, 63.57it/s]\n",
      "Finished [100%]: Average Loss = 59,373\n",
      "100%|██████████| 100/100 [00:01<00:00, 84.91it/s]\n",
      "Average Loss = 59,357: 100%|██████████| 10/10 [00:00<00:00, 67.35it/s]\n",
      "Finished [100%]: Average Loss = 58,946\n",
      "100%|██████████| 100/100 [00:02<00:00, 45.17it/s]\n",
      "Average Loss = 58,870: 100%|██████████| 10/10 [00:00<00:00, 67.76it/s]\n",
      "Finished [100%]: Average Loss = 58,854\n",
      "100%|██████████| 100/100 [00:01<00:00, 76.36it/s]\n",
      "Average Loss = 58,534: 100%|██████████| 10/10 [00:00<00:00, 69.73it/s]\n",
      "Finished [100%]: Average Loss = 58,094\n",
      "100%|██████████| 100/100 [00:01<00:00, 87.99it/s]\n",
      "Average Loss = 58,091: 100%|██████████| 10/10 [00:00<00:00, 72.07it/s]\n",
      "Finished [100%]: Average Loss = 57,835\n",
      "100%|██████████| 100/100 [00:01<00:00, 83.36it/s]\n",
      "Average Loss = 58,047: 100%|██████████| 10/10 [00:00<00:00, 75.52it/s]\n",
      "Finished [100%]: Average Loss = 57,469\n",
      "100%|██████████| 100/100 [00:01<00:00, 93.77it/s]\n",
      "Average Loss = 56,847: 100%|██████████| 10/10 [00:00<00:00, 71.27it/s]\n",
      "Finished [100%]: Average Loss = 57,025\n",
      "100%|██████████| 100/100 [00:01<00:00, 93.45it/s]\n",
      "Average Loss = 57,258: 100%|██████████| 10/10 [00:00<00:00, 73.33it/s]\n",
      "Finished [100%]: Average Loss = 56,638\n",
      "100%|██████████| 100/100 [00:01<00:00, 88.37it/s]\n",
      "Average Loss = 56,146: 100%|██████████| 10/10 [00:00<00:00, 72.02it/s]\n",
      "Finished [100%]: Average Loss = 56,195\n",
      "100%|██████████| 100/100 [00:01<00:00, 92.97it/s]\n",
      "Average Loss = 56,298: 100%|██████████| 10/10 [00:00<00:00, 71.54it/s]\n",
      "Finished [100%]: Average Loss = 55,769\n",
      "100%|██████████| 100/100 [00:01<00:00, 97.01it/s]\n",
      "Average Loss = 55,866: 100%|██████████| 10/10 [00:00<00:00, 65.42it/s]\n",
      "Finished [100%]: Average Loss = 55,491\n",
      "100%|██████████| 100/100 [00:01<00:00, 92.94it/s]\n",
      "Average Loss = 55,446: 100%|██████████| 10/10 [00:00<00:00, 74.42it/s]\n",
      "Finished [100%]: Average Loss = 55,159\n",
      "100%|██████████| 100/100 [00:01<00:00, 90.46it/s]\n",
      "Average Loss = 55,021: 100%|██████████| 10/10 [00:00<00:00, 67.83it/s]\n",
      "Finished [100%]: Average Loss = 54,566\n",
      "100%|██████████| 100/100 [00:01<00:00, 92.59it/s]\n",
      "Average Loss = 54,295: 100%|██████████| 10/10 [00:00<00:00, 67.85it/s]\n",
      "Finished [100%]: Average Loss = 54,316\n",
      "100%|██████████| 100/100 [00:01<00:00, 92.06it/s]\n",
      "Average Loss = 54,059: 100%|██████████| 10/10 [00:00<00:00, 53.30it/s]\n",
      "Finished [100%]: Average Loss = 53,972\n",
      "100%|██████████| 100/100 [00:01<00:00, 68.16it/s]\n",
      "Average Loss = 54,094: 100%|██████████| 10/10 [00:00<00:00, 73.56it/s]\n",
      "Finished [100%]: Average Loss = 53,343\n",
      "100%|██████████| 100/100 [00:01<00:00, 94.00it/s]\n",
      "Average Loss = 53,020: 100%|██████████| 10/10 [00:00<00:00, 72.58it/s]\n",
      "Finished [100%]: Average Loss = 53,140\n",
      "100%|██████████| 100/100 [00:01<00:00, 89.38it/s]\n",
      "Average Loss = 52,810: 100%|██████████| 10/10 [00:00<00:00, 52.36it/s]\n",
      "Finished [100%]: Average Loss = 52,774\n",
      "100%|██████████| 100/100 [00:01<00:00, 99.06it/s]\n",
      "Average Loss = 52,551: 100%|██████████| 10/10 [00:00<00:00, 76.81it/s]\n",
      "Finished [100%]: Average Loss = 52,414\n",
      "100%|██████████| 100/100 [00:01<00:00, 96.67it/s]\n",
      "Average Loss = 52,340: 100%|██████████| 10/10 [00:00<00:00, 73.43it/s]\n",
      "Finished [100%]: Average Loss = 52,094\n",
      "100%|██████████| 100/100 [00:01<00:00, 96.84it/s]\n",
      "Average Loss = 51,994: 100%|██████████| 10/10 [00:00<00:00, 56.46it/s]\n",
      "Finished [100%]: Average Loss = 51,706\n",
      "100%|██████████| 100/100 [00:01<00:00, 70.91it/s]\n",
      "Average Loss = 51,437: 100%|██████████| 10/10 [00:00<00:00, 73.65it/s]\n",
      "Finished [100%]: Average Loss = 51,387\n",
      "100%|██████████| 100/100 [00:00<00:00, 100.13it/s]\n",
      "Average Loss = 51,029: 100%|██████████| 10/10 [00:00<00:00, 74.53it/s]\n",
      "Finished [100%]: Average Loss = 51,010\n",
      "100%|██████████| 100/100 [00:01<00:00, 73.09it/s]\n",
      "Average Loss = 50,038: 100%|██████████| 10/10 [00:00<00:00, 72.10it/s]\n",
      "Finished [100%]: Average Loss = 50,544\n",
      "100%|██████████| 100/100 [00:01<00:00, 81.70it/s]\n",
      "Average Loss = 50,394: 100%|██████████| 10/10 [00:00<00:00, 73.74it/s]\n",
      "Finished [100%]: Average Loss = 50,158\n",
      "100%|██████████| 100/100 [00:01<00:00, 87.15it/s]\n",
      "Average Loss = 49,985: 100%|██████████| 10/10 [00:00<00:00, 72.23it/s]\n",
      "Finished [100%]: Average Loss = 49,903\n",
      "100%|██████████| 100/100 [00:01<00:00, 84.04it/s]\n",
      "Average Loss = 49,955: 100%|██████████| 10/10 [00:00<00:00, 69.63it/s]\n",
      "Finished [100%]: Average Loss = 49,565\n",
      "100%|██████████| 100/100 [00:01<00:00, 96.96it/s]\n",
      "Average Loss = 49,424: 100%|██████████| 10/10 [00:00<00:00, 69.74it/s]\n",
      "Finished [100%]: Average Loss = 49,213\n",
      "100%|██████████| 100/100 [00:02<00:00, 57.35it/s]\n",
      "Average Loss = 49,316: 100%|██████████| 10/10 [00:00<00:00, 71.52it/s]\n",
      "Finished [100%]: Average Loss = 48,951\n",
      "100%|██████████| 100/100 [00:01<00:00, 97.00it/s]\n",
      "Average Loss = 48,715: 100%|██████████| 10/10 [00:00<00:00, 71.37it/s]\n",
      "Finished [100%]: Average Loss = 48,448\n",
      "100%|██████████| 100/100 [00:01<00:00, 95.13it/s]\n",
      "Average Loss = 48,331: 100%|██████████| 10/10 [00:00<00:00, 74.78it/s]\n",
      "Finished [100%]: Average Loss = 48,232\n",
      "100%|██████████| 100/100 [00:01<00:00, 95.72it/s]\n",
      "Average Loss = 48,250: 100%|██████████| 10/10 [00:00<00:00, 70.93it/s]\n",
      "Finished [100%]: Average Loss = 47,762\n",
      "100%|██████████| 100/100 [00:01<00:00, 87.33it/s]\n",
      "Average Loss = 47,428: 100%|██████████| 10/10 [00:00<00:00, 72.46it/s]\n",
      "Finished [100%]: Average Loss = 47,315\n",
      "100%|██████████| 100/100 [00:01<00:00, 85.18it/s]\n",
      "Average Loss = 47,126: 100%|██████████| 10/10 [00:00<00:00, 69.44it/s]\n",
      "Finished [100%]: Average Loss = 47,078\n",
      "100%|██████████| 100/100 [00:02<00:00, 36.52it/s]\n",
      "Average Loss = 47,129: 100%|██████████| 10/10 [00:00<00:00, 67.65it/s]\n",
      "Finished [100%]: Average Loss = 46,776\n",
      "100%|██████████| 100/100 [00:01<00:00, 88.78it/s]\n",
      "Average Loss = 46,670: 100%|██████████| 10/10 [00:00<00:00, 72.00it/s]\n",
      "Finished [100%]: Average Loss = 46,361\n",
      "100%|██████████| 100/100 [00:01<00:00, 84.16it/s]\n",
      "Average Loss = 46,747: 100%|██████████| 10/10 [00:00<00:00, 71.88it/s]\n",
      "Finished [100%]: Average Loss = 46,151\n",
      "100%|██████████| 100/100 [00:01<00:00, 96.06it/s]\n",
      "Average Loss = 45,602: 100%|██████████| 10/10 [00:00<00:00, 72.12it/s]\n",
      "Finished [100%]: Average Loss = 45,707\n",
      "100%|██████████| 100/100 [00:01<00:00, 67.48it/s]\n",
      "Average Loss = 45,864: 100%|██████████| 10/10 [00:00<00:00, 65.94it/s]\n",
      "Finished [100%]: Average Loss = 45,386\n",
      "100%|██████████| 100/100 [00:01<00:00, 93.13it/s]\n",
      "Average Loss = 45,602: 100%|██████████| 10/10 [00:00<00:00, 60.84it/s]\n",
      "Finished [100%]: Average Loss = 45,106\n",
      "100%|██████████| 100/100 [00:01<00:00, 78.88it/s]\n",
      "Average Loss = 45,014: 100%|██████████| 10/10 [00:00<00:00, 58.83it/s]\n",
      "Finished [100%]: Average Loss = 44,914\n",
      "100%|██████████| 100/100 [00:01<00:00, 88.24it/s]\n",
      "Average Loss = 44,496: 100%|██████████| 10/10 [00:00<00:00, 67.72it/s]\n",
      "Finished [100%]: Average Loss = 44,437\n",
      "100%|██████████| 100/100 [00:01<00:00, 87.20it/s]\n",
      "Average Loss = 44,150: 100%|██████████| 10/10 [00:00<00:00, 67.62it/s]\n",
      "Finished [100%]: Average Loss = 44,151\n",
      "100%|██████████| 100/100 [00:01<00:00, 79.75it/s]\n",
      "Average Loss = 43,878: 100%|██████████| 10/10 [00:00<00:00, 69.85it/s]\n",
      "Finished [100%]: Average Loss = 43,865\n",
      "100%|██████████| 100/100 [00:01<00:00, 88.54it/s]\n",
      "Average Loss = 43,663: 100%|██████████| 10/10 [00:00<00:00, 66.39it/s]\n",
      "Finished [100%]: Average Loss = 43,435\n",
      "100%|██████████| 100/100 [00:01<00:00, 82.64it/s]\n",
      "Average Loss = 43,061: 100%|██████████| 10/10 [00:00<00:00, 71.34it/s]\n",
      "Finished [100%]: Average Loss = 43,291\n"
     ]
    }
   ],
   "source": [
    "# initialize model\n",
    "n_samples = 50\n",
    "X_train_init, y_train_init, ind_used, ind_remaining, samples_left = get_training_subset_init(X_train, y_train, n_samples)\n",
    "print(np.sum(y_train_init == 0))\n",
    "shared_x = theano.shared(X_train_init)\n",
    "shared_y = theano.shared(y_train_init)\n",
    "\n",
    "# make neural network (only diff is not using minibatches)\n",
    "(n_train,n_input) = X_train_init.shape\n",
    "n_output = 10\n",
    "NN_model_active = construct_nn_active_learning(shared_x, shared_y, n_input, n_output, n_hidden=128)\n",
    "\n",
    "# train network on initial subset of data\n",
    "n_approx_iter = 50\n",
    "with NN_model_active:\n",
    "    advi_active = pm.ADVI()\n",
    "    approx_active = advi_active.fit(n=n_approx_iter, callbacks=[tracker])\n",
    "\n",
    "# train on remaining data according to uncertainty in model\n",
    "n_iterations = 10\n",
    "n_next_data_points = 5\n",
    "n_used_data_points = 10\n",
    "samples_remaining = True\n",
    "i = 1\n",
    "while i < 50: #samples_remaining:\n",
    "    cat = get_max_uncertainty(X_train, y_train, ind_used, n_used_data_points)\n",
    "#     cat = np.random.choice(n_output)\n",
    "    X_train_subset, y_train_subset, ind_used, ind_remaining, samples_left = \\\n",
    "        get_cat_subset(X_train, y_train, ind_used, ind_remaining, samples_left, n_next_data_points, cat)\n",
    "    shared_x.set_value(X_train_subset)\n",
    "    shared_y.set_value(y_train_subset)\n",
    "    with NN_model_active:\n",
    "        approx_active = advi_active.fit(n=n_iterations)\n",
    "    if len(samples_left) == 0:\n",
    "        samples_remaining = False\n",
    "    i += 1"
   ]
  },
  {
   "cell_type": "code",
   "execution_count": 334,
   "metadata": {},
   "outputs": [
    {
     "data": {
      "image/png": "[encoded data removed]",
      "text/plain": [
       "<matplotlib.figure.Figure at 0x2564679748>"
      ]
     },
     "metadata": {},
     "output_type": "display_data"
    }
   ],
   "source": [
    "elbo_1 = -advi_control.hist\n",
    "elbo_2 = -advi_active.hist\n",
    "\n",
    "figsize = (8,3); fontsize = 16;\n",
    "f, ax = plt.subplots(1,1,figsize=figsize);\n",
    "\n",
    "ax.plot(elbo_1,label='control')\n",
    "ax.plot(elbo_2,label='active')\n",
    "ax.set_ylabel('ELBO',fontsize=fontsize)\n",
    "ax.set_xlabel('iteration',fontsize=fontsize);\n",
    "sns.despine();"
   ]
  },
  {
   "cell_type": "markdown",
   "metadata": {},
   "source": [
    "### Assess test performance"
   ]
  },
  {
   "cell_type": "code",
   "execution_count": 335,
   "metadata": {},
   "outputs": [],
   "source": [
    "# Draw samples from variational posterior (the weights in the network)\n",
    "n_draws = 200 # > 2k hangs for almost all network sizes on my 2018 MBP -SH\n",
    "trace_control = approx_control.sample(draws=n_draws)\n",
    "trace_active = approx_active.sample(draws=n_draws)"
   ]
  },
  {
   "cell_type": "code",
   "execution_count": 336,
   "metadata": {},
   "outputs": [
    {
     "name": "stderr",
     "output_type": "stream",
     "text": [
      "100%|██████████| 100/100 [01:08<00:00,  1.79it/s]\n"
     ]
    }
   ],
   "source": [
    "# network at performance on the test set\n",
    "(n_test,n_input) = X_test.shape\n",
    "test_x = theano.shared(X_test)\n",
    "test_y = theano.shared(y_test)\n",
    "NN_model_test = construct_nn(test_x, test_y, n_input, n_output, n_test, n_hidden_1=128)\n",
    "n_samples = 100\n",
    "with NN_model_test:\n",
    "    ppc_test_control = pm.sample_ppc(trace_control, samples=n_samples)"
   ]
  },
  {
   "cell_type": "code",
   "execution_count": 337,
   "metadata": {},
   "outputs": [
    {
     "name": "stderr",
     "output_type": "stream",
     "text": [
      "100%|██████████| 100/100 [01:25<00:00,  1.65it/s]\n"
     ]
    }
   ],
   "source": [
    "# network at performance on the test set\n",
    "(n_test,n_input) = X_test.shape\n",
    "test_x = theano.shared(X_test)\n",
    "test_y = theano.shared(y_test)\n",
    "NN_model_test = construct_nn(test_x, test_y, n_input, n_output, n_test, n_hidden_1=128)\n",
    "n_samples = 100\n",
    "with NN_model_test:\n",
    "    ppc_test_active = pm.sample_ppc(trace_active, samples=n_samples)"
   ]
  },
  {
   "cell_type": "code",
   "execution_count": 339,
   "metadata": {},
   "outputs": [
    {
     "name": "stdout",
     "output_type": "stream",
     "text": [
      "Network Test Set Performance: 0.182800\n",
      "Network Test Set Performance: 0.183800\n"
     ]
    }
   ],
   "source": [
    "# Prediction is mode of each\n",
    "test_y_pred_control = mode(ppc_test_control['out'], axis=0).mode[0,:]\n",
    "test_y_pred_active = mode(ppc_test_active['out'], axis=0).mode[0,:]\n",
    "\n",
    "\n",
    "mean_test_perf = np.mean(test_y_pred_control==y_test)\n",
    "print(\"Network Test Set Performance Control: {:f}\".format(mean_test_perf))\n",
    "mean_test_perf = np.mean(test_y_pred_active==y_test)\n",
    "print(\"Network Test Set Performance Active Learning: {:f}\".format(mean_test_perf))"
   ]
  },
  {
   "cell_type": "code",
   "execution_count": null,
   "metadata": {},
   "outputs": [],
   "source": [
    " * pm.fit(more_replacements={full_data: minibatch_data}) \n",
    "    * inference.fit(more_replacements={full_data: minibatch_data})\n",
    "\n",
    "    # Here we need `more_replacements` to change train_set to test_set\n",
    "    test_probs = approx.sample_node(p, more_replacements={Xt: X_test}, size=100)\n",
    "\n",
    "    # For train set no more replacements needed\n",
    "    train_probs = approx.sample_node(p)"
   ]
  }
 ],
 "metadata": {
  "kernelspec": {
   "display_name": "Python 3",
   "language": "python",
   "name": "python3"
  },
  "language_info": {
   "codemirror_mode": {
    "name": "ipython",
    "version": 3
   },
   "file_extension": ".py",
   "mimetype": "text/x-python",
   "name": "python",
   "nbconvert_exporter": "python",
   "pygments_lexer": "ipython3",
   "version": "3.6.2"
  }
 },
 "nbformat": 4,
 "nbformat_minor": 2
}
