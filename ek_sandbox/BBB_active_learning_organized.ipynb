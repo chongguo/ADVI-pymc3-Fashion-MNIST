{
 "cells": [
  {
   "cell_type": "markdown",
   "metadata": {},
   "source": [
    "BBB Project Part 2\n",
    "===\n",
    "\n",
    "- Shows performance of bayes by backprop, a method using Variational Inference on a network"
   ]
  },
  {
   "cell_type": "markdown",
   "metadata": {},
   "source": [
    "## Import files: same as other BBB project parts"
   ]
  },
  {
   "cell_type": "code",
   "execution_count": 2,
   "metadata": {},
   "outputs": [],
   "source": [
    "# Add local folders to path\n",
    "import os, sys\n",
    "sys.path.insert(1, os.path.join(sys.path[0], '..'))"
   ]
  },
  {
   "cell_type": "code",
   "execution_count": 3,
   "metadata": {},
   "outputs": [],
   "source": [
    "from collections import OrderedDict\n",
    "\n",
    "import pymc3 as pm\n",
    "import theano\n",
    "import theano.tensor as tt\n",
    "\n",
    "import matplotlib.pyplot as plt\n",
    "import seaborn as sns\n",
    "import numpy as np\n",
    "\n",
    "from scipy.stats import mode\n",
    "from pymc3.theanof import set_tt_rng, MRG_RandomStreams\n",
    "\n",
    "%matplotlib inline"
   ]
  },
  {
   "cell_type": "code",
   "execution_count": 4,
   "metadata": {},
   "outputs": [
    {
     "name": "stdout",
     "output_type": "stream",
     "text": [
      "PyMC3 v3.5\n",
      "Theano v1.0.3\n"
     ]
    }
   ],
   "source": [
    "print('PyMC3 v{}\\nTheano v{}'.format(pm.__version__,theano.__version__))"
   ]
  },
  {
   "cell_type": "code",
   "execution_count": 5,
   "metadata": {},
   "outputs": [],
   "source": [
    "# Set random seeds\n",
    "np.random.seed(42)\n",
    "pm.set_tt_rng(42)"
   ]
  },
  {
   "cell_type": "code",
   "execution_count": 6,
   "metadata": {},
   "outputs": [],
   "source": [
    "# Avoid warnings on batches below\n",
    "from warnings import filterwarnings\n",
    "filterwarnings('ignore')"
   ]
  },
  {
   "cell_type": "code",
   "execution_count": 7,
   "metadata": {},
   "outputs": [
    {
     "name": "stdout",
     "output_type": "stream",
     "text": [
      "N Input for fashion_mnist = 784\n"
     ]
    }
   ],
   "source": [
    "# Use tensorflow to import image datasets\n",
    "import tensorflow as tf\n",
    "\n",
    "reshape_train_imgs = lambda img : img.reshape(img.shape[0],-1)\n",
    "imgvec2img = lambda vec : vec.reshape((np.sqrt(vec.shape[0]).astype(int),np.sqrt(vec.shape[0]).astype(int)))\n",
    "floatX = theano.config.floatX\n",
    "\n",
    "dataset = 'fashion_mnist'\n",
    "\n",
    "if dataset == 'mnist':\n",
    "    (X_train, y_train), (X_test, y_test) = tf.keras.datasets.mnist.load_data()\n",
    "    X_train,X_test = reshape_train_imgs(X_train),reshape_train_imgs(X_test)\n",
    "    label_dict = OrderedDict({i:str(i) for i in range(10)})\n",
    "    \n",
    "    X_train = X_train.astype(floatX)/255\n",
    "    y_train = y_train.astype(np.int)\n",
    "    X_test = X_test.astype(floatX)/255\n",
    "    y_test = y_test.astype(np.int)\n",
    "    \n",
    "    n_output = len(label_dict)\n",
    "    \n",
    "elif dataset == 'fashion_mnist':\n",
    "    (X_train, y_train), (X_test, y_test) = tf.keras.datasets.fashion_mnist.load_data()\n",
    "    X_train,X_test = reshape_train_imgs(X_train),reshape_train_imgs(X_test)\n",
    "    label_dict = OrderedDict({0: 'T-shirt/top',\n",
    "                              1: 'Trouser',\n",
    "                              2: 'Pullover',\n",
    "                              3: 'Dress',\n",
    "                              4: 'Coat',\n",
    "                              5: 'Sandal',\n",
    "                              6: 'Shirt',\n",
    "                              7: 'Sneaker',\n",
    "                              8: 'Bag',\n",
    "                              9: 'Ankle boot'})\n",
    "    X_train = X_train.astype(floatX)/255\n",
    "    y_train = y_train.astype(np.int)\n",
    "    X_test = X_test.astype(floatX)/255\n",
    "    y_test = y_test.astype(np.int)\n",
    "    \n",
    "    n_output = len(label_dict)\n",
    "\n",
    "(n_train,n_input) = X_train.shape\n",
    "print(\"N Input for {} = {}\".format(dataset,n_input))"
   ]
  },
  {
   "cell_type": "code",
   "execution_count": 8,
   "metadata": {},
   "outputs": [
    {
     "data": {
      "image/png": "[encoded data removed]",
      "text/plain": [
       "<matplotlib.figure.Figure at 0x1c38f0e748>"
      ]
     },
     "metadata": {
      "needs_background": "light"
     },
     "output_type": "display_data"
    }
   ],
   "source": [
    "# PLot random subset of images\n",
    "n_plot_samples = 5\n",
    "rand_samps = np.random.choice(X_train.shape[0],size=n_plot_samples)\n",
    "\n",
    "figsize = (10,3); fontsize = 16;\n",
    "f, axs = plt.subplots(1,n_plot_samples,sharex=True,figsize=figsize);\n",
    "for rs,ax in zip(rand_samps,axs):\n",
    "    ax.imshow(imgvec2img(X_train[rs]),cmap='gray');\n",
    "    ax.axis('off')\n",
    "    ax.set_title(label_dict[y_train[rs]]);\n",
    "    sns.despine();\n",
    "f.suptitle(\"Example Images\",fontsize=fontsize+4);"
   ]
  },
  {
   "cell_type": "markdown",
   "metadata": {},
   "source": [
    "Use %load magic here to load `bbb_nn.py`. Delete are re-run a cell as below for updates:\n",
    "```python\n",
    "%load bbb_nn.py\n",
    "```"
   ]
  },
  {
   "cell_type": "code",
   "execution_count": 9,
   "metadata": {},
   "outputs": [],
   "source": [
    "# %load bbb_nn.py\n",
    "def construct_nn(ann_input, ann_output, n_input, n_output, n_train, n_hidden_1=128):\n",
    "    \n",
    "    # Initialize random weights between each layer\n",
    "    init_w_1 = np.random.randn(n_input, n_hidden_1).astype(theano.config.floatX)\n",
    "    init_out = np.random.randn(n_hidden_1,n_output).astype(theano.config.floatX)\n",
    "    \n",
    "    with pm.Model() as neural_network:\n",
    "        # Weights from input to hidden layer\n",
    "        w_0_1 = pm.Normal('w_0_1', 0, sd=1, shape=(n_input, n_hidden_1), testval=init_w_1)\n",
    "     \n",
    "        # Weights from hidden layer to output\n",
    "        w_1_out = pm.Normal('w_2_out', 0, sd=1,shape=(n_hidden_1,n_output),testval=init_out)\n",
    "\n",
    "        # Build neural-network using tanh activation function\n",
    "        act_1 = pm.Deterministic('act_1',var=pm.math.tanh(pm.math.dot(ann_input,w_0_1)))#+b_1))\n",
    "        \n",
    "        # Softmax is required at last layer\n",
    "        act_out = pm.Deterministic('act_out',var=tt.nnet.softmax(pm.math.dot(act_1,w_1_out)))\n",
    "    \n",
    "        # Classification\n",
    "        out = pm.Categorical('out',act_out,observed=ann_output,total_size=n_train)\n",
    "        \n",
    "    return neural_network"
   ]
  },
  {
   "cell_type": "markdown",
   "metadata": {},
   "source": [
    "## Application: Active Learning with fashion_mnist"
   ]
  },
  {
   "cell_type": "markdown",
   "metadata": {},
   "source": [
    "One of the main benefits of using a Bayesian Neural Network is that it is possile to drive learning online accoring to where the network is most uncertain. This is often referred to as active learning. We are going to apply active learning to training a BNN for classification on the fashion_mnist dataset. Our hope is that we can speed up learning by feeding the network data according to which categories it is the most uncertain about. \n",
    "\n",
    "**Brief Overview**\n",
    "\n",
    "When we started working on this problem we were suprised to see that with a very small fraction of the training dataset we still got decent performance on the test set with our BNN. For example, with the full training dataset (60,000 images) we get a test set performance of 77%, while with only 300 data points we still get 71% performance. This was based on 10K iterations (~8 epochs), so it is possible that the assymptoic performance of the networks with this amount of data would be more different. In any case, these findings made us interested in how performance depends on the number of data points. \n",
    "\n",
    "In order to investigate this we trained a network on varying amounts of training data. This would have taken a very long time with our BNN, so instead we used a network with the same structure, but trained with adam in tensorflow. We found that the learning curve as a function of training data is highly nonlinear. Specifically, there is a large increase in performance between 50 and 200 training data points, and then a linear increase between 200 and 60000. \n",
    "\n",
    "For the purpose of exploring active learning with this example dataset, we are going to focus on speeding up the improvement in performance within the first ~500 training data points seen. \n",
    "\n",
    "**Outline**\n",
    "\n",
    "1. Get an idea the learning curve as a function of the amount of training data\n",
    "2. Example of training on subset of data and assessing uncertainty\n",
    "3. Active learning application"
   ]
  },
  {
   "cell_type": "markdown",
   "metadata": {},
   "source": [
    "### 1) Assess test performance as a function of number of training data points\n",
    "\n",
    "Before moving on with active learning, we want to get a sense of how test set performace depends on the number of training samples. It would be pretty slow to look at this with out pymc3 model, but we can use Adam optimization in tensorflow to get an idea of the learning curve on an ANN. "
   ]
  },
  {
   "cell_type": "code",
   "execution_count": 135,
   "metadata": {},
   "outputs": [
    {
     "name": "stdout",
     "output_type": "stream",
     "text": [
      "Epoch 1/5\n",
      "60000/60000 [==============================] - 8s 136us/step - loss: 0.4770 - acc: 0.8297\n",
      "Epoch 2/5\n",
      "60000/60000 [==============================] - 9s 158us/step - loss: 0.3707 - acc: 0.8658\n",
      "Epoch 3/5\n",
      "60000/60000 [==============================] - 8s 130us/step - loss: 0.3364 - acc: 0.8769\n",
      "Epoch 4/5\n",
      "60000/60000 [==============================] - 7s 123us/step - loss: 0.3147 - acc: 0.8838\n",
      "Epoch 5/5\n",
      "60000/60000 [==============================] - 7s 114us/step - loss: 0.2938 - acc: 0.8917\n",
      "10000/10000 [==============================] - 1s 96us/step\n",
      "Test accuracy: 0.8759\n"
     ]
    }
   ],
   "source": [
    "from tensorflow import keras\n",
    "\n",
    "def tf_model(X_train, y_train):\n",
    "    model = keras.Sequential([\n",
    "        keras.layers.Dense(128, activation=tf.nn.tanh),\n",
    "        keras.layers.Dense(n_output, activation=tf.nn.softmax)\n",
    "    ])\n",
    "\n",
    "    model.compile(optimizer=tf.train.AdamOptimizer(), \n",
    "                  loss='sparse_categorical_crossentropy',\n",
    "                  metrics=['accuracy'])\n",
    "\n",
    "    model.fit(X_train, y_train, epochs=5)\n",
    "    test_loss, test_acc = model.evaluate(X_test, y_test)\n",
    "    \n",
    "    return test_acc\n",
    "    \n",
    "test_acc = tf_model(X_train, y_train)\n",
    "print('Test accuracy:', test_acc)"
   ]
  },
  {
   "cell_type": "code",
   "execution_count": 145,
   "metadata": {},
   "outputs": [
    {
     "name": "stdout",
     "output_type": "stream",
     "text": [
      "[10, 20, 30, 40, 50, 70, 100, 150, 200, 500, 1000, 10000, 60000]\n",
      "10\n",
      "Epoch 1/5\n",
      "9/9 [==============================] - 2s 239ms/step - loss: 2.4269 - acc: 0.1111\n",
      "Epoch 2/5\n",
      "9/9 [==============================] - 0s 684us/step - loss: 1.7624 - acc: 0.4444\n",
      "Epoch 3/5\n",
      "9/9 [==============================] - 0s 774us/step - loss: 1.2923 - acc: 0.5556\n",
      "Epoch 4/5\n",
      "9/9 [==============================] - 0s 822us/step - loss: 0.9105 - acc: 1.0000\n",
      "Epoch 5/5\n",
      "9/9 [==============================] - 0s 916us/step - loss: 0.6307 - acc: 1.0000\n",
      "10000/10000 [==============================] - 2s 208us/step\n",
      "Epoch 1/5\n",
      "9/9 [==============================] - 2s 231ms/step - loss: 2.4940 - acc: 0.2222\n",
      "Epoch 2/5\n",
      "9/9 [==============================] - 0s 754us/step - loss: 1.9537 - acc: 0.4444\n",
      "Epoch 3/5\n",
      "9/9 [==============================] - 0s 630us/step - loss: 1.5194 - acc: 0.4444\n",
      "Epoch 4/5\n",
      "9/9 [==============================] - 0s 797us/step - loss: 1.1550 - acc: 0.8889\n",
      "Epoch 5/5\n",
      "9/9 [==============================] - 0s 777us/step - loss: 0.8630 - acc: 0.8889\n",
      "10000/10000 [==============================] - 2s 204us/step\n",
      "Epoch 1/5\n",
      "9/9 [==============================] - 2s 248ms/step - loss: 2.1166 - acc: 0.2222\n",
      "Epoch 2/5\n",
      "9/9 [==============================] - 0s 673us/step - loss: 1.6100 - acc: 0.7778\n",
      "Epoch 3/5\n",
      "9/9 [==============================] - 0s 791us/step - loss: 1.2362 - acc: 0.8889\n",
      "Epoch 4/5\n",
      "9/9 [==============================] - 0s 783us/step - loss: 0.9427 - acc: 1.0000\n",
      "Epoch 5/5\n",
      "9/9 [==============================] - 0s 1ms/step - loss: 0.7092 - acc: 1.0000\n",
      "10000/10000 [==============================] - 2s 226us/step\n",
      "Epoch 1/5\n",
      "9/9 [==============================] - 3s 312ms/step - loss: 2.4708 - acc: 0.1111\n",
      "Epoch 2/5\n",
      "9/9 [==============================] - 0s 1ms/step - loss: 1.8149 - acc: 0.2222\n",
      "Epoch 3/5\n",
      "9/9 [==============================] - 0s 958us/step - loss: 1.3733 - acc: 0.7778\n",
      "Epoch 4/5\n",
      "9/9 [==============================] - 0s 1ms/step - loss: 1.0253 - acc: 0.8889\n",
      "Epoch 5/5\n",
      "9/9 [==============================] - 0s 998us/step - loss: 0.7542 - acc: 0.8889\n",
      "10000/10000 [==============================] - 2s 235us/step\n",
      "Epoch 1/5\n",
      "9/9 [==============================] - 2s 256ms/step - loss: 2.2688 - acc: 0.2222\n",
      "Epoch 2/5\n",
      "9/9 [==============================] - 0s 716us/step - loss: 1.6748 - acc: 0.5556\n",
      "Epoch 3/5\n",
      "9/9 [==============================] - 0s 662us/step - loss: 1.2751 - acc: 0.6667\n",
      "Epoch 4/5\n",
      "9/9 [==============================] - 0s 664us/step - loss: 0.9863 - acc: 0.8889\n",
      "Epoch 5/5\n",
      "9/9 [==============================] - 0s 730us/step - loss: 0.7666 - acc: 0.8889\n",
      "10000/10000 [==============================] - 2s 198us/step\n",
      "20\n",
      "Epoch 1/5\n",
      "18/18 [==============================] - 3s 146ms/step - loss: 2.5281 - acc: 0.1111\n",
      "Epoch 2/5\n",
      "18/18 [==============================] - 0s 419us/step - loss: 1.9522 - acc: 0.3333\n",
      "Epoch 3/5\n",
      "18/18 [==============================] - 0s 377us/step - loss: 1.5696 - acc: 0.4444\n",
      "Epoch 4/5\n",
      "18/18 [==============================] - 0s 315us/step - loss: 1.2492 - acc: 0.6667\n",
      "Epoch 5/5\n",
      "18/18 [==============================] - 0s 341us/step - loss: 0.9898 - acc: 0.8889\n",
      "10000/10000 [==============================] - 3s 301us/step\n",
      "Epoch 1/5\n",
      "18/18 [==============================] - 3s 143ms/step - loss: 2.4728 - acc: 0.1111\n",
      "Epoch 2/5\n",
      "18/18 [==============================] - 0s 419us/step - loss: 1.9592 - acc: 0.3333\n",
      "Epoch 3/5\n",
      "18/18 [==============================] - 0s 381us/step - loss: 1.5834 - acc: 0.6111\n",
      "Epoch 4/5\n",
      "18/18 [==============================] - 0s 440us/step - loss: 1.2611 - acc: 0.7222\n",
      "Epoch 5/5\n",
      "18/18 [==============================] - 0s 418us/step - loss: 1.0030 - acc: 0.8889\n",
      "10000/10000 [==============================] - 3s 255us/step\n",
      "Epoch 1/5\n",
      "18/18 [==============================] - 3s 150ms/step - loss: 2.4600 - acc: 0.1667\n",
      "Epoch 2/5\n",
      "18/18 [==============================] - 0s 366us/step - loss: 1.8822 - acc: 0.3333\n",
      "Epoch 3/5\n",
      "18/18 [==============================] - 0s 374us/step - loss: 1.4897 - acc: 0.7222\n",
      "Epoch 4/5\n",
      "18/18 [==============================] - 0s 391us/step - loss: 1.1912 - acc: 0.7778\n",
      "Epoch 5/5\n",
      "18/18 [==============================] - 0s 329us/step - loss: 0.9429 - acc: 0.8333\n",
      "10000/10000 [==============================] - 2s 234us/step\n",
      "Epoch 1/5\n",
      "18/18 [==============================] - 3s 142ms/step - loss: 2.4467 - acc: 0.1667\n",
      "Epoch 2/5\n",
      "18/18 [==============================] - 0s 376us/step - loss: 1.8982 - acc: 0.1667\n",
      "Epoch 3/5\n",
      "18/18 [==============================] - 0s 332us/step - loss: 1.5255 - acc: 0.5000\n",
      "Epoch 4/5\n",
      "18/18 [==============================] - 0s 377us/step - loss: 1.2109 - acc: 0.6667\n",
      "Epoch 5/5\n",
      "18/18 [==============================] - 0s 338us/step - loss: 0.9522 - acc: 0.9444\n",
      "10000/10000 [==============================] - 2s 225us/step\n",
      "Epoch 1/5\n",
      "18/18 [==============================] - 3s 144ms/step - loss: 2.4344 - acc: 0.0000e+00\n",
      "Epoch 2/5\n",
      "18/18 [==============================] - 0s 369us/step - loss: 1.8644 - acc: 0.3333\n",
      "Epoch 3/5\n",
      "18/18 [==============================] - 0s 508us/step - loss: 1.4696 - acc: 0.6111\n",
      "Epoch 4/5\n",
      "18/18 [==============================] - 0s 407us/step - loss: 1.1573 - acc: 0.9444\n",
      "Epoch 5/5\n",
      "18/18 [==============================] - 0s 368us/step - loss: 0.9185 - acc: 0.9444\n",
      "10000/10000 [==============================] - 2s 222us/step\n",
      "30\n",
      "Epoch 1/5\n",
      "27/27 [==============================] - 3s 95ms/step - loss: 2.5989 - acc: 0.1111\n",
      "Epoch 2/5\n",
      "27/27 [==============================] - 0s 275us/step - loss: 1.9987 - acc: 0.2593\n",
      "Epoch 3/5\n",
      "27/27 [==============================] - 0s 263us/step - loss: 1.6387 - acc: 0.5556\n",
      "Epoch 4/5\n",
      "27/27 [==============================] - 0s 248us/step - loss: 1.3868 - acc: 0.6667\n",
      "Epoch 5/5\n",
      "27/27 [==============================] - 0s 243us/step - loss: 1.1522 - acc: 0.8148\n",
      "10000/10000 [==============================] - 2s 234us/step\n",
      "Epoch 1/5\n",
      "27/27 [==============================] - 3s 101ms/step - loss: 2.4352 - acc: 0.1111\n",
      "Epoch 2/5\n",
      "27/27 [==============================] - 0s 332us/step - loss: 1.9428 - acc: 0.2963\n",
      "Epoch 3/5\n",
      "27/27 [==============================] - 0s 312us/step - loss: 1.5983 - acc: 0.5556\n",
      "Epoch 4/5\n",
      "27/27 [==============================] - 0s 305us/step - loss: 1.3265 - acc: 0.6296\n",
      "Epoch 5/5\n",
      "27/27 [==============================] - 0s 293us/step - loss: 1.0989 - acc: 0.8148\n",
      "10000/10000 [==============================] - 2s 234us/step\n",
      "Epoch 1/5\n",
      "27/27 [==============================] - 3s 96ms/step - loss: 2.4669 - acc: 0.0741\n",
      "Epoch 2/5\n",
      "27/27 [==============================] - 0s 328us/step - loss: 1.9221 - acc: 0.2963\n",
      "Epoch 3/5\n",
      "27/27 [==============================] - 0s 286us/step - loss: 1.5398 - acc: 0.5926\n",
      "Epoch 4/5\n",
      "27/27 [==============================] - 0s 253us/step - loss: 1.2265 - acc: 0.7778\n",
      "Epoch 5/5\n",
      "27/27 [==============================] - 0s 276us/step - loss: 0.9817 - acc: 0.9259\n",
      "10000/10000 [==============================] - 2s 218us/step\n",
      "Epoch 1/5\n",
      "27/27 [==============================] - 3s 114ms/step - loss: 2.3940 - acc: 0.1111\n",
      "Epoch 2/5\n",
      "27/27 [==============================] - 0s 346us/step - loss: 1.9580 - acc: 0.2593\n",
      "Epoch 3/5\n",
      "27/27 [==============================] - 0s 358us/step - loss: 1.6489 - acc: 0.5185\n",
      "Epoch 4/5\n",
      "27/27 [==============================] - 0s 309us/step - loss: 1.3680 - acc: 0.7407\n",
      "Epoch 5/5\n",
      "27/27 [==============================] - 0s 327us/step - loss: 1.1426 - acc: 0.8148\n",
      "10000/10000 [==============================] - 2s 246us/step\n",
      "Epoch 1/5\n",
      "27/27 [==============================] - 3s 104ms/step - loss: 2.4470 - acc: 0.1111\n",
      "Epoch 2/5\n",
      "27/27 [==============================] - 0s 248us/step - loss: 1.9162 - acc: 0.4815\n",
      "Epoch 3/5\n",
      "27/27 [==============================] - 0s 281us/step - loss: 1.5953 - acc: 0.5556\n",
      "Epoch 4/5\n",
      "27/27 [==============================] - 0s 255us/step - loss: 1.3513 - acc: 0.7037\n",
      "Epoch 5/5\n",
      "27/27 [==============================] - 0s 246us/step - loss: 1.1397 - acc: 0.8519\n",
      "10000/10000 [==============================] - 3s 282us/step\n",
      "40\n",
      "Epoch 1/5\n",
      "36/36 [==============================] - 3s 92ms/step - loss: 2.5796 - acc: 0.0556\n",
      "Epoch 2/5\n",
      "36/36 [==============================] - 0s 441us/step - loss: 1.9522 - acc: 0.2222\n",
      "Epoch 3/5\n",
      "36/36 [==============================] - 0s 425us/step - loss: 1.6137 - acc: 0.4722\n",
      "Epoch 4/5\n",
      "36/36 [==============================] - 0s 418us/step - loss: 1.2907 - acc: 0.5278\n",
      "Epoch 5/5\n",
      "36/36 [==============================] - 0s 445us/step - loss: 1.0673 - acc: 0.7778\n",
      "10000/10000 [==============================] - 3s 326us/step\n",
      "Epoch 1/5\n",
      "36/36 [==============================] - 3s 83ms/step - loss: 2.4887 - acc: 0.0556\n",
      "Epoch 2/5\n",
      "36/36 [==============================] - 0s 437us/step - loss: 1.8283 - acc: 0.3056\n",
      "Epoch 3/5\n",
      "36/36 [==============================] - 0s 474us/step - loss: 1.5330 - acc: 0.5278\n",
      "Epoch 4/5\n",
      "36/36 [==============================] - 0s 468us/step - loss: 1.3004 - acc: 0.6111\n",
      "Epoch 5/5\n",
      "36/36 [==============================] - 0s 487us/step - loss: 1.0755 - acc: 0.6667\n",
      "10000/10000 [==============================] - 3s 252us/step\n",
      "Epoch 1/5\n",
      "36/36 [==============================] - 3s 84ms/step - loss: 2.5016 - acc: 0.0833\n",
      "Epoch 2/5\n",
      "36/36 [==============================] - 0s 435us/step - loss: 1.9197 - acc: 0.4444\n",
      "Epoch 3/5\n",
      "36/36 [==============================] - 0s 395us/step - loss: 1.7354 - acc: 0.4722\n",
      "Epoch 4/5\n",
      "36/36 [==============================] - 0s 400us/step - loss: 1.4340 - acc: 0.5556\n",
      "Epoch 5/5\n",
      "36/36 [==============================] - 0s 385us/step - loss: 1.1725 - acc: 0.6389\n",
      "10000/10000 [==============================] - 3s 251us/step\n",
      "Epoch 1/5\n",
      "36/36 [==============================] - 3s 84ms/step - loss: 2.3233 - acc: 0.1389\n",
      "Epoch 2/5\n",
      "36/36 [==============================] - 0s 507us/step - loss: 1.6924 - acc: 0.4167\n",
      "Epoch 3/5\n",
      "36/36 [==============================] - 0s 439us/step - loss: 1.5021 - acc: 0.4167\n",
      "Epoch 4/5\n",
      "36/36 [==============================] - 0s 411us/step - loss: 1.2107 - acc: 0.5278\n",
      "Epoch 5/5\n",
      "36/36 [==============================] - 0s 410us/step - loss: 0.9332 - acc: 0.7222\n",
      "10000/10000 [==============================] - 3s 261us/step\n",
      "Epoch 1/5\n",
      "36/36 [==============================] - 3s 87ms/step - loss: 2.4161 - acc: 0.0278\n",
      "Epoch 2/5\n",
      "36/36 [==============================] - 0s 452us/step - loss: 1.8046 - acc: 0.4444\n",
      "Epoch 3/5\n",
      "36/36 [==============================] - 0s 511us/step - loss: 1.6393 - acc: 0.4167\n",
      "Epoch 4/5\n",
      "36/36 [==============================] - 0s 608us/step - loss: 1.2982 - acc: 0.6111\n",
      "Epoch 5/5\n",
      "36/36 [==============================] - 0s 521us/step - loss: 1.0812 - acc: 0.7222\n",
      "10000/10000 [==============================] - 3s 277us/step\n",
      "50\n",
      "Epoch 1/5\n",
      "45/45 [==============================] - 3s 77ms/step - loss: 2.5977 - acc: 0.0000e+00\n",
      "Epoch 2/5\n",
      "45/45 [==============================] - 0s 429us/step - loss: 1.8641 - acc: 0.2222\n",
      "Epoch 3/5\n",
      "45/45 [==============================] - 0s 446us/step - loss: 1.4949 - acc: 0.5333\n",
      "Epoch 4/5\n",
      "45/45 [==============================] - 0s 482us/step - loss: 1.2337 - acc: 0.6444\n",
      "Epoch 5/5\n",
      "45/45 [==============================] - 0s 573us/step - loss: 1.0444 - acc: 0.7111\n",
      "10000/10000 [==============================] - 3s 318us/step\n",
      "Epoch 1/5\n",
      "45/45 [==============================] - 3s 73ms/step - loss: 2.6152 - acc: 0.0889\n",
      "Epoch 2/5\n",
      "45/45 [==============================] - 0s 344us/step - loss: 1.8717 - acc: 0.3556\n",
      "Epoch 3/5\n",
      "45/45 [==============================] - 0s 337us/step - loss: 1.3826 - acc: 0.6000\n",
      "Epoch 4/5\n",
      "45/45 [==============================] - 0s 342us/step - loss: 1.0626 - acc: 0.8000\n",
      "Epoch 5/5\n",
      "45/45 [==============================] - 0s 349us/step - loss: 0.8652 - acc: 0.8000\n",
      "10000/10000 [==============================] - 4s 367us/step\n",
      "Epoch 1/5\n",
      "45/45 [==============================] - 3s 69ms/step - loss: 2.3988 - acc: 0.1333\n",
      "Epoch 2/5\n",
      "45/45 [==============================] - 0s 338us/step - loss: 1.8005 - acc: 0.4889\n",
      "Epoch 3/5\n",
      "45/45 [==============================] - 0s 333us/step - loss: 1.4573 - acc: 0.5556\n",
      "Epoch 4/5\n",
      "45/45 [==============================] - 0s 381us/step - loss: 1.1805 - acc: 0.7556\n",
      "Epoch 5/5\n",
      "45/45 [==============================] - 0s 345us/step - loss: 1.0027 - acc: 0.8222\n",
      "10000/10000 [==============================] - 3s 276us/step\n",
      "Epoch 1/5\n",
      "45/45 [==============================] - 3s 67ms/step - loss: 2.2906 - acc: 0.0889\n",
      "Epoch 2/5\n",
      "45/45 [==============================] - 0s 329us/step - loss: 1.6960 - acc: 0.5111\n",
      "Epoch 3/5\n",
      "45/45 [==============================] - 0s 334us/step - loss: 1.3886 - acc: 0.6667\n",
      "Epoch 4/5\n",
      "45/45 [==============================] - 0s 335us/step - loss: 1.1877 - acc: 0.5778\n",
      "Epoch 5/5\n",
      "45/45 [==============================] - 0s 348us/step - loss: 1.0394 - acc: 0.6889\n",
      "10000/10000 [==============================] - 3s 254us/step\n",
      "Epoch 1/5\n",
      "45/45 [==============================] - 3s 68ms/step - loss: 2.3012 - acc: 0.2222\n",
      "Epoch 2/5\n",
      "45/45 [==============================] - 0s 319us/step - loss: 1.7508 - acc: 0.4000\n",
      "Epoch 3/5\n",
      "45/45 [==============================] - 0s 330us/step - loss: 1.4456 - acc: 0.5778\n",
      "Epoch 4/5\n",
      "45/45 [==============================] - 0s 363us/step - loss: 1.2178 - acc: 0.6000\n",
      "Epoch 5/5\n",
      "45/45 [==============================] - 0s 336us/step - loss: 1.0401 - acc: 0.6667\n",
      "10000/10000 [==============================] - 3s 270us/step\n",
      "70\n",
      "Epoch 1/5\n",
      "63/63 [==============================] - 3s 50ms/step - loss: 2.3207 - acc: 0.1587\n",
      "Epoch 2/5\n",
      "63/63 [==============================] - 0s 248us/step - loss: 1.7394 - acc: 0.4921\n",
      "Epoch 3/5\n",
      "63/63 [==============================] - 0s 266us/step - loss: 1.4080 - acc: 0.7302\n",
      "Epoch 4/5\n",
      "63/63 [==============================] - 0s 248us/step - loss: 1.1622 - acc: 0.7778\n",
      "Epoch 5/5\n",
      "63/63 [==============================] - 0s 252us/step - loss: 0.9595 - acc: 0.8254\n",
      "10000/10000 [==============================] - 3s 297us/step\n",
      "Epoch 1/5\n",
      "63/63 [==============================] - 3s 52ms/step - loss: 2.2539 - acc: 0.1905\n",
      "Epoch 2/5\n",
      "63/63 [==============================] - 0s 252us/step - loss: 1.6678 - acc: 0.6349\n",
      "Epoch 3/5\n",
      "63/63 [==============================] - 0s 284us/step - loss: 1.3649 - acc: 0.6190\n",
      "Epoch 4/5\n",
      "63/63 [==============================] - 0s 319us/step - loss: 1.1219 - acc: 0.7302\n",
      "Epoch 5/5\n",
      "63/63 [==============================] - 0s 293us/step - loss: 0.9375 - acc: 0.8095\n",
      "10000/10000 [==============================] - 3s 262us/step\n",
      "Epoch 1/5\n",
      "63/63 [==============================] - 3s 52ms/step - loss: 2.3303 - acc: 0.1111\n",
      "Epoch 2/5\n",
      "63/63 [==============================] - 0s 248us/step - loss: 1.8038 - acc: 0.3175\n",
      "Epoch 3/5\n",
      "63/63 [==============================] - 0s 245us/step - loss: 1.4671 - acc: 0.5238\n",
      "Epoch 4/5\n",
      "63/63 [==============================] - 0s 266us/step - loss: 1.2215 - acc: 0.7302\n",
      "Epoch 5/5\n",
      "63/63 [==============================] - 0s 264us/step - loss: 1.0639 - acc: 0.7460\n",
      "10000/10000 [==============================] - 3s 262us/step\n",
      "Epoch 1/5\n",
      "63/63 [==============================] - 3s 51ms/step - loss: 2.3609 - acc: 0.0952\n",
      "Epoch 2/5\n",
      "63/63 [==============================] - 0s 248us/step - loss: 1.8339 - acc: 0.3492\n",
      "Epoch 3/5\n",
      "63/63 [==============================] - 0s 258us/step - loss: 1.3978 - acc: 0.5873\n",
      "Epoch 4/5\n",
      "63/63 [==============================] - 0s 275us/step - loss: 1.1120 - acc: 0.7778\n",
      "Epoch 5/5\n",
      "63/63 [==============================] - 0s 260us/step - loss: 0.9335 - acc: 0.7937\n",
      "10000/10000 [==============================] - 3s 264us/step\n",
      "Epoch 1/5\n",
      "63/63 [==============================] - 3s 52ms/step - loss: 2.3432 - acc: 0.0952\n",
      "Epoch 2/5\n",
      "63/63 [==============================] - 0s 247us/step - loss: 1.6956 - acc: 0.4603\n",
      "Epoch 3/5\n",
      "63/63 [==============================] - 0s 238us/step - loss: 1.3934 - acc: 0.6349\n",
      "Epoch 4/5\n",
      "63/63 [==============================] - 0s 269us/step - loss: 1.0830 - acc: 0.7937\n",
      "Epoch 5/5\n",
      "63/63 [==============================] - 0s 266us/step - loss: 0.9009 - acc: 0.7778\n",
      "10000/10000 [==============================] - 3s 266us/step\n",
      "100\n",
      "Epoch 1/5\n",
      "90/90 [==============================] - 3s 37ms/step - loss: 2.4817 - acc: 0.0667\n",
      "Epoch 2/5\n",
      "90/90 [==============================] - 0s 249us/step - loss: 1.6335 - acc: 0.4889\n",
      "Epoch 3/5\n",
      "90/90 [==============================] - 0s 264us/step - loss: 1.2539 - acc: 0.7667\n",
      "Epoch 4/5\n",
      "90/90 [==============================] - 0s 264us/step - loss: 0.9821 - acc: 0.6889\n",
      "Epoch 5/5\n",
      "90/90 [==============================] - 0s 269us/step - loss: 0.7867 - acc: 0.8000\n",
      "10000/10000 [==============================] - 3s 276us/step\n",
      "Epoch 1/5\n",
      "90/90 [==============================] - 3s 37ms/step - loss: 2.1806 - acc: 0.1778\n",
      "Epoch 2/5\n",
      "90/90 [==============================] - 0s 246us/step - loss: 1.4975 - acc: 0.5556\n",
      "Epoch 3/5\n",
      "90/90 [==============================] - 0s 269us/step - loss: 1.2008 - acc: 0.6222\n",
      "Epoch 4/5\n",
      "90/90 [==============================] - 0s 261us/step - loss: 0.9768 - acc: 0.7111\n",
      "Epoch 5/5\n",
      "90/90 [==============================] - 0s 279us/step - loss: 0.8242 - acc: 0.8333\n",
      "10000/10000 [==============================] - 3s 292us/step\n",
      "Epoch 1/5\n",
      "90/90 [==============================] - 3s 38ms/step - loss: 2.3575 - acc: 0.1222\n",
      "Epoch 2/5\n",
      "90/90 [==============================] - 0s 305us/step - loss: 1.5941 - acc: 0.5333\n",
      "Epoch 3/5\n",
      "90/90 [==============================] - 0s 299us/step - loss: 1.2040 - acc: 0.7556\n",
      "Epoch 4/5\n",
      "90/90 [==============================] - 0s 311us/step - loss: 0.9605 - acc: 0.7778\n",
      "Epoch 5/5\n",
      "90/90 [==============================] - 0s 332us/step - loss: 0.7843 - acc: 0.7889\n",
      "10000/10000 [==============================] - 3s 279us/step\n",
      "Epoch 1/5\n",
      "90/90 [==============================] - 3s 39ms/step - loss: 2.4679 - acc: 0.1333\n",
      "Epoch 2/5\n",
      "90/90 [==============================] - 0s 253us/step - loss: 1.6867 - acc: 0.3889\n",
      "Epoch 3/5\n",
      "90/90 [==============================] - 0s 260us/step - loss: 1.3335 - acc: 0.5667\n",
      "Epoch 4/5\n",
      "90/90 [==============================] - 0s 269us/step - loss: 1.0238 - acc: 0.7222\n",
      "Epoch 5/5\n",
      "90/90 [==============================] - 0s 265us/step - loss: 0.8834 - acc: 0.7111\n",
      "10000/10000 [==============================] - 3s 283us/step\n",
      "Epoch 1/5\n",
      "90/90 [==============================] - 3s 39ms/step - loss: 2.2449 - acc: 0.1333\n",
      "Epoch 2/5\n",
      "90/90 [==============================] - 0s 258us/step - loss: 1.6164 - acc: 0.5000\n",
      "Epoch 3/5\n",
      "90/90 [==============================] - 0s 289us/step - loss: 1.1592 - acc: 0.6889\n",
      "Epoch 4/5\n",
      "90/90 [==============================] - 0s 280us/step - loss: 0.8953 - acc: 0.7667\n",
      "Epoch 5/5\n",
      "90/90 [==============================] - 0s 261us/step - loss: 0.7619 - acc: 0.7667\n",
      "10000/10000 [==============================] - 3s 286us/step\n",
      "150\n",
      "Epoch 1/5\n",
      "135/135 [==============================] - 3s 26ms/step - loss: 2.0204 - acc: 0.2741\n",
      "Epoch 2/5\n",
      "135/135 [==============================] - 0s 256us/step - loss: 1.2506 - acc: 0.4963\n",
      "Epoch 3/5\n",
      "135/135 [==============================] - 0s 277us/step - loss: 0.9567 - acc: 0.6889\n",
      "Epoch 4/5\n",
      "135/135 [==============================] - 0s 287us/step - loss: 0.7201 - acc: 0.7852\n",
      "Epoch 5/5\n",
      "135/135 [==============================] - 0s 285us/step - loss: 0.6850 - acc: 0.7407\n",
      "10000/10000 [==============================] - 3s 288us/step\n",
      "Epoch 1/5\n",
      "135/135 [==============================] - 4s 27ms/step - loss: 2.0625 - acc: 0.1778\n",
      "Epoch 2/5\n",
      "135/135 [==============================] - 0s 270us/step - loss: 1.3174 - acc: 0.5926\n",
      "Epoch 3/5\n",
      "135/135 [==============================] - 0s 273us/step - loss: 1.0631 - acc: 0.6593\n",
      "Epoch 4/5\n",
      "135/135 [==============================] - 0s 277us/step - loss: 0.8492 - acc: 0.7926\n",
      "Epoch 5/5\n",
      "135/135 [==============================] - 0s 271us/step - loss: 0.7192 - acc: 0.8370\n",
      "10000/10000 [==============================] - 3s 295us/step\n",
      "Epoch 1/5\n",
      "135/135 [==============================] - 4s 28ms/step - loss: 1.9388 - acc: 0.3185\n",
      "Epoch 2/5\n",
      "135/135 [==============================] - 0s 279us/step - loss: 1.2573 - acc: 0.6593\n",
      "Epoch 3/5\n",
      "135/135 [==============================] - 0s 283us/step - loss: 0.9080 - acc: 0.7259\n",
      "Epoch 4/5\n",
      "135/135 [==============================] - 0s 283us/step - loss: 0.7157 - acc: 0.7926\n",
      "Epoch 5/5\n",
      "135/135 [==============================] - 0s 285us/step - loss: 0.6255 - acc: 0.8000\n",
      "10000/10000 [==============================] - 4s 352us/step\n",
      "Epoch 1/5\n",
      "135/135 [==============================] - 4s 29ms/step - loss: 2.1066 - acc: 0.2222\n",
      "Epoch 2/5\n",
      "135/135 [==============================] - 0s 311us/step - loss: 1.3823 - acc: 0.5481\n",
      "Epoch 3/5\n",
      "135/135 [==============================] - 0s 306us/step - loss: 1.0902 - acc: 0.6370\n",
      "Epoch 4/5\n",
      "135/135 [==============================] - 0s 315us/step - loss: 0.8759 - acc: 0.7037\n",
      "Epoch 5/5\n",
      "135/135 [==============================] - 0s 310us/step - loss: 0.7412 - acc: 0.8148\n",
      "10000/10000 [==============================] - 3s 305us/step\n",
      "Epoch 1/5\n",
      "135/135 [==============================] - 4s 31ms/step - loss: 2.2551 - acc: 0.1852\n",
      "Epoch 2/5\n",
      "135/135 [==============================] - 0s 412us/step - loss: 1.4658 - acc: 0.5185\n",
      "Epoch 3/5\n",
      "135/135 [==============================] - 0s 394us/step - loss: 1.0254 - acc: 0.6593\n",
      "Epoch 4/5\n",
      "135/135 [==============================] - 0s 379us/step - loss: 0.9125 - acc: 0.7185\n",
      "Epoch 5/5\n",
      "135/135 [==============================] - 0s 425us/step - loss: 0.7236 - acc: 0.7778\n",
      "10000/10000 [==============================] - 4s 366us/step\n",
      "200\n",
      "Epoch 1/5\n",
      "180/180 [==============================] - 4s 22ms/step - loss: 2.0633 - acc: 0.2611\n",
      "Epoch 2/5\n",
      "180/180 [==============================] - 0s 277us/step - loss: 1.3597 - acc: 0.4944\n",
      "Epoch 3/5\n",
      "180/180 [==============================] - 0s 277us/step - loss: 1.0040 - acc: 0.6667\n",
      "Epoch 4/5\n",
      "180/180 [==============================] - 0s 270us/step - loss: 0.8626 - acc: 0.7278\n",
      "Epoch 5/5\n",
      "180/180 [==============================] - 0s 260us/step - loss: 0.7514 - acc: 0.8000\n",
      "10000/10000 [==============================] - 3s 317us/step\n",
      "Epoch 1/5\n",
      "180/180 [==============================] - 4s 22ms/step - loss: 2.2284 - acc: 0.2222\n",
      "Epoch 2/5\n",
      "180/180 [==============================] - 0s 272us/step - loss: 1.3417 - acc: 0.5000\n",
      "Epoch 3/5\n",
      "180/180 [==============================] - 0s 263us/step - loss: 0.9679 - acc: 0.6722\n",
      "Epoch 4/5\n",
      "180/180 [==============================] - 0s 257us/step - loss: 0.7690 - acc: 0.7667\n",
      "Epoch 5/5\n",
      "180/180 [==============================] - 0s 260us/step - loss: 0.6549 - acc: 0.8056\n",
      "10000/10000 [==============================] - 3s 316us/step\n",
      "Epoch 1/5\n",
      "180/180 [==============================] - 4s 23ms/step - loss: 2.0857 - acc: 0.2500\n",
      "Epoch 2/5\n",
      "180/180 [==============================] - 0s 452us/step - loss: 1.2158 - acc: 0.6556\n",
      "Epoch 3/5\n",
      "180/180 [==============================] - 0s 474us/step - loss: 0.8863 - acc: 0.7500\n",
      "Epoch 4/5\n",
      "180/180 [==============================] - 0s 452us/step - loss: 0.6970 - acc: 0.8000\n",
      "Epoch 5/5\n",
      "180/180 [==============================] - 0s 475us/step - loss: 0.6165 - acc: 0.8278\n",
      "10000/10000 [==============================] - 4s 370us/step\n",
      "Epoch 1/5\n",
      "180/180 [==============================] - 4s 22ms/step - loss: 2.1198 - acc: 0.1833\n",
      "Epoch 2/5\n",
      "180/180 [==============================] - 0s 260us/step - loss: 1.2746 - acc: 0.6056\n",
      "Epoch 3/5\n",
      "180/180 [==============================] - 0s 258us/step - loss: 0.8952 - acc: 0.7556\n",
      "Epoch 4/5\n",
      "180/180 [==============================] - 0s 267us/step - loss: 0.7242 - acc: 0.8000\n",
      "Epoch 5/5\n",
      "180/180 [==============================] - 0s 260us/step - loss: 0.5976 - acc: 0.8333\n",
      "10000/10000 [==============================] - 3s 327us/step\n",
      "Epoch 1/5\n",
      "180/180 [==============================] - 4s 22ms/step - loss: 1.8587 - acc: 0.3333\n",
      "Epoch 2/5\n",
      "180/180 [==============================] - 0s 271us/step - loss: 1.1419 - acc: 0.6444\n",
      "Epoch 3/5\n",
      "180/180 [==============================] - 0s 265us/step - loss: 0.8742 - acc: 0.7611\n",
      "Epoch 4/5\n",
      "180/180 [==============================] - 0s 262us/step - loss: 0.7216 - acc: 0.7667\n",
      "Epoch 5/5\n",
      "180/180 [==============================] - 0s 267us/step - loss: 0.6675 - acc: 0.8111\n",
      "10000/10000 [==============================] - 4s 387us/step\n",
      "500\n",
      "Epoch 1/5\n",
      "450/450 [==============================] - 5s 12ms/step - loss: 1.4863 - acc: 0.4689\n",
      "Epoch 2/5\n",
      "450/450 [==============================] - 0s 247us/step - loss: 0.7916 - acc: 0.7467\n",
      "Epoch 3/5\n",
      "450/450 [==============================] - 0s 416us/step - loss: 0.6379 - acc: 0.8044\n",
      "Epoch 4/5\n",
      "450/450 [==============================] - 0s 407us/step - loss: 0.5372 - acc: 0.8089\n",
      "Epoch 5/5\n",
      "450/450 [==============================] - 0s 244us/step - loss: 0.4790 - acc: 0.8267\n",
      "10000/10000 [==============================] - 4s 419us/step\n",
      "Epoch 1/5\n",
      "450/450 [==============================] - 4s 10ms/step - loss: 1.6853 - acc: 0.4422\n",
      "Epoch 2/5\n",
      "450/450 [==============================] - 0s 312us/step - loss: 0.9565 - acc: 0.6800\n",
      "Epoch 3/5\n",
      "450/450 [==============================] - 0s 342us/step - loss: 0.8311 - acc: 0.7089\n",
      "Epoch 4/5\n",
      "450/450 [==============================] - 0s 308us/step - loss: 0.6742 - acc: 0.7622\n",
      "Epoch 5/5\n",
      "450/450 [==============================] - 0s 293us/step - loss: 0.6335 - acc: 0.7778\n",
      "10000/10000 [==============================] - 4s 383us/step\n",
      "Epoch 1/5\n",
      "450/450 [==============================] - 6s 13ms/step - loss: 1.6356 - acc: 0.3889\n",
      "Epoch 2/5\n",
      "450/450 [==============================] - 0s 295us/step - loss: 0.9048 - acc: 0.6844\n",
      "Epoch 3/5\n",
      "450/450 [==============================] - 0s 293us/step - loss: 0.7530 - acc: 0.7422\n",
      "Epoch 4/5\n",
      "450/450 [==============================] - 0s 503us/step - loss: 0.6712 - acc: 0.8067\n",
      "Epoch 5/5\n",
      "450/450 [==============================] - 0s 502us/step - loss: 0.5849 - acc: 0.8333\n",
      "10000/10000 [==============================] - 4s 423us/step\n",
      "Epoch 1/5\n",
      "450/450 [==============================] - 5s 10ms/step - loss: 1.5301 - acc: 0.4733\n",
      "Epoch 2/5\n",
      "450/450 [==============================] - 0s 297us/step - loss: 0.9058 - acc: 0.6800\n",
      "Epoch 3/5\n",
      "450/450 [==============================] - 0s 282us/step - loss: 0.7050 - acc: 0.7444\n",
      "Epoch 4/5\n",
      "450/450 [==============================] - 0s 256us/step - loss: 0.5906 - acc: 0.8044\n",
      "Epoch 5/5\n",
      "450/450 [==============================] - 0s 260us/step - loss: 0.5477 - acc: 0.8356\n",
      "10000/10000 [==============================] - 4s 374us/step\n",
      "Epoch 1/5\n",
      "450/450 [==============================] - 5s 10ms/step - loss: 1.6193 - acc: 0.4511\n",
      "Epoch 2/5\n",
      "450/450 [==============================] - 0s 259us/step - loss: 0.9061 - acc: 0.6733\n",
      "Epoch 3/5\n",
      "450/450 [==============================] - 0s 240us/step - loss: 0.7835 - acc: 0.7200\n",
      "Epoch 4/5\n",
      "450/450 [==============================] - 0s 255us/step - loss: 0.6545 - acc: 0.7911\n",
      "Epoch 5/5\n",
      "450/450 [==============================] - 0s 281us/step - loss: 0.6239 - acc: 0.7822\n",
      "10000/10000 [==============================] - 4s 367us/step\n",
      "1000\n",
      "Epoch 1/5\n",
      "900/900 [==============================] - 5s 5ms/step - loss: 1.2358 - acc: 0.5767\n",
      "Epoch 2/5\n",
      "900/900 [==============================] - 0s 304us/step - loss: 0.7196 - acc: 0.7311\n",
      "Epoch 3/5\n",
      "900/900 [==============================] - 0s 287us/step - loss: 0.5870 - acc: 0.8244\n",
      "Epoch 4/5\n",
      "900/900 [==============================] - 0s 237us/step - loss: 0.5356 - acc: 0.8144\n",
      "Epoch 5/5\n",
      "900/900 [==============================] - 0s 274us/step - loss: 0.5249 - acc: 0.8189\n",
      "10000/10000 [==============================] - 4s 401us/step\n",
      "Epoch 1/5\n",
      "900/900 [==============================] - 5s 5ms/step - loss: 1.2697 - acc: 0.5578\n",
      "Epoch 2/5\n",
      "900/900 [==============================] - 0s 309us/step - loss: 0.7248 - acc: 0.7400\n",
      "Epoch 3/5\n",
      "900/900 [==============================] - 0s 298us/step - loss: 0.6139 - acc: 0.7878\n",
      "Epoch 4/5\n",
      "900/900 [==============================] - 0s 285us/step - loss: 0.5589 - acc: 0.7956\n",
      "Epoch 5/5\n",
      "900/900 [==============================] - 0s 312us/step - loss: 0.4975 - acc: 0.8300\n",
      "10000/10000 [==============================] - 4s 403us/step\n",
      "Epoch 1/5\n",
      "900/900 [==============================] - 5s 5ms/step - loss: 1.3041 - acc: 0.5411\n",
      "Epoch 2/5\n",
      "900/900 [==============================] - 0s 271us/step - loss: 0.7731 - acc: 0.7378\n",
      "Epoch 3/5\n",
      "900/900 [==============================] - 0s 249us/step - loss: 0.6178 - acc: 0.7889\n",
      "Epoch 4/5\n",
      "900/900 [==============================] - 0s 267us/step - loss: 0.5827 - acc: 0.8000\n",
      "Epoch 5/5\n",
      "900/900 [==============================] - 0s 263us/step - loss: 0.4958 - acc: 0.8300\n",
      "10000/10000 [==============================] - 4s 409us/step\n",
      "Epoch 1/5\n",
      "900/900 [==============================] - 5s 5ms/step - loss: 1.3065 - acc: 0.5667\n",
      "Epoch 2/5\n",
      "900/900 [==============================] - 0s 296us/step - loss: 0.7478 - acc: 0.7311\n",
      "Epoch 3/5\n",
      "900/900 [==============================] - 0s 312us/step - loss: 0.6333 - acc: 0.7844\n",
      "Epoch 4/5\n",
      "900/900 [==============================] - 0s 290us/step - loss: 0.5576 - acc: 0.8078\n",
      "Epoch 5/5\n",
      "900/900 [==============================] - 0s 274us/step - loss: 0.5019 - acc: 0.8378\n",
      "10000/10000 [==============================] - 4s 391us/step\n",
      "Epoch 1/5\n",
      "900/900 [==============================] - 5s 5ms/step - loss: 1.2434 - acc: 0.5778\n",
      "Epoch 2/5\n",
      "900/900 [==============================] - 0s 258us/step - loss: 0.6918 - acc: 0.7578\n",
      "Epoch 3/5\n",
      "900/900 [==============================] - 0s 389us/step - loss: 0.5758 - acc: 0.7967\n",
      "Epoch 4/5\n",
      "900/900 [==============================] - 0s 371us/step - loss: 0.5365 - acc: 0.8178\n",
      "Epoch 5/5\n",
      "900/900 [==============================] - 0s 266us/step - loss: 0.5066 - acc: 0.8411\n",
      "10000/10000 [==============================] - 5s 494us/step\n",
      "10000\n",
      "Epoch 1/5\n",
      "9000/9000 [==============================] - 10s 1ms/step - loss: 0.6595 - acc: 0.7684\n",
      "Epoch 2/5\n",
      "9000/9000 [==============================] - 4s 398us/step - loss: 0.4697 - acc: 0.8323\n",
      "Epoch 3/5\n",
      "9000/9000 [==============================] - 3s 302us/step - loss: 0.4238 - acc: 0.8483\n",
      "Epoch 4/5\n",
      "9000/9000 [==============================] - 3s 329us/step - loss: 0.3937 - acc: 0.8589\n",
      "Epoch 5/5\n",
      "9000/9000 [==============================] - 2s 273us/step - loss: 0.3670 - acc: 0.8686\n",
      "10000/10000 [==============================] - 4s 381us/step\n",
      "Epoch 1/5\n",
      "9000/9000 [==============================] - 7s 785us/step - loss: 0.6814 - acc: 0.7614\n",
      "Epoch 2/5\n",
      "9000/9000 [==============================] - 3s 348us/step - loss: 0.4854 - acc: 0.8303\n",
      "Epoch 3/5\n",
      "9000/9000 [==============================] - 3s 308us/step - loss: 0.4342 - acc: 0.8417\n",
      "Epoch 4/5\n",
      "9000/9000 [==============================] - 3s 331us/step - loss: 0.4041 - acc: 0.8557\n",
      "Epoch 5/5\n",
      "9000/9000 [==============================] - 3s 305us/step - loss: 0.3743 - acc: 0.8664\n",
      "10000/10000 [==============================] - 5s 491us/step\n",
      "Epoch 1/5\n",
      "9000/9000 [==============================] - 8s 878us/step - loss: 0.6712 - acc: 0.7602\n",
      "Epoch 2/5\n",
      "9000/9000 [==============================] - 2s 275us/step - loss: 0.4760 - acc: 0.8272\n",
      "Epoch 3/5\n",
      "9000/9000 [==============================] - 3s 330us/step - loss: 0.4258 - acc: 0.8422\n",
      "Epoch 4/5\n",
      "9000/9000 [==============================] - 3s 304us/step - loss: 0.3951 - acc: 0.8550\n",
      "Epoch 5/5\n",
      "9000/9000 [==============================] - 3s 319us/step - loss: 0.3745 - acc: 0.8633\n",
      "10000/10000 [==============================] - 4s 434us/step\n",
      "Epoch 1/5\n",
      "9000/9000 [==============================] - 8s 885us/step - loss: 0.6679 - acc: 0.7632\n",
      "Epoch 2/5\n",
      "9000/9000 [==============================] - 3s 329us/step - loss: 0.4695 - acc: 0.8329\n",
      "Epoch 3/5\n",
      "9000/9000 [==============================] - 3s 310us/step - loss: 0.4196 - acc: 0.8483\n",
      "Epoch 4/5\n",
      "9000/9000 [==============================] - 3s 282us/step - loss: 0.3851 - acc: 0.8617\n",
      "Epoch 5/5\n",
      "9000/9000 [==============================] - 3s 308us/step - loss: 0.3680 - acc: 0.8654\n",
      "10000/10000 [==============================] - 4s 424us/step\n",
      "Epoch 1/5\n",
      "9000/9000 [==============================] - 8s 878us/step - loss: 0.6711 - acc: 0.7658\n",
      "Epoch 2/5\n",
      "9000/9000 [==============================] - 3s 348us/step - loss: 0.4694 - acc: 0.8380\n",
      "Epoch 3/5\n",
      "9000/9000 [==============================] - 3s 335us/step - loss: 0.4333 - acc: 0.8468\n",
      "Epoch 4/5\n",
      "9000/9000 [==============================] - 3s 373us/step - loss: 0.4016 - acc: 0.8543\n",
      "Epoch 5/5\n",
      "9000/9000 [==============================] - 3s 297us/step - loss: 0.3727 - acc: 0.8647\n",
      "10000/10000 [==============================] - 4s 435us/step\n",
      "60000\n",
      "Epoch 1/5\n",
      "60000/60000 [==============================] - 23s 391us/step - loss: 0.4749 - acc: 0.8290\n",
      "Epoch 2/5\n",
      "60000/60000 [==============================] - 19s 309us/step - loss: 0.3679 - acc: 0.8658\n",
      "Epoch 3/5\n",
      "60000/60000 [==============================] - 20s 329us/step - loss: 0.3355 - acc: 0.8756\n",
      "Epoch 4/5\n",
      "60000/60000 [==============================] - 17s 279us/step - loss: 0.3150 - acc: 0.8842\n",
      "Epoch 5/5\n",
      "60000/60000 [==============================] - 18s 307us/step - loss: 0.2965 - acc: 0.8898\n",
      "10000/10000 [==============================] - 5s 505us/step\n",
      "Epoch 1/5\n",
      "60000/60000 [==============================] - 23s 388us/step - loss: 0.4721 - acc: 0.8316\n",
      "Epoch 2/5\n",
      "60000/60000 [==============================] - 17s 276us/step - loss: 0.3688 - acc: 0.8665\n",
      "Epoch 3/5\n",
      "60000/60000 [==============================] - 16s 273us/step - loss: 0.3360 - acc: 0.8773\n",
      "Epoch 4/5\n",
      "60000/60000 [==============================] - 17s 284us/step - loss: 0.3119 - acc: 0.8845\n",
      "Epoch 5/5\n",
      "60000/60000 [==============================] - 19s 321us/step - loss: 0.2984 - acc: 0.8899\n",
      "10000/10000 [==============================] - 6s 570us/step\n",
      "Epoch 1/5\n",
      "60000/60000 [==============================] - 26s 426us/step - loss: 0.4775 - acc: 0.8290\n",
      "Epoch 2/5\n",
      "60000/60000 [==============================] - 21s 358us/step - loss: 0.3689 - acc: 0.8654\n",
      "Epoch 3/5\n",
      "60000/60000 [==============================] - 22s 359us/step - loss: 0.3328 - acc: 0.8783\n",
      "Epoch 4/5\n",
      "60000/60000 [==============================] - 20s 328us/step - loss: 0.3103 - acc: 0.8854\n",
      "Epoch 5/5\n",
      "60000/60000 [==============================] - 19s 320us/step - loss: 0.2955 - acc: 0.8910\n",
      "10000/10000 [==============================] - 5s 505us/step\n",
      "Epoch 1/5\n",
      "60000/60000 [==============================] - 26s 428us/step - loss: 0.4797 - acc: 0.8295\n",
      "Epoch 2/5\n",
      "60000/60000 [==============================] - 21s 355us/step - loss: 0.3703 - acc: 0.8645\n",
      "Epoch 3/5\n",
      "60000/60000 [==============================] - 20s 327us/step - loss: 0.3352 - acc: 0.8777\n",
      "Epoch 4/5\n",
      "60000/60000 [==============================] - 21s 345us/step - loss: 0.3129 - acc: 0.8846\n",
      "Epoch 5/5\n",
      "60000/60000 [==============================] - 22s 361us/step - loss: 0.2964 - acc: 0.8897\n",
      "10000/10000 [==============================] - 5s 523us/step\n",
      "Epoch 1/5\n",
      "60000/60000 [==============================] - 24s 394us/step - loss: 0.4799 - acc: 0.8279\n",
      "Epoch 2/5\n",
      "60000/60000 [==============================] - 21s 344us/step - loss: 0.3638 - acc: 0.8674\n",
      "Epoch 3/5\n",
      "60000/60000 [==============================] - 18s 298us/step - loss: 0.3331 - acc: 0.8776\n",
      "Epoch 4/5\n",
      "60000/60000 [==============================] - 19s 321us/step - loss: 0.3121 - acc: 0.8856\n",
      "Epoch 5/5\n",
      "60000/60000 [==============================] - 20s 332us/step - loss: 0.2919 - acc: 0.8920\n",
      "10000/10000 [==============================] - 5s 511us/step\n"
     ]
    }
   ],
   "source": [
    "n_samples_vec = [10,20, 30, 40, 50, 70, 100, 150, 200, 500, 1000, 10000, 60000]\n",
    "\n",
    "n_trials = 5\n",
    "test_acc_results = np.zeros((len(n_samples_vec), n_trials))\n",
    "for i, n_samples in enumerate(n_samples_vec):\n",
    "    print(n_samples)\n",
    "    for j in range(n_trials):\n",
    "        X_train_subset, y_train_subset = get_training_subset(X_train, y_train, n_samples)\n",
    "        test_acc = tf_model(X_train_subset, y_train_subset)\n",
    "        test_acc_results[i,j] = test_acc"
   ]
  },
  {
   "cell_type": "code",
   "execution_count": 182,
   "metadata": {},
   "outputs": [
    {
     "data": {
      "image/png": "[encoded data removed]",
      "text/plain": [
       "<matplotlib.figure.Figure at 0x24a0f649b0>"
      ]
     },
     "metadata": {
      "needs_background": "light"
     },
     "output_type": "display_data"
    }
   ],
   "source": [
    "mean_perf = np.mean(test_acc_results, axis=1)\n",
    "std_perf = np.std(test_acc_results, axis=1)\n",
    "num_points_plot = 11\n",
    "plt.plot(n_samples_vec[:num_points_plot], mean_perf[:num_points_plot], c='blue')\n",
    "plt.fill_between(n_samples_vec[:num_points_plot], mean_perf[:num_points_plot]+std_perf[:num_points_plot], mean_perf[:num_points_plot]-std_perf[:num_points_plot], color='blue', alpha=.25)\n",
    "plt.show()"
   ]
  },
  {
   "cell_type": "markdown",
   "metadata": {},
   "source": [
    "The relationship between the number of training data points and test set performance is highly nonlinear. We see a large jump in performance between 10 and 200 training data points, and then a pretty linear increase from then on. With this model, we don't reach assymptotic performance even with the full dataset (though this might not be true if we increase the number of iterations). As mentioned abve, we are going to focus on increasing the speed of learning at the beginning of training (~500 training points). "
   ]
  },
  {
   "cell_type": "markdown",
   "metadata": {},
   "source": [
    "### 2) Example of training network on subset of data and assessing uncertainty\n"
   ]
  },
  {
   "cell_type": "markdown",
   "metadata": {},
   "source": [
    "We will now go through an example of training a BNN on a subset of the data. We will used a balanced subset of 200 training data points. As we will from the confusion matrix, there is an uneven distribution of uncertainty across categories. Hopefully by using active learning, we can give the network appropraite data during training to efficiently reduce the uncertainty.  "
   ]
  },
  {
   "cell_type": "markdown",
   "metadata": {},
   "source": [
    "#### Functions for trainining on subset and assessing uncertainty"
   ]
  },
  {
   "cell_type": "code",
   "execution_count": 20,
   "metadata": {},
   "outputs": [],
   "source": [
    "import scipy as sp\n",
    "\n",
    "def get_training_subset(X_train, y_train, n_samples):\n",
    "    (n_train, n_input) = np.shape(X_train)\n",
    "    n_cat = 10\n",
    "    if n_train == n_samples:\n",
    "        return X_train, y_train\n",
    "    # make n_samples a multiple of 10 for ease of balancing the dataset\n",
    "    n_cat_samples = int(n_samples/10)\n",
    "    # get appropraite number of samples from each category\n",
    "    cat_ind = list()\n",
    "    ind_array = np.arange(n_train)\n",
    "    for cat in range(n_cat):\n",
    "        cat_ind = np.append(cat_ind, np.random.choice(ind_array[y_train == cat], size=n_cat_samples, replace=False))\n",
    "    np.random.shuffle(cat_ind)\n",
    "    X_train_subset = X_train[cat_ind.astype(int)]\n",
    "    y_train_subset = y_train[cat_ind.astype(int)]\n",
    "    return X_train_subset, y_train_subset\n",
    "\n",
    "def get_cat_entropy(X_test, y_test, ppc_test):\n",
    "    # get other parameters that need\n",
    "    (n_test,n_input) = X_test.shape\n",
    "    n_output = 10\n",
    "    n_samples = np.shape(ppc_test['out'])[0]\n",
    "    \n",
    "    # make one-hot matrix\n",
    "    one_hot = np.zeros((n_samples, n_test, n_output))\n",
    "    for i in range(n_samples):\n",
    "        one_hot[i][np.arange(n_test), ppc_test['out'][i]] = 1\n",
    "    \n",
    "    # make histograms \n",
    "    y_test_dist = np.histogram(y_test, bins=n_output)[0]\n",
    "    cat_hist = np.zeros((n_output, n_output))\n",
    "    cat_entropy = np.zeros(n_output)\n",
    "    cat_KL = np.zeros(n_output)\n",
    "    histograms = np.sum(one_hot, axis=0)\n",
    "    for i in range(n_output):\n",
    "        cat_hist[i,:] = np.sum(histograms[y_test == i], axis=0)\n",
    "        cat_entropy[i] = sp.stats.entropy(cat_hist[i,:])\n",
    "        cat_KL[i] = sp.stats.entropy(cat_hist[i,:], y_test_dist)\n",
    "#         cat_KL[i] = sp.stats.entropy(y_test_dist, cat_hist[i,:])\n",
    "    return one_hot, cat_hist, cat_entropy, cat_KL"
   ]
  },
  {
   "cell_type": "markdown",
   "metadata": {},
   "source": [
    "#### Train Network on subset of data"
   ]
  },
  {
   "cell_type": "code",
   "execution_count": 11,
   "metadata": {},
   "outputs": [],
   "source": [
    "n_samples = 200\n",
    "X_train_subset, y_train_subset = get_training_subset(X_train, y_train, n_samples)\n",
    "\n",
    "NN_model = construct_nn(X_train_subset, y_train_subset, n_input, n_output, n_samples, n_hidden_1=128)"
   ]
  },
  {
   "cell_type": "code",
   "execution_count": 12,
   "metadata": {},
   "outputs": [
    {
     "name": "stdout",
     "output_type": "stream",
     "text": [
      "{'mu': mu, 'rho': rho}\n"
     ]
    },
    {
     "name": "stderr",
     "output_type": "stream",
     "text": [
      "Average Loss = 5,215.8: 100%|██████████| 10000/10000 [02:51<00:00, 67.64it/s]\n",
      "Finished [100%]: Average Loss = 5,207.9\n"
     ]
    }
   ],
   "source": [
    "# convergence not great, use a different method for conv check after:\n",
    "# https://docs.pymc.io/notebooks/variational_api_quickstart.html\n",
    "with NN_model:\n",
    "    advi = pm.ADVI()\n",
    "    \n",
    "# After the bayes by BackProp paper!\n",
    "print(advi.approx.shared_params)\n",
    "\n",
    "n_approx_iter = 10000\n",
    "with NN_model:\n",
    "    approx = advi.fit(n=n_approx_iter)"
   ]
  },
  {
   "cell_type": "code",
   "execution_count": 13,
   "metadata": {},
   "outputs": [
    {
     "data": {
      "image/png": "[encoded data removed]",
      "text/plain": [
       "<matplotlib.figure.Figure at 0x1c6188f5c0>"
      ]
     },
     "metadata": {
      "needs_background": "light"
     },
     "output_type": "display_data"
    }
   ],
   "source": [
    "# plotting the training progress\n",
    "elbo_1 = -advi.hist\n",
    "\n",
    "figsize = (8,3); fontsize = 16;\n",
    "f, ax = plt.subplots(1,1,figsize=figsize);\n",
    "\n",
    "ax.plot(elbo_1,label='1')\n",
    "ax.set_ylabel('ELBO',fontsize=fontsize)\n",
    "ax.set_xlabel('iteration',fontsize=fontsize);\n",
    "sns.despine();"
   ]
  },
  {
   "cell_type": "markdown",
   "metadata": {},
   "source": [
    "#### Test this network performance on test set"
   ]
  },
  {
   "cell_type": "code",
   "execution_count": 14,
   "metadata": {},
   "outputs": [],
   "source": [
    "# Draw samples from variational posterior (the weights in the network)\n",
    "n_draws = 500 # > 2k hangs for almost all network sizes on my 2018 MBP -SH\n",
    "trace = approx.sample(draws=n_draws)"
   ]
  },
  {
   "cell_type": "code",
   "execution_count": 15,
   "metadata": {},
   "outputs": [
    {
     "name": "stderr",
     "output_type": "stream",
     "text": [
      "100%|██████████| 100/100 [00:51<00:00,  2.01it/s]\n"
     ]
    }
   ],
   "source": [
    "# network at performance on the test set\n",
    "(n_test,n_input) = X_test.shape\n",
    "test_x = theano.shared(X_test)\n",
    "test_y = theano.shared(y_test)\n",
    "NN_model_test = construct_nn(test_x, test_y, n_input, n_output, n_test, n_hidden_1=128)\n",
    "n_samples = 100\n",
    "with NN_model_test:\n",
    "    ppc_test = pm.sample_ppc(trace, samples=n_samples)"
   ]
  },
  {
   "cell_type": "code",
   "execution_count": 16,
   "metadata": {},
   "outputs": [
    {
     "name": "stdout",
     "output_type": "stream",
     "text": [
      "Network Test Set Performance: 0.704600\n"
     ]
    }
   ],
   "source": [
    "# Prediction is mode of each\n",
    "test_y_pred = mode(ppc_test['out'], axis=0).mode[0,:]\n",
    "\n",
    "mean_test_perf = np.mean(test_y_pred==y_test)\n",
    "print(\"Network Test Set Performance: {:f}\".format(mean_test_perf))"
   ]
  },
  {
   "cell_type": "code",
   "execution_count": 17,
   "metadata": {},
   "outputs": [
    {
     "data": {
      "image/png": "[encoded data removed]",
      "text/plain": [
       "<matplotlib.figure.Figure at 0x1c6a371668>"
      ]
     },
     "metadata": {
      "needs_background": "light"
     },
     "output_type": "display_data"
    }
   ],
   "source": [
    "# PLot random subset of images\n",
    "n_plot_samples = 10\n",
    "rand_samps = np.random.choice(X_test.shape[0],size=n_plot_samples)\n",
    "\n",
    "figsize = (18,3); fontsize = 16;\n",
    "f, axs = plt.subplots(1, n_plot_samples, figsize=figsize);\n",
    "\n",
    "for rs,ax in zip(rand_samps,axs):\n",
    "    ax.imshow(imgvec2img(X_train[rs]),cmap='gray');\n",
    "    tl = \"{}: {},\\n{}: {}\".format(test_y_pred[rs],label_dict[test_y_pred[rs]],y_test[rs],label_dict[y_test[rs]])\n",
    "    if test_y_pred[rs] == y_test[rs]:\n",
    "        ax.set_title(tl,color='k');\n",
    "    else:\n",
    "        ax.set_title(tl,color='r');\n",
    "    ax.axis('off');\n",
    "    sns.despine();\n",
    "    \n",
    "f.suptitle(\"Example BBB Classification\",fontsize=fontsize+4);"
   ]
  },
  {
   "cell_type": "markdown",
   "metadata": {},
   "source": [
    "#### Evaluate uncertainty within each category"
   ]
  },
  {
   "cell_type": "markdown",
   "metadata": {},
   "source": [
    "Here we are measurign uncertainty as the KL between the network categorization and the actual distribution of y labels. If the training set is balance, the distribution of y labels will be a uniform distibution. A category that outputs almost a unifrom distribution is very uncertain (low KL), while a network that outputs something close to a one-hot vector is very certain (high KL). Consequently, a category with low KL has high uncertainty, and a category with high KL has low uncertainty."
   ]
  },
  {
   "cell_type": "code",
   "execution_count": 43,
   "metadata": {},
   "outputs": [
    {
     "data": {
      "image/png": "[encoded data removed]",
      "text/plain": [
       "<matplotlib.figure.Figure at 0x1c750fa940>"
      ]
     },
     "metadata": {
      "needs_background": "light"
     },
     "output_type": "display_data"
    },
    {
     "data": {
      "image/png": "[encoded data removed]",
      "text/plain": [
       "<matplotlib.figure.Figure at 0x1cc2a46c18>"
      ]
     },
     "metadata": {
      "needs_background": "light"
     },
     "output_type": "display_data"
    }
   ],
   "source": [
    "one_hot, cat_hist, cat_entropy, cat_KL = get_cat_entropy(X_test, y_test, ppc_test)\n",
    "plt.figure(figsize=(4,4))\n",
    "plt.imshow(cat_hist)\n",
    "plt.title('Confusion Matrix')\n",
    "plt.show()\n",
    "plt.figure(figsize=(6,4))\n",
    "plt.plot(cat_KL, label='KL')\n",
    "# plt.legend()\n",
    "plt.xlabel('category')\n",
    "plt.ylabel('KL')\n",
    "plt.show()"
   ]
  },
  {
   "cell_type": "markdown",
   "metadata": {},
   "source": [
    "These results are pretty interesting. We already get pretty good performance (70%), but it is clear that the middle categories are much more uncertain than the outer categories. We will see if we can remedy this with active learning. "
   ]
  },
  {
   "cell_type": "markdown",
   "metadata": {},
   "source": [
    "### 3) Full example"
   ]
  },
  {
   "cell_type": "markdown",
   "metadata": {},
   "source": [
    "#### Pseudocode\n",
    "\n",
    "- Train network on subset of training data\n",
    "- while num_training_data_used < 500\n",
    "    - assess category uncertainty of network\n",
    "    - choose 5 training samples from  category with largest uncertainty \n",
    "    - choose already seen training data to replay proportional to category uncertainty\n",
    "    - train network using replay plus new data"
   ]
  },
  {
   "cell_type": "markdown",
   "metadata": {},
   "source": [
    "**1) How to assess uncertainty while training?** In order to assess the uncertainty of the network we are going to test the network on training data that it has already seen. We want to assess this prior to feeding the network more data. If we were to assess the uncertainty on all seen data, this would take a long time. The benefit of the BBN is that we can get a measure of uncertainty for a single data point. This is still a bit noisy if we want to find the overal category with the highest uncertainty. We choose to assess the uncertainty using 3 data points from each category. \n",
    "\n",
    "**2) How many data points should we feed the network after assessing the uncertainty?** We want to avoid overfitting by feeding the network tons of data in a row from the same category. In order to avoid this we will feed the network data in chunks of 5. Also, since the uncertainty assessment is bound to be slightly noisy, we will probably not consistently identify one category as the most uncertain. This will also help avoid overfitting. \n",
    "\n",
    "**3) How to use multiple epochs with active learning?** One complication that comes up with active learning is how to adapt the idea of training over multiple epochs of the data. The example aboce runs through about 8 epochs of the training set subset. If it only does 1 epoch, performance is much worse. In order to mimic going though multiple epochs, we will introduce experience replay in conjunction with active learning. For expereince replay, we will choose 10 already seen training points in proportion to the uncertainty of each category.  "
   ]
  },
  {
   "cell_type": "markdown",
   "metadata": {},
   "source": [
    "#### Helper functions for active learning\n",
    "\n",
    "Variables to keep track of: \n",
    "- ind_used: nested list of used training samples\n",
    "- ind_remaining: nested list of remaining training samples\n"
   ]
  },
  {
   "cell_type": "code",
   "execution_count": 201,
   "metadata": {},
   "outputs": [],
   "source": [
    "def get_training_subset_init(X_train, y_train, n_samples):\n",
    "    # make n_samples a multiple of 10 for ease of balancing the dataset\n",
    "    n_cat = 10\n",
    "    n_cat_samples = int(n_samples/10)\n",
    "    n_train = np.shape(X_train)[0]\n",
    "    ind_array = np.arange(n_train)\n",
    "    \n",
    "    # make cat list\n",
    "    ind_remaining = list()\n",
    "    for i in range(10):\n",
    "        ind_remaining.append(ind_array[y_train == i])\n",
    "    \n",
    "    ind_used = [[]]*n_cat\n",
    "    ind_subset = list()\n",
    "    for cat in range(n_cat):\n",
    "        cat_ind = np.random.choice(ind_remaining[cat], size=n_cat_samples, replace=False).astype(int)\n",
    "        ind_remaining[cat] = np.delete(ind_remaining[cat], np.argwhere(np.in1d(ind_remaining[cat], cat_ind)))\n",
    "        ind_used[cat] = np.append(ind_used[cat], cat_ind)\n",
    "        ind_subset = np.append(ind_subset, cat_ind)\n",
    "    ind_subset = ind_subset.astype(int)\n",
    "    np.random.shuffle(ind_subset)\n",
    "    X_train_subset = X_train[ind_subset]\n",
    "    y_train_subset = y_train[ind_subset]\n",
    "    return X_train_subset, y_train_subset, ind_used, ind_remaining\n",
    "\n",
    "def get_cat_subset(X_train, y_train, ind_used, ind_remaining, n_samples, cat):\n",
    "    # get appropraite number of samples from given category\n",
    "    cat_ind = np.random.choice(ind_remaining[cat], size=n_samples, replace=False).astype(int)\n",
    "    ind_used[cat] = np.append(ind_used[cat], cat_ind)\n",
    "    ind_remaining[cat] = np.delete(ind_remaining[cat], np.argwhere(np.in1d(ind_remaining[cat], cat_ind)))\n",
    "    X_train_subset = X_train[cat_ind]\n",
    "    y_train_subset = y_train[cat_ind]\n",
    "    return X_train_subset, y_train_subset, ind_used, ind_remaining\n",
    "\n",
    "def get_used_subset(X_train, y_train, ind_used, n_samples):\n",
    "    n_cat = 10\n",
    "    n_cat_samples = int(n_samples/n_cat)\n",
    "    cat_ind_list = list()\n",
    "    for cat in range(n_cat):\n",
    "        cat_ind = np.random.choice(ind_used[cat], size=n_cat_samples, replace=False)\n",
    "        cat_ind_list = np.append(cat_ind_list, cat_ind)\n",
    "    cat_ind_list = cat_ind_list.astype(int)\n",
    "    X_used_subset = X_train[cat_ind_list]\n",
    "    y_used_subset = y_train[cat_ind_list]\n",
    "    return X_used_subset, y_used_subset\n",
    "\n",
    "def get_max_uncertainty(X_train, y_train, ind_used, n_samples):\n",
    "    X_used_subset, y_used_subset = get_used_subset(X_train, y_train, ind_used, n_samples)\n",
    "    (n_test,n_input) = X_test.shape\n",
    "    X_used_shared = theano.shared(X_used_subset)\n",
    "    y_used_shared = theano.shared(y_used_subset)\n",
    "    n_input = 28*28\n",
    "    n_output = 10\n",
    "    NN_model_test = construct_nn_active_learning(X_used_shared, y_used_shared, n_input, n_output, n_hidden=128)\n",
    "    n_samples = 100\n",
    "    with NN_model_test:\n",
    "        ppc_test = pm.sample_ppc(trace, samples=n_samples)\n",
    "    one_hot, cat_hist, cat_entropy, cat_KL = get_cat_entropy(X_used_subset, y_used_subset, ppc_test)\n",
    "    return cat_KL, np.argmin(cat_KL)\n",
    "\n",
    "def get_replay_subset(X_train, y_train, ind_used, cat_KL, n_samples):\n",
    "    cat_KL_scaled = ((cat_KL - np.min(cat_KL))/(np.max(cat_KL) - np.min(cat_KL)))\n",
    "    p_vals = (1 - cat_KL_scaled)/np.sum(cat_KL_scaled)\n",
    "    p_vals /= np.sum(p_vals)\n",
    "    n_cat_samples = np.round((p_vals*n_samples)).astype(int)\n",
    "    cat_ind_list = list()\n",
    "    for cat, n_cat_samp in enumerate(n_cat_samples):\n",
    "        if n_cat_samp < len(ind_used[cat]):\n",
    "            cat_ind = np.random.choice(ind_used[cat], size=n_cat_samp, replace=False)\n",
    "        elif n_cat_samp >= len(ind_used[cat]):\n",
    "            cat_ind = ind_used[cat]\n",
    "        cat_ind_list = np.append(cat_ind_list, cat_ind)\n",
    "    cat_ind_list = cat_ind_list.astype(int)\n",
    "    X_replay_subset = X_train[cat_ind_list]\n",
    "    y_replay_subset = y_train[cat_ind_list]\n",
    "    return X_replay_subset, y_replay_subset\n",
    "\n",
    "def get_replay_subset_balanced(X_train, y_train, ind_used, n_samples):\n",
    "    n_cat = 10\n",
    "    n_cat_samp = int(n_samples/n_cat)\n",
    "    cat_ind_list = list()\n",
    "    for cat in range(n_cat):\n",
    "        if n_cat_samp < len(ind_used[cat]):\n",
    "            cat_ind = np.random.choice(ind_used[cat], size=n_cat_samp, replace=False)\n",
    "        elif n_cat_samp >= len(ind_used[cat]):\n",
    "            cat_ind = ind_used[cat]\n",
    "        cat_ind_list = np.append(cat_ind_list, cat_ind)\n",
    "    cat_ind_list = cat_ind_list.astype(int)\n",
    "    X_replay_subset = X_train[cat_ind_list]\n",
    "    y_replay_subset = y_train[cat_ind_list]\n",
    "    return X_replay_subset, y_replay_subset"
   ]
  },
  {
   "cell_type": "markdown",
   "metadata": {},
   "source": [
    "#### Neural network for active learning\n",
    "\n",
    "This network is identical to the BNN used above, expect that we are no longer using minibatches"
   ]
  },
  {
   "cell_type": "code",
   "execution_count": 202,
   "metadata": {},
   "outputs": [],
   "source": [
    "# %load bbb_nn.py\n",
    "def construct_nn_active_learning(ann_input, ann_output, n_input, n_output, n_hidden=128):\n",
    "    \n",
    "    # Initialize random weights between each layer\n",
    "    init_w_1 = np.random.randn(n_input, n_hidden).astype(theano.config.floatX)\n",
    "    init_out = np.random.randn(n_hidden,n_output).astype(theano.config.floatX)\n",
    "    \n",
    "    with pm.Model() as neural_network:\n",
    "        # Weights from input to hidden layer\n",
    "        w_0_1 = pm.Normal('w_0_1', 0, sd=1, shape=(n_input, n_hidden), testval=init_w_1)\n",
    "     \n",
    "        # Weights from hidden layer to output\n",
    "        w_1_out = pm.Normal('w_2_out', 0, sd=1,shape=(n_hidden,n_output),testval=init_out)\n",
    "\n",
    "        # Build neural-network using tanh activation function\n",
    "        act_1 = pm.Deterministic('act_1',var=pm.math.tanh(pm.math.dot(ann_input,w_0_1)))#+b_1))\n",
    "        \n",
    "        # Softmax is required at last layer\n",
    "        act_out = pm.Deterministic('act_out',var=tt.nnet.softmax(pm.math.dot(act_1,w_1_out)))\n",
    "    \n",
    "        # Classification\n",
    "        out = pm.Categorical('out',act_out,observed=ann_output)\n",
    "        \n",
    "    return neural_network"
   ]
  },
  {
   "cell_type": "markdown",
   "metadata": {},
   "source": [
    "#### Active learning functions"
   ]
  },
  {
   "cell_type": "code",
   "execution_count": 203,
   "metadata": {},
   "outputs": [],
   "source": [
    "def initialize_network(X_train, y_train, n_samples, n_epochs):\n",
    "    X_train_init, y_train_init, ind_used, ind_remaining = get_training_subset_init(X_train, y_train, n_samples)\n",
    "    shared_x = theano.shared(X_train_init)\n",
    "    shared_y = theano.shared(y_train_init)\n",
    "\n",
    "    # make neural network\n",
    "    (n_train,n_input) = X_train_init.shape\n",
    "    n_output = 10\n",
    "    NN_model = construct_nn_active_learning(shared_x, shared_y, n_input, n_output, n_hidden=128)\n",
    "\n",
    "    # train network on initial subset of data\n",
    "    n_approx_iter = n_samples*n_epochs\n",
    "    with NN_model:\n",
    "        advi = pm.ADVI()\n",
    "        approx = advi.fit(n=n_approx_iter)\n",
    "        \n",
    "    return NN_model, advi, approx, ind_used, ind_remaining\n",
    "\n",
    "def run_active_learning(NN_model_active, advi_active, ind_used, ind_remaining, n_active_learning_iterations, n_test_uncertainty,\n",
    "                        n_cat_data_points, n_replay_data_points):\n",
    "    i = 1\n",
    "    while i < n_active_learning_iterations: #samples_remaining:\n",
    "        print(i)\n",
    "        # evaluate current uncertainty and find category with max uncertainty\n",
    "        cat_KL, cat = get_max_uncertainty(X_train, y_train, ind_used, n_test_uncertainty)\n",
    "        # get n_cat_data_points new training data from that category\n",
    "        X_train_cat, y_train_cat, ind_used, ind_remaining = \\\n",
    "                get_cat_subset(X_train, y_train, ind_used, ind_remaining, n_cat_data_points, cat)\n",
    "        # get replay training data proportional to current uncertainty\n",
    "        X_train_replay, y_train_replay = \\\n",
    "            get_replay_subset(X_train, y_train, ind_used, cat_KL, n_replay_data_points)\n",
    "        # concatenate training data for this active learning iteration\n",
    "        X_train_subset = np.vstack((X_train_cat, X_train_replay))\n",
    "        y_train_subset = np.append(y_train_cat, y_train_replay)\n",
    "        # continue training network on this data\n",
    "        shared_x.set_value(X_train_subset)\n",
    "        shared_y.set_value(y_train_subset)\n",
    "        n_iterations = len(y_train_subset)\n",
    "        with NN_model_active:\n",
    "            approx_active = advi_active.fit(n=n_iterations)\n",
    "        i += 1\n",
    "    return advi_active, approx_active, ind_used\n",
    "                        \n",
    "def run_active_learning_control(NN_model_control, advi_control, ind_used, ind_remaining, n_active_learning_iterations,\n",
    "                                n_cat_data_points, n_replay_data_points):\n",
    "    i = 1\n",
    "    while i < n_active_learning_iterations: #samples_remaining:\n",
    "        print(i)\n",
    "        # choose random category to feed data\n",
    "        cat = np.random.choice(n_output)\n",
    "        # get n_cat_data_points new training data from that category\n",
    "        X_train_cat, y_train_cat, ind_used, ind_remaining = \\\n",
    "                get_cat_subset(X_train, y_train, ind_used, ind_remaining, n_cat_data_points, cat)\n",
    "        # get balanced replay training data\n",
    "        X_train_replay, y_train_replay = \\\n",
    "            get_replay_subset_balanced(X_train, y_train, ind_used, n_replay_data_points)\n",
    "        # concatenate training data for this active learning iteration\n",
    "        X_train_subset = np.vstack((X_train_cat, X_train_replay))\n",
    "        y_train_subset = np.append(y_train_cat, y_train_replay)\n",
    "        # continue training network on this data\n",
    "        shared_x.set_value(X_train_subset)\n",
    "        shared_y.set_value(y_train_subset)\n",
    "        n_iterations = len(y_train_subset)\n",
    "        with NN_model_control:\n",
    "            approx_control = advi_control.fit(n=n_iterations)\n",
    "        i += 1\n",
    "    return advi_control, approx_control, ind_used"
   ]
  },
  {
   "cell_type": "markdown",
   "metadata": {},
   "source": [
    "#### Run active learning and active learning control"
   ]
  },
  {
   "cell_type": "code",
   "execution_count": 212,
   "metadata": {},
   "outputs": [
    {
     "name": "stdout",
     "output_type": "stream",
     "text": [
      "RUNNING ACTIVE LEARNING\n"
     ]
    },
    {
     "name": "stderr",
     "output_type": "stream",
     "text": [
      "Average Loss = 60,423: 100%|██████████| 200/200 [00:02<00:00, 68.08it/s]\n",
      "Finished [100%]: Average Loss = 60,326\n"
     ]
    },
    {
     "name": "stdout",
     "output_type": "stream",
     "text": [
      "1\n"
     ]
    },
    {
     "name": "stderr",
     "output_type": "stream",
     "text": [
      "100%|██████████| 100/100 [00:01<00:00, 78.12it/s]\n",
      "Average Loss = 57,512: 100%|██████████| 50/50 [00:00<00:00, 57.81it/s]\n",
      "Finished [100%]: Average Loss = 57,418\n"
     ]
    },
    {
     "name": "stdout",
     "output_type": "stream",
     "text": [
      "2\n"
     ]
    },
    {
     "name": "stderr",
     "output_type": "stream",
     "text": [
      "100%|██████████| 100/100 [00:01<00:00, 70.74it/s]\n",
      "Average Loss = 56,183: 100%|██████████| 50/50 [00:00<00:00, 66.32it/s]\n",
      "Finished [100%]: Average Loss = 56,098\n"
     ]
    },
    {
     "name": "stdout",
     "output_type": "stream",
     "text": [
      "3\n"
     ]
    },
    {
     "name": "stderr",
     "output_type": "stream",
     "text": [
      "100%|██████████| 100/100 [00:01<00:00, 84.63it/s]\n",
      "Average Loss = 54,911: 100%|██████████| 52/52 [00:00<00:00, 58.89it/s]\n",
      "Finished [100%]: Average Loss = 54,900\n"
     ]
    },
    {
     "name": "stdout",
     "output_type": "stream",
     "text": [
      "4\n"
     ]
    },
    {
     "name": "stderr",
     "output_type": "stream",
     "text": [
      "100%|██████████| 100/100 [00:03<00:00, 25.44it/s]\n",
      "Average Loss = 53,666: 100%|██████████| 52/52 [00:00<00:00, 73.57it/s]\n",
      "Finished [100%]: Average Loss = 53,656\n"
     ]
    },
    {
     "name": "stdout",
     "output_type": "stream",
     "text": [
      "5\n"
     ]
    },
    {
     "name": "stderr",
     "output_type": "stream",
     "text": [
      "100%|██████████| 100/100 [00:01<00:00, 88.04it/s]\n",
      "Average Loss = 52,457: 100%|██████████| 51/51 [00:00<00:00, 70.98it/s]\n",
      "Finished [100%]: Average Loss = 52,457\n"
     ]
    },
    {
     "name": "stdout",
     "output_type": "stream",
     "text": [
      "6\n"
     ]
    },
    {
     "name": "stderr",
     "output_type": "stream",
     "text": [
      "100%|██████████| 100/100 [00:01<00:00, 86.18it/s]\n",
      "Average Loss = 51,381: 100%|██████████| 52/52 [00:00<00:00, 72.75it/s]\n",
      "Finished [100%]: Average Loss = 51,370\n"
     ]
    },
    {
     "name": "stdout",
     "output_type": "stream",
     "text": [
      "7\n"
     ]
    },
    {
     "name": "stderr",
     "output_type": "stream",
     "text": [
      "100%|██████████| 100/100 [00:01<00:00, 86.65it/s]\n",
      "Average Loss = 50,179: 100%|██████████| 51/51 [00:00<00:00, 71.48it/s]\n",
      "Finished [100%]: Average Loss = 50,179\n"
     ]
    },
    {
     "name": "stdout",
     "output_type": "stream",
     "text": [
      "8\n"
     ]
    },
    {
     "name": "stderr",
     "output_type": "stream",
     "text": [
      "100%|██████████| 100/100 [00:01<00:00, 85.58it/s]\n",
      "Average Loss = 49,070: 100%|██████████| 52/52 [00:00<00:00, 72.51it/s]\n",
      "Finished [100%]: Average Loss = 49,067\n"
     ]
    },
    {
     "name": "stdout",
     "output_type": "stream",
     "text": [
      "9\n"
     ]
    },
    {
     "name": "stderr",
     "output_type": "stream",
     "text": [
      "100%|██████████| 100/100 [00:01<00:00, 85.75it/s]\n",
      "Average Loss = 47,945: 100%|██████████| 52/52 [00:00<00:00, 70.56it/s]\n",
      "Finished [100%]: Average Loss = 47,934\n"
     ]
    },
    {
     "name": "stdout",
     "output_type": "stream",
     "text": [
      "10\n"
     ]
    },
    {
     "name": "stderr",
     "output_type": "stream",
     "text": [
      "100%|██████████| 100/100 [00:01<00:00, 86.37it/s]\n",
      "Average Loss = 46,883: 100%|██████████| 53/53 [00:00<00:00, 70.49it/s]\n",
      "Finished [100%]: Average Loss = 46,863\n"
     ]
    },
    {
     "name": "stdout",
     "output_type": "stream",
     "text": [
      "11\n"
     ]
    },
    {
     "name": "stderr",
     "output_type": "stream",
     "text": [
      "100%|██████████| 100/100 [00:01<00:00, 88.32it/s]\n",
      "Average Loss = 45,774: 100%|██████████| 53/53 [00:00<00:00, 59.99it/s]\n",
      "Finished [100%]: Average Loss = 45,749\n"
     ]
    },
    {
     "name": "stdout",
     "output_type": "stream",
     "text": [
      "12\n"
     ]
    },
    {
     "name": "stderr",
     "output_type": "stream",
     "text": [
      "100%|██████████| 100/100 [00:01<00:00, 79.34it/s]\n",
      "Average Loss = 44,782: 100%|██████████| 45/45 [00:00<00:00, 73.56it/s]\n",
      "Finished [100%]: Average Loss = 44,758\n"
     ]
    },
    {
     "name": "stdout",
     "output_type": "stream",
     "text": [
      "13\n"
     ]
    },
    {
     "name": "stderr",
     "output_type": "stream",
     "text": [
      "100%|██████████| 100/100 [00:01<00:00, 78.76it/s]\n",
      "Average Loss = 43,803: 100%|██████████| 54/54 [00:00<00:00, 74.32it/s]\n",
      "Finished [100%]: Average Loss = 43,779\n"
     ]
    },
    {
     "name": "stdout",
     "output_type": "stream",
     "text": [
      "14\n"
     ]
    },
    {
     "name": "stderr",
     "output_type": "stream",
     "text": [
      "100%|██████████| 100/100 [00:01<00:00, 80.66it/s]\n",
      "Average Loss = 42,733: 100%|██████████| 54/54 [00:00<00:00, 72.41it/s]\n",
      "Finished [100%]: Average Loss = 42,718\n"
     ]
    },
    {
     "name": "stdout",
     "output_type": "stream",
     "text": [
      "15\n"
     ]
    },
    {
     "name": "stderr",
     "output_type": "stream",
     "text": [
      "100%|██████████| 100/100 [00:01<00:00, 70.68it/s]\n",
      "Average Loss = 41,718: 100%|██████████| 56/56 [00:00<00:00, 60.83it/s]\n",
      "Finished [100%]: Average Loss = 41,684\n"
     ]
    },
    {
     "name": "stdout",
     "output_type": "stream",
     "text": [
      "16\n"
     ]
    },
    {
     "name": "stderr",
     "output_type": "stream",
     "text": [
      "100%|██████████| 100/100 [00:01<00:00, 84.76it/s]\n",
      "Average Loss = 40,762: 100%|██████████| 54/54 [00:00<00:00, 75.19it/s]\n",
      "Finished [100%]: Average Loss = 40,748\n"
     ]
    },
    {
     "name": "stdout",
     "output_type": "stream",
     "text": [
      "17\n"
     ]
    },
    {
     "name": "stderr",
     "output_type": "stream",
     "text": [
      "100%|██████████| 100/100 [00:01<00:00, 88.65it/s]\n",
      "Average Loss = 39,741: 100%|██████████| 53/53 [00:00<00:00, 70.86it/s]\n",
      "Finished [100%]: Average Loss = 39,728\n"
     ]
    },
    {
     "name": "stdout",
     "output_type": "stream",
     "text": [
      "18\n"
     ]
    },
    {
     "name": "stderr",
     "output_type": "stream",
     "text": [
      "100%|██████████| 100/100 [00:01<00:00, 83.15it/s]\n",
      "Average Loss = 38,840: 100%|██████████| 54/54 [00:00<00:00, 75.20it/s]\n",
      "Finished [100%]: Average Loss = 38,812\n"
     ]
    },
    {
     "name": "stdout",
     "output_type": "stream",
     "text": [
      "19\n"
     ]
    },
    {
     "name": "stderr",
     "output_type": "stream",
     "text": [
      "100%|██████████| 100/100 [00:01<00:00, 84.93it/s]\n",
      "Average Loss = 37,946: 100%|██████████| 56/56 [00:00<00:00, 72.26it/s]\n",
      "Finished [100%]: Average Loss = 37,914\n"
     ]
    },
    {
     "name": "stdout",
     "output_type": "stream",
     "text": [
      "20\n"
     ]
    },
    {
     "name": "stderr",
     "output_type": "stream",
     "text": [
      "100%|██████████| 100/100 [00:01<00:00, 85.98it/s]\n",
      "Average Loss = 36,989: 100%|██████████| 54/54 [00:00<00:00, 70.08it/s]\n",
      "Finished [100%]: Average Loss = 36,959\n"
     ]
    },
    {
     "name": "stdout",
     "output_type": "stream",
     "text": [
      "21\n"
     ]
    },
    {
     "name": "stderr",
     "output_type": "stream",
     "text": [
      "100%|██████████| 100/100 [00:01<00:00, 92.49it/s]\n",
      "Average Loss = 36,096: 100%|██████████| 53/53 [00:00<00:00, 75.39it/s]\n",
      "Finished [100%]: Average Loss = 36,072\n"
     ]
    },
    {
     "name": "stdout",
     "output_type": "stream",
     "text": [
      "22\n"
     ]
    },
    {
     "name": "stderr",
     "output_type": "stream",
     "text": [
      "100%|██████████| 100/100 [00:01<00:00, 73.65it/s]\n",
      "Average Loss = 35,212: 100%|██████████| 55/55 [00:00<00:00, 67.38it/s]\n",
      "Finished [100%]: Average Loss = 35,185\n"
     ]
    },
    {
     "name": "stdout",
     "output_type": "stream",
     "text": [
      "23\n"
     ]
    },
    {
     "name": "stderr",
     "output_type": "stream",
     "text": [
      "100%|██████████| 100/100 [00:01<00:00, 82.88it/s]\n",
      "Average Loss = 34,399: 100%|██████████| 55/55 [00:00<00:00, 69.05it/s]\n",
      "Finished [100%]: Average Loss = 34,356\n"
     ]
    },
    {
     "name": "stdout",
     "output_type": "stream",
     "text": [
      "24\n"
     ]
    },
    {
     "name": "stderr",
     "output_type": "stream",
     "text": [
      "100%|██████████| 100/100 [00:01<00:00, 89.16it/s]\n",
      "Average Loss = 33,581: 100%|██████████| 54/54 [00:00<00:00, 72.53it/s]\n",
      "Finished [100%]: Average Loss = 33,552\n"
     ]
    },
    {
     "name": "stdout",
     "output_type": "stream",
     "text": [
      "25\n"
     ]
    },
    {
     "name": "stderr",
     "output_type": "stream",
     "text": [
      "100%|██████████| 100/100 [00:01<00:00, 89.90it/s]\n",
      "Average Loss = 32,743: 100%|██████████| 54/54 [00:00<00:00, 72.97it/s]\n",
      "Finished [100%]: Average Loss = 32,723\n"
     ]
    },
    {
     "name": "stdout",
     "output_type": "stream",
     "text": [
      "26\n"
     ]
    },
    {
     "name": "stderr",
     "output_type": "stream",
     "text": [
      "100%|██████████| 100/100 [00:01<00:00, 91.44it/s]\n",
      "Average Loss = 31,946: 100%|██████████| 54/54 [00:00<00:00, 74.65it/s]\n",
      "Finished [100%]: Average Loss = 31,912\n"
     ]
    },
    {
     "name": "stdout",
     "output_type": "stream",
     "text": [
      "27\n"
     ]
    },
    {
     "name": "stderr",
     "output_type": "stream",
     "text": [
      "100%|██████████| 100/100 [00:01<00:00, 88.06it/s]\n",
      "Average Loss = 31,142: 100%|██████████| 54/54 [00:00<00:00, 73.39it/s]\n",
      "Finished [100%]: Average Loss = 31,124\n"
     ]
    },
    {
     "name": "stdout",
     "output_type": "stream",
     "text": [
      "28\n"
     ]
    },
    {
     "name": "stderr",
     "output_type": "stream",
     "text": [
      "100%|██████████| 100/100 [00:01<00:00, 85.96it/s]\n",
      "Average Loss = 30,377: 100%|██████████| 54/54 [00:00<00:00, 74.04it/s]\n",
      "Finished [100%]: Average Loss = 30,356\n"
     ]
    },
    {
     "name": "stdout",
     "output_type": "stream",
     "text": [
      "29\n"
     ]
    },
    {
     "name": "stderr",
     "output_type": "stream",
     "text": [
      "100%|██████████| 100/100 [00:01<00:00, 81.21it/s]\n",
      "Average Loss = 29,646: 100%|██████████| 54/54 [00:00<00:00, 72.66it/s]\n",
      "Finished [100%]: Average Loss = 29,628\n"
     ]
    },
    {
     "name": "stdout",
     "output_type": "stream",
     "text": [
      "30\n"
     ]
    },
    {
     "name": "stderr",
     "output_type": "stream",
     "text": [
      "100%|██████████| 100/100 [00:01<00:00, 91.59it/s]\n",
      "Average Loss = 28,898: 100%|██████████| 52/52 [00:00<00:00, 71.46it/s]\n",
      "Finished [100%]: Average Loss = 28,887\n"
     ]
    },
    {
     "name": "stdout",
     "output_type": "stream",
     "text": [
      "31\n"
     ]
    },
    {
     "name": "stderr",
     "output_type": "stream",
     "text": [
      "100%|██████████| 100/100 [00:01<00:00, 82.92it/s]\n",
      "Average Loss = 28,269: 100%|██████████| 54/54 [00:00<00:00, 75.91it/s]\n",
      "Finished [100%]: Average Loss = 28,241\n"
     ]
    },
    {
     "name": "stdout",
     "output_type": "stream",
     "text": [
      "32\n"
     ]
    },
    {
     "name": "stderr",
     "output_type": "stream",
     "text": [
      "100%|██████████| 100/100 [00:01<00:00, 86.81it/s]\n",
      "Average Loss = 27,513: 100%|██████████| 52/52 [00:00<00:00, 69.66it/s]\n",
      "Finished [100%]: Average Loss = 27,510\n"
     ]
    },
    {
     "name": "stdout",
     "output_type": "stream",
     "text": [
      "33\n"
     ]
    },
    {
     "name": "stderr",
     "output_type": "stream",
     "text": [
      "100%|██████████| 100/100 [00:04<00:00, 24.41it/s]\n",
      "Average Loss = 26,848: 100%|██████████| 55/55 [00:00<00:00, 69.18it/s]\n",
      "Finished [100%]: Average Loss = 26,830\n"
     ]
    },
    {
     "name": "stdout",
     "output_type": "stream",
     "text": [
      "34\n"
     ]
    },
    {
     "name": "stderr",
     "output_type": "stream",
     "text": [
      "100%|██████████| 100/100 [00:01<00:00, 81.89it/s]\n",
      "Average Loss = 26,239: 100%|██████████| 54/54 [00:00<00:00, 73.99it/s]\n",
      "Finished [100%]: Average Loss = 26,216\n"
     ]
    },
    {
     "name": "stdout",
     "output_type": "stream",
     "text": [
      "35\n"
     ]
    },
    {
     "name": "stderr",
     "output_type": "stream",
     "text": [
      "100%|██████████| 100/100 [00:01<00:00, 83.97it/s]\n",
      "Average Loss = 25,547: 100%|██████████| 56/56 [00:00<00:00, 70.98it/s]\n",
      "Finished [100%]: Average Loss = 25,534\n"
     ]
    },
    {
     "name": "stdout",
     "output_type": "stream",
     "text": [
      "36\n"
     ]
    },
    {
     "name": "stderr",
     "output_type": "stream",
     "text": [
      "100%|██████████| 100/100 [00:01<00:00, 84.90it/s]\n",
      "Average Loss = 24,903: 100%|██████████| 55/55 [00:00<00:00, 73.26it/s]\n",
      "Finished [100%]: Average Loss = 24,880\n"
     ]
    },
    {
     "name": "stdout",
     "output_type": "stream",
     "text": [
      "37\n"
     ]
    },
    {
     "name": "stderr",
     "output_type": "stream",
     "text": [
      "100%|██████████| 100/100 [00:01<00:00, 85.02it/s]\n",
      "Average Loss = 24,264: 100%|██████████| 54/54 [00:00<00:00, 71.05it/s]\n",
      "Finished [100%]: Average Loss = 24,240\n"
     ]
    },
    {
     "name": "stdout",
     "output_type": "stream",
     "text": [
      "38\n"
     ]
    },
    {
     "name": "stderr",
     "output_type": "stream",
     "text": [
      "100%|██████████| 100/100 [00:01<00:00, 82.76it/s]\n",
      "Average Loss = 23,700: 100%|██████████| 55/55 [00:00<00:00, 72.16it/s]\n",
      "Finished [100%]: Average Loss = 23,676\n"
     ]
    },
    {
     "name": "stdout",
     "output_type": "stream",
     "text": [
      "39\n"
     ]
    },
    {
     "name": "stderr",
     "output_type": "stream",
     "text": [
      "100%|██████████| 100/100 [00:01<00:00, 90.46it/s]\n",
      "Average Loss = 23,078: 100%|██████████| 55/55 [00:00<00:00, 67.81it/s]\n",
      "Finished [100%]: Average Loss = 23,063\n"
     ]
    },
    {
     "name": "stdout",
     "output_type": "stream",
     "text": [
      "40\n"
     ]
    },
    {
     "name": "stderr",
     "output_type": "stream",
     "text": [
      "100%|██████████| 100/100 [00:01<00:00, 84.22it/s]\n",
      "Average Loss = 22,545: 100%|██████████| 55/55 [00:00<00:00, 71.63it/s]\n",
      "Finished [100%]: Average Loss = 22,528\n"
     ]
    },
    {
     "name": "stdout",
     "output_type": "stream",
     "text": [
      "41\n"
     ]
    },
    {
     "name": "stderr",
     "output_type": "stream",
     "text": [
      "100%|██████████| 100/100 [00:01<00:00, 87.14it/s]\n",
      "Average Loss = 22,020: 100%|██████████| 55/55 [00:00<00:00, 71.00it/s]\n",
      "Finished [100%]: Average Loss = 21,983\n"
     ]
    },
    {
     "name": "stdout",
     "output_type": "stream",
     "text": [
      "42\n"
     ]
    },
    {
     "name": "stderr",
     "output_type": "stream",
     "text": [
      "100%|██████████| 100/100 [00:01<00:00, 81.21it/s]\n",
      "Average Loss = 21,413: 100%|██████████| 53/53 [00:00<00:00, 72.20it/s]\n",
      "Finished [100%]: Average Loss = 21,404\n"
     ]
    },
    {
     "name": "stdout",
     "output_type": "stream",
     "text": [
      "43\n"
     ]
    },
    {
     "name": "stderr",
     "output_type": "stream",
     "text": [
      "100%|██████████| 100/100 [00:01<00:00, 88.72it/s]\n",
      "Average Loss = 20,858: 100%|██████████| 52/52 [00:00<00:00, 63.05it/s]\n",
      "Finished [100%]: Average Loss = 20,856\n"
     ]
    },
    {
     "name": "stdout",
     "output_type": "stream",
     "text": [
      "44\n"
     ]
    },
    {
     "name": "stderr",
     "output_type": "stream",
     "text": [
      "100%|██████████| 100/100 [00:01<00:00, 89.53it/s]\n",
      "Average Loss = 20,429: 100%|██████████| 54/54 [00:00<00:00, 73.26it/s]\n",
      "Finished [100%]: Average Loss = 20,407\n"
     ]
    },
    {
     "name": "stdout",
     "output_type": "stream",
     "text": [
      "45\n"
     ]
    },
    {
     "name": "stderr",
     "output_type": "stream",
     "text": [
      "100%|██████████| 100/100 [00:01<00:00, 80.30it/s]\n",
      "Average Loss = 19,880: 100%|██████████| 55/55 [00:00<00:00, 67.12it/s]\n",
      "Finished [100%]: Average Loss = 19,860\n"
     ]
    },
    {
     "name": "stdout",
     "output_type": "stream",
     "text": [
      "46\n"
     ]
    },
    {
     "name": "stderr",
     "output_type": "stream",
     "text": [
      "100%|██████████| 100/100 [00:01<00:00, 65.09it/s]\n",
      "Average Loss = 19,401: 100%|██████████| 54/54 [00:00<00:00, 62.92it/s]\n",
      "Finished [100%]: Average Loss = 19,386\n"
     ]
    },
    {
     "name": "stdout",
     "output_type": "stream",
     "text": [
      "47\n"
     ]
    },
    {
     "name": "stderr",
     "output_type": "stream",
     "text": [
      "100%|██████████| 100/100 [00:01<00:00, 74.94it/s]\n",
      "Average Loss = 18,916: 100%|██████████| 55/55 [00:00<00:00, 66.87it/s]\n",
      "Finished [100%]: Average Loss = 18,913\n"
     ]
    },
    {
     "name": "stdout",
     "output_type": "stream",
     "text": [
      "48\n"
     ]
    },
    {
     "name": "stderr",
     "output_type": "stream",
     "text": [
      "100%|██████████| 100/100 [00:01<00:00, 78.96it/s]\n",
      "Average Loss = 18,441: 100%|██████████| 54/54 [00:00<00:00, 73.07it/s]\n",
      "Finished [100%]: Average Loss = 18,438\n"
     ]
    },
    {
     "name": "stdout",
     "output_type": "stream",
     "text": [
      "49\n"
     ]
    },
    {
     "name": "stderr",
     "output_type": "stream",
     "text": [
      "100%|██████████| 100/100 [00:01<00:00, 88.53it/s]\n",
      "Average Loss = 17,958: 100%|██████████| 54/54 [00:00<00:00, 57.82it/s]\n",
      "Finished [100%]: Average Loss = 17,953\n"
     ]
    },
    {
     "name": "stdout",
     "output_type": "stream",
     "text": [
      "50\n"
     ]
    },
    {
     "name": "stderr",
     "output_type": "stream",
     "text": [
      "100%|██████████| 100/100 [00:01<00:00, 73.90it/s]\n",
      "Average Loss = 17,507: 100%|██████████| 55/55 [00:00<00:00, 65.56it/s]\n",
      "Finished [100%]: Average Loss = 17,505\n"
     ]
    },
    {
     "name": "stdout",
     "output_type": "stream",
     "text": [
      "51\n"
     ]
    },
    {
     "name": "stderr",
     "output_type": "stream",
     "text": [
      "100%|██████████| 100/100 [00:01<00:00, 78.31it/s]\n",
      "Average Loss = 17,080: 100%|██████████| 54/54 [00:00<00:00, 56.83it/s]\n",
      "Finished [100%]: Average Loss = 17,069\n"
     ]
    },
    {
     "name": "stdout",
     "output_type": "stream",
     "text": [
      "52\n"
     ]
    },
    {
     "name": "stderr",
     "output_type": "stream",
     "text": [
      "100%|██████████| 100/100 [00:01<00:00, 82.41it/s]\n",
      "Average Loss = 16,651: 100%|██████████| 54/54 [00:00<00:00, 74.39it/s]\n",
      "Finished [100%]: Average Loss = 16,638\n"
     ]
    },
    {
     "name": "stdout",
     "output_type": "stream",
     "text": [
      "53\n"
     ]
    },
    {
     "name": "stderr",
     "output_type": "stream",
     "text": [
      "100%|██████████| 100/100 [00:01<00:00, 91.60it/s]\n",
      "Average Loss = 16,283: 100%|██████████| 53/53 [00:00<00:00, 54.64it/s]\n",
      "Finished [100%]: Average Loss = 16,273\n"
     ]
    },
    {
     "name": "stdout",
     "output_type": "stream",
     "text": [
      "54\n"
     ]
    },
    {
     "name": "stderr",
     "output_type": "stream",
     "text": [
      "100%|██████████| 100/100 [00:01<00:00, 71.75it/s]\n",
      "Average Loss = 15,876: 100%|██████████| 54/54 [00:00<00:00, 59.14it/s]\n",
      "Finished [100%]: Average Loss = 15,864\n"
     ]
    },
    {
     "name": "stdout",
     "output_type": "stream",
     "text": [
      "55\n"
     ]
    },
    {
     "name": "stderr",
     "output_type": "stream",
     "text": [
      "100%|██████████| 100/100 [00:01<00:00, 87.43it/s]\n",
      "Average Loss = 15,539: 100%|██████████| 55/55 [00:01<00:00, 54.82it/s]\n",
      "Finished [100%]: Average Loss = 15,526\n"
     ]
    },
    {
     "name": "stdout",
     "output_type": "stream",
     "text": [
      "56\n"
     ]
    },
    {
     "name": "stderr",
     "output_type": "stream",
     "text": [
      "100%|██████████| 100/100 [00:01<00:00, 74.03it/s]\n",
      "Average Loss = 15,077: 100%|██████████| 54/54 [00:00<00:00, 69.01it/s]\n",
      "Finished [100%]: Average Loss = 15,065\n"
     ]
    },
    {
     "name": "stdout",
     "output_type": "stream",
     "text": [
      "57\n"
     ]
    },
    {
     "name": "stderr",
     "output_type": "stream",
     "text": [
      "100%|██████████| 100/100 [00:01<00:00, 73.91it/s]\n",
      "Average Loss = 14,732: 100%|██████████| 55/55 [00:00<00:00, 69.52it/s]\n",
      "Finished [100%]: Average Loss = 14,722\n"
     ]
    },
    {
     "name": "stdout",
     "output_type": "stream",
     "text": [
      "58\n"
     ]
    },
    {
     "name": "stderr",
     "output_type": "stream",
     "text": [
      "100%|██████████| 100/100 [00:01<00:00, 83.88it/s]\n",
      "Average Loss = 14,372: 100%|██████████| 55/55 [00:00<00:00, 70.10it/s]\n",
      "Finished [100%]: Average Loss = 14,354\n"
     ]
    },
    {
     "name": "stdout",
     "output_type": "stream",
     "text": [
      "59\n"
     ]
    },
    {
     "name": "stderr",
     "output_type": "stream",
     "text": [
      "100%|██████████| 100/100 [00:01<00:00, 73.74it/s]\n",
      "Average Loss = 13,976: 100%|██████████| 55/55 [00:01<00:00, 43.22it/s]\n",
      "Finished [100%]: Average Loss = 13,965\n"
     ]
    },
    {
     "name": "stdout",
     "output_type": "stream",
     "text": [
      "60\n"
     ]
    },
    {
     "name": "stderr",
     "output_type": "stream",
     "text": [
      "100%|██████████| 100/100 [00:01<00:00, 65.95it/s]\n",
      "Average Loss = 13,644: 100%|██████████| 54/54 [00:01<00:00, 52.88it/s]\n",
      "Finished [100%]: Average Loss = 13,636\n"
     ]
    },
    {
     "name": "stdout",
     "output_type": "stream",
     "text": [
      "61\n"
     ]
    },
    {
     "name": "stderr",
     "output_type": "stream",
     "text": [
      "100%|██████████| 100/100 [00:01<00:00, 60.24it/s]\n",
      "Average Loss = 13,330: 100%|██████████| 55/55 [00:01<00:00, 46.20it/s]\n",
      "Finished [100%]: Average Loss = 13,325\n"
     ]
    },
    {
     "name": "stdout",
     "output_type": "stream",
     "text": [
      "62\n"
     ]
    },
    {
     "name": "stderr",
     "output_type": "stream",
     "text": [
      "100%|██████████| 100/100 [00:01<00:00, 73.97it/s]\n",
      "Average Loss = 13,029: 100%|██████████| 54/54 [00:00<00:00, 71.66it/s]\n",
      "Finished [100%]: Average Loss = 13,026\n"
     ]
    },
    {
     "name": "stdout",
     "output_type": "stream",
     "text": [
      "63\n"
     ]
    },
    {
     "name": "stderr",
     "output_type": "stream",
     "text": [
      "100%|██████████| 100/100 [00:01<00:00, 81.67it/s]\n",
      "Average Loss = 12,662: 100%|██████████| 54/54 [00:00<00:00, 65.41it/s]\n",
      "Finished [100%]: Average Loss = 12,654\n"
     ]
    },
    {
     "name": "stdout",
     "output_type": "stream",
     "text": [
      "64\n"
     ]
    },
    {
     "name": "stderr",
     "output_type": "stream",
     "text": [
      "100%|██████████| 100/100 [00:01<00:00, 76.69it/s]\n",
      "Average Loss = 12,350: 100%|██████████| 54/54 [00:00<00:00, 66.54it/s]\n",
      "Finished [100%]: Average Loss = 12,347\n"
     ]
    },
    {
     "name": "stdout",
     "output_type": "stream",
     "text": [
      "65\n"
     ]
    },
    {
     "name": "stderr",
     "output_type": "stream",
     "text": [
      "100%|██████████| 100/100 [00:01<00:00, 73.33it/s]\n",
      "Average Loss = 12,015: 100%|██████████| 55/55 [00:00<00:00, 61.16it/s]\n",
      "Finished [100%]: Average Loss = 12,009\n"
     ]
    },
    {
     "name": "stdout",
     "output_type": "stream",
     "text": [
      "66\n"
     ]
    },
    {
     "name": "stderr",
     "output_type": "stream",
     "text": [
      "100%|██████████| 100/100 [00:01<00:00, 80.40it/s]\n",
      "Average Loss = 11,740: 100%|██████████| 54/54 [00:00<00:00, 62.71it/s]\n",
      "Finished [100%]: Average Loss = 11,735\n"
     ]
    },
    {
     "name": "stdout",
     "output_type": "stream",
     "text": [
      "67\n"
     ]
    },
    {
     "name": "stderr",
     "output_type": "stream",
     "text": [
      "100%|██████████| 100/100 [00:01<00:00, 79.70it/s]\n",
      "Average Loss = 11,485: 100%|██████████| 56/56 [00:01<00:00, 43.75it/s]\n",
      "Finished [100%]: Average Loss = 11,468\n"
     ]
    },
    {
     "name": "stdout",
     "output_type": "stream",
     "text": [
      "68\n"
     ]
    },
    {
     "name": "stderr",
     "output_type": "stream",
     "text": [
      "100%|██████████| 100/100 [00:01<00:00, 80.41it/s]\n",
      "Average Loss = 11,167: 100%|██████████| 54/54 [00:00<00:00, 55.68it/s]\n",
      "Finished [100%]: Average Loss = 11,160\n"
     ]
    },
    {
     "name": "stdout",
     "output_type": "stream",
     "text": [
      "69\n"
     ]
    },
    {
     "name": "stderr",
     "output_type": "stream",
     "text": [
      "100%|██████████| 100/100 [00:01<00:00, 64.25it/s]\n",
      "Average Loss = 10,954: 100%|██████████| 51/51 [00:00<00:00, 73.03it/s]\n",
      "Finished [100%]: Average Loss = 10,954\n"
     ]
    },
    {
     "name": "stdout",
     "output_type": "stream",
     "text": [
      "70\n"
     ]
    },
    {
     "name": "stderr",
     "output_type": "stream",
     "text": [
      "100%|██████████| 100/100 [00:01<00:00, 82.34it/s]\n",
      "Average Loss = 10,659: 100%|██████████| 55/55 [00:00<00:00, 71.80it/s]\n",
      "Finished [100%]: Average Loss = 10,657\n"
     ]
    },
    {
     "name": "stdout",
     "output_type": "stream",
     "text": [
      "71\n"
     ]
    },
    {
     "name": "stderr",
     "output_type": "stream",
     "text": [
      "100%|██████████| 100/100 [00:01<00:00, 56.29it/s]\n",
      "Average Loss = 10,418: 100%|██████████| 55/55 [00:01<00:00, 53.90it/s]\n",
      "Finished [100%]: Average Loss = 10,410\n"
     ]
    },
    {
     "name": "stdout",
     "output_type": "stream",
     "text": [
      "72\n"
     ]
    },
    {
     "name": "stderr",
     "output_type": "stream",
     "text": [
      "100%|██████████| 100/100 [00:01<00:00, 88.56it/s]\n",
      "Average Loss = 10,145: 100%|██████████| 55/55 [00:00<00:00, 59.08it/s]\n",
      "Finished [100%]: Average Loss = 10,149\n"
     ]
    },
    {
     "name": "stdout",
     "output_type": "stream",
     "text": [
      "73\n"
     ]
    },
    {
     "name": "stderr",
     "output_type": "stream",
     "text": [
      "100%|██████████| 100/100 [00:01<00:00, 60.49it/s]\n",
      "Average Loss = 9,947: 100%|██████████| 54/54 [00:00<00:00, 66.86it/s]\n",
      "Finished [100%]: Average Loss = 9,941.2\n"
     ]
    },
    {
     "name": "stdout",
     "output_type": "stream",
     "text": [
      "74\n"
     ]
    },
    {
     "name": "stderr",
     "output_type": "stream",
     "text": [
      "100%|██████████| 100/100 [00:01<00:00, 59.93it/s]\n",
      "Average Loss = 9,683.8: 100%|██████████| 54/54 [00:00<00:00, 57.47it/s]\n",
      "Finished [100%]: Average Loss = 9,679.4\n"
     ]
    },
    {
     "name": "stdout",
     "output_type": "stream",
     "text": [
      "75\n"
     ]
    },
    {
     "name": "stderr",
     "output_type": "stream",
     "text": [
      "100%|██████████| 100/100 [00:01<00:00, 82.56it/s]\n",
      "Average Loss = 9,423.2: 100%|██████████| 55/55 [00:00<00:00, 74.14it/s]\n",
      "Finished [100%]: Average Loss = 9,413.8\n"
     ]
    },
    {
     "name": "stdout",
     "output_type": "stream",
     "text": [
      "76\n"
     ]
    },
    {
     "name": "stderr",
     "output_type": "stream",
     "text": [
      "100%|██████████| 100/100 [00:01<00:00, 79.76it/s]\n",
      "Average Loss = 9,196.6: 100%|██████████| 55/55 [00:00<00:00, 73.99it/s]\n",
      "Finished [100%]: Average Loss = 9,189.8\n"
     ]
    },
    {
     "name": "stdout",
     "output_type": "stream",
     "text": [
      "77\n"
     ]
    },
    {
     "name": "stderr",
     "output_type": "stream",
     "text": [
      "100%|██████████| 100/100 [00:01<00:00, 81.98it/s]\n",
      "Average Loss = 9,003.5: 100%|██████████| 55/55 [00:00<00:00, 75.14it/s]\n",
      "Finished [100%]: Average Loss = 9,002.3\n"
     ]
    },
    {
     "name": "stdout",
     "output_type": "stream",
     "text": [
      "78\n"
     ]
    },
    {
     "name": "stderr",
     "output_type": "stream",
     "text": [
      "100%|██████████| 100/100 [00:01<00:00, 81.95it/s]\n",
      "Average Loss = 8,739.7: 100%|██████████| 53/53 [00:00<00:00, 61.72it/s]\n",
      "Finished [100%]: Average Loss = 8,735.6\n"
     ]
    },
    {
     "name": "stdout",
     "output_type": "stream",
     "text": [
      "79\n"
     ]
    },
    {
     "name": "stderr",
     "output_type": "stream",
     "text": [
      "100%|██████████| 100/100 [00:01<00:00, 63.15it/s]\n",
      "Average Loss = 8,548.4: 100%|██████████| 53/53 [00:00<00:00, 64.51it/s]\n",
      "Finished [100%]: Average Loss = 8,538.3\n"
     ]
    },
    {
     "name": "stdout",
     "output_type": "stream",
     "text": [
      "80\n"
     ]
    },
    {
     "name": "stderr",
     "output_type": "stream",
     "text": [
      "100%|██████████| 100/100 [00:01<00:00, 79.97it/s]\n",
      "Average Loss = 8,387.2: 100%|██████████| 55/55 [00:00<00:00, 66.27it/s]\n",
      "Finished [100%]: Average Loss = 8,378.8\n"
     ]
    },
    {
     "name": "stdout",
     "output_type": "stream",
     "text": [
      "81\n"
     ]
    },
    {
     "name": "stderr",
     "output_type": "stream",
     "text": [
      "100%|██████████| 100/100 [00:01<00:00, 64.88it/s]\n",
      "Average Loss = 8,156: 100%|██████████| 54/54 [00:00<00:00, 73.79it/s]\n",
      "Finished [100%]: Average Loss = 8,150.9\n"
     ]
    },
    {
     "name": "stdout",
     "output_type": "stream",
     "text": [
      "82\n"
     ]
    },
    {
     "name": "stderr",
     "output_type": "stream",
     "text": [
      "100%|██████████| 100/100 [00:01<00:00, 73.08it/s]\n",
      "Average Loss = 8,051: 100%|██████████| 54/54 [00:00<00:00, 65.20it/s]\n",
      "Finished [100%]: Average Loss = 8,035.6\n"
     ]
    },
    {
     "name": "stdout",
     "output_type": "stream",
     "text": [
      "83\n"
     ]
    },
    {
     "name": "stderr",
     "output_type": "stream",
     "text": [
      "100%|██████████| 100/100 [00:01<00:00, 70.35it/s]\n",
      "Average Loss = 7,806.5: 100%|██████████| 55/55 [00:00<00:00, 66.45it/s]\n",
      "Finished [100%]: Average Loss = 7,797.7\n"
     ]
    },
    {
     "name": "stdout",
     "output_type": "stream",
     "text": [
      "84\n"
     ]
    },
    {
     "name": "stderr",
     "output_type": "stream",
     "text": [
      "100%|██████████| 100/100 [00:01<00:00, 86.81it/s]\n",
      "Average Loss = 7,607.5: 100%|██████████| 56/56 [00:00<00:00, 71.83it/s]\n",
      "Finished [100%]: Average Loss = 7,592.1\n"
     ]
    },
    {
     "name": "stdout",
     "output_type": "stream",
     "text": [
      "85\n"
     ]
    },
    {
     "name": "stderr",
     "output_type": "stream",
     "text": [
      "100%|██████████| 100/100 [00:01<00:00, 80.12it/s]\n",
      "Average Loss = 7,452.3: 100%|██████████| 55/55 [00:00<00:00, 71.68it/s]\n",
      "Finished [100%]: Average Loss = 7,446.7\n"
     ]
    },
    {
     "name": "stdout",
     "output_type": "stream",
     "text": [
      "86\n"
     ]
    },
    {
     "name": "stderr",
     "output_type": "stream",
     "text": [
      "100%|██████████| 100/100 [00:01<00:00, 90.20it/s]\n",
      "Average Loss = 7,253.3: 100%|██████████| 54/54 [00:00<00:00, 70.20it/s]\n",
      "Finished [100%]: Average Loss = 7,247\n"
     ]
    },
    {
     "name": "stdout",
     "output_type": "stream",
     "text": [
      "87\n"
     ]
    },
    {
     "name": "stderr",
     "output_type": "stream",
     "text": [
      "100%|██████████| 100/100 [00:01<00:00, 77.88it/s]\n",
      "Average Loss = 7,134.1: 100%|██████████| 56/56 [00:00<00:00, 68.39it/s]\n",
      "Finished [100%]: Average Loss = 7,124.4\n"
     ]
    },
    {
     "name": "stdout",
     "output_type": "stream",
     "text": [
      "88\n"
     ]
    },
    {
     "name": "stderr",
     "output_type": "stream",
     "text": [
      "100%|██████████| 100/100 [00:01<00:00, 82.08it/s]\n",
      "Average Loss = 6,913.6: 100%|██████████| 55/55 [00:00<00:00, 66.70it/s]\n",
      "Finished [100%]: Average Loss = 6,898.6\n"
     ]
    },
    {
     "name": "stdout",
     "output_type": "stream",
     "text": [
      "89\n"
     ]
    },
    {
     "name": "stderr",
     "output_type": "stream",
     "text": [
      "100%|██████████| 100/100 [00:01<00:00, 82.16it/s]\n",
      "Average Loss = 6,762.5: 100%|██████████| 55/55 [00:00<00:00, 72.45it/s]\n",
      "Finished [100%]: Average Loss = 6,750.1\n"
     ]
    },
    {
     "name": "stdout",
     "output_type": "stream",
     "text": [
      "90\n"
     ]
    },
    {
     "name": "stderr",
     "output_type": "stream",
     "text": [
      "100%|██████████| 100/100 [00:01<00:00, 86.38it/s]\n",
      "Average Loss = 6,623.8: 100%|██████████| 53/53 [00:00<00:00, 72.18it/s]\n",
      "Finished [100%]: Average Loss = 6,619.9\n"
     ]
    },
    {
     "name": "stdout",
     "output_type": "stream",
     "text": [
      "91\n"
     ]
    },
    {
     "name": "stderr",
     "output_type": "stream",
     "text": [
      "100%|██████████| 100/100 [00:01<00:00, 84.11it/s]\n",
      "Average Loss = 6,509.5: 100%|██████████| 55/55 [00:00<00:00, 71.02it/s]\n",
      "Finished [100%]: Average Loss = 6,501.3\n"
     ]
    },
    {
     "name": "stdout",
     "output_type": "stream",
     "text": [
      "92\n"
     ]
    },
    {
     "name": "stderr",
     "output_type": "stream",
     "text": [
      "100%|██████████| 100/100 [00:01<00:00, 85.82it/s]\n",
      "Average Loss = 6,344.5: 100%|██████████| 55/55 [00:00<00:00, 71.61it/s]\n",
      "Finished [100%]: Average Loss = 6,343.8\n"
     ]
    },
    {
     "name": "stdout",
     "output_type": "stream",
     "text": [
      "93\n"
     ]
    },
    {
     "name": "stderr",
     "output_type": "stream",
     "text": [
      "100%|██████████| 100/100 [00:01<00:00, 89.83it/s]\n",
      "Average Loss = 6,186.8: 100%|██████████| 53/53 [00:00<00:00, 70.60it/s]\n",
      "Finished [100%]: Average Loss = 6,182.1\n"
     ]
    },
    {
     "name": "stdout",
     "output_type": "stream",
     "text": [
      "94\n"
     ]
    },
    {
     "name": "stderr",
     "output_type": "stream",
     "text": [
      "100%|██████████| 100/100 [00:01<00:00, 84.50it/s]\n",
      "Average Loss = 6,078.9: 100%|██████████| 54/54 [00:00<00:00, 70.11it/s]\n",
      "Finished [100%]: Average Loss = 6,078.2\n"
     ]
    },
    {
     "name": "stdout",
     "output_type": "stream",
     "text": [
      "95\n"
     ]
    },
    {
     "name": "stderr",
     "output_type": "stream",
     "text": [
      "100%|██████████| 100/100 [00:01<00:00, 84.81it/s]\n",
      "Average Loss = 5,912.6: 100%|██████████| 55/55 [00:00<00:00, 66.34it/s]\n",
      "Finished [100%]: Average Loss = 5,913.4\n"
     ]
    },
    {
     "name": "stdout",
     "output_type": "stream",
     "text": [
      "96\n"
     ]
    },
    {
     "name": "stderr",
     "output_type": "stream",
     "text": [
      "100%|██████████| 100/100 [00:01<00:00, 84.20it/s]\n",
      "Average Loss = 5,781.6: 100%|██████████| 55/55 [00:00<00:00, 70.88it/s]\n",
      "Finished [100%]: Average Loss = 5,781.2\n"
     ]
    },
    {
     "name": "stdout",
     "output_type": "stream",
     "text": [
      "97\n"
     ]
    },
    {
     "name": "stderr",
     "output_type": "stream",
     "text": [
      "100%|██████████| 100/100 [00:01<00:00, 88.51it/s]\n",
      "Average Loss = 5,675.3: 100%|██████████| 54/54 [00:00<00:00, 63.87it/s]\n",
      "Finished [100%]: Average Loss = 5,674.2\n"
     ]
    },
    {
     "name": "stdout",
     "output_type": "stream",
     "text": [
      "98\n"
     ]
    },
    {
     "name": "stderr",
     "output_type": "stream",
     "text": [
      "100%|██████████| 100/100 [00:01<00:00, 87.48it/s]\n",
      "Average Loss = 5,555.5: 100%|██████████| 56/56 [00:00<00:00, 66.00it/s]\n",
      "Finished [100%]: Average Loss = 5,555.1\n"
     ]
    },
    {
     "name": "stdout",
     "output_type": "stream",
     "text": [
      "99\n"
     ]
    },
    {
     "name": "stderr",
     "output_type": "stream",
     "text": [
      "100%|██████████| 100/100 [00:01<00:00, 80.34it/s]\n",
      "Average Loss = 5,485.9: 100%|██████████| 54/54 [00:01<00:00, 52.90it/s]\n",
      "Finished [100%]: Average Loss = 5,476.1\n"
     ]
    },
    {
     "name": "stdout",
     "output_type": "stream",
     "text": [
      "RUNNING ACTIVE LEARNING CONTROL\n"
     ]
    },
    {
     "name": "stderr",
     "output_type": "stream",
     "text": [
      "Average Loss = 60,221: 100%|██████████| 200/200 [00:03<00:00, 66.03it/s]\n",
      "Finished [100%]: Average Loss = 60,118\n"
     ]
    },
    {
     "name": "stdout",
     "output_type": "stream",
     "text": [
      "1\n"
     ]
    },
    {
     "name": "stderr",
     "output_type": "stream",
     "text": [
      "Average Loss = 57,206: 100%|██████████| 55/55 [00:00<00:00, 75.64it/s]\n",
      "Finished [100%]: Average Loss = 57,151\n"
     ]
    },
    {
     "name": "stdout",
     "output_type": "stream",
     "text": [
      "2\n"
     ]
    },
    {
     "name": "stderr",
     "output_type": "stream",
     "text": [
      "Average Loss = 55,794: 100%|██████████| 55/55 [00:00<00:00, 75.34it/s]\n",
      "Finished [100%]: Average Loss = 55,740\n"
     ]
    },
    {
     "name": "stdout",
     "output_type": "stream",
     "text": [
      "3\n"
     ]
    },
    {
     "name": "stderr",
     "output_type": "stream",
     "text": [
      "Average Loss = 54,545: 100%|██████████| 55/55 [00:00<00:00, 75.31it/s]\n",
      "Finished [100%]: Average Loss = 54,490\n"
     ]
    },
    {
     "name": "stdout",
     "output_type": "stream",
     "text": [
      "4\n"
     ]
    },
    {
     "name": "stderr",
     "output_type": "stream",
     "text": [
      "Average Loss = 53,275: 100%|██████████| 55/55 [00:00<00:00, 72.62it/s]\n",
      "Finished [100%]: Average Loss = 53,239\n"
     ]
    },
    {
     "name": "stdout",
     "output_type": "stream",
     "text": [
      "5\n"
     ]
    },
    {
     "name": "stderr",
     "output_type": "stream",
     "text": [
      "Average Loss = 52,046: 100%|██████████| 55/55 [00:00<00:00, 75.66it/s]\n",
      "Finished [100%]: Average Loss = 51,989\n"
     ]
    },
    {
     "name": "stdout",
     "output_type": "stream",
     "text": [
      "6\n"
     ]
    },
    {
     "name": "stderr",
     "output_type": "stream",
     "text": [
      "Average Loss = 50,838: 100%|██████████| 55/55 [00:00<00:00, 71.61it/s]\n",
      "Finished [100%]: Average Loss = 50,788\n"
     ]
    },
    {
     "name": "stdout",
     "output_type": "stream",
     "text": [
      "7\n"
     ]
    },
    {
     "name": "stderr",
     "output_type": "stream",
     "text": [
      "Average Loss = 49,622: 100%|██████████| 55/55 [00:00<00:00, 64.18it/s]\n",
      "Finished [100%]: Average Loss = 49,565\n"
     ]
    },
    {
     "name": "stdout",
     "output_type": "stream",
     "text": [
      "8\n"
     ]
    },
    {
     "name": "stderr",
     "output_type": "stream",
     "text": [
      "Average Loss = 48,445: 100%|██████████| 55/55 [00:00<00:00, 64.09it/s]\n",
      "Finished [100%]: Average Loss = 48,419\n"
     ]
    },
    {
     "name": "stdout",
     "output_type": "stream",
     "text": [
      "9\n"
     ]
    },
    {
     "name": "stderr",
     "output_type": "stream",
     "text": [
      "Average Loss = 47,350: 100%|██████████| 55/55 [00:01<00:00, 49.20it/s]\n",
      "Finished [100%]: Average Loss = 47,290\n"
     ]
    },
    {
     "name": "stdout",
     "output_type": "stream",
     "text": [
      "10\n"
     ]
    },
    {
     "name": "stderr",
     "output_type": "stream",
     "text": [
      "Average Loss = 46,184: 100%|██████████| 55/55 [00:00<00:00, 74.29it/s]\n",
      "Finished [100%]: Average Loss = 46,145\n"
     ]
    },
    {
     "name": "stdout",
     "output_type": "stream",
     "text": [
      "11\n"
     ]
    },
    {
     "name": "stderr",
     "output_type": "stream",
     "text": [
      "Average Loss = 45,103: 100%|██████████| 55/55 [00:00<00:00, 61.81it/s]\n",
      "Finished [100%]: Average Loss = 45,071\n"
     ]
    },
    {
     "name": "stdout",
     "output_type": "stream",
     "text": [
      "12\n"
     ]
    },
    {
     "name": "stderr",
     "output_type": "stream",
     "text": [
      "Average Loss = 44,007: 100%|██████████| 55/55 [00:00<00:00, 65.74it/s]\n",
      "Finished [100%]: Average Loss = 43,962\n"
     ]
    },
    {
     "name": "stdout",
     "output_type": "stream",
     "text": [
      "13\n"
     ]
    },
    {
     "name": "stderr",
     "output_type": "stream",
     "text": [
      "Average Loss = 42,889: 100%|██████████| 55/55 [00:00<00:00, 58.93it/s]\n",
      "Finished [100%]: Average Loss = 42,862\n"
     ]
    },
    {
     "name": "stdout",
     "output_type": "stream",
     "text": [
      "14\n"
     ]
    },
    {
     "name": "stderr",
     "output_type": "stream",
     "text": [
      "Average Loss = 41,857: 100%|██████████| 55/55 [00:00<00:00, 62.75it/s]\n",
      "Finished [100%]: Average Loss = 41,843\n"
     ]
    },
    {
     "name": "stdout",
     "output_type": "stream",
     "text": [
      "15\n"
     ]
    },
    {
     "name": "stderr",
     "output_type": "stream",
     "text": [
      "Average Loss = 40,928: 100%|██████████| 55/55 [00:00<00:00, 68.43it/s]\n",
      "Finished [100%]: Average Loss = 40,915\n"
     ]
    },
    {
     "name": "stdout",
     "output_type": "stream",
     "text": [
      "16\n"
     ]
    },
    {
     "name": "stderr",
     "output_type": "stream",
     "text": [
      "Average Loss = 39,977: 100%|██████████| 55/55 [00:00<00:00, 74.53it/s]\n",
      "Finished [100%]: Average Loss = 39,941\n"
     ]
    },
    {
     "name": "stdout",
     "output_type": "stream",
     "text": [
      "17\n"
     ]
    },
    {
     "name": "stderr",
     "output_type": "stream",
     "text": [
      "Average Loss = 38,983: 100%|██████████| 55/55 [00:00<00:00, 67.03it/s]\n",
      "Finished [100%]: Average Loss = 38,951\n"
     ]
    },
    {
     "name": "stdout",
     "output_type": "stream",
     "text": [
      "18\n"
     ]
    },
    {
     "name": "stderr",
     "output_type": "stream",
     "text": [
      "Average Loss = 38,005: 100%|██████████| 55/55 [00:00<00:00, 68.74it/s]\n",
      "Finished [100%]: Average Loss = 37,964\n"
     ]
    },
    {
     "name": "stdout",
     "output_type": "stream",
     "text": [
      "19\n"
     ]
    },
    {
     "name": "stderr",
     "output_type": "stream",
     "text": [
      "Average Loss = 37,127: 100%|██████████| 55/55 [00:00<00:00, 74.05it/s]\n",
      "Finished [100%]: Average Loss = 37,096\n"
     ]
    },
    {
     "name": "stdout",
     "output_type": "stream",
     "text": [
      "20\n"
     ]
    },
    {
     "name": "stderr",
     "output_type": "stream",
     "text": [
      "Average Loss = 36,279: 100%|██████████| 55/55 [00:00<00:00, 70.71it/s]\n",
      "Finished [100%]: Average Loss = 36,246\n"
     ]
    },
    {
     "name": "stdout",
     "output_type": "stream",
     "text": [
      "21\n"
     ]
    },
    {
     "name": "stderr",
     "output_type": "stream",
     "text": [
      "Average Loss = 35,352: 100%|██████████| 55/55 [00:00<00:00, 74.96it/s]\n",
      "Finished [100%]: Average Loss = 35,335\n"
     ]
    },
    {
     "name": "stdout",
     "output_type": "stream",
     "text": [
      "22\n"
     ]
    },
    {
     "name": "stderr",
     "output_type": "stream",
     "text": [
      "Average Loss = 34,513: 100%|██████████| 55/55 [00:00<00:00, 75.32it/s]\n",
      "Finished [100%]: Average Loss = 34,487\n"
     ]
    },
    {
     "name": "stdout",
     "output_type": "stream",
     "text": [
      "23\n"
     ]
    },
    {
     "name": "stderr",
     "output_type": "stream",
     "text": [
      "Average Loss = 33,626: 100%|██████████| 55/55 [00:00<00:00, 75.02it/s]\n",
      "Finished [100%]: Average Loss = 33,596\n"
     ]
    },
    {
     "name": "stdout",
     "output_type": "stream",
     "text": [
      "24\n"
     ]
    },
    {
     "name": "stderr",
     "output_type": "stream",
     "text": [
      "Average Loss = 32,784: 100%|██████████| 55/55 [00:00<00:00, 70.44it/s]\n",
      "Finished [100%]: Average Loss = 32,758\n"
     ]
    },
    {
     "name": "stdout",
     "output_type": "stream",
     "text": [
      "25\n"
     ]
    },
    {
     "name": "stderr",
     "output_type": "stream",
     "text": [
      "Average Loss = 32,063: 100%|██████████| 55/55 [00:00<00:00, 71.31it/s]\n",
      "Finished [100%]: Average Loss = 32,038\n"
     ]
    },
    {
     "name": "stdout",
     "output_type": "stream",
     "text": [
      "26\n"
     ]
    },
    {
     "name": "stderr",
     "output_type": "stream",
     "text": [
      "Average Loss = 31,165: 100%|██████████| 55/55 [00:00<00:00, 74.40it/s]\n",
      "Finished [100%]: Average Loss = 31,148\n"
     ]
    },
    {
     "name": "stdout",
     "output_type": "stream",
     "text": [
      "27\n"
     ]
    },
    {
     "name": "stderr",
     "output_type": "stream",
     "text": [
      "Average Loss = 30,466: 100%|██████████| 55/55 [00:00<00:00, 71.45it/s]\n",
      "Finished [100%]: Average Loss = 30,425\n"
     ]
    },
    {
     "name": "stdout",
     "output_type": "stream",
     "text": [
      "28\n"
     ]
    },
    {
     "name": "stderr",
     "output_type": "stream",
     "text": [
      "Average Loss = 29,758: 100%|██████████| 55/55 [00:00<00:00, 69.69it/s]\n",
      "Finished [100%]: Average Loss = 29,721\n"
     ]
    },
    {
     "name": "stdout",
     "output_type": "stream",
     "text": [
      "29\n"
     ]
    },
    {
     "name": "stderr",
     "output_type": "stream",
     "text": [
      "Average Loss = 29,028: 100%|██████████| 55/55 [00:00<00:00, 70.15it/s]\n",
      "Finished [100%]: Average Loss = 29,007\n"
     ]
    },
    {
     "name": "stdout",
     "output_type": "stream",
     "text": [
      "30\n"
     ]
    },
    {
     "name": "stderr",
     "output_type": "stream",
     "text": [
      "Average Loss = 28,277: 100%|██████████| 55/55 [00:00<00:00, 68.48it/s]\n",
      "Finished [100%]: Average Loss = 28,273\n"
     ]
    },
    {
     "name": "stdout",
     "output_type": "stream",
     "text": [
      "31\n"
     ]
    },
    {
     "name": "stderr",
     "output_type": "stream",
     "text": [
      "Average Loss = 27,606: 100%|██████████| 55/55 [00:00<00:00, 63.96it/s]\n",
      "Finished [100%]: Average Loss = 27,586\n"
     ]
    },
    {
     "name": "stdout",
     "output_type": "stream",
     "text": [
      "32\n"
     ]
    },
    {
     "name": "stderr",
     "output_type": "stream",
     "text": [
      "Average Loss = 26,883: 100%|██████████| 55/55 [00:01<00:00, 50.67it/s]\n",
      "Finished [100%]: Average Loss = 26,872\n"
     ]
    },
    {
     "name": "stdout",
     "output_type": "stream",
     "text": [
      "33\n"
     ]
    },
    {
     "name": "stderr",
     "output_type": "stream",
     "text": [
      "Average Loss = 26,212: 100%|██████████| 55/55 [00:01<00:00, 51.82it/s]\n",
      "Finished [100%]: Average Loss = 26,190\n"
     ]
    },
    {
     "name": "stdout",
     "output_type": "stream",
     "text": [
      "34\n"
     ]
    },
    {
     "name": "stderr",
     "output_type": "stream",
     "text": [
      "Average Loss = 25,550: 100%|██████████| 55/55 [00:00<00:00, 59.10it/s]\n",
      "Finished [100%]: Average Loss = 25,521\n"
     ]
    },
    {
     "name": "stdout",
     "output_type": "stream",
     "text": [
      "35\n"
     ]
    },
    {
     "name": "stderr",
     "output_type": "stream",
     "text": [
      "Average Loss = 24,914: 100%|██████████| 55/55 [00:00<00:00, 59.46it/s]\n",
      "Finished [100%]: Average Loss = 24,892\n"
     ]
    },
    {
     "name": "stdout",
     "output_type": "stream",
     "text": [
      "36\n"
     ]
    },
    {
     "name": "stderr",
     "output_type": "stream",
     "text": [
      "Average Loss = 24,322: 100%|██████████| 55/55 [00:00<00:00, 59.23it/s]\n",
      "Finished [100%]: Average Loss = 24,305\n"
     ]
    },
    {
     "name": "stdout",
     "output_type": "stream",
     "text": [
      "37\n"
     ]
    },
    {
     "name": "stderr",
     "output_type": "stream",
     "text": [
      "Average Loss = 23,726: 100%|██████████| 55/55 [00:00<00:00, 69.97it/s]\n",
      "Finished [100%]: Average Loss = 23,717\n"
     ]
    },
    {
     "name": "stdout",
     "output_type": "stream",
     "text": [
      "38\n"
     ]
    },
    {
     "name": "stderr",
     "output_type": "stream",
     "text": [
      "Average Loss = 23,152: 100%|██████████| 55/55 [00:00<00:00, 74.78it/s]\n",
      "Finished [100%]: Average Loss = 23,133\n"
     ]
    },
    {
     "name": "stdout",
     "output_type": "stream",
     "text": [
      "39\n"
     ]
    },
    {
     "name": "stderr",
     "output_type": "stream",
     "text": [
      "Average Loss = 22,615: 100%|██████████| 55/55 [00:00<00:00, 75.38it/s]\n",
      "Finished [100%]: Average Loss = 22,595\n"
     ]
    },
    {
     "name": "stdout",
     "output_type": "stream",
     "text": [
      "40\n"
     ]
    },
    {
     "name": "stderr",
     "output_type": "stream",
     "text": [
      "Average Loss = 22,074: 100%|██████████| 55/55 [00:00<00:00, 73.50it/s]\n",
      "Finished [100%]: Average Loss = 22,043\n"
     ]
    },
    {
     "name": "stdout",
     "output_type": "stream",
     "text": [
      "41\n"
     ]
    },
    {
     "name": "stderr",
     "output_type": "stream",
     "text": [
      "Average Loss = 21,398: 100%|██████████| 55/55 [00:00<00:00, 75.24it/s]\n",
      "Finished [100%]: Average Loss = 21,382\n"
     ]
    },
    {
     "name": "stdout",
     "output_type": "stream",
     "text": [
      "42\n"
     ]
    },
    {
     "name": "stderr",
     "output_type": "stream",
     "text": [
      "Average Loss = 20,946: 100%|██████████| 55/55 [00:00<00:00, 75.79it/s]\n",
      "Finished [100%]: Average Loss = 20,927\n"
     ]
    },
    {
     "name": "stdout",
     "output_type": "stream",
     "text": [
      "43\n"
     ]
    },
    {
     "name": "stderr",
     "output_type": "stream",
     "text": [
      "Average Loss = 20,417: 100%|██████████| 55/55 [00:00<00:00, 74.12it/s]\n",
      "Finished [100%]: Average Loss = 20,404\n"
     ]
    },
    {
     "name": "stdout",
     "output_type": "stream",
     "text": [
      "44\n"
     ]
    },
    {
     "name": "stderr",
     "output_type": "stream",
     "text": [
      "Average Loss = 19,899: 100%|██████████| 55/55 [00:00<00:00, 75.57it/s]\n",
      "Finished [100%]: Average Loss = 19,889\n"
     ]
    },
    {
     "name": "stdout",
     "output_type": "stream",
     "text": [
      "45\n"
     ]
    },
    {
     "name": "stderr",
     "output_type": "stream",
     "text": [
      "Average Loss = 19,451: 100%|██████████| 55/55 [00:00<00:00, 70.59it/s]\n",
      "Finished [100%]: Average Loss = 19,429\n"
     ]
    },
    {
     "name": "stdout",
     "output_type": "stream",
     "text": [
      "46\n"
     ]
    },
    {
     "name": "stderr",
     "output_type": "stream",
     "text": [
      "Average Loss = 18,966: 100%|██████████| 55/55 [00:00<00:00, 75.43it/s]\n",
      "Finished [100%]: Average Loss = 18,952\n"
     ]
    },
    {
     "name": "stdout",
     "output_type": "stream",
     "text": [
      "47\n"
     ]
    },
    {
     "name": "stderr",
     "output_type": "stream",
     "text": [
      "Average Loss = 18,430: 100%|██████████| 55/55 [00:00<00:00, 75.58it/s]\n",
      "Finished [100%]: Average Loss = 18,417\n"
     ]
    },
    {
     "name": "stdout",
     "output_type": "stream",
     "text": [
      "48\n"
     ]
    },
    {
     "name": "stderr",
     "output_type": "stream",
     "text": [
      "Average Loss = 17,981: 100%|██████████| 55/55 [00:00<00:00, 75.57it/s]\n",
      "Finished [100%]: Average Loss = 17,963\n"
     ]
    },
    {
     "name": "stdout",
     "output_type": "stream",
     "text": [
      "49\n"
     ]
    },
    {
     "name": "stderr",
     "output_type": "stream",
     "text": [
      "Average Loss = 17,569: 100%|██████████| 55/55 [00:00<00:00, 75.24it/s]\n",
      "Finished [100%]: Average Loss = 17,551\n"
     ]
    },
    {
     "name": "stdout",
     "output_type": "stream",
     "text": [
      "50\n"
     ]
    },
    {
     "name": "stderr",
     "output_type": "stream",
     "text": [
      "Average Loss = 17,104: 100%|██████████| 55/55 [00:00<00:00, 75.16it/s]\n",
      "Finished [100%]: Average Loss = 17,089\n"
     ]
    },
    {
     "name": "stdout",
     "output_type": "stream",
     "text": [
      "51\n"
     ]
    },
    {
     "name": "stderr",
     "output_type": "stream",
     "text": [
      "Average Loss = 16,719: 100%|██████████| 55/55 [00:00<00:00, 70.52it/s]\n",
      "Finished [100%]: Average Loss = 16,694\n"
     ]
    },
    {
     "name": "stdout",
     "output_type": "stream",
     "text": [
      "52\n"
     ]
    },
    {
     "name": "stderr",
     "output_type": "stream",
     "text": [
      "Average Loss = 16,285: 100%|██████████| 55/55 [00:00<00:00, 75.64it/s]\n",
      "Finished [100%]: Average Loss = 16,287\n"
     ]
    },
    {
     "name": "stdout",
     "output_type": "stream",
     "text": [
      "53\n"
     ]
    },
    {
     "name": "stderr",
     "output_type": "stream",
     "text": [
      "Average Loss = 15,863: 100%|██████████| 55/55 [00:00<00:00, 75.42it/s]\n",
      "Finished [100%]: Average Loss = 15,858\n"
     ]
    },
    {
     "name": "stdout",
     "output_type": "stream",
     "text": [
      "54\n"
     ]
    },
    {
     "name": "stderr",
     "output_type": "stream",
     "text": [
      "Average Loss = 15,501: 100%|██████████| 55/55 [00:00<00:00, 72.74it/s]\n",
      "Finished [100%]: Average Loss = 15,490\n"
     ]
    },
    {
     "name": "stdout",
     "output_type": "stream",
     "text": [
      "55\n"
     ]
    },
    {
     "name": "stderr",
     "output_type": "stream",
     "text": [
      "Average Loss = 15,053: 100%|██████████| 55/55 [00:00<00:00, 70.52it/s]\n",
      "Finished [100%]: Average Loss = 15,037\n"
     ]
    },
    {
     "name": "stdout",
     "output_type": "stream",
     "text": [
      "56\n"
     ]
    },
    {
     "name": "stderr",
     "output_type": "stream",
     "text": [
      "Average Loss = 14,713: 100%|██████████| 55/55 [00:00<00:00, 74.54it/s]\n",
      "Finished [100%]: Average Loss = 14,705\n"
     ]
    },
    {
     "name": "stdout",
     "output_type": "stream",
     "text": [
      "57\n"
     ]
    },
    {
     "name": "stderr",
     "output_type": "stream",
     "text": [
      "Average Loss = 14,321: 100%|██████████| 55/55 [00:00<00:00, 75.72it/s]\n",
      "Finished [100%]: Average Loss = 14,312\n"
     ]
    },
    {
     "name": "stdout",
     "output_type": "stream",
     "text": [
      "58\n"
     ]
    },
    {
     "name": "stderr",
     "output_type": "stream",
     "text": [
      "Average Loss = 13,995: 100%|██████████| 55/55 [00:00<00:00, 75.61it/s]\n",
      "Finished [100%]: Average Loss = 13,980\n"
     ]
    },
    {
     "name": "stdout",
     "output_type": "stream",
     "text": [
      "59\n"
     ]
    },
    {
     "name": "stderr",
     "output_type": "stream",
     "text": [
      "Average Loss = 13,624: 100%|██████████| 55/55 [00:00<00:00, 75.02it/s]\n",
      "Finished [100%]: Average Loss = 13,612\n"
     ]
    },
    {
     "name": "stdout",
     "output_type": "stream",
     "text": [
      "60\n"
     ]
    },
    {
     "name": "stderr",
     "output_type": "stream",
     "text": [
      "Average Loss = 13,335: 100%|██████████| 55/55 [00:00<00:00, 75.80it/s]\n",
      "Finished [100%]: Average Loss = 13,331\n"
     ]
    },
    {
     "name": "stdout",
     "output_type": "stream",
     "text": [
      "61\n"
     ]
    },
    {
     "name": "stderr",
     "output_type": "stream",
     "text": [
      "Average Loss = 13,030: 100%|██████████| 55/55 [00:00<00:00, 63.71it/s]\n",
      "Finished [100%]: Average Loss = 13,021\n"
     ]
    },
    {
     "name": "stdout",
     "output_type": "stream",
     "text": [
      "62\n"
     ]
    },
    {
     "name": "stderr",
     "output_type": "stream",
     "text": [
      "Average Loss = 12,641: 100%|██████████| 55/55 [00:00<00:00, 72.15it/s]\n",
      "Finished [100%]: Average Loss = 12,633\n"
     ]
    },
    {
     "name": "stdout",
     "output_type": "stream",
     "text": [
      "63\n"
     ]
    },
    {
     "name": "stderr",
     "output_type": "stream",
     "text": [
      "Average Loss = 12,374: 100%|██████████| 55/55 [00:00<00:00, 71.48it/s]\n",
      "Finished [100%]: Average Loss = 12,372\n"
     ]
    },
    {
     "name": "stdout",
     "output_type": "stream",
     "text": [
      "64\n"
     ]
    },
    {
     "name": "stderr",
     "output_type": "stream",
     "text": [
      "Average Loss = 12,074: 100%|██████████| 55/55 [00:00<00:00, 70.80it/s]\n",
      "Finished [100%]: Average Loss = 12,067\n"
     ]
    },
    {
     "name": "stdout",
     "output_type": "stream",
     "text": [
      "65\n"
     ]
    },
    {
     "name": "stderr",
     "output_type": "stream",
     "text": [
      "Average Loss = 11,757: 100%|██████████| 55/55 [00:00<00:00, 69.58it/s]\n",
      "Finished [100%]: Average Loss = 11,750\n"
     ]
    },
    {
     "name": "stdout",
     "output_type": "stream",
     "text": [
      "66\n"
     ]
    },
    {
     "name": "stderr",
     "output_type": "stream",
     "text": [
      "Average Loss = 11,467: 100%|██████████| 55/55 [00:00<00:00, 73.70it/s]\n",
      "Finished [100%]: Average Loss = 11,456\n"
     ]
    },
    {
     "name": "stdout",
     "output_type": "stream",
     "text": [
      "67\n"
     ]
    },
    {
     "name": "stderr",
     "output_type": "stream",
     "text": [
      "Average Loss = 11,156: 100%|██████████| 55/55 [00:00<00:00, 75.12it/s]\n",
      "Finished [100%]: Average Loss = 11,145\n"
     ]
    },
    {
     "name": "stdout",
     "output_type": "stream",
     "text": [
      "68\n"
     ]
    },
    {
     "name": "stderr",
     "output_type": "stream",
     "text": [
      "Average Loss = 10,961: 100%|██████████| 55/55 [00:00<00:00, 70.28it/s]\n",
      "Finished [100%]: Average Loss = 10,940\n"
     ]
    },
    {
     "name": "stdout",
     "output_type": "stream",
     "text": [
      "69\n"
     ]
    },
    {
     "name": "stderr",
     "output_type": "stream",
     "text": [
      "Average Loss = 10,657: 100%|██████████| 55/55 [00:00<00:00, 53.87it/s]\n",
      "Finished [100%]: Average Loss = 10,651\n"
     ]
    },
    {
     "name": "stdout",
     "output_type": "stream",
     "text": [
      "70\n"
     ]
    },
    {
     "name": "stderr",
     "output_type": "stream",
     "text": [
      "Average Loss = 10,416: 100%|██████████| 55/55 [00:00<00:00, 57.50it/s]\n",
      "Finished [100%]: Average Loss = 10,410\n"
     ]
    },
    {
     "name": "stdout",
     "output_type": "stream",
     "text": [
      "71\n"
     ]
    },
    {
     "name": "stderr",
     "output_type": "stream",
     "text": [
      "Average Loss = 10,176: 100%|██████████| 55/55 [00:00<00:00, 60.29it/s]\n",
      "Finished [100%]: Average Loss = 10,169\n"
     ]
    },
    {
     "name": "stdout",
     "output_type": "stream",
     "text": [
      "72\n"
     ]
    },
    {
     "name": "stderr",
     "output_type": "stream",
     "text": [
      "Average Loss = 9,909: 100%|██████████| 55/55 [00:00<00:00, 64.92it/s]\n",
      "Finished [100%]: Average Loss = 9,892.1\n"
     ]
    },
    {
     "name": "stdout",
     "output_type": "stream",
     "text": [
      "73\n"
     ]
    },
    {
     "name": "stderr",
     "output_type": "stream",
     "text": [
      "Average Loss = 9,702.3: 100%|██████████| 55/55 [00:00<00:00, 62.78it/s]\n",
      "Finished [100%]: Average Loss = 9,692.9\n"
     ]
    },
    {
     "name": "stdout",
     "output_type": "stream",
     "text": [
      "74\n"
     ]
    },
    {
     "name": "stderr",
     "output_type": "stream",
     "text": [
      "Average Loss = 9,437: 100%|██████████| 55/55 [00:00<00:00, 69.35it/s]\n",
      "Finished [100%]: Average Loss = 9,423.8\n"
     ]
    },
    {
     "name": "stdout",
     "output_type": "stream",
     "text": [
      "75\n"
     ]
    },
    {
     "name": "stderr",
     "output_type": "stream",
     "text": [
      "Average Loss = 9,230.8: 100%|██████████| 55/55 [00:00<00:00, 74.47it/s]\n",
      "Finished [100%]: Average Loss = 9,217.9\n"
     ]
    },
    {
     "name": "stdout",
     "output_type": "stream",
     "text": [
      "76\n"
     ]
    },
    {
     "name": "stderr",
     "output_type": "stream",
     "text": [
      "Average Loss = 9,016.7: 100%|██████████| 55/55 [00:00<00:00, 69.75it/s]\n",
      "Finished [100%]: Average Loss = 9,013\n"
     ]
    },
    {
     "name": "stdout",
     "output_type": "stream",
     "text": [
      "77\n"
     ]
    },
    {
     "name": "stderr",
     "output_type": "stream",
     "text": [
      "Average Loss = 8,787.1: 100%|██████████| 55/55 [00:00<00:00, 71.14it/s]\n",
      "Finished [100%]: Average Loss = 8,781.7\n"
     ]
    },
    {
     "name": "stdout",
     "output_type": "stream",
     "text": [
      "78\n"
     ]
    },
    {
     "name": "stderr",
     "output_type": "stream",
     "text": [
      "Average Loss = 8,619.8: 100%|██████████| 55/55 [00:00<00:00, 74.65it/s]\n",
      "Finished [100%]: Average Loss = 8,608.8\n"
     ]
    },
    {
     "name": "stdout",
     "output_type": "stream",
     "text": [
      "79\n"
     ]
    },
    {
     "name": "stderr",
     "output_type": "stream",
     "text": [
      "Average Loss = 8,402.2: 100%|██████████| 55/55 [00:00<00:00, 72.22it/s]\n",
      "Finished [100%]: Average Loss = 8,392.8\n"
     ]
    },
    {
     "name": "stdout",
     "output_type": "stream",
     "text": [
      "80\n"
     ]
    },
    {
     "name": "stderr",
     "output_type": "stream",
     "text": [
      "Average Loss = 8,185.9: 100%|██████████| 55/55 [00:00<00:00, 73.37it/s]\n",
      "Finished [100%]: Average Loss = 8,176.9\n"
     ]
    },
    {
     "name": "stdout",
     "output_type": "stream",
     "text": [
      "81\n"
     ]
    },
    {
     "name": "stderr",
     "output_type": "stream",
     "text": [
      "Average Loss = 8,005.4: 100%|██████████| 55/55 [00:00<00:00, 67.69it/s]\n",
      "Finished [100%]: Average Loss = 7,995.5\n"
     ]
    },
    {
     "name": "stdout",
     "output_type": "stream",
     "text": [
      "82\n"
     ]
    },
    {
     "name": "stderr",
     "output_type": "stream",
     "text": [
      "Average Loss = 7,806.9: 100%|██████████| 55/55 [00:00<00:00, 64.69it/s]\n",
      "Finished [100%]: Average Loss = 7,800.9\n"
     ]
    },
    {
     "name": "stdout",
     "output_type": "stream",
     "text": [
      "83\n"
     ]
    },
    {
     "name": "stderr",
     "output_type": "stream",
     "text": [
      "Average Loss = 7,645.6: 100%|██████████| 55/55 [00:00<00:00, 56.72it/s]\n",
      "Finished [100%]: Average Loss = 7,642\n"
     ]
    },
    {
     "name": "stdout",
     "output_type": "stream",
     "text": [
      "84\n"
     ]
    },
    {
     "name": "stderr",
     "output_type": "stream",
     "text": [
      "Average Loss = 7,467.5: 100%|██████████| 55/55 [00:01<00:00, 51.91it/s]\n",
      "Finished [100%]: Average Loss = 7,463.5\n"
     ]
    },
    {
     "name": "stdout",
     "output_type": "stream",
     "text": [
      "85\n"
     ]
    },
    {
     "name": "stderr",
     "output_type": "stream",
     "text": [
      "Average Loss = 7,300.2: 100%|██████████| 55/55 [00:00<00:00, 67.32it/s]\n",
      "Finished [100%]: Average Loss = 7,296.8\n"
     ]
    },
    {
     "name": "stdout",
     "output_type": "stream",
     "text": [
      "86\n"
     ]
    },
    {
     "name": "stderr",
     "output_type": "stream",
     "text": [
      "Average Loss = 7,169.3: 100%|██████████| 55/55 [00:00<00:00, 70.00it/s]\n",
      "Finished [100%]: Average Loss = 7,156.5\n"
     ]
    },
    {
     "name": "stdout",
     "output_type": "stream",
     "text": [
      "87\n"
     ]
    },
    {
     "name": "stderr",
     "output_type": "stream",
     "text": [
      "Average Loss = 6,995.1: 100%|██████████| 55/55 [00:00<00:00, 66.51it/s]\n",
      "Finished [100%]: Average Loss = 6,996.8\n"
     ]
    },
    {
     "name": "stdout",
     "output_type": "stream",
     "text": [
      "88\n"
     ]
    },
    {
     "name": "stderr",
     "output_type": "stream",
     "text": [
      "Average Loss = 6,797.8: 100%|██████████| 55/55 [00:00<00:00, 71.97it/s]\n",
      "Finished [100%]: Average Loss = 6,790.6\n"
     ]
    },
    {
     "name": "stdout",
     "output_type": "stream",
     "text": [
      "89\n"
     ]
    },
    {
     "name": "stderr",
     "output_type": "stream",
     "text": [
      "Average Loss = 6,689.3: 100%|██████████| 55/55 [00:00<00:00, 65.71it/s]\n",
      "Finished [100%]: Average Loss = 6,672.6\n"
     ]
    },
    {
     "name": "stdout",
     "output_type": "stream",
     "text": [
      "90\n"
     ]
    },
    {
     "name": "stderr",
     "output_type": "stream",
     "text": [
      "Average Loss = 6,511.2: 100%|██████████| 55/55 [00:00<00:00, 72.05it/s]\n",
      "Finished [100%]: Average Loss = 6,509.5\n"
     ]
    },
    {
     "name": "stdout",
     "output_type": "stream",
     "text": [
      "91\n"
     ]
    },
    {
     "name": "stderr",
     "output_type": "stream",
     "text": [
      "Average Loss = 6,352.1: 100%|██████████| 55/55 [00:00<00:00, 74.18it/s]\n",
      "Finished [100%]: Average Loss = 6,354.2\n"
     ]
    },
    {
     "name": "stdout",
     "output_type": "stream",
     "text": [
      "92\n"
     ]
    },
    {
     "name": "stderr",
     "output_type": "stream",
     "text": [
      "Average Loss = 6,223.8: 100%|██████████| 55/55 [00:00<00:00, 66.26it/s]\n",
      "Finished [100%]: Average Loss = 6,215.1\n"
     ]
    },
    {
     "name": "stdout",
     "output_type": "stream",
     "text": [
      "93\n"
     ]
    },
    {
     "name": "stderr",
     "output_type": "stream",
     "text": [
      "Average Loss = 6,064.6: 100%|██████████| 55/55 [00:00<00:00, 63.76it/s]\n",
      "Finished [100%]: Average Loss = 6,063.7\n"
     ]
    },
    {
     "name": "stdout",
     "output_type": "stream",
     "text": [
      "94\n"
     ]
    },
    {
     "name": "stderr",
     "output_type": "stream",
     "text": [
      "Average Loss = 5,921.5: 100%|██████████| 55/55 [00:00<00:00, 69.42it/s]\n",
      "Finished [100%]: Average Loss = 5,921.9\n"
     ]
    },
    {
     "name": "stdout",
     "output_type": "stream",
     "text": [
      "95\n"
     ]
    },
    {
     "name": "stderr",
     "output_type": "stream",
     "text": [
      "Average Loss = 5,795.1: 100%|██████████| 55/55 [00:00<00:00, 68.72it/s]\n",
      "Finished [100%]: Average Loss = 5,793.6\n"
     ]
    },
    {
     "name": "stdout",
     "output_type": "stream",
     "text": [
      "96\n"
     ]
    },
    {
     "name": "stderr",
     "output_type": "stream",
     "text": [
      "Average Loss = 5,677: 100%|██████████| 55/55 [00:00<00:00, 66.69it/s]\n",
      "Finished [100%]: Average Loss = 5,676.5\n"
     ]
    },
    {
     "name": "stdout",
     "output_type": "stream",
     "text": [
      "97\n"
     ]
    },
    {
     "name": "stderr",
     "output_type": "stream",
     "text": [
      "Average Loss = 5,582.8: 100%|██████████| 55/55 [00:00<00:00, 65.42it/s]\n",
      "Finished [100%]: Average Loss = 5,590.3\n"
     ]
    },
    {
     "name": "stdout",
     "output_type": "stream",
     "text": [
      "98\n"
     ]
    },
    {
     "name": "stderr",
     "output_type": "stream",
     "text": [
      "Average Loss = 5,453.3: 100%|██████████| 55/55 [00:00<00:00, 65.60it/s]\n",
      "Finished [100%]: Average Loss = 5,440.3\n"
     ]
    },
    {
     "name": "stdout",
     "output_type": "stream",
     "text": [
      "99\n"
     ]
    },
    {
     "name": "stderr",
     "output_type": "stream",
     "text": [
      "Average Loss = 5,307.4: 100%|██████████| 55/55 [00:00<00:00, 57.07it/s]\n",
      "Finished [100%]: Average Loss = 5,311.2\n"
     ]
    }
   ],
   "source": [
    "n_initial_samples = 50\n",
    "n_epochs = 4\n",
    "n_active_learning_iterations = 100\n",
    "n_test_uncertainty = 30\n",
    "n_cat_data_points = 5\n",
    "n_replay_data_points = 50\n",
    "\n",
    "print('RUNNING ACTIVE LEARNING')\n",
    "# initialize model\n",
    "NN_model_active, advi_active, approx_active, ind_used, ind_remaining = \\\n",
    "    initialize_network(X_train, y_train, n_initial_samples, n_epochs)\n",
    "# run active learning\n",
    "advi_active, approx_active, ind_used_active = run_active_learning(\n",
    "    NN_model_active, advi_active, ind_used, ind_remaining, n_active_learning_iterations, \n",
    "    n_test_uncertainty, n_cat_data_points, n_replay_data_points)\n",
    "\n",
    "print('RUNNING ACTIVE LEARNING CONTROL')\n",
    "# initialize model\n",
    "NN_model_control, advi_control, approx_control, ind_used, ind_remaining = \\\n",
    "    initialize_network(X_train, y_train, n_initial_samples, n_epochs)\n",
    "# run active learning control\n",
    "advi_control, approx_control, ind_used_control = run_active_learning_control(\n",
    "    NN_model_control, advi_control, ind_used, ind_remaining, n_active_learning_iterations,\n",
    "    n_cat_data_points, n_replay_data_points)"
   ]
  },
  {
   "cell_type": "markdown",
   "metadata": {},
   "source": [
    "#### Compare active learning to control"
   ]
  },
  {
   "cell_type": "code",
   "execution_count": 213,
   "metadata": {},
   "outputs": [
    {
     "data": {
      "image/png": "[encoded data removed]",
      "text/plain": [
       "<matplotlib.figure.Figure at 0x1e9f8acda0>"
      ]
     },
     "metadata": {
      "needs_background": "light"
     },
     "output_type": "display_data"
    }
   ],
   "source": [
    "elbo_1 = -advi_active.hist\n",
    "elbo_2 = -advi_control.hist\n",
    "\n",
    "figsize = (8,3); fontsize = 16;\n",
    "f, ax = plt.subplots(1,1,figsize=figsize);\n",
    "\n",
    "ax.plot(elbo_1,label='active')\n",
    "ax.plot(elbo_2,label='control')\n",
    "ax.legend()\n",
    "ax.set_ylabel('ELBO',fontsize=fontsize)\n",
    "ax.set_xlabel('iteration',fontsize=fontsize);\n",
    "sns.despine();"
   ]
  },
  {
   "cell_type": "markdown",
   "metadata": {},
   "source": [
    "### Assess test performance"
   ]
  },
  {
   "cell_type": "code",
   "execution_count": 214,
   "metadata": {},
   "outputs": [
    {
     "name": "stderr",
     "output_type": "stream",
     "text": [
      "100%|██████████| 100/100 [00:52<00:00,  2.04it/s]\n",
      "100%|██████████| 100/100 [00:50<00:00,  2.04it/s]\n"
     ]
    }
   ],
   "source": [
    "# Draw samples from variational posterior (the weights in the network)\n",
    "n_draws = 200 # > 2k hangs for almost all network sizes on my 2018 MBP -SH\n",
    "trace_control = approx_control.sample(draws=n_draws)\n",
    "trace_active = approx_active.sample(draws=n_draws)\n",
    "\n",
    "(n_test,n_input) = X_test.shape\n",
    "test_x = theano.shared(X_test)\n",
    "test_y = theano.shared(y_test)\n",
    "\n",
    "# test active learning \n",
    "NN_model_test = construct_nn(test_x, test_y, n_input, n_output, n_test, n_hidden_1=128)\n",
    "n_samples = 100\n",
    "with NN_model_test:\n",
    "    ppc_test_active = pm.sample_ppc(trace_active, samples=n_samples)\n",
    "\n",
    "# test control\n",
    "NN_model_test = construct_nn(test_x, test_y, n_input, n_output, n_test, n_hidden_1=128)\n",
    "n_samples = 100\n",
    "with NN_model_test:\n",
    "    ppc_test_control = pm.sample_ppc(trace_control, samples=n_samples)"
   ]
  },
  {
   "cell_type": "code",
   "execution_count": 215,
   "metadata": {},
   "outputs": [
    {
     "name": "stdout",
     "output_type": "stream",
     "text": [
      "Network Test Set Performance Active Learning: 0.554500\n",
      "Network Test Set Performance Control: 0.545600\n"
     ]
    }
   ],
   "source": [
    "# Prediction is mode of each\n",
    "test_y_pred_active = mode(ppc_test_active['out'], axis=0).mode[0,:]\n",
    "test_y_pred_control = mode(ppc_test_control['out'], axis=0).mode[0,:]\n",
    "\n",
    "mean_test_perf = np.mean(test_y_pred_active==y_test)\n",
    "print(\"Network Test Set Performance Active Learning: {:f}\".format(mean_test_perf))\n",
    "mean_test_perf = np.mean(test_y_pred_control==y_test)\n",
    "print(\"Network Test Set Performance Control: {:f}\".format(mean_test_perf))"
   ]
  },
  {
   "cell_type": "code",
   "execution_count": 220,
   "metadata": {},
   "outputs": [
    {
     "data": {
      "image/png": "[encoded data removed]",
      "text/plain": [
       "<matplotlib.figure.Figure at 0x1ee81c81d0>"
      ]
     },
     "metadata": {
      "needs_background": "light"
     },
     "output_type": "display_data"
    }
   ],
   "source": [
    "len_ind_used_active = [len(x) for x in ind_used_active]\n",
    "len_ind_used_control = [len(x) for x in ind_used_control]\n",
    "\n",
    "plt.plot(len_ind_used_active, label='active')\n",
    "plt.plot(len_ind_used_control, label='control')\n",
    "plt.title('Training Data Subset by Category')\n",
    "plt.xlabel('category')\n",
    "plt.ylabel('num training data used')\n",
    "plt.legend()\n",
    "plt.show()"
   ]
  },
  {
   "cell_type": "code",
   "execution_count": 218,
   "metadata": {},
   "outputs": [
    {
     "name": "stdout",
     "output_type": "stream",
     "text": [
      "error =  0.062037775028\n"
     ]
    },
    {
     "data": {
      "image/png": "[encoded data removed]",
      "text/plain": [
       "<matplotlib.figure.Figure at 0x1f5d1409e8>"
      ]
     },
     "metadata": {
      "needs_background": "light"
     },
     "output_type": "display_data"
    },
    {
     "name": "stdout",
     "output_type": "stream",
     "text": [
      "error =  0.065643954874\n"
     ]
    },
    {
     "data": {
      "image/png": "[encoded data removed]",
      "text/plain": [
       "<matplotlib.figure.Figure at 0x1f585f6780>"
      ]
     },
     "metadata": {
      "needs_background": "light"
     },
     "output_type": "display_data"
    }
   ],
   "source": [
    "one_hot, cat_hist, cat_entropy, cat_KL = get_cat_entropy(X_test, y_test, ppc_test_active)\n",
    "diff_identity = np.sum((cat_hist/np.sum(cat_hist) - np.eye(10)/10)**2)\n",
    "print('error = ', diff_identity)\n",
    "plt.figure(figsize=(4,4))\n",
    "plt.imshow(cat_hist)\n",
    "plt.title('Confusion Matrix Active Learning')\n",
    "plt.show()\n",
    "\n",
    "one_hot, cat_hist, cat_entropy, cat_KL = get_cat_entropy(X_test, y_test, ppc_test_control)\n",
    "diff_identity = np.sum((cat_hist/np.sum(cat_hist) - np.eye(10)/10)**2)\n",
    "print('error = ', diff_identity)\n",
    "plt.figure(figsize=(4,4))\n",
    "plt.imshow(cat_hist)\n",
    "plt.title('Confusion Matrix Control')\n",
    "plt.show()"
   ]
  },
  {
   "cell_type": "markdown",
   "metadata": {},
   "source": [
    "\n",
    "This is a relatively contrived example of using active learning, but it is a very useful concept. It is particularly useful when computation time is a limited resource, and consequently it is very important to choose training data that will be most useful for improving performance. For example, in reinforcement learning uncertainty can be used to drive exploration. "
   ]
  },
  {
   "cell_type": "markdown",
   "metadata": {},
   "source": [
    "Notes: \n",
    "- amount of data replayed from each category\n",
    "- Need to deal with getting enough replay point at beginning, or at least making sure the control is the same"
   ]
  }
 ],
 "metadata": {
  "kernelspec": {
   "display_name": "Python 3",
   "language": "python",
   "name": "python3"
  },
  "language_info": {
   "codemirror_mode": {
    "name": "ipython",
    "version": 3
   },
   "file_extension": ".py",
   "mimetype": "text/x-python",
   "name": "python",
   "nbconvert_exporter": "python",
   "pygments_lexer": "ipython3",
   "version": "3.6.2"
  }
 },
 "nbformat": 4,
 "nbformat_minor": 2
}
