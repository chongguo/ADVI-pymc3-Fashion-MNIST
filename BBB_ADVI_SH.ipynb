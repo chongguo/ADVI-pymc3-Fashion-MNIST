{
 "cells": [
  {
   "cell_type": "markdown",
   "metadata": {},
   "source": [
    "Project\n",
    "==="
   ]
  },
  {
   "cell_type": "markdown",
   "metadata": {},
   "source": [
    "Manually add to path"
   ]
  },
  {
   "cell_type": "code",
   "execution_count": 1,
   "metadata": {},
   "outputs": [],
   "source": [
    "import os, sys\n",
    "sys.path.insert(1, os.path.join(sys.path[0], '..'))"
   ]
  },
  {
   "cell_type": "code",
   "execution_count": 4,
   "metadata": {},
   "outputs": [
    {
     "name": "stdout",
     "output_type": "stream",
     "text": [
      "Running on PyMC3 v3.5\n"
     ]
    }
   ],
   "source": [
    "import pymc3 as pm\n",
    "print('Running on PyMC3 v{}'.format(pm.__version__))\n",
    "import theano\n",
    "import theano.tensor as T\n",
    "\n",
    "import matplotlib.pyplot as plt\n",
    "import numpy as np\n",
    "\n",
    "from scipy.stats import mode\n",
    "from utils.mnist_reader import load_mnist\n",
    "from pymc3.theanof import set_tt_rng, MRG_RandomStreams\n",
    "\n",
    "%matplotlib inline"
   ]
  },
  {
   "cell_type": "code",
   "execution_count": 3,
   "metadata": {},
   "outputs": [],
   "source": [
    "# Avoid warnings on batches below\n",
    "from warnings import filterwarnings\n",
    "filterwarnings('ignore')"
   ]
  },
  {
   "cell_type": "code",
   "execution_count": 41,
   "metadata": {},
   "outputs": [
    {
     "name": "stdout",
     "output_type": "stream",
     "text": [
      "N Input for fashion_mnist = 784\n"
     ]
    }
   ],
   "source": [
    "import tensorflow as tf\n",
    "\n",
    "clas_dataset = 'fashion_mnist'\n",
    "\n",
    "if clas_dataset == 'mnist':\n",
    "    (X_train, y_train), (X_test, y_test) = tf.keras.datasets.mnist.load_data()\n",
    "    label_dict = {i:str(i) for i in range(10)}\n",
    "elif clas_dataset == 'fashion_mnist':\n",
    "    (X_train, y_train), (X_test, y_test) = tf.keras.datasets.fashion_mnist.load_data()\n",
    "    label_dict = {0: 'T-shirt/top',\n",
    "                  1: 'Trouser',\n",
    "                  2: 'Pullover',\n",
    "                  3: 'Dress',\n",
    "                  4: 'Coat',\n",
    "                  5: 'Sandal',\n",
    "                  6: 'Shirt',\n",
    "                  7: 'Sneaker',\n",
    "                  8: 'Bag',\n",
    "                  9: 'Ankle boot'}\n",
    "    \n",
    "X_train = X_train.reshape(X_train.shape[0],-1)\n",
    "X_test = X_test.reshape(X_test.shape[0],-1)\n",
    "\n",
    "(n_train,n_input) = X_train.shape\n",
    "n_out = len(label_dict)\n",
    "print(\"N Input for {} = {}\".format(clas_dataset,n_input))"
   ]
  },
  {
   "cell_type": "code",
   "execution_count": 28,
   "metadata": {},
   "outputs": [],
   "source": [
    "set_tt_rng(MRG_RandomStreams(10))"
   ]
  },
  {
   "cell_type": "code",
   "execution_count": 29,
   "metadata": {},
   "outputs": [],
   "source": [
    "# cast as theano float32\n",
    "floatX = theano.config.floatX # does this make it a shared?\n",
    "\n",
    "X_train = X_train.astype(floatX)/255\n",
    "y_train = y_train.astype(np.int)\n",
    "X_test = X_test.astype(floatX)/255\n",
    "y_test = y_test.astype(np.int)"
   ]
  },
  {
   "cell_type": "code",
   "execution_count": 30,
   "metadata": {},
   "outputs": [
    {
     "data": {
      "image/png": "[encoded data removed]",
      "text/plain": [
       "<Figure size 1080x1080 with 5 Axes>"
      ]
     },
     "metadata": {
      "needs_background": "light"
     },
     "output_type": "display_data"
    }
   ],
   "source": [
    "# show a few samples\n",
    "nsamples = 5\n",
    "fig = plt.figure(figsize=(15,15))\n",
    "ax = fig.subplots(1,nsamples)\n",
    "for i in range(nsamples):\n",
    "    ax[i].imshow(np.reshape(X_train[i],(28,28)),cmap='gray')\n",
    "    ax[i].axis('off')\n",
    "    ax[i].set_title(label_dict[y_train[i]])\n",
    "fig.show()"
   ]
  },
  {
   "cell_type": "code",
   "execution_count": 31,
   "metadata": {},
   "outputs": [],
   "source": [
    "# now create a simple 3-layer bayesian neural network in pymc3\n",
    "def construct_nn(ann_input, ann_output):\n",
    "    n_hidden_1 = 64\n",
    "    n_hidden_2 = 32\n",
    "    \n",
    "    # Initialize random weights between each layer\n",
    "    init_1 = np.random.randn(n_input, n_hidden_1).astype(floatX)\n",
    "    init_2 = np.random.randn(n_hidden_1, n_hidden_2).astype(floatX)\n",
    "    init_out = np.random.randn(n_hidden_2,n_out).astype(floatX)\n",
    "\n",
    "    with pm.Model() as neural_network:\n",
    "        # Weights from input to hidden layer\n",
    "        weights_in_1 = pm.Normal('w_in_1', 0, sd=1.2,\n",
    "                                 shape=(n_input, n_hidden_1),\n",
    "                                 testval=init_1)\n",
    "\n",
    "        # Weights from 1st to 2nd layer\n",
    "        weights_1_2 = pm.Normal('w_1_2', 0, sd=1.2,\n",
    "                                shape=(n_hidden_1, n_hidden_2),\n",
    "                                testval=init_2)\n",
    "\n",
    "        # Weights from hidden layer to output\n",
    "        weights_2_out = pm.Normal('w_2_out', 0, sd=1.2,\n",
    "                                  shape=(n_hidden_2,n_out),\n",
    "                                  testval=init_out)\n",
    "\n",
    "        # Build neural-network using tanh activation function\n",
    "        act_1 = pm.math.tanh(pm.math.dot(ann_input,\n",
    "                                         weights_in_1))\n",
    "        act_2 = pm.math.tanh(pm.math.dot(act_1,\n",
    "                                         weights_1_2))\n",
    "        act_out = pm.math.sigmoid(pm.math.dot(act_2,\n",
    "                                              weights_2_out))\n",
    "\n",
    "        # Classification\n",
    "        out = pm.Categorical('out',\n",
    "                           act_out,\n",
    "                           observed=ann_output,\n",
    "                           total_size=n_train\n",
    "                          )\n",
    "    return neural_network"
   ]
  },
  {
   "cell_type": "code",
   "execution_count": 32,
   "metadata": {},
   "outputs": [
    {
     "name": "stderr",
     "output_type": "stream",
     "text": [
      "Average Loss = 102.64: 100%|██████████| 10000/10000 [01:03<00:00, 157.22it/s]\n",
      "Finished [100%]: Average Loss = 102.6\n"
     ]
    }
   ],
   "source": [
    "minibatch_x = pm.Minibatch(X_train, batch_size=40)\n",
    "minibatch_y = pm.Minibatch(y_train, batch_size=40)\n",
    "neural_network_minibatch = construct_nn(minibatch_x, minibatch_y)\n",
    "with neural_network_minibatch:\n",
    "    inference = pm.ADVI()\n",
    "    approx = pm.fit(10000, method=inference)"
   ]
  },
  {
   "cell_type": "code",
   "execution_count": 33,
   "metadata": {},
   "outputs": [],
   "source": [
    "elbo = -inference.hist"
   ]
  },
  {
   "cell_type": "code",
   "execution_count": 34,
   "metadata": {},
   "outputs": [
    {
     "data": {
      "image/png": "[encoded data removed]",
      "text/plain": [
       "<Figure size 432x288 with 1 Axes>"
      ]
     },
     "metadata": {
      "needs_background": "light"
     },
     "output_type": "display_data"
    }
   ],
   "source": [
    "plt.plot(elbo)\n",
    "plt.ylabel('ELBO')\n",
    "plt.xlabel('iteration')\n",
    "plt.show()"
   ]
  },
  {
   "cell_type": "code",
   "execution_count": 35,
   "metadata": {},
   "outputs": [],
   "source": [
    "trace = approx.sample(draws=1000)"
   ]
  },
  {
   "cell_type": "code",
   "execution_count": 36,
   "metadata": {},
   "outputs": [
    {
     "name": "stderr",
     "output_type": "stream",
     "text": [
      "100%|██████████| 100/100 [00:02<00:00, 43.60it/s]\n"
     ]
    }
   ],
   "source": [
    "minibatch_x.set_value(X_test)\n",
    "minibatch_y.set_value(y_test)\n",
    "with neural_network_minibatch:\n",
    "        ppc = pm.sample_ppc(trace, samples=100)"
   ]
  },
  {
   "cell_type": "code",
   "execution_count": 37,
   "metadata": {},
   "outputs": [
    {
     "data": {
      "text/plain": [
       "dict_keys(['out'])"
      ]
     },
     "execution_count": 37,
     "metadata": {},
     "output_type": "execute_result"
    }
   ],
   "source": [
    "ppc.keys()"
   ]
  },
  {
   "cell_type": "code",
   "execution_count": 38,
   "metadata": {},
   "outputs": [
    {
     "data": {
      "text/plain": [
       "array([2, 9, 9, 5, 2, 6, 5, 8, 8, 5, 5, 5, 3, 5, 5, 3, 3, 5, 4, 8, 4, 3,\n",
       "       6, 8, 3, 6, 5, 3, 4, 2, 5, 5, 4, 7, 8, 5, 3, 3, 4, 3])"
      ]
     },
     "execution_count": 38,
     "metadata": {},
     "output_type": "execute_result"
    }
   ],
   "source": [
    "y_pred = mode(ppc['out'], axis=0).mode[0,:]\n",
    "y_pred"
   ]
  },
  {
   "cell_type": "code",
   "execution_count": 39,
   "metadata": {},
   "outputs": [
    {
     "data": {
      "text/plain": [
       "array([7, 2, 1, 0, 4, 1, 4, 9, 5, 9, 0, 6, 9, 0, 1, 5, 9, 7, 3, 4, 9, 6,\n",
       "       6, 5, 4, 0, 7, 4, 0, 1, 3, 1, 3, 4, 7, 2, 7, 1, 2, 1, 1, 7, 4, 2,\n",
       "       3, 5, 1, 2, 4])"
      ]
     },
     "execution_count": 39,
     "metadata": {},
     "output_type": "execute_result"
    }
   ],
   "source": [
    "y_test[0:49]"
   ]
  },
  {
   "cell_type": "code",
   "execution_count": 40,
   "metadata": {},
   "outputs": [
    {
     "data": {
      "image/png": "[encoded data removed]",
      "text/plain": [
       "<Figure size 1080x1080 with 10 Axes>"
      ]
     },
     "metadata": {
      "needs_background": "light"
     },
     "output_type": "display_data"
    }
   ],
   "source": [
    "# show a few samples\n",
    "nsamples = 10\n",
    "fig = plt.figure(figsize=(15,15))\n",
    "ax = fig.subplots(1,nsamples)\n",
    "for i in range(nsamples):\n",
    "    ax[i].imshow(np.reshape(X_test[i],(28,28)),cmap='gray')\n",
    "    ax[i].set_title(label_dict[y_test[i]])\n",
    "    ax[i].set_xlabel(label_dict[y_pred[i]])\n",
    "fig.show()"
   ]
  },
  {
   "cell_type": "code",
   "execution_count": null,
   "metadata": {},
   "outputs": [],
   "source": []
  }
 ],
 "metadata": {
  "kernelspec": {
   "display_name": "Python [conda env:am207]",
   "language": "python",
   "name": "conda-env-am207-py"
  },
  "language_info": {
   "codemirror_mode": {
    "name": "ipython",
    "version": 3
   },
   "file_extension": ".py",
   "mimetype": "text/x-python",
   "name": "python",
   "nbconvert_exporter": "python",
   "pygments_lexer": "ipython3",
   "version": "3.6.7"
  }
 },
 "nbformat": 4,
 "nbformat_minor": 2
}
