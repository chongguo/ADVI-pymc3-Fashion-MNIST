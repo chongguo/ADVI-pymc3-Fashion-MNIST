{
 "cells": [
  {
   "cell_type": "markdown",
   "metadata": {},
   "source": [
    "Tutorial on \"Bayes-by-Backprop\" (BBB) a Bayesian Neural Network using Variational Inference \n",
    "===\n",
    "\n",
    "**Papers:**\n",
    "- [Weight Uncertainty in Neural Networks.](https://arxiv.org/abs/1505.05424) Charles Blundell, Julien Cornebise, Koray Kavukcuoglu, Daan Wierstra.\n",
    "- [Reliable Uncertainty Estimates in Deep Neural Networks using Noise Contrastive Priors](https://arxiv.org/abs/1807.09289). Danijar Hafner, Dustin Tran, Timothy Lillicrap, Alex Irpan, James Davidson.\n",
    "\n",
    "**Collaborators:** Shyana Stein | Emma Krause | Stephen Holtz | Chong Guo\n",
    "\n",
    "**Repository:** https://github.com/chongguo/ADVI-pymc3-Fashion-MNIST\n",
    "\n",
    "**Why BBB?** Neural networks are able to model extremely complex problems and generate accurate predictions. Nevertheless, in many real world applications we want a prediction and the confidence associated with that prediction. BBB accomplishes this by doing a varitional approximation to a full Bayesian inference on the networks weights. At inference time, the weights can simply be sampled to generate a post-predictive distribution from which the confidence of the prediction can be infered. "
   ]
  },
  {
   "cell_type": "markdown",
   "metadata": {},
   "source": [
    "# Outline:\n",
    " 1. **Deriving the Update Rule for BBB**\n",
    " 2. **Bayes by Backprop by Hand** (implementation compared to SGD)\n",
    " 2. **BBB for Classification** (Fashion-MNIST)\n",
    " 3. **Extending BBB Using Noise Contrastive Priors**\n",
    " 4. **BBB for Active Learning**\n",
    "\n",
    "Note: for parts 4 and 5 of the outline, we have pickled the time intensive parts of the notebook. Simply change the `load_pickle` flags to `False` if you want to re-run these parts. Non-pickled parts of the notebook should only take ~20 mins to run in total on a modern laptop (e.g. 2016 MacBook Pro). Most functions and for-loops that take substantial time are wrapped by dynamic print statements using the `tqdm` library or similar. To generate an environment to run this notebook, see the repository listed above for instructions."
   ]
  },
  {
   "cell_type": "markdown",
   "metadata": {},
   "source": [
    "# 1. Deriving the Update Rule for BBB\n",
    "\n",
    "$$\n",
    "\\DeclareMathOperator*{\\argmin}{argmin}\n",
    "$$\n",
    "\n",
    "BBB view a neural network as a probablistic model $p(D,w)$. The parameters are typically estimated using MLE by maximizing $p(D|w)$ or MAP, which uses a prior $p(w)$ to regularize the weights. The full Bayesian treatment would be prohibitively expensive if not intractable in many cases. Thus as others have previously suggested, a mean-field variational approximation to $p(w|D)$ is used instead by minimizing the KL divergence between the two distributions as shown below:\n",
    "\n",
    "$$\n",
    "\\begin{align}\n",
    "\\theta^* &= \\argmin_{\\theta} KL[q(w|\\theta)||p(w|D)] \\\\\n",
    "&=\\argmin_{\\theta} \\int q(w|\\theta) log\\frac{q(w|\\theta)}{p(w)p(D|w)}dw\\\\\n",
    "&=\\argmin_{\\theta} \\int \\big\\{log\\ q(w|\\theta)-log\\ p(w) - log\\ p(D|w)\\big\\} q(w|\\theta) dw\n",
    "\\end{align}\n",
    "$$\n",
    "\n",
    "This expectation can be approximated via monte carlo samples. Moreover, using the reparametrization tricks we can evaluate the gradient w.r.t. to $\\theta$ at the $(i)$th monte carlo sample of the cost function. All together we can summarize this optimization process as follows:\n",
    "\n",
    "1. sample $\\epsilon ~ N(0,I)$\n",
    "2. Let $w = \\mu + log(1+exp(\\rho))\\circ \\epsilon$ \n",
    "   (note: $\\circ$ - Hadamard product)\n",
    "3. Let $\\theta = (\\mu,\\rho)$\n",
    "4. Let $f(w|\\theta) = log\\ q(w|\\theta)-log\\ p(w) - log\\ p(D|w)$\n",
    "5. Calculate the gradient w.r.t. the mean and deviation parameters:\n",
    "$$\n",
    "\\begin{align}\n",
    "\\Delta_\\mu &= \\frac{\\partial f(w|\\theta)}{\\partial w} + \\frac{\\partial f(w|\\theta)}{\\partial\\mu}\\\\\n",
    "\\Delta_\\rho &= \\frac{\\partial f(w|\\theta)}{\\partial w}\\frac{\\epsilon}{1+exp(-\\rho)} + \\frac{\\partial f(w|\\theta)}{\\partial\\rho}\n",
    "\\end{align}\n",
    "$$\n",
    "6. Update the variational parameters:\n",
    "$$\n",
    "\\begin{align}\n",
    "    \\mu &\\leftarrow \\mu -\\alpha\\Delta_\\mu \\\\\n",
    "    \\rho &\\leftarrow \\rho -\\alpha\\Delta_\\rho\n",
    "\\end{align}\n",
    "$$\n",
    "where $\\alpha$ is the learning rate\n",
    "\n",
    "Noting that $\\frac{\\partial f(w|\\theta)}{\\partial w}$ is the normal gradient descent update for $w$ we decide to use a simple regression problem to illustrate the operation of BBB. "
   ]
  },
  {
   "cell_type": "markdown",
   "metadata": {},
   "source": [
    "# 2. Bayes by Backprop by Hand\n",
    "\n",
    "BBB views a neural network as a probablistic model $p(D,w)$. The parameters are typically estimated using MLE by maximizing $p(D|w)$ or MAP, which uses a prior $p(w)$ to regularize the weights."
   ]
  },
  {
   "cell_type": "code",
   "execution_count": 1,
   "metadata": {},
   "outputs": [],
   "source": [
    "import sys,time\n",
    "import pickle\n",
    "\n",
    "import matplotlib as mpl\n",
    "import matplotlib.pyplot as plt\n",
    "import matplotlib.mlab as mlab\n",
    "import seaborn as sns\n",
    "\n",
    "import pandas as pd\n",
    "import numpy as np\n",
    "import scipy as sp\n",
    "\n",
    "import pymc3 as pm\n",
    "import theano\n",
    "import theano.tensor as tt\n",
    "import tensorflow as tf\n",
    "\n",
    "from tqdm import tqdm\n",
    "from collections import OrderedDict\n",
    "from warnings import filterwarnings"
   ]
  },
  {
   "cell_type": "code",
   "execution_count": 2,
   "metadata": {},
   "outputs": [
    {
     "name": "stdout",
     "output_type": "stream",
     "text": [
      "Environment:  /Users/stephenholtz/anaconda3/envs/bbb_models/bin/python\n",
      "PyMC3  v3.5 | Theano v1.0.3 | Tensorflow v1.10.0\n"
     ]
    }
   ],
   "source": [
    "# Print environment for consistency\n",
    "print('Environment: ', sys.executable)\n",
    "# Print versions\n",
    "print('PyMC3  v{} | Theano v{} | Tensorflow v{}'.format(pm.__version__,theano.__version__,tf.__version__))\n",
    "# Fix plotting\n",
    "mpl.rcdefaults()\n",
    "%matplotlib inline\n",
    "# Set random seeds\n",
    "np.random.seed(999)\n",
    "pm.set_tt_rng(999)\n",
    "# Avoid warnings on batches below\n",
    "filterwarnings('ignore')"
   ]
  },
  {
   "cell_type": "markdown",
   "metadata": {},
   "source": [
    "First we construct a toy regression problem that highlights some of the benefits of using a bayesian neural network to fit data. The task is to fit the polynomial (plotted as $\\mu_y$, below) which was both sampled unevenly _and_ is heteroscedastic. The latter feature comes from the `sig_y_func` `lambda` function below, plotted as $\\sigma_y$."
   ]
  },
  {
   "cell_type": "code",
   "execution_count": 3,
   "metadata": {},
   "outputs": [],
   "source": [
    "# Define toy regression problem parameters and generate the data\n",
    "m_mu,m_sig = (0.2,-1)\n",
    "mu_y_func = lambda x,m: np.sin(x*1.5) + np.dot(x,m)\n",
    "sig_y_func = lambda x,m: 0.25*np.log(1+np.exp(np.dot(x,m)))\n",
    "\n",
    "def generate_regression_data():\n",
    "    Sig_x_mix = [0.8,0.5]  #[2,.5]\n",
    "    Mu_x_mix = [-1.7,2]  #[-2.5,2]\n",
    "    p_x = 0.6  # probability of cluster 1\n",
    "    n_x = 1000 # number of samples in x\n",
    "    # randomly generate cluster identity\n",
    "    n_x_id = np.random.binomial(n_x,p_x) \n",
    "    n_x_id = [n_x_id,n_x-n_x_id]\n",
    "    # sample x from a gaussian mixture\n",
    "    x0 = np.random.randn(n_x_id[0],1)*Sig_x_mix[0]+Mu_x_mix[0]\n",
    "    x1 = np.random.randn(n_x_id[1],1)*Sig_x_mix[1]+Mu_x_mix[1]\n",
    "    x = np.concatenate((x0,x1))\n",
    "    \n",
    "    y_mu = mu_y_func(x,m_mu)\n",
    "    y_sig = sig_y_func(x,m_sig)\n",
    "    y = y_mu + np.random.randn(n_x,1)*y_sig\n",
    "    \n",
    "    ridx = np.random.choice(range(n_x),n_x)\n",
    "    x = x[ridx,:]\n",
    "    y = y[ridx,:]\n",
    "    y_mu = y_mu[ridx,:]\n",
    "    y_sig = y_sig[ridx,:]\n",
    "    \n",
    "    return x,y,y_mu,y_sig\n",
    "x,y,y_mu,y_sig = generate_regression_data()"
   ]
  },
  {
   "cell_type": "code",
   "execution_count": 4,
   "metadata": {},
   "outputs": [
    {
     "data": {
      "image/png": "[encoded data removed]",
      "text/plain": [
       "<Figure size 576x288 with 2 Axes>"
      ]
     },
     "metadata": {
      "needs_background": "light"
     },
     "output_type": "display_data"
    }
   ],
   "source": [
    "figsize = (8,4); fontsize = 16;\n",
    "f, ax = plt.subplots(1, 1, figsize=figsize, sharex=True, sharey=True);\n",
    "\n",
    "xs = np.linspace(-4,3.5,num=1000)\n",
    "plt1,=ax.plot(xs,mu_y_func(xs,m_mu),color='k',linestyle='--',linewidth=2,alpha=0.9,label=r'$\\mu_y$')\n",
    "plt2,=ax.plot(x,y,'o',alpha=0.25,color='C6',label='Data')\n",
    "ax.set_xlabel(\"$x$\",fontsize=fontsize)\n",
    "ax.set_ylabel(\"$y$\",fontsize=fontsize)\n",
    "ax.set_title(\"Toy Regression Problem\",fontsize=fontsize)\n",
    "ax.set_ylim(bottom=-3,top=3)\n",
    "\n",
    "axy2 = ax.twinx()\n",
    "plt3,=axy2.plot(xs,sig_y_func(xs,m_sig),color='g',linestyle='--',linewidth=2,alpha=0.9,label=r'$\\sigma_y$')\n",
    "axy2.set_ylabel(r'$\\sigma_y$',fontsize=fontsize)\n",
    "ax.legend(handles=[plt1,plt2,plt3],frameon=False,fontsize=fontsize);\n",
    "ax.spines['top'].set_visible(False); axy2.spines['top'].set_visible(False)"
   ]
  },
  {
   "cell_type": "markdown",
   "metadata": {},
   "source": [
    "We will use a MLP with a single non-linear (hyperbolic tangent) hidden layer and a linear output to fit this data. First we demonstrate using normal gradient descent with the `MLP` class defined below. It implements methods for both `forward` and `backwards` (backprop) runs through the network, and keeps track of all weights and gradients as object properties. Additionally, we implement a `predict` method to check performance on test data."
   ]
  },
  {
   "cell_type": "code",
   "execution_count": 5,
   "metadata": {},
   "outputs": [
    {
     "name": "stderr",
     "output_type": "stream",
     "text": [
      "100%|██████████| 10000/10000 [00:06<00:00, 1443.87it/s]\n"
     ]
    }
   ],
   "source": [
    "# a linear function\n",
    "g_ = lambda x,m,b: np.dot(x,m) + b\n",
    "# a tanh function \n",
    "f_ = lambda g: np.tanh(g)\n",
    "# derivatave of tanh function\n",
    "dfdg_ = lambda g: 1.0 - np.tanh(g)**2\n",
    "\n",
    "# now we define a simple MLP with one input n hidden and one output\n",
    "class MLP():\n",
    "    def __init__(self,nhidden,nbatch,alpha):\n",
    "        self.nhidden = nhidden\n",
    "        self.alpha = alpha\n",
    "        # weight prior sigma\n",
    "        self.w1_sig,self.b1_sig,self.w2_sig,self.b2_sig = (1,1,1,1)\n",
    "\n",
    "        # weight initialization\n",
    "        self.w1 = np.random.randn(1,nhidden)\n",
    "        self.b1 = np.random.randn(1,nhidden)\n",
    "        self.w2 = np.random.randn(nhidden,1)\n",
    "        self.b2 = np.random.randn(1,1)\n",
    "        \n",
    "        self.x = np.zeros((nbatch,1))\n",
    "        self.z = np.zeros((nbatch,nhidden))\n",
    "        self.h = np.zeros((nbatch,nhidden))\n",
    "        self.y = np.zeros((nbatch,1))\n",
    "        \n",
    "    def forward(self,x):\n",
    "        self.x = x\n",
    "        self.z = g_(self.x,self.w1,self.b1)\n",
    "        self.h = f_(self.z)\n",
    "        self.y = g_(self.h,self.w2,self.b2)\n",
    "        return self.y\n",
    "    \n",
    "    def predict(self,x):\n",
    "        z = g_(x,self.w1,self.b1)\n",
    "        h = f_(z)\n",
    "        y = g_(h,self.w2,self.b2)\n",
    "        return y\n",
    "        \n",
    "    def backward(self,y_target):\n",
    "        dy = self.y-y_target\n",
    "        dw2 = np.dot(dy.T,self.h).T\n",
    "        db2 = np.sum(dy,0)\n",
    "        dz = np.outer(dy,self.w2.T)*dfdg_(self.z)\n",
    "        dw1 = np.dot(dz.T,self.x).T\n",
    "        db1 = np.sum(dz,0)\n",
    "        \n",
    "        self.w1 += -self.alpha*(dw1+self.w1/self.w1_sig)\n",
    "        self.b1 += -self.alpha*(db1+self.b1/self.b1_sig)\n",
    "        self.w2 += -self.alpha*(dw2+self.w2/self.w2_sig)\n",
    "        self.b2 += -self.alpha*(db2+self.b2/self.b2_sig)\n",
    "        \n",
    "        err = np.sum(dy**2)\n",
    "        return err\n",
    "\n",
    "# Now we run the MLP and keep track of the error\n",
    "net_GD = MLP(20,x.shape[0],1e-4)\n",
    "nepoch = 10000\n",
    "err_gd = np.zeros((nepoch,1))\n",
    "for i in tqdm(range(nepoch)):\n",
    "    net_GD.forward(x)\n",
    "    err_gd[i] = net_GD.backward(y)\n",
    "\n",
    "x_grid = np.linspace(np.min(x),np.max(x),1000).reshape((1000,-1))\n",
    "y_pred = net_GD.predict(x_grid)"
   ]
  },
  {
   "cell_type": "code",
   "execution_count": 6,
   "metadata": {},
   "outputs": [
    {
     "data": {
      "image/png": "[encoded data removed]",
      "text/plain": [
       "<Figure size 1008x288 with 2 Axes>"
      ]
     },
     "metadata": {
      "needs_background": "light"
     },
     "output_type": "display_data"
    }
   ],
   "source": [
    "# plot the gradient descent output\n",
    "figsize = (14,4); fontsize = 16;\n",
    "f, axs = plt.subplots(1, 2, figsize=figsize);\n",
    "\n",
    "ax = axs[0]\n",
    "xs = np.linspace(-4,3.5,num=1000)\n",
    "\n",
    "plt1,=ax.plot(x,y,'o',alpha=0.25,color='C6',label='Data')\n",
    "plt2,=ax.plot(x_grid,y_pred,linewidth=3,color='C9',alpha=0.9,label=r'$\\hat{y}$ (GD Pred.)')\n",
    "ax.set_xlabel(\"$x$\",fontsize=fontsize)\n",
    "ax.set_ylabel(\"$y$\",fontsize=fontsize)\n",
    "ax.set_ylim(bottom=-3,top=3)\n",
    "ax.legend(frameon=False,fontsize=fontsize);\n",
    "sns.despine();\n",
    "\n",
    "ax = axs[1]\n",
    "ax.plot(err_gd,linewidth=2,color='C0')\n",
    "ax.set_xlabel(\"Iteration\",fontsize=fontsize)\n",
    "ax.set_ylabel(\"Error\",fontsize=fontsize)\n",
    "ax.set_yscale('log')\n",
    "ax.set_xscale('log')\n",
    "ax.spines['top'].set_visible(False); \n",
    "ax.spines['right'].set_visible(False);\n",
    "\n",
    "f.suptitle(\"MLP Regression\",fontsize=fontsize+4);"
   ]
  },
  {
   "cell_type": "markdown",
   "metadata": {},
   "source": [
    "This looks good. Error decreases with iteration, and we end up with a prediction from gradient descent that fits the central cloud of the datapoints. However, we do not have any notion of uncertainty. To remedy this, we now construct a BBB network that has the same basic structure."
   ]
  },
  {
   "cell_type": "code",
   "execution_count": 7,
   "metadata": {},
   "outputs": [],
   "source": [
    "sr = lambda x: np.log(1+np.exp(x))+1e-8\n",
    "dsr = lambda x: 1/(1+np.exp(-x))+1e-8\n",
    "\n",
    "class MLP_BBB():\n",
    "    def __init__(self,nhidden,nbatch,alpha):\n",
    "        self.nhidden = nhidden\n",
    "        self.alpha = alpha\n",
    "        # weight prior sigma\n",
    "        self.w1_mu_sig = 1;\n",
    "        self.b1_mu_sig = 1;\n",
    "        self.w2_mu_sig = 1;\n",
    "        self.b2_mu_sig = 1;\n",
    "        self.w1_pi_sig = 1;\n",
    "        self.b1_pi_sig = 1;\n",
    "        self.w2_pi_sig = 1;\n",
    "        self.b2_pi_sig = 1;\n",
    "        # initialize the parameters both in terms of mu and sigma\n",
    "        self.w1_mu = np.random.randn(1,nhidden)\n",
    "        self.b1_mu = np.random.randn(1,nhidden)\n",
    "        self.w2_mu = np.random.randn(nhidden,1)\n",
    "        self.b2_mu = np.random.randn(1,1)\n",
    "        self.w1_pi = np.random.randn(1,nhidden)\n",
    "        self.b1_pi = np.random.randn(1,nhidden)\n",
    "        self.w2_pi = np.random.randn(nhidden,1)\n",
    "        self.b2_pi = np.random.randn(1,1)\n",
    "        \n",
    "        self.w1 = np.random.randn(1,nhidden)\n",
    "        self.b1 = np.random.randn(1,nhidden)\n",
    "        self.w2 = np.random.randn(nhidden,1)\n",
    "        self.b2 = np.random.randn(1,1)\n",
    "        \n",
    "        self.w1_e = np.random.randn(1,nhidden)\n",
    "        self.b1_e = np.random.randn(1,nhidden)\n",
    "        self.w2_e = np.random.randn(nhidden,1)\n",
    "        self.b2_e = np.random.randn(1,1)\n",
    "        \n",
    "        self.x = np.zeros((nbatch,1))\n",
    "        self.z = np.zeros((nbatch,nhidden))\n",
    "        self.h = np.zeros((nbatch,nhidden))\n",
    "        self.y = np.zeros((nbatch,1))\n",
    "        \n",
    "    def forward(self,x):\n",
    "        self.w1_e = np.random.randn(1,self.nhidden)\n",
    "        self.b1_e = np.random.randn(1,self.nhidden)\n",
    "        self.w2_e = np.random.randn(self.nhidden,1)\n",
    "        self.b2_e = np.random.randn(1,1)\n",
    "        self.w1 = self.w1_e*sr(self.w1_pi) + self.w1_mu\n",
    "        self.b1 = self.b1_e*sr(self.b1_pi) + self.b1_mu\n",
    "        self.w2 = self.w2_e*sr(self.w2_pi) + self.w2_mu\n",
    "        self.b2 = self.b2_e*sr(self.b2_pi) + self.b2_mu\n",
    "        \n",
    "        self.x = x\n",
    "        self.z = g_(self.x,self.w1,self.b1)\n",
    "        self.h = f_(self.z)\n",
    "        self.y = g_(self.h,self.w2,self.b2)\n",
    "        return self.y\n",
    "    \n",
    "    def predict(self,x):\n",
    "        self.w1 = self.w1_mu\n",
    "        self.b1 = self.b1_mu\n",
    "        self.w2 = self.w2_mu\n",
    "        self.b2 = self.b2_mu\n",
    "        \n",
    "        self.x = x\n",
    "        self.z = g_(self.x,self.w1,self.b1)\n",
    "        self.h = f_(self.z)\n",
    "        self.y = g_(self.h,self.w2,self.b2)\n",
    "        return self.y\n",
    "    \n",
    "    def confidence(self,x,nsim):\n",
    "        y_sim = np.zeros((x.shape[0],nsim))\n",
    "        for i in range(nsim):\n",
    "            y_sim[:,i] = self.forward(x)[:,0]\n",
    "        y_std = np.std(y_sim,1).reshape([x.shape[0],-1])\n",
    "        return y_sim, y_std\n",
    "    \n",
    "    def backward(self,y_target):\n",
    "        dy = self.y-y_target\n",
    "        dw2 = np.dot(dy.T,self.h).T\n",
    "        db2 = np.sum(dy,0)\n",
    "        dz = np.outer(dy,self.w2.T)*dfdg_(self.z)\n",
    "        dw1 = np.dot(dz.T,self.x).T\n",
    "        db1 = np.sum(dz,0)\n",
    "        \n",
    "        self.w1_mu += -self.alpha*(dw1+self.w1_mu/self.w1_mu_sig+self.w1_e/sr(self.w1_pi))\n",
    "        self.b1_mu += -self.alpha*(db1+self.b1_mu/self.b1_mu_sig+self.b1_e/sr(self.b1_pi))\n",
    "        self.w2_mu += -self.alpha*(dw2+self.w2_mu/self.w2_mu_sig+self.w2_e/sr(self.w2_pi))\n",
    "        self.b2_mu += -self.alpha*(db2+self.b2_mu/self.b2_mu_sig+self.b2_e/sr(self.b2_pi))\n",
    "        self.w1_pi += -self.alpha*((dw1+self.w1_pi/self.w1_pi_sig)*dsr(self.w1_pi)*self.w1_e+(self.w1_e**2-1)/sr(self.w1_pi)*dsr(self.w1_pi))\n",
    "        self.b1_pi += -self.alpha*((db1+self.b1_pi/self.b1_pi_sig)*dsr(self.b1_pi)*self.b1_e+(self.b1_e**2-1)/sr(self.b1_pi)*dsr(self.b1_pi))\n",
    "        self.w2_pi += -self.alpha*((dw2+self.w2_pi/self.w2_pi_sig)*dsr(self.w2_pi)*self.w2_e+(self.w2_e**2-1)/sr(self.w2_pi)*dsr(self.w2_pi))\n",
    "        self.b2_pi += -self.alpha*((db2+self.b2_pi/self.b2_pi_sig)*dsr(self.b2_pi)*self.b2_e+(self.b2_e**2-1)/sr(self.b2_pi)*dsr(self.b2_pi))\n",
    "        \n",
    "        err = np.sum(dy**2)\n",
    "        return err"
   ]
  },
  {
   "cell_type": "code",
   "execution_count": 8,
   "metadata": {},
   "outputs": [
    {
     "name": "stderr",
     "output_type": "stream",
     "text": [
      "100%|██████████| 100000/100000 [01:33<00:00, 1069.09it/s]\n"
     ]
    }
   ],
   "source": [
    "net_BBB = MLP_BBB(20,x.shape[0],5e-5)\n",
    "nepoch = 100000\n",
    "err_BBB = np.zeros((nepoch,1))\n",
    "for i in tqdm(range(nepoch)):\n",
    "    net_BBB.forward(x)\n",
    "    err_BBB[i] = net_BBB.backward(y)\n",
    "\n",
    "x_grid = np.linspace(np.min(x),np.max(x),1000).reshape((1000,-1))\n",
    "y_pred = net_BBB.predict(x_grid)\n",
    "y_ppc,y_std = net_BBB.confidence(x_grid,100)"
   ]
  },
  {
   "cell_type": "code",
   "execution_count": 9,
   "metadata": {},
   "outputs": [
    {
     "data": {
      "image/png": "[encoded data removed]",
      "text/plain": [
       "<Figure size 1008x576 with 8 Axes>"
      ]
     },
     "metadata": {
      "needs_background": "light"
     },
     "output_type": "display_data"
    }
   ],
   "source": [
    "# plot the gradient descent output\n",
    "figsize = (14,8); fontsize = 16;\n",
    "f, axs = plt.subplots(3, 2, figsize=figsize);\n",
    "\n",
    "ax = axs[0,0]\n",
    "xs = np.linspace(-4,3.5,num=1000)\n",
    "\n",
    "ax.plot(xs,mu_y_func(xs,m_mu),color='k',linestyle='--',linewidth=2,alpha=0.9,label=r'$\\mu_y$')\n",
    "#ax.plot(xs,sig_y_func(xs,m_sig),color='g',linestyle='--',linewidth=2,alpha=0.9,label=r'$\\sigma_y$')\n",
    "ax.plot(x,y,'o',alpha=0.25,color='C6',label='Data')\n",
    "ax.plot(x_grid,y_pred,color='C9',linewidth=3,label=r'$\\hat{y}$ (BBB Pred.)')\n",
    "ax.fill_between(x_grid.flatten(),(y_pred+y_std).flatten(),(y_pred-y_std).flatten(),\n",
    "                color='C9', alpha=0.4, label=r'$\\sigma_{\\hat{y}}$ ')\n",
    "ax.set_xlabel(\"x\",fontsize=fontsize)\n",
    "ax.set_ylabel(\"y\",fontsize=fontsize)\n",
    "ax.legend(frameon=False,fontsize=fontsize);\n",
    "sns.despine();\n",
    "\n",
    "ax = axs[0,1]\n",
    "ax.plot(err_BBB)\n",
    "ax.set_xlabel(\"Iteration\",fontsize=fontsize)\n",
    "ax.set_ylabel(\"Error\",fontsize=fontsize)\n",
    "ax.set_yscale('log')\n",
    "ax.set_xscale('log')\n",
    "sns.despine();\n",
    "\n",
    "ax = axs[1,0]\n",
    "plt1, = ax.plot(x_grid,y_std,label=r'$\\sigma_{\\hat{y}}$');\n",
    "ax.set_ylabel(\"$std$\",fontsize=fontsize)\n",
    "axy2 = ax.twinx()\n",
    "plt2, = axy2.plot(xs,sig_y_func(xs,m_sig),color='g',linestyle='--',linewidth=2,alpha=0.9,label=r'$\\sigma_y$')\n",
    "axy2.set_ylabel(\"$std$\",fontsize=fontsize)\n",
    "axy2.legend(handles=[plt1,plt2],frameon=False,fontsize=fontsize);\n",
    "\n",
    "ax.spines['top'].set_visible(False); axy2.spines['top'].set_visible(False)\n",
    "ax.spines['bottom'].set_visible(False); axy2.spines['bottom'].set_visible(False)\n",
    "\n",
    "ax = axs[2,0]\n",
    "ax.hist(x,50);\n",
    "ax.set_xlabel(\"$x$\",fontsize=fontsize)\n",
    "ax.set_ylabel(\"Data Counts\",fontsize=fontsize)\n",
    "ax.spines['top'].set_visible(False); axy2.spines['top'].set_visible(False)\n",
    "\n",
    "axy2 = ax.twinx()\n",
    "axy2.plot(xs,mu_y_func(xs,m_mu),color='k',linestyle='--',linewidth=2,alpha=0.9,label=r'$\\mu_y$')\n",
    "axy2.set_ylabel(\"$y$\",fontsize=fontsize)\n",
    "axy2.legend(frameon=False,fontsize=fontsize);\n",
    "\n",
    "ax.spines['top'].set_visible(False); axy2.spines['top'].set_visible(False)\n",
    "\n",
    "ax = axs[1,1];ax.axis('off')\n",
    "ax = axs[2,1];ax.axis('off')\n",
    "\n",
    "f.suptitle(\"BBB Regression\",fontsize=fontsize+4);"
   ]
  },
  {
   "cell_type": "markdown",
   "metadata": {},
   "source": [
    "Just like in the gradient descent expample above, this network shows decreasing error with iteration, and a prediction that hugs the midline of the data nicely. Now, we can additionally inspect the uncertainty by plotting it on top. We zoom in on this and superimpose both the varying variance $\\sigma_y$ and show histograms with datapoint counts. In this case it appears that the dominant effect on the variance in the model comes from differences in number of datapoints. In other words, the areas of the histogram with high counts correspond to the same bins of $x$ values where the predictions of the model vary ($\\sigma_{\\hat{y}}$) less."
   ]
  },
  {
   "cell_type": "markdown",
   "metadata": {},
   "source": [
    "# 3. BBB for Classification\n",
    "\n",
    "Now we construct a simple one layer bayesian network using ADVI for approximate inference in PyMC3 to classify the Fashion-MNIST images. Then, we look at performance metrics and use the inherently probabilistic nature of this model to look at performance variance. We also loosely compare to a similarly designed traditional neural network made with SGD using tensorflow via Keras. "
   ]
  },
  {
   "cell_type": "markdown",
   "metadata": {},
   "source": [
    "## Import the dataset \n",
    "\n",
    "First we will use keras to load in the Fashion-MNIST data, and preprocess it for easy use. Note we avoid making the `X_train`, `X_test` etc. into a theano shared variable here so that we can use it for our tensorflow network as well."
   ]
  },
  {
   "cell_type": "code",
   "execution_count": null,
   "metadata": {},
   "outputs": [],
   "source": [
    "# Load and process images\n",
    "def load_fashionMNIST():\n",
    "    (X_train, y_train), (X_test, y_test) = tf.keras.datasets.fashion_mnist.load_data()\n",
    "    X_train = X_train.astype(theano.config.floatX,copy=True).reshape(X_train.shape[0],-1)/255\n",
    "    X_test = X_test.astype(theano.config.floatX,copy=True).reshape(X_test.shape[0],-1)/255\n",
    "    y_train, y_test = y_train.astype(np.int), y_test.astype(np.int)\n",
    "    return (X_train,y_train),(X_test,y_test)\n",
    "\n",
    "(X_train, y_train), (X_test, y_test) = load_fashionMNIST()\n",
    "\n",
    "# All the Fashion-MNIST labels\n",
    "label_dict = OrderedDict({0: 'T-shirt/top', 1: 'Trouser', 2: 'Pullover',\n",
    "                          3: 'Dress', 4: 'Coat', 5: 'Sandal', 6: 'Shirt',\n",
    "                          7: 'Sneaker', 8: 'Bag', 9: 'Ankle boot'})\n",
    "\n",
    "imgvec2img = lambda vec : vec.reshape(np.sqrt(vec.shape[0]).astype(int),-1)"
   ]
  },
  {
   "cell_type": "markdown",
   "metadata": {},
   "source": [
    "The data are similar to MNIST in size, but instead have shirts, shoes etc., Below we look a random subset of them."
   ]
  },
  {
   "cell_type": "code",
   "execution_count": null,
   "metadata": {},
   "outputs": [],
   "source": [
    "# Plot random subset of images\n",
    "n_plot_samples = 10\n",
    "rand_samps = np.random.choice(X_train.shape[0],size=n_plot_samples,replace=False)\n",
    "figsize = (16,2.5); fontsize = 16;\n",
    "f, axs = plt.subplots(1,n_plot_samples,sharex=True,figsize=figsize);\n",
    "for rs,ax in zip(rand_samps,axs):\n",
    "    ax.imshow(imgvec2img(X_train[rs]),cmap='gray');\n",
    "    ax.axis('off')\n",
    "    ax.set_title(label_dict[y_train[rs]]);\n",
    "    sns.despine();\n",
    "f.suptitle(\"Example Fashion-MNIST Images\",fontsize=fontsize+4);"
   ]
  },
  {
   "cell_type": "markdown",
   "metadata": {},
   "source": [
    "## Make and Train a Single Hidden Layer Network Backprop with SGD\n",
    "Just like in the previous section, we will look at a traditional neural network trained using gradient descent. In this case we will  we will use tensorflow (via keras) to make a network with the same architecture as our soon to be implemented bayesian neural network (below). This will serve as a comparison point just as the hand-built network above did, except this time, we let an ML library do the heavy lifting for us. Note this will not exactly be a fair fight, but we will train similar amounts, and for qualitative and didactic comparison purposes this is fine."
   ]
  },
  {
   "cell_type": "code",
   "execution_count": null,
   "metadata": {},
   "outputs": [],
   "source": [
    "# We selected number of nodes in the hidden layer for fast performance\n",
    "n_hidden = 96\n",
    "n_output = len(label_dict)\n",
    "\n",
    "# make more convenient categorical variables for keras\n",
    "y_train_onehot = tf.keras.utils.to_categorical(y_train,num_classes=n_output)\n",
    "y_test_onehot = tf.keras.utils.to_categorical(y_test,num_classes=n_output)"
   ]
  },
  {
   "cell_type": "code",
   "execution_count": null,
   "metadata": {},
   "outputs": [],
   "source": [
    "def make_1layer_tf_network(n_input,n_output,n_hidden):\n",
    "    from tensorflow.keras.models import Sequential, Model\n",
    "    from tensorflow.keras.layers import Dense, Input\n",
    "\n",
    "    ann_input = Input(shape=(n_input,))\n",
    "    x = Dense(n_hidden, activation='tanh')(ann_input)\n",
    "    x = Dense(n_output, activation='softmax')(x)\n",
    "    return Model(ann_input,x)\n",
    "\n",
    "tf_model = make_1layer_tf_network(np.prod(X_train.shape[1:]),len(label_dict),n_hidden)\n",
    "tf_model.compile(optimizer='sgd',loss='categorical_crossentropy',metrics=['accuracy']);\n",
    "tf_model.fit(X_train, y_train_onehot, epochs=5, batch_size=50, verbose=0); # Silence output for sanity"
   ]
  },
  {
   "cell_type": "code",
   "execution_count": null,
   "metadata": {},
   "outputs": [],
   "source": [
    "tf_train_preds = tf_model.predict(X_train, batch_size=50)\n",
    "tf_test_preds = tf_model.predict(X_test, batch_size=50)\n",
    "\n",
    "tf_train_loss, tf_train_acc = tf_model.evaluate(X_train, y_train_onehot)\n",
    "tf_test_loss, tf_test_acc = tf_model.evaluate(X_test, y_test_onehot)\n",
    "\n",
    "print(\"SGD Network Accuracy\\nTrain: {:f} Test: {:f}\".format(tf_train_acc,tf_test_acc))"
   ]
  },
  {
   "cell_type": "markdown",
   "metadata": {},
   "source": [
    "The network does pretty well after a small number of epochs, surpassing 80% accuraracy on both training and the held-out test datasets. To get an idea of the performance and types of errors, we can plot a random subset of the test data to look for errors and correct predictions."
   ]
  },
  {
   "cell_type": "code",
   "execution_count": null,
   "metadata": {},
   "outputs": [],
   "source": [
    "# Plot random subset of images\n",
    "n_plot_samples = 10\n",
    "rand_samps = np.random.choice(X_test.shape[0],size=n_plot_samples)\n",
    "\n",
    "figsize = (16,2.5); fontsize = 16;\n",
    "f, axs = plt.subplots(1, n_plot_samples, figsize=figsize);\n",
    "\n",
    "for i,(rs,ax) in enumerate(zip(rand_samps,axs.T)):\n",
    "    pred = np.argmax(tf_test_preds[rs])\n",
    "    real = y_test[rs]\n",
    "    # Show image and classifications\n",
    "    ax.imshow(imgvec2img(X_test[rs]),cmap='gray');\n",
    "    tl = \"{}: {},\\n{}: {}\".format(pred,label_dict[pred],\n",
    "                                  real,label_dict[real])\n",
    "    if pred == real:\n",
    "        ax.set_title(tl,color='k');\n",
    "    else:\n",
    "        ax.set_title(tl,color='r');\n",
    "    ax.axis('off');\n",
    "    \n",
    "f.suptitle(\"Example ANN Classifications\",fontsize=fontsize+4,y=1.05);"
   ]
  },
  {
   "cell_type": "markdown",
   "metadata": {},
   "source": [
    "We see the types of errors are \"understandable\" things that seem pretty similar in outline are often misclassified, such as shirts with pullovers, coats with dresses, and ankle boots with sneakers. This is informative, but just as before we don't have any principled way to estimate of the confidence of any given prediction from the network. As in the previous section, we will turn to a BBB network to remedy this situation."
   ]
  },
  {
   "cell_type": "markdown",
   "metadata": {},
   "source": [
    "## Build and fit the BBB model\n",
    "Now we construct a single layer bayesian neural network with all weights using a composite normal distribution as in the Bayes by BackProp paper. In this case we make use of the elegant `pymc3` library to explicitly construct prior distributions on all the weights, as well as functions between the layers. Below is a function `make_1layer_bbb_network` which will construct a BBB network as in the original paper, modulo details that were left unspecified. For example, the authors of the original BBB paper use a prior that is two gaussians weighted by  a parameter `pi`. We chose our value roughly to be able to see model convergence and to achieve reasonable model performance. Note we found this is not critical for convergence."
   ]
  },
  {
   "cell_type": "code",
   "execution_count": null,
   "metadata": {},
   "outputs": [],
   "source": [
    "def make_1layer_bbb_network(ann_input, ann_output, n_input, n_output, n_train, n_hidden_1=64, use_bias=True):\n",
    "     # initial weights, standard normal here and scaled below to match prior distributions\n",
    "    init_w_in_1 = np.random.randn(n_input, n_hidden_1).astype(theano.config.floatX)\n",
    "    init_b_1 = np.random.randn(n_hidden_1).astype(theano.config.floatX)\n",
    "    init_w_1_out = np.random.randn(n_hidden_1, n_output).astype(theano.config.floatX)\n",
    "    \n",
    "    pi  = 0.95 # weighting between normals\n",
    "    sda = 1.75 # sd for first normal\n",
    "    sdb = 0.25 # sd for second normal\n",
    "    \n",
    "    with pm.Model() as neural_network:\n",
    "        # Weights from input to first hidden layer\n",
    "        w_in_1a = pm.Normal('w_in_1a', mu=0, sd=sda, shape=(n_input, n_hidden_1),testval=init_w_in_1*sda)\n",
    "        w_in_1b = pm.Normal('w_in_1b', mu=0, sd=sdb, shape=(n_input, n_hidden_1),testval=init_w_in_1*sdb)\n",
    "        w_in_1 = pm.Deterministic('w_in_1',pi*w_in_1a+(1-pi)*w_in_1b)\n",
    "        # Bias in first layer        \n",
    "        if use_bias:\n",
    "            b_1a = pm.Normal('b_1a',mu=0, sd=sda, shape=(n_hidden_1),testval=init_b_1*sda)\n",
    "            b_1b = pm.Normal('b_1b',mu=0, sd=sdb, shape=(n_hidden_1),testval=init_b_1*sdb)\n",
    "            b_1 = pm.Deterministic('b_1',pi*b_1a+(1-pi)*b_1b)\n",
    "        else:\n",
    "            b_1 = 0\n",
    "        \n",
    "        # Weights from 1st hidden layer to output layer\n",
    "        w_1_outa = pm.Normal('w_1_outa',mu=0, sd=sda, shape=(n_hidden_1, n_output),testval=init_w_1_out*sda)\n",
    "        w_1_outb = pm.Normal('w_1_outb',mu=0, sd=sdb, shape=(n_hidden_1, n_output),testval=init_w_1_out*sdb)\n",
    "        w_1_out = pm.Deterministic('w_1_out',pi*w_1_outa+(1-pi)*w_1_outb)\n",
    "        \n",
    "        # Build neural-network using tanh activation function\n",
    "        act_1 = pm.Deterministic('act_1',var=pm.math.tanh(pm.math.dot(ann_input,w_in_1)+b_1))\n",
    "        \n",
    "        # Softmax is required at last layer\n",
    "        act_out = pm.Deterministic('act_out',var=tt.nnet.softmax(pm.math.dot(act_1,w_1_out)))\n",
    "        \n",
    "        # Classification\n",
    "        out = pm.Categorical('out',act_out,observed=ann_output,total_size=n_train)\n",
    "        \n",
    "    return neural_network"
   ]
  },
  {
   "cell_type": "markdown",
   "metadata": {},
   "source": [
    "We train the model using minibatches to speed up the process. See the pymc3 documentation for more information."
   ]
  },
  {
   "cell_type": "code",
   "execution_count": null,
   "metadata": {},
   "outputs": [],
   "source": [
    "n_hidden = 96\n",
    "n_output = len(label_dict)\n",
    "\n",
    "# Minibatches speed up training substaintally\n",
    "shared_x = pm.Minibatch(X_train, batch_size=100)\n",
    "shared_y = pm.Minibatch(y_train, batch_size=100)\n",
    "\n",
    "pm_model = make_1layer_bbb_network(shared_x, shared_y, \n",
    "                                   n_input=X_train.shape[1], \n",
    "                                   n_output=len(label_dict), \n",
    "                                   n_train=X_train.shape[0], \n",
    "                                   n_hidden_1=n_hidden,use_bias=True)"
   ]
  },
  {
   "cell_type": "markdown",
   "metadata": {},
   "source": [
    "Just as in the BBB paper, this model depends on variational inference. For our approximate inference we will use ADVI. In pymc3 as in the BBB paper, it has two parameters $\\mu$ and $\\rho$, printed below."
   ]
  },
  {
   "cell_type": "code",
   "execution_count": null,
   "metadata": {},
   "outputs": [],
   "source": [
    "with pm_model:\n",
    "    advi = pm.ADVI()\n",
    "print(advi.approx.shared_params)"
   ]
  },
  {
   "cell_type": "markdown",
   "metadata": {},
   "source": [
    "Now we will configure the `tracker` to keep track of parameter mean and std. The API doesn't grant more granularity over tracking without substaintally more work, so we will use the `mean` and `std` callables below to see that parameters are moving after initialization. We choose a conservative number of iterations because later we can run more iterations using `advi.refine()` after inspecting the ELBO plot."
   ]
  },
  {
   "cell_type": "code",
   "execution_count": null,
   "metadata": {},
   "outputs": [],
   "source": [
    "# To better look at convergence, we keep track of parameter mean and std,\n",
    "# https://docs.pymc.io/notebooks/variational_api_quickstart.html\n",
    "tracker = pm.callbacks.Tracker(mean = advi.approx.mean.eval, # callable that returns mean\n",
    "                               std = advi.approx.std.eval)   # callable that returns std\n",
    "n_approx_iter = 20000\n",
    "with pm_model:\n",
    "    approx = advi.fit(n=n_approx_iter, callbacks=[tracker])\n",
    "elbo = -advi.hist"
   ]
  },
  {
   "cell_type": "code",
   "execution_count": null,
   "metadata": {},
   "outputs": [],
   "source": [
    "# plot the training progress\n",
    "figsize = (8,3); fontsize = 16;\n",
    "f, ax = plt.subplots(1,1,figsize=figsize);\n",
    "\n",
    "ax.plot(elbo,label='1');\n",
    "ax.set_ylabel('ELBO',fontsize=fontsize);\n",
    "ax.set_xlabel('iteration',fontsize=fontsize);\n",
    "sns.despine();"
   ]
  },
  {
   "cell_type": "markdown",
   "metadata": {},
   "source": [
    "The ELBO plot tells us it has approached stable performance, so we next look at the means of the parameters and standard deviations of those parameters over iterations. Since there is some structure in the trends with which parameters change, we take a random subset (`randset`, below) of them to look at diversity. Extracting these parameters is very time consuming, so we opt to subsample them on an empirically determined scale. Note that the behavior tends to be a bit chaotic, and it is not always evident that large changes are happening. The random seed set at the beginning of this notebook should help insulate our example from this problem, however."
   ]
  },
  {
   "cell_type": "code",
   "execution_count": null,
   "metadata": {},
   "outputs": [],
   "source": [
    "subsamp_fac = 20\n",
    "\n",
    "# remap the list of arrays into arrays at a particular index, most efficient way I could think of\n",
    "iter_array = np.arange(advi.state.i)[::subsamp_fac]\n",
    "get_weight_mean = lambda i : [tracker['mean'][int(j)][i] for j in iter_array]\n",
    "get_weight_stds = lambda i : [tracker['std'][int(j)][i] for j in iter_array]\n",
    "\n",
    "figsize = (8,3); fontsize = 16;\n",
    "f, axs = plt.subplots(1,2,figsize=figsize)\n",
    "\n",
    "randset = np.random.choice(len(tracker['mean']),30)\n",
    "\n",
    "ax = axs[0]\n",
    "for i in randset:\n",
    "    ax.plot(iter_array,get_weight_stds(i),alpha=0.5,label=i)\n",
    "ax.set_xlabel('iteration',fontsize=fontsize);\n",
    "ax.set_title('STDs',fontsize=fontsize);\n",
    "sns.despine();\n",
    "\n",
    "ax = axs[1]\n",
    "for i in randset:\n",
    "    ax.plot(iter_array,get_weight_mean(i),alpha=0.5,label=i)\n",
    "ax.set_xlabel('iteration',fontsize=fontsize);\n",
    "ax.set_title('Means',fontsize=fontsize);\n",
    "sns.despine();"
   ]
  },
  {
   "cell_type": "markdown",
   "metadata": {},
   "source": [
    "## Test the BBB Model Performance\n",
    "Now we are ready to draw samples from variational posterior (~weights in the network) we have constructed. To do this we just call `sample` on the approximation. To get performance on the training and test data we construct another two networks `pm_model_perf_train` and `pm_model_perf_test` to sample the posterior predictive distribution, using the trace (posterior samples) from the ADVI approximation above. And for speed's sake we just take a subset of the training data to test the model with (size equal to the training data since it is a more manageable size. We did not find that this yeilded any difference from running on the entire training set."
   ]
  },
  {
   "cell_type": "code",
   "execution_count": null,
   "metadata": {},
   "outputs": [],
   "source": [
    "n_draws = 1000 # > 2k draws hangs for almost all network sizes on a 2018 MBP\n",
    "trace = approx.sample(draws=n_draws)\n",
    "\n",
    "n_ppc_samps = 100 # sufficient for our small histograms\n",
    "\n",
    "# Make performance testing model\n",
    "shared_x = theano.shared(X_train[:X_test.shape[0]])\n",
    "shared_y = theano.shared(y_train[:y_test.shape[0]])\n",
    "pm_model_perf_train = make_1layer_bbb_network(shared_x, shared_y, \n",
    "                                   n_input=X_train.shape[1], \n",
    "                                   n_output=len(label_dict), \n",
    "                                   n_train=y_test.shape[0], \n",
    "                                   n_hidden_1=n_hidden)\n",
    "with pm_model_perf_train:\n",
    "    #ppc_train = pm.sample_posterior_predictive(trace, samples=100)\n",
    "    ppc_train = pm.sample_ppc(trace, samples=n_ppc_samps) # deprecated!\n",
    "\n",
    "# Now do the same for held out test set\n",
    "shared_x = theano.shared(X_test)\n",
    "shared_y = theano.shared(y_test)\n",
    "pm_model_perf_test = make_1layer_bbb_network(shared_x, shared_y, \n",
    "                                   n_input=X_test.shape[1],\n",
    "                                   n_output=len(label_dict), \n",
    "                                   n_train=X_test.shape[0],\n",
    "                                   n_hidden_1=n_hidden)\n",
    "with pm_model_perf_test:\n",
    "    ppc_test = pm.sample_ppc(trace, samples=n_ppc_samps) # deprecated!"
   ]
  },
  {
   "cell_type": "code",
   "execution_count": null,
   "metadata": {},
   "outputs": [],
   "source": [
    "# Prediction is mode of each\n",
    "y_pred_train = sp.stats.mode(ppc_train['out'], axis=0).mode[0,:]\n",
    "y_pred_test = sp.stats.mode(ppc_test['out'], axis=0).mode[0,:]\n",
    "\n",
    "mean_train_acc = np.mean(y_pred_train==y_train[:y_test.shape[0]])\n",
    "mean_test_acc = np.mean(y_pred_test==y_test)\n",
    "\n",
    "print(\"BBB Model Accuracy:\\n  Train {:f}\\n  Test  {:f}\".format(mean_train_acc,mean_test_acc))"
   ]
  },
  {
   "cell_type": "markdown",
   "metadata": {},
   "source": [
    "Voila! We get around ~80% accuracy on the training and test sets, similar to in our gradient descent example. Except now we can get a histogram of predictions as part of our posterior predictive check, plotted below..."
   ]
  },
  {
   "cell_type": "code",
   "execution_count": null,
   "metadata": {},
   "outputs": [],
   "source": [
    "# make more convenient categorical variables\n",
    "ppc_test_onehot = tf.keras.utils.to_categorical(ppc_test['out'],num_classes=len(label_dict))\n",
    "ppc_test_hist = np.sum(ppc_test_onehot,axis=0)\n",
    "ppc_test_pred = np.argmax(ppc_test_hist,axis=1)"
   ]
  },
  {
   "cell_type": "code",
   "execution_count": null,
   "metadata": {},
   "outputs": [],
   "source": [
    "# Plot random subset of images\n",
    "n_plot_samples = 10\n",
    "rand_samps = np.random.choice(X_test.shape[0],size=n_plot_samples)\n",
    "\n",
    "figsize = (16,4); fontsize = 16;\n",
    "f, axs = plt.subplots(2, n_plot_samples, figsize=figsize);\n",
    "\n",
    "for i,(rs,ax) in enumerate(zip(rand_samps,axs.T)):\n",
    "    pred = ppc_test_pred[rs]\n",
    "    real = y_test[rs]\n",
    "    # Show image and classifications\n",
    "    ax[0].imshow(imgvec2img(X_test[rs]),cmap='gray');\n",
    "    tl = \"{}: {},\\n{}: {}\".format(pred,label_dict[pred],\n",
    "                                  real,label_dict[real])\n",
    "    if y_pred_test[rs] == y_test[rs]:\n",
    "        ax[0].set_title(tl,color='k');\n",
    "    else:\n",
    "        ax[0].set_title(tl,color='r');\n",
    "    ax[0].axis('off');\n",
    "    \n",
    "    # Show the classifications as a histogram\n",
    "    onehot = tf.keras.utils.to_categorical(ppc_test['out'].T[rs],num_classes=len(label_dict))\n",
    "    if y_pred_test[rs] == y_test[rs]:\n",
    "        ax[1].bar(real,n_ppc_samps,alpha=0.6,color='k')\n",
    "    else:\n",
    "        ax[1].bar(real,n_ppc_samps,alpha=0.6,color='r')\n",
    "    ax[1].bar(np.arange(len(label_dict)),ppc_test_hist[rs],alpha=0.6)\n",
    "\n",
    "    ax[1].set_ylim(bottom=0,top=n_ppc_samps)\n",
    "    ax[1].set_xlim(left=-1,right=10)\n",
    "    ax[1].set_xticks(np.arange(10))\n",
    "    if i > 0:\n",
    "        ax[1].set_yticklabels([])\n",
    "    else:\n",
    "        ax[1].set_ylabel(\"Counts\",fontsize=fontsize)\n",
    "        ax[1].set_xlabel(\"Category\",fontsize=fontsize)\n",
    "    sns.despine();\n",
    "\n",
    "f.suptitle(\"Example BBB Classifications\",fontsize=fontsize+4,y=1.05);"
   ]
  },
  {
   "cell_type": "markdown",
   "metadata": {},
   "source": [
    "Plotting the classification examples, again they very often \"make sense\" given the similarity of shapes or ambiguity of label. But! We can finally go one step further and see how confident the network was in each of these individual classifications since we have samples from our posterior predictive. Looking below each image is a histogram of the categorizations for each example image across our `n_ppc_samps` samples. The correct category is  indicated in the histogram as a black or red bar at perfect accuracy, for correct and for incorrect modal distributions respectively."
   ]
  },
  {
   "cell_type": "markdown",
   "metadata": {},
   "source": [
    "Now let's break things down by category and look at some performance metrics. Namely, \n",
    " - Fraction of correct predictions by class and confusion matrix,\n",
    " - KL divergence from the categorical prior to the empirical classification in each class\n",
    "\n",
    "The fraction of correct predictions  we  calculate by looking at in vs out of class, so we will throw out any structure in the errors and simply look at if it was right vs wrong. In the confusion matrix we will see if there are classes that are often confused. The KL divergence will tell us the distance between naive performance and actual performance. If looked at in conjunction with accuracy this entropy measure will be a nice way to look at the categorical performance. So we want low standard deviations for all classes, and a high KL divergence between uniform and empirical categorical classification (assuming high accuracy)."
   ]
  },
  {
   "cell_type": "code",
   "execution_count": null,
   "metadata": {},
   "outputs": [],
   "source": [
    "# make an array of np.arrays with the inds of all the training indexes for that class\n",
    "cat_lookup_test = []\n",
    "for i in range(n_output):\n",
    "    cat_lookup_test.append([np.array(y_test == i)])\n",
    "\n",
    "# Things to track\n",
    "ppc_cat_hists = [] # histograms over each image's samples within a category\n",
    "ppc_cat_sums = []  # sums of histograms to collapse by category\n",
    "ppc_cat_accs = []  # fractional corret by category\n",
    "ppc_cat_stds = []  # standard deviation of each classification point (not super useful)\n",
    "ppc_cat_ents = []  # entropy of the categorical distributions\n",
    "ppc_cat_KLDs = []  # KL divergence from the uniform null\n",
    "\n",
    "y_test_null = np.ones(n_output)/n_output\n",
    "\n",
    "for i,clt in enumerate(cat_lookup_test):\n",
    "    ppc_cat_hists.append(ppc_test_hist[clt])\n",
    "    ppc_cat_sums.append(np.sum(ppc_test_hist[clt],axis=0))\n",
    "    ppc_cat_accs.append(ppc_cat_sums[i][i]/ppc_cat_sums[i].sum())\n",
    "    ppc_cat_stds.append(np.std(ppc_test_hist[clt],axis=0))\n",
    "    normed_cat_hist = ppc_cat_sums[i]/ppc_cat_sums[i].sum()\n",
    "\n",
    "    ppc_cat_ents.append(sp.stats.entropy(normed_cat_hist))\n",
    "    ppc_cat_KLDs.append(sp.stats.entropy(normed_cat_hist,y_test_null))\n",
    "\n",
    "ppc_cat_accs = np.array(ppc_cat_accs) # scalar -> vec\n",
    "ppc_cat_ents = np.array(ppc_cat_ents) # scalar -> vec\n",
    "ppc_cat_KLDs = np.array(ppc_cat_KLDs) # scalar -> vec\n",
    "ppc_cat_sums = np.array(ppc_cat_sums) # vecs -> matrix"
   ]
  },
  {
   "cell_type": "code",
   "execution_count": null,
   "metadata": {},
   "outputs": [],
   "source": [
    "# plot accuracy by class\n",
    "figsize = (21,4); fontsize = 16;\n",
    "f, axs = plt.subplots(1, 3, figsize=figsize);\n",
    "\n",
    "ax=axs[0]\n",
    "ax.bar(np.arange(n_output),ppc_cat_accs)\n",
    "ax.set_xlim(left=-0.5,right=9.5)\n",
    "ax.set_xticks(np.arange(n_output)); ax.tick_params(labelrotation=45);\n",
    "ax.set_xticklabels(labels=label_dict.values());\n",
    "ax.set_xlabel(\"Category\",fontsize=fontsize)\n",
    "ax.set_ylim(bottom=0,top=1)\n",
    "ax.set_ylabel(\"Accuracy\",fontsize=fontsize)\n",
    "sns.despine()\n",
    "\n",
    "ax=axs[1]\n",
    "ax.bar(np.arange(n_output),ppc_cat_ents)\n",
    "ax.set_xlim(left=-0.5,right=9.5)\n",
    "ax.set_xticks(np.arange(n_output)); ax.tick_params(labelrotation=45);\n",
    "ax.set_xticklabels(labels=label_dict.values());\n",
    "ax.set_xlabel(\"Category\",fontsize=fontsize)\n",
    "ax.set_ylabel(\"Entropy\",fontsize=fontsize)\n",
    "sns.despine()\n",
    "\n",
    "ax=axs[2]\n",
    "ax.bar(np.arange(n_output),ppc_cat_KLDs)\n",
    "ax.set_xlim(left=-0.5,right=9.5)\n",
    "ax.set_xticks(np.arange(n_output)); ax.tick_params(labelrotation=45);\n",
    "ax.set_xticklabels(labels=label_dict.values());\n",
    "ax.set_xlabel(\"Category\",fontsize=fontsize)\n",
    "ax.set_ylabel(\"KL Divergence from Null\",fontsize=fontsize)\n",
    "sns.despine()\n",
    "\n",
    "f.suptitle(\"BBB Classification Statistics\",fontsize=fontsize+4);"
   ]
  },
  {
   "cell_type": "markdown",
   "metadata": {},
   "source": [
    "Now we can look at the confusion matricies for the BBB model. "
   ]
  },
  {
   "cell_type": "code",
   "execution_count": null,
   "metadata": {},
   "outputs": [],
   "source": [
    "# plot confusion matrix\n",
    "figsize = (6,6); fontsize = 16;\n",
    "f, ax = plt.subplots(1, 1, figsize=figsize);\n",
    "\n",
    "im = ax.imshow(ppc_cat_sums);\n",
    "ax.set_yticks(np.arange(n_output)); plt.yticks(rotation=45);\n",
    "ax.set_yticklabels(labels=label_dict.values());\n",
    "ax.set_xticks(np.arange(n_output)); plt.xticks(rotation=45);\n",
    "ax.set_xticklabels(labels=label_dict.values());\n",
    "f.colorbar(im,ax=ax);\n",
    "\n",
    "f.suptitle(\"BBB Confusion Matrix\",fontsize=fontsize+4,y=0.9);"
   ]
  },
  {
   "cell_type": "markdown",
   "metadata": {},
   "source": [
    "Again though we can go further and use the probablistic nature of the model to look at uncertainty (STD on prediction) by class. We can also do this by image to find the most \"confusing\" test images."
   ]
  },
  {
   "cell_type": "code",
   "execution_count": null,
   "metadata": {},
   "outputs": [],
   "source": [
    "#TODO\n",
    "\n",
    "# quantify uncertainty \n",
    "ppc_cat_hists;"
   ]
  },
  {
   "cell_type": "markdown",
   "metadata": {},
   "source": [
    "# 4. Extending BBB Using Noise Contrastive Priors (NCP)"
   ]
  },
  {
   "cell_type": "markdown",
   "metadata": {},
   "source": [
    "### Noisy contrastive priors (NCP)\n",
    "\n",
    "As shown above, Bayesian analysis provides a way to model uncertainty in a neural network. Generally this is done by placing a prior over the weight and bias parameters. We can interpret the parameters of a neural network as adaptive basis coefficients in a nonparametric function, so this approach captures uncertainty about which function best fits the data. However, the induced posterior may not generalize well to to out of distribution (OOD) inputes, which are inputs outside of the distribution that generated the training data.\n",
    "\n",
    "Ideally, we would like a model that gives high uncertainy for OOD inputs. This can be achieved by using noise contrastive priors (NCP). NCPs approximate OOD samples by convolving the input data with gaussian noise to obtain $\\widetilde{x} = x + \\epsilon$, where $\\epsilon \\sim N(\\mu, \\sigma^2)$. $\\mu$ represents the direction in which we apply the prior, and $\\sigma^2$ represents how far away from the training sample boundary we sample. For the following experiments we set $\\mu = 0$ to apply the prior equal in all directions from the training data, and vary $\\sigma$ between 0.01 and 0.1. \n",
    "\n",
    "Note that the pixel values in the input images are scaled to be between 0 and 1. Thus, we rescale the noise inputs to be between 0 and 1 by the following transformation:\n",
    "$$\n",
    "\\widetilde{x}' = \\frac{\\widetilde{x} - min(\\widetilde{x})}{ max(\\widetilde{x}) -  min(\\widetilde{x})}\n",
    "$$"
   ]
  },
  {
   "cell_type": "code",
   "execution_count": null,
   "metadata": {},
   "outputs": [],
   "source": [
    "# Reload the data in case of manipulation above\n",
    "(X_train, y_train), (X_test, y_test) = load_fashionMNIST()"
   ]
  },
  {
   "cell_type": "markdown",
   "metadata": {},
   "source": [
    "Here we define the functions to generate our different sources of noise."
   ]
  },
  {
   "cell_type": "code",
   "execution_count": null,
   "metadata": {},
   "outputs": [],
   "source": [
    "def add_gaussian_noise(X, eps):\n",
    "    X_noise = X + np.random.normal(0, scale = np.sqrt(eps), size = X.shape)\n",
    "    min_X = np.min(X_noise)\n",
    "    max_X = np.max(X_noise)\n",
    "    X_noise = (X_noise - min_X)/(max_X - min_X)\n",
    "    return(X_noise)\n",
    "    \n",
    "def category_type_noise(X, y, categories):\n",
    "    x_noise = np.zeros(X.shape)\n",
    "    for c in categories:\n",
    "        x_cat = X[y == c,:]\n",
    "        new_x = np.array(list(map(lambda i: np.random.choice(x_cat[:,i],size = x_cat.shape[0],replace = True), range(x_cat.shape[1])))).T\n",
    "        x_noise[y == c, :] = new_x\n",
    "    return x_noise\n",
    "\n",
    "X_cat_noise = category_type_noise(X_train, y_train, range(10))\n",
    "\n",
    "sigma_values = np.array(range(1,11))/100\n",
    "\n",
    "X_gaus_noise = np.zeros((10,X_train.shape[0],X_train.shape[1]))\n",
    "for i in tqdm(range(len(sigma_values))):\n",
    "    s = sigma_values[i]\n",
    "    X_gaus_noise[i,:,:] = add_gaussian_noise(X_train, s)"
   ]
  },
  {
   "cell_type": "markdown",
   "metadata": {},
   "source": [
    "Examples of the noisy inputs are shown below. We see that as we increase the noise in the prior, the objects in the images blend more into the background. "
   ]
  },
  {
   "cell_type": "code",
   "execution_count": null,
   "metadata": {},
   "outputs": [],
   "source": [
    "fig = plt.figure(figsize=(20,2))\n",
    "ax = fig.subplots(1,11)\n",
    "ax[0].imshow(np.reshape(X_train[0],(28,28)),cmap='gray')\n",
    "ax[0].set_title(\"Raw image\")\n",
    "ax[0].axis('off')\n",
    "#ax[1].imshow(np.reshape(X_cat_noise[0],(28,28)),cmap='gray')\n",
    "#ax[1].set_title(\"Category noise\")\n",
    "for i in range(len(sigma_values)):\n",
    "    ax[i+1].imshow(np.reshape(X_gaus_noise[i,0,:],(28,28)),cmap='gray')\n",
    "    ax[i+1].set_title(r\"$\\sigma^2$ = \"+str(sigma_values[i]))\n",
    "    ax[i+1].axis('off')\n",
    "fig.show()\n",
    "\n",
    "fig = plt.figure(figsize=(20,2))\n",
    "ax = fig.subplots(1,11)\n",
    "ax[0].imshow(np.reshape(X_train[1],(28,28)),cmap='gray')\n",
    "ax[0].set_title(\"Raw image\")\n",
    "ax[0].axis('off')\n",
    "#ax[1].imshow(np.reshape(X_cat_noise[1],(28,28)),cmap='gray')\n",
    "#ax[1].set_title(\"Category noise\")\n",
    "for i in range(len(sigma_values)):\n",
    "    ax[i+1].imshow(np.reshape(X_gaus_noise[i,1,:],(28,28)),cmap='gray')\n",
    "    ax[i+1].set_title(r\"$\\sigma^2$ = \"+str(sigma_values[i]))\n",
    "    ax[i+1].axis('off')\n",
    "fig.show()\n",
    "\n",
    "fig = plt.figure(figsize=(20,2))\n",
    "ax = fig.subplots(1,11)\n",
    "ax[0].imshow(np.reshape(X_train[2],(28,28)),cmap='gray')\n",
    "ax[0].set_title(\"Raw image\")\n",
    "ax[0].axis('off')\n",
    "#ax[1].imshow(np.reshape(X_cat_noise[2],(28,28)),cmap='gray')\n",
    "#ax[1].set_title(\"Category noise\")\n",
    "for i in range(len(sigma_values)):\n",
    "    ax[i+1].imshow(np.reshape(X_gaus_noise[i,2,:],(28,28)),cmap='gray')\n",
    "    ax[i+1].set_title(r\"$\\sigma^2$ = \"+str(sigma_values[i]))\n",
    "    ax[i+1].axis('off')\n",
    "fig.show()"
   ]
  },
  {
   "cell_type": "markdown",
   "metadata": {},
   "source": [
    "### Out of sample datapoints\n",
    "\n",
    "One benefit of using NCP is that models trained with NCP produce high uncertainty estimates for out of distribution (OOD), or unseen, datapoints. This prevents over confident predictions on OOD data. In this section we compare the uncertainty of predictions on OOD samples made by BBB and BBB+NCP trained networks. To simulate OOD samples, we remove each of the ten categories one at a time from the training set. We train the network on each of these \"leave-one-out\" training datasets, and then evaluate the uncertainty of the predictions on the full test set using KL divergence and accuracy. We compare BBB alone to BBB+NCP with $\\sigma^2 = \\{0.01, 0.05, 1\\}$. "
   ]
  },
  {
   "cell_type": "code",
   "execution_count": null,
   "metadata": {},
   "outputs": [],
   "source": [
    "def KL_divergence(q):\n",
    "    pk = np.full(10, 0.1)\n",
    "    qk = np.histogram(q, density=True, bins = range(11))[0]\n",
    "    idx = np.where(qk > 0)\n",
    "    entropy = sp.stats.entropy(pk[idx], qk[idx])\n",
    "    return entropy\n",
    "\n",
    "confusion_matrix = lambda y: np.histogram(y,bins = range(11))[0]\n",
    "\n",
    "def leave_one_out_training(X, y, c):\n",
    "    X_ood = X[y != c]\n",
    "    y_ood = y[y != c]\n",
    "    \n",
    "    minibatch_x_ood = pm.Minibatch(X_ood, batch_size=50)\n",
    "    minibatch_y_ood = pm.Minibatch(y_ood, batch_size=50)\n",
    "    neural_network_minibatch_ood = make_1layer_bbb_network(minibatch_x_ood, minibatch_y_ood, 784, 10, X_ood.shape[0])\n",
    "\n",
    "    with neural_network_minibatch_ood:\n",
    "        inference = pm.ADVI()\n",
    "        approx_ood = pm.fit(20000, method=inference)\n",
    "    \n",
    "    trace_ood = approx_ood.sample(draws=2000)\n",
    "    \n",
    "    return trace_ood\n",
    "\n",
    "def test_network(X, y, trace):\n",
    "    test_x = theano.shared(X)\n",
    "    test_y = theano.shared(y)\n",
    "    neural_network_test = make_1layer_bbb_network(test_x, test_y, 784, 10, X.shape[0])\n",
    "    with neural_network_test:\n",
    "        ppc_ood = pm.sample_ppc(trace, samples=100)\n",
    "    return ppc_ood['out']"
   ]
  },
  {
   "cell_type": "markdown",
   "metadata": {},
   "source": [
    "Now we make helper plotting functions to use below. "
   ]
  },
  {
   "cell_type": "code",
   "execution_count": null,
   "metadata": {},
   "outputs": [],
   "source": [
    "def plot_test_results(ax, ppc, y_test, title):\n",
    "    labelnames = ['T-shirt/top','Trouser','Pullover','Dress','Coat','Sandal','Shirt','Sneaker','Bag','Ankle Boot']\n",
    "    std = ppc.std(axis=0)\n",
    "    std_data = [std[y_test == 0], std[y_test == 1], std[y_test == 2], std[y_test == 3],std[y_test == 4], std[y_test == 5], std[y_test == 6], std[y_test == 7], std[y_test == 8], std[y_test == 9]]\n",
    "    y_pred_test = sp.stats.mode(ppc, axis=0).mode[0,:]\n",
    "    \n",
    "    ax[0].boxplot(std_data)\n",
    "    ax[0].set_title(\"Posterior predictive standard deviation\")\n",
    "    ax[0].set_xticklabels(labelnames,rotation=45)\n",
    "    ax[0].set_ylabel(\"Standard deviation\")\n",
    "    kl_div = np.array(list(map(lambda i: KL_divergence(y_pred_test[y_test==i]), range(10))))\n",
    "\n",
    "    ax[1].bar(range(10), kl_div)\n",
    "    ax[1].set_xticks(range(10))\n",
    "    ax[1].set_xticklabels(labelnames,rotation=45)\n",
    "    ax[1].set_ylabel(\"KL divergence\")\n",
    "    ax[1].set_title(\"Posterior predictive KL divergence\")\n",
    "    \n",
    "    conf_mat = np.array(list(map(lambda i: confusion_matrix(y_pred_test[y_test==i]), range(10))))\n",
    "    im = ax[2].imshow(conf_mat, cmap=\"gray\")\n",
    "    fig.colorbar(im, ax=ax[2])\n",
    "    ax[2].set_xticks(np.arange(0, 10, 1))\n",
    "    ax[2].set_yticks(np.arange(0, 10, 1))\n",
    "    ax[2].set_xticklabels(labelnames,rotation=45)\n",
    "    ax[2].set_yticklabels(labelnames,rotation=0)\n",
    "    ax[2].set_xlabel(\"Prediction\")\n",
    "    ax[2].set_ylabel(\"Truth\")\n",
    "    plt.subplots_adjust(top=0.8)\n",
    "    plt.suptitle(title, fontsize = 20)\n",
    "    return ax\n",
    "\n",
    "def plot_KL_divergence_across_datasets(ax, ppc_raw, ppc_g01, ppc_g05, ppc_g1, y_test):\n",
    "    labelnames = ['T-shirt/top','Trouser','Pullover','Dress','Coat','Sandal','Shirt','Sneaker','Bag','Ankle Boot']\n",
    "    kl_div_raw = np.zeros(10)\n",
    "    kl_div_g01 = np.zeros(10)\n",
    "    kl_div_g05 = np.zeros(10)\n",
    "    kl_div_g1 = np.zeros(10)\n",
    "    \n",
    "    for j in range(10):\n",
    "        y_pred_test_raw = sp.stats.mode(ppc_raw[j,:,:], axis=0).mode[0,:]\n",
    "        y_pred_test_g01 = sp.stats.mode(ppc_g01[j,:,:], axis=0).mode[0,:]\n",
    "        y_pred_test_g05 = sp.stats.mode(ppc_g05[j,:,:], axis=0).mode[0,:]\n",
    "        y_pred_test_g1 = sp.stats.mode(ppc_g1[j,:,:], axis=0).mode[0,:]\n",
    "        \n",
    "        kl_div_raw[j] = KL_divergence(y_pred_test_raw[y_test==j])\n",
    "        kl_div_g01[j] = KL_divergence(y_pred_test_g01[y_test==j])\n",
    "        kl_div_g05[j] = KL_divergence(y_pred_test_g05[y_test==j])\n",
    "        kl_div_g1[j] = KL_divergence(y_pred_test_g1[y_test==j])\n",
    "    \n",
    "    ax.bar(np.arange(10)-0.3, kl_div_raw, width=0.2, color='orange',align='center', label = \"BBB\")\n",
    "    ax.bar(np.arange(10)-0.1, kl_div_g01, width=0.2, color='cyan',align='center', label = r\"BBB+NCP, $\\sigma^2 = 0.01$\")\n",
    "    ax.bar(np.arange(10)+0.1, kl_div_g05, width=0.2, color='blue',align='center', label = r\"BBB+NCP, $\\sigma^2 = 0.05$\")\n",
    "    ax.bar(np.arange(10)+0.3, kl_div_g1, width=0.2, color='purple',align='center', label = r\"BBB+NCP, $\\sigma^2 = 0.1$\")\n",
    "    ax.set_xticks(np.arange(0, 10, 1))\n",
    "    ax.set_xticklabels(labelnames,rotation=45)\n",
    "    box = ax.get_position()\n",
    "    ax.set_position([box.x0, box.y0, box.width * 0.8, box.height])\n",
    "    ax.legend(loc='center left', bbox_to_anchor=(1, 0.5))\n",
    "    ax.set_ylabel(\"KL Divergence\")\n",
    "    return ax\n",
    "\n",
    "def make_accuracy_histogram(ax, ppc_raw, y_test):\n",
    "    labelnames = ['T-shirt/top','Trouser','Pullover','Dress','Coat','Sandal','Shirt','Sneaker','Bag','Ankle Boot']\n",
    "    colorvec = sns.color_palette(\"hls\", 10)\n",
    "    conf_mat = np.zeros((10,10))\n",
    "    \n",
    "    for j in range(10):\n",
    "        y_pred_test = sp.stats.mode(ppc_raw[j,:,:], axis=0).mode[0,:]\n",
    "        conf_mat[j] = confusion_matrix(y_pred_test[y_test==j])\n",
    "    \n",
    "    ax.bar(np.arange(10), conf_mat[:,0], width = 0.5, color = \"red\", label = labelnames[0])\n",
    "    bottom = conf_mat[:,0]\n",
    "    for j in range(1,10):\n",
    "        ax.bar(np.arange(10), conf_mat[:,j], width = 0.5, bottom = bottom, color = colorvec[j], label = labelnames[j])\n",
    "        bottom = bottom + conf_mat[:,j]\n",
    "    ax.set_xticks(np.arange(0, 10, 1))\n",
    "    ax.set_xticklabels(labelnames,rotation=45)\n",
    "    box = ax.get_position()\n",
    "    ax.set_position([box.x0, box.y0, box.width * 0.8, box.height])\n",
    "    # Put a legend to the right of the current axis\n",
    "    ax.legend(loc='center left', bbox_to_anchor=(1, 0.5))\n",
    "    return ax\n",
    "\n",
    "def make_accuracy_histogram_2(ax, ppc_raw, ppc_g01, ppc_g05, ppc_g1, y_test, c, legend):\n",
    "    labelnames = ['T-shirt/top','Trouser','Pullover','Dress','Coat','Sandal','Shirt','Sneaker','Bag','Ankle Boot']\n",
    "    colorvec = sns.color_palette(\"hls\", 10)\n",
    "    conf_mat = np.zeros((4,10))\n",
    "    \n",
    "    y_pred_test_raw = sp.stats.mode(ppc_raw[c,:,:], axis=0).mode[0,:]\n",
    "    y_pred_test_g01 = sp.stats.mode(ppc_g01[c,:,:], axis=0).mode[0,:]\n",
    "    y_pred_test_g05 = sp.stats.mode(ppc_g05[c,:,:], axis=0).mode[0,:]\n",
    "    y_pred_test_g1 = sp.stats.mode(ppc_g1[c,:,:], axis=0).mode[0,:]\n",
    "    \n",
    "    conf_mat[0] = confusion_matrix(y_pred_test_raw[y_test==c])\n",
    "    conf_mat[1] = confusion_matrix(y_pred_test_g01[y_test==c])\n",
    "    conf_mat[2] = confusion_matrix(y_pred_test_g05[y_test==c])\n",
    "    conf_mat[3] = confusion_matrix(y_pred_test_g1[y_test==c])\n",
    "    \n",
    "    ax.bar(np.arange(4), conf_mat[:,0], width = 0.5, color = \"red\", label = labelnames[0])\n",
    "    bottom = conf_mat[:,0]\n",
    "    for j in range(1,10):\n",
    "        ax.bar(np.arange(4), conf_mat[:,j], width = 0.5, bottom = bottom, color = colorvec[j], label = labelnames[j])\n",
    "        bottom = bottom + conf_mat[:,j]\n",
    "    ax.set_xticks(np.arange(0, 4, 1))\n",
    "    ax.set_xticklabels([\"BBB\",r\"BBB+NCP, $\\sigma^2$ = 0.01\",r\"BBB+NCP, $\\sigma^2$ = 0.05\",r\"BBB+NCP, $\\sigma^2$ = 0.1\"],rotation=45)\n",
    "    # Put a legend to the right of the current axis\n",
    "    if legend:\n",
    "        box = ax.get_position()\n",
    "        ax.set_position([box.x0, box.y0, box.width * 0.8, box.height])\n",
    "        ax.legend(loc='center left', bbox_to_anchor=(1, 0.5))\n",
    "    ax.set_title(\"OOD = \" + labelnames[c])\n",
    "    ax.set_ylim(0,1000)\n",
    "    return ax\n",
    "\n",
    "def set_box_color(bp, color):\n",
    "    plt.setp(bp['boxes'], color=color)\n",
    "    plt.setp(bp['whiskers'], color=color)\n",
    "    plt.setp(bp['caps'], color=color)\n",
    "    plt.setp(bp['medians'], color=color)\n",
    "\n",
    "def make_standard_deviation_plots(ax, ppc_raw, ppc_g01, ppc_g05, ppc_g1, y_test):\n",
    "    labelnames = ['T-shirt/top','Trouser','Pullover','Dress','Coat','Sandal','Shirt','Sneaker','Bag','Ankle Boot']\n",
    "    \n",
    "    std_raw = ppc_raw.std(axis=1)\n",
    "    std_g01 = ppc_g01.std(axis=1)\n",
    "    std_g05 = ppc_g05.std(axis=1)\n",
    "    std_g1 = ppc_g1.std(axis=1)\n",
    "    \n",
    "    std_raw_data = [std_raw[0, y_test == 0], std_raw[1, y_test == 1], std_raw[2, y_test == 2], std_raw[3, y_test == 3],std_raw[4, y_test == 4], std_raw[5, y_test == 5], std_raw[6, y_test == 6], std_raw[7, y_test == 7], std_raw[8, y_test == 8], std_raw[9, y_test == 9]]\n",
    "    std_g01_data = [std_g01[0, y_test == 0], std_g01[1, y_test == 1], std_g01[2,y_test == 2], std_g01[3,y_test == 3],std_g01[4,y_test == 4], std_g01[5,y_test == 5], std_g01[6,y_test == 6], std_g01[7,y_test == 7], std_g01[8,y_test == 8], std_g01[9,y_test == 9]]\n",
    "    std_g05_data = [std_g05[0, y_test == 0], std_g05[1,y_test == 1], std_g05[2,y_test == 2], std_g05[3,y_test == 3],std_g05[4,y_test == 4], std_g05[5,y_test == 5], std_g05[6,y_test == 6], std_g05[7,y_test == 7], std_g05[8,y_test == 8], std_g05[9,y_test == 9]]\n",
    "    std_g1_data = [std_g1[0, y_test == 0], std_g1[1,y_test == 1], std_g1[2,y_test == 2], std_g1[3,y_test == 3],std_g1[4,y_test == 4], std_g1[5,y_test == 5], std_g1[6,y_test == 6], std_g1[7,y_test == 7], std_g1[8,y_test == 8], std_g1[9,y_test == 9]]\n",
    "    \n",
    "    bow_raw = ax.boxplot(std_raw_data, positions=np.arange(10)-0.3, widths=0.2)\n",
    "    bow_g01 = ax.boxplot(std_g01_data, positions=np.arange(10)-0.1, widths=0.2)\n",
    "    bow_g05 = ax.boxplot(std_g05_data, positions=np.arange(10)+0.1, widths=0.2)\n",
    "    bow_g1 = ax.boxplot(std_g1_data, positions=np.arange(10)+0.3, widths=0.2)\n",
    "    \n",
    "    set_box_color(bow_raw, 'orange');set_box_color(bow_g01, 'cyan');set_box_color(bow_g05, 'blue');set_box_color(bow_g1, 'purple')\n",
    "    \n",
    "    plt.plot([], c='orange', label='BBB')\n",
    "    plt.plot([], c='cyan', label=r'BBB+NCP, $\\sigma^2 = 0.01$')\n",
    "    plt.plot([], c='blue', label=r'BBB+NCP, $\\sigma^2 = 0.05$')\n",
    "    plt.plot([], c='purple', label=r'BBB+NCP, $\\sigma^2 = 0.1$')\n",
    "    \n",
    "    box = ax.get_position()\n",
    "    ax.set_position([box.x0, box.y0, box.width * 0.8, box.height])\n",
    "    ax.legend(loc='center left', bbox_to_anchor=(1, 0.5))\n",
    "    \n",
    "    ax.set_xticks(np.arange(10))\n",
    "    ax.set_title(\"Posterior predictive standard deviation\")\n",
    "    ax.set_xticklabels(labelnames,rotation=45)\n",
    "    ax.set_ylabel(\"Standard deviation\")\n",
    "    ax.set_xlim(-0.5, 9.5)\n",
    "    return ax\n",
    "\n",
    "def make_entropy_plots(ax, ppc_raw, ppc_g01, ppc_g05, ppc_g1, y_test):\n",
    "    labelnames = ['T-shirt/top','Trouser','Pullover','Dress','Coat','Sandal','Shirt','Sneaker','Bag','Ankle Boot']\n",
    "    \n",
    "    std_raw = np.array(list(map(lambda j: np.array(list(map(lambda i: sp.stats.entropy(ppc_raw[j,:,i]),range(ppc_raw.shape[2])))), range(ppc_raw.shape[0]))))\n",
    "    std_g01 = np.array(list(map(lambda j: np.array(list(map(lambda i: sp.stats.entropy(ppc_g01[j,:,i]),range(ppc_g01.shape[2])))), range(ppc_g01.shape[0]))))\n",
    "    std_g05 = np.array(list(map(lambda j: np.array(list(map(lambda i: sp.stats.entropy(ppc_g05[j,:,i]),range(ppc_g05.shape[2])))), range(ppc_g05.shape[0]))))\n",
    "    std_g1 = np.array(list(map(lambda j: np.array(list(map(lambda i: sp.stats.entropy(ppc_g1[j,:,i]),range(ppc_g1.shape[2])))), range(ppc_g1.shape[0]))))\n",
    "\n",
    "    \n",
    "    std_raw_data = [std_raw[0, y_test == 0], std_raw[1, y_test == 1], std_raw[2, y_test == 2], std_raw[3, y_test == 3],std_raw[4, y_test == 4], std_raw[5, y_test == 5], std_raw[6, y_test == 6], std_raw[7, y_test == 7], std_raw[8, y_test == 8], std_raw[9, y_test == 9]]\n",
    "    std_g01_data = [std_g01[0, y_test == 0], std_g01[1, y_test == 1], std_g01[2,y_test == 2], std_g01[3,y_test == 3],std_g01[4,y_test == 4], std_g01[5,y_test == 5], std_g01[6,y_test == 6], std_g01[7,y_test == 7], std_g01[8,y_test == 8], std_g01[9,y_test == 9]]\n",
    "    std_g05_data = [std_g05[0, y_test == 0], std_g05[1,y_test == 1], std_g05[2,y_test == 2], std_g05[3,y_test == 3],std_g05[4,y_test == 4], std_g05[5,y_test == 5], std_g05[6,y_test == 6], std_g05[7,y_test == 7], std_g05[8,y_test == 8], std_g05[9,y_test == 9]]\n",
    "    std_g1_data = [std_g1[0, y_test == 0], std_g1[1,y_test == 1], std_g1[2,y_test == 2], std_g1[3,y_test == 3],std_g1[4,y_test == 4], std_g1[5,y_test == 5], std_g1[6,y_test == 6], std_g1[7,y_test == 7], std_g1[8,y_test == 8], std_g1[9,y_test == 9]]\n",
    "    \n",
    "    bow_raw = ax.boxplot(std_raw_data, positions=np.arange(10)-0.3, widths=0.2)\n",
    "    bow_g01 = ax.boxplot(std_g01_data, positions=np.arange(10)-0.1, widths=0.2)\n",
    "    bow_g05 = ax.boxplot(std_g05_data, positions=np.arange(10)+0.1, widths=0.2)\n",
    "    bow_g1 = ax.boxplot(std_g1_data, positions=np.arange(10)+0.3, widths=0.2)\n",
    "    \n",
    "    set_box_color(bow_raw, 'orange')\n",
    "    set_box_color(bow_g01, 'cyan')\n",
    "    set_box_color(bow_g05, 'blue')\n",
    "    set_box_color(bow_g1, 'purple')\n",
    "    \n",
    "    plt.plot([], c='orange', label='BBB')\n",
    "    plt.plot([], c='cyan', label=r'BBB+NCP, $\\sigma^2 = 0.01$')\n",
    "    plt.plot([], c='blue', label=r'BBB+NCP, $\\sigma^2 = 0.05$')\n",
    "    plt.plot([], c='purple', label=r'BBB+NCP, $\\sigma^2 = 0.1$')\n",
    "    \n",
    "    box = ax.get_position()\n",
    "    ax.set_position([box.x0, box.y0, box.width * 0.8, box.height])\n",
    "    ax.legend(loc='center left', bbox_to_anchor=(1, 0.5))\n",
    "    ax.set_xticks(np.arange(10))\n",
    "    ax.set_title(\"Posterior predictive entropy\")\n",
    "    ax.set_xticklabels(labelnames,rotation=45)\n",
    "    ax.set_ylabel(\"Entropy\")\n",
    "    ax.set_xlim(-0.5, 9.5)\n",
    "    return ax\n",
    "\n",
    "def plot_entropy_across_datasets(ax, ppc_raw, ppc_g01, ppc_g05, ppc_g1, y_test):\n",
    "    labelnames = ['T-shirt/top','Trouser','Pullover','Dress','Coat','Sandal','Shirt','Sneaker','Bag','Ankle Boot']\n",
    "    kl_div_raw = np.zeros(10)\n",
    "    kl_div_g01 = np.zeros(10)\n",
    "    kl_div_g05 = np.zeros(10)\n",
    "    kl_div_g1 = np.zeros(10)\n",
    "    \n",
    "    for j in range(10):\n",
    "        y_pred_test_raw = sp.stats.mode(ppc_raw[j,:,:], axis=0).mode[0,:]\n",
    "        y_pred_test_g01 = sp.stats.mode(ppc_g01[j,:,:], axis=0).mode[0,:]\n",
    "        y_pred_test_g05 = sp.stats.mode(ppc_g05[j,:,:], axis=0).mode[0,:]\n",
    "        y_pred_test_g1 = sp.stats.mode(ppc_g1[j,:,:], axis=0).mode[0,:]\n",
    "        \n",
    "        kl_div_raw[j] = sp.stats.entropy(y_pred_test_raw[y_test==j])\n",
    "        kl_div_g01[j] = sp.stats.entropy(y_pred_test_g01[y_test==j])\n",
    "        kl_div_g05[j] = sp.stats.entropy(y_pred_test_g05[y_test==j])\n",
    "        kl_div_g1[j] = sp.stats.entropy(y_pred_test_g1[y_test==j])\n",
    "    \n",
    "    ax.bar(np.arange(10)-0.3, kl_div_raw, width=0.2, color='orange',align='center', label = \"BBB\")\n",
    "    ax.bar(np.arange(10)-0.1, kl_div_g01, width=0.2, color='cyan',align='center', label = r\"BBB+NCP, $\\sigma^2 = 0.01$\")\n",
    "    ax.bar(np.arange(10)+0.1, kl_div_g05, width=0.2, color='blue',align='center', label = r\"BBB+NCP, $\\sigma^2 = 0.05$\")\n",
    "    ax.bar(np.arange(10)+0.3, kl_div_g1, width=0.2, color='purple',align='center', label = r\"BBB+NCP, $\\sigma^2 = 0.1$\")\n",
    "    ax.set_xticks(np.arange(0, 10, 1))\n",
    "    ax.set_xticklabels(labelnames,rotation=45)\n",
    "    \n",
    "    box = ax.get_position()\n",
    "    ax.set_position([box.x0, box.y0, box.width * 0.8, box.height])\n",
    "    ax.legend(loc='center left', bbox_to_anchor=(1, 0.5))\n",
    "    ax.set_ylabel(\"Entropy\")\n",
    "    return ax"
   ]
  },
  {
   "cell_type": "markdown",
   "metadata": {},
   "source": [
    "KL divergence is one metric for assesing model prediction uncertainty. The posterior predictive distribution is compared to a uniform distribution, so a small KL divergence suggests the posterior is closer to a uniform distribution, or more uncertain, whereas a large KL divergence suggests the posterior is further away from a uniform, or more certain about class assignment. The histogram below shows the KL divergences of the posterior predictive distributions of the classes when they left out during training. For example, the T-shirt/top bars represent the KL divergence of the T-shirt/top posterior predictive distribution when T-shirt/top samples are left out during training. We see that the KL divergence decreases as $\\sigma^2$ increases for Coat, Sandal, and Bag, suggesting that the uncertainty of making predictions on these classes when they are OOD increases as the noise in the noisy prior increases, which is what we expect. While there is no clean discernible pattern for the other class posterior distributions, the KL divergence is always higher for BBB than BBB+NCP when $\\sigma^2 = 0.1$. This means that the neural network is generally more confident on OOD samples when is is not trained with a noisy prior."
   ]
  },
  {
   "cell_type": "markdown",
   "metadata": {},
   "source": [
    "Now we load in or perform posterior predictive checks."
   ]
  },
  {
   "cell_type": "code",
   "execution_count": null,
   "metadata": {},
   "outputs": [],
   "source": [
    "# Choose to load pickled data or not\n",
    "load_pickle = True\n",
    "\n",
    "if load_pickle:\n",
    "    print(\"Loading pickled data...\")\n",
    "    with open('./data/ncp_ppc_rawdata.pickle', 'rb') as f:\n",
    "        ppc_rawdata = pickle.load(f)\n",
    "        \n",
    "    with open('./data/ncp_ppc_gaus_01.pickle', 'rb') as f:\n",
    "        ppc_gaus_01 = pickle.load(f)\n",
    "        \n",
    "    with open('./data/ncp_ppc_gaus_05.pickle', 'rb') as f:\n",
    "        ppc_gaus_05 = pickle.load(f)\n",
    "        \n",
    "    with open('./data/ncp_ppc_gaus_1.pickle', 'rb') as f:\n",
    "        ppc_gaus_1 = pickle.load(f)\n",
    "        \n",
    "    print(\"Done\")\n",
    "else:\n",
    "    ppc_rawdata = np.zeros((10,100,10000))\n",
    "    for i in range(10):\n",
    "        trace_rawdata = leave_one_out_training(X_train, y_train, i)\n",
    "        ppc_rawdata[i,:,:] = test_network(X_test, y_test, trace_rawdata)\n",
    "    with open('./data/ncp_ppc_rawdata.pickle', 'wb') as f:\n",
    "        pickle.dump(ppc_rawdata, f)   \n",
    "\n",
    "    ppc_gaus_01 = np.zeros((10,100,10000))\n",
    "    for i in range(10):\n",
    "        trace_gaus_01 = leave_one_out_training(X_gaus_noise[0,:,:], y_train, i)\n",
    "        ppc_gaus_01[i,:,:] = test_network(X_test, y_test, trace_gaus_01)\n",
    "    with open('./data/ncp_ppc_gaus_01.pickle', 'wb') as f:\n",
    "         pickle.dump(ppc_gaus_01, f)\n",
    "            \n",
    "    ppc_gaus_05 = np.zeros((10,100,10000))\n",
    "    for i in range(10):\n",
    "        trace_gaus_05 = leave_one_out_training(X_gaus_noise[4,:,:], y_train, i)\n",
    "        ppc_gaus_05[i,:,:] = test_network(X_test, y_test, trace_gaus_05)\n",
    "    with open('./data/ncp_ppc_gaus_05.pickle', 'wb') as f:\n",
    "         pickle.dump(ppc_gaus_05, f)\n",
    "\n",
    "    ppc_gaus_1 = np.zeros((10,100,10000))\n",
    "    for i in range(10):\n",
    "        trace_gaus_1 = leave_one_out_training(X_gaus_noise[9,:,:], y_train, i)\n",
    "        ppc_gaus_1[i,:,:] = test_network(X_test, y_test, trace_gaus_1)\n",
    "    with open('./data/ncp_ppc_gaus_1.pickle', 'wb') as f:\n",
    "         pickle.dump(ppc_gaus_1, f)"
   ]
  },
  {
   "cell_type": "code",
   "execution_count": null,
   "metadata": {},
   "outputs": [],
   "source": [
    "fig, ax = plt.subplots(figsize=(20,4))\n",
    "plot_KL_divergence_across_datasets(ax, ppc_rawdata, ppc_gaus_01, ppc_gaus_05, ppc_gaus_1,y_test)\n",
    "ax.set_title(\"KL divergence of the posterior predictive distribution of the left out class during training\")\n",
    "plt.show()"
   ]
  },
  {
   "cell_type": "markdown",
   "metadata": {},
   "source": [
    "We also used standard deviation of the posterior predictive distribution to assess uncertainty. The boxplots below show the standard deviations of of the posterior predictive distributions of the classes when they are left out during training. For example, the T-shirt/top boxplots represent the standard deviation of the T-shirt/top posterior distribution when the T-shirt/top samples are left out during training. We see that the standard deviation of the posterior distributions increase as the noise in the NCP increases for all classes. This suggests that the network is more uncertain about the class assignments of OOD samples when the model is trained on noisier input data, which is what we expect. "
   ]
  },
  {
   "cell_type": "code",
   "execution_count": null,
   "metadata": {},
   "outputs": [],
   "source": [
    "fig, ax = plt.subplots(figsize=(20,4))\n",
    "make_standard_deviation_plots(ax, ppc_rawdata, ppc_gaus_01, ppc_gaus_05, ppc_gaus_1, y_test)\n",
    "plt.show()"
   ]
  },
  {
   "cell_type": "markdown",
   "metadata": {},
   "source": [
    "The plots below show the posterior predictive distribution for each setting. Each individual plots represents the posterior distribution of a particular class when that class is left out of the training sample. Each bar in the plot represents either BBB or BBB+NCP with a particular value of $\\sigma^2$. In general, we see that when the model is trained using BBB only, the class assignments are split between fewer classes, and when the model is trained with BBB+NCP, the class assignments are split between more classes. This suggests that using NCP increases the uncertainty of OOD samples.  "
   ]
  },
  {
   "cell_type": "code",
   "execution_count": null,
   "metadata": {},
   "outputs": [],
   "source": [
    "fig,ax = plt.subplots(2,5, figsize=(20,10))\n",
    "make_accuracy_histogram_2(ax[0,0], ppc_rawdata, ppc_gaus_01, ppc_gaus_05, ppc_gaus_1, y_test, 0, False)\n",
    "make_accuracy_histogram_2(ax[0,1], ppc_rawdata, ppc_gaus_01, ppc_gaus_05, ppc_gaus_1, y_test, 1, False)\n",
    "make_accuracy_histogram_2(ax[0,2], ppc_rawdata, ppc_gaus_01, ppc_gaus_05, ppc_gaus_1, y_test, 2, False)\n",
    "make_accuracy_histogram_2(ax[0,3], ppc_rawdata, ppc_gaus_01, ppc_gaus_05, ppc_gaus_1, y_test, 3, False)\n",
    "make_accuracy_histogram_2(ax[0,4], ppc_rawdata, ppc_gaus_01, ppc_gaus_05, ppc_gaus_1, y_test, 4, False)\n",
    "make_accuracy_histogram_2(ax[1,0], ppc_rawdata, ppc_gaus_01, ppc_gaus_05, ppc_gaus_1, y_test, 5, False)\n",
    "make_accuracy_histogram_2(ax[1,1], ppc_rawdata, ppc_gaus_01, ppc_gaus_05, ppc_gaus_1, y_test, 6, False)\n",
    "make_accuracy_histogram_2(ax[1,2], ppc_rawdata, ppc_gaus_01, ppc_gaus_05, ppc_gaus_1, y_test, 7, False)\n",
    "make_accuracy_histogram_2(ax[1,3], ppc_rawdata, ppc_gaus_01, ppc_gaus_05, ppc_gaus_1, y_test, 8, False)\n",
    "make_accuracy_histogram_2(ax[1,4], ppc_rawdata, ppc_gaus_01, ppc_gaus_05, ppc_gaus_1, y_test, 9, True)\n",
    "plt.subplots_adjust(hspace=0.5)\n",
    "plt.show()"
   ]
  },
  {
   "cell_type": "markdown",
   "metadata": {},
   "source": [
    "# 5. BBB for Active Learning"
   ]
  },
  {
   "cell_type": "markdown",
   "metadata": {},
   "source": [
    "## Application: Active Learning with Fashion MNIST\n",
    "\n",
    "One of the main benefits of using a Bayesian Neural Network is that it is possile to drive learning online accoring to where the network is most uncertain. This is often referred to as active learning. We are going to apply active learning to training a BNN for classification on the fashion_mnist dataset. Our hope is that we can speed up learning by feeding the network data according to which categories it is the most uncertain about. \n",
    "\n",
    "**Brief Overview**\n",
    "\n",
    "When we started working on this problem we were suprised to see that with a very small fraction of the training dataset we still got decent performance on the test set with our BNN. For example, with the full training dataset (60,000 images) we get a test set performance of 77%, while with only 300 data points we still get 71% performance. This was based on 10K iterations (~8 epochs), so it is possible that the assymptoic performance of the networks with this amount of data would be more different. In any case, these findings made us interested in how performance depends on the number of data points. \n",
    "\n",
    "In order to investigate this we trained a network on varying amounts of training data. This would have taken a very long time with our BNN, so instead we used a network with the same structure, but trained with adam in tensorflow. We found that the learning curve as a function of training data is highly nonlinear. Specifically, there is a large increase in performance between 50 and 200 training data points, and then a linear increase between 200 and 60000. \n",
    "\n",
    "For the purpose of exploring active learning with this example dataset, we are going to focus on speeding up the improvement in performance within the first ~500 training data points seen. \n",
    "\n",
    "**Outline**\n",
    "\n",
    "1. Get an idea the learning curve as a function of the amount of training data\n",
    "2. Example of training on subset of data and assessing uncertainty\n",
    "3. Active learning application"
   ]
  },
  {
   "cell_type": "markdown",
   "metadata": {},
   "source": [
    "### 1) Assess test performance as a function of number of training data points\n",
    "\n",
    "Before moving on with active learning, we want to get a sense of how test set performace depends on the number of training samples. It would be pretty slow to look at this with out pymc3 model, but we can use Adam optimization in tensorflow to get an idea of the learning curve on an ANN. "
   ]
  },
  {
   "cell_type": "code",
   "execution_count": null,
   "metadata": {},
   "outputs": [],
   "source": [
    "def tf_model(X_train, y_train):\n",
    "    model = tf.keras.Sequential([tf.keras.layers.Dense(128, activation=tf.nn.tanh),\n",
    "                                 tf.keras.layers.Dense(n_output, activation=tf.nn.softmax)])\n",
    "    model.compile(optimizer=tf.train.AdamOptimizer(),\n",
    "                  loss='sparse_categorical_crossentropy',\n",
    "                  metrics=['accuracy'])\n",
    "    model.fit(X_train, y_train, epochs=5)\n",
    "    test_loss, test_acc = model.evaluate(X_test, y_test)\n",
    "    return test_acc\n",
    "    \n",
    "test_acc = tf_model(X_train, y_train)\n",
    "print('Test accuracy:', test_acc)"
   ]
  },
  {
   "cell_type": "code",
   "execution_count": null,
   "metadata": {},
   "outputs": [],
   "source": [
    "n_samples_vec = [10,20, 30, 40, 50, 70, 100, 150, 200, 500, 1000, 10000, 60000]\n",
    "n_trials = 10\n",
    "\n",
    "load_pickle = True\n",
    "if load_pickle:\n",
    "    with open('./data/act_learn_perf_dict_1.pickle', 'rb') as f:\n",
    "        perf_dict = pickle.load(f)\n",
    "else:\n",
    "    test_acc_results = np.zeros((len(n_samples_vec), n_trials))\n",
    "    for i, n_samples in enumerate(n_samples_vec):\n",
    "        print(n_samples)\n",
    "        for j in range(n_trials):\n",
    "            X_train_subset, y_train_subset = get_training_subset(X_train, y_train, n_samples)\n",
    "            test_acc_results[i,j] = tf_model(X_train_subset, y_train_subset)\n",
    "    perf_dict = {'test_acc_results' : test_acc_results,'n_samples_vec' : n_samples_vec,\n",
    "                 'mean' : np.mean(test_acc_results, axis=1),'std' : np.std(test_acc_results, axis=1)}\n",
    "    with open('./data/act_learn_perf_dict_1.pickle', 'wb') as f:\n",
    "         pickle.dump(perf_dict, f)"
   ]
  },
  {
   "cell_type": "code",
   "execution_count": null,
   "metadata": {},
   "outputs": [],
   "source": [
    "fig, ax = plt.subplots(1,2, figsize=(12,4))\n",
    "\n",
    "ax[0].plot(perf_dict['n_samples_vec'], perf_dict['mean'], c='blue')\n",
    "ax[0].fill_between(perf_dict['n_samples_vec'], \n",
    "                 perf_dict['mean'] + perf_dict['std'],\n",
    "                 perf_dict['mean'] -  perf_dict['std'],\n",
    "                 color='blue' , alpha=.25)\n",
    "ax[0].set_xlabel('num training data points')\n",
    "ax[0].set_ylabel('% correct on test set')\n",
    "ax[0].set_title('all results')\n",
    "\n",
    "num_points_zoom = 11\n",
    "ax[1].plot(perf_dict['n_samples_vec'][:num_points_zoom], perf_dict['mean'][:num_points_zoom], c='blue')\n",
    "ax[1].fill_between(perf_dict['n_samples_vec'][:num_points_zoom], \n",
    "                 perf_dict['mean'][:num_points_zoom] + perf_dict['std'][:num_points_zoom],\n",
    "                 perf_dict['mean'][:num_points_zoom] -  perf_dict['std'][:num_points_zoom],\n",
    "                 color='blue' , alpha=.25)\n",
    "ax[1].set_xlabel('num training data points')\n",
    "ax[1].set_ylabel('% correct on test set')\n",
    "ax[1].set_title('zoom results')\n",
    "sns.despine();"
   ]
  },
  {
   "cell_type": "markdown",
   "metadata": {},
   "source": [
    "#### Conclusion from Active Learning Part 1\n",
    "\n",
    "The relationship between the number of training data points and test set performance is highly nonlinear. We see a large jump in performance between 10 and 200 training data points, and then a slight increase from then on. As mentioned abve, we are going to focus on increasing the speed of learning at the beginning of training (~500 training points). "
   ]
  },
  {
   "cell_type": "markdown",
   "metadata": {},
   "source": [
    "### 2) Example of training network on subset of data and assessing uncertainty\n"
   ]
  },
  {
   "cell_type": "markdown",
   "metadata": {},
   "source": [
    "We will now go through an example of training a BNN on a subset of the data. We will used a balanced subset of 200 training data points. As we will from the confusion matrix, there is an uneven distribution of uncertainty across categories. Hopefully by using active learning, we can give the network appropraite data during training to efficiently reduce the uncertainty.  "
   ]
  },
  {
   "cell_type": "markdown",
   "metadata": {},
   "source": [
    "#### Functions for trainining on subset and assessing uncertainty"
   ]
  },
  {
   "cell_type": "code",
   "execution_count": null,
   "metadata": {},
   "outputs": [],
   "source": [
    "def get_training_subset(X_train, y_train, n_samples):\n",
    "    (n_train, n_input) = np.shape(X_train)\n",
    "    n_cat = 10\n",
    "    if n_train == n_samples:\n",
    "        return X_train, y_train\n",
    "    # make n_samples a multiple of 10 for ease of balancing the dataset\n",
    "    n_cat_samples = int(n_samples/10)\n",
    "    # get appropraite number of samples from each category\n",
    "    cat_ind = list()\n",
    "    ind_array = np.arange(n_train)\n",
    "    for cat in range(n_cat):\n",
    "        cat_ind = np.append(cat_ind, np.random.choice(ind_array[y_train == cat], size=n_cat_samples, replace=False))\n",
    "    np.random.shuffle(cat_ind)\n",
    "    X_train_subset = X_train[cat_ind.astype(int)]\n",
    "    y_train_subset = y_train[cat_ind.astype(int)]\n",
    "    return X_train_subset, y_train_subset\n",
    "\n",
    "def get_cat_entropy(X_test, y_test, ppc_test):\n",
    "    # get other parameters that need\n",
    "    (n_test,n_input) = X_test.shape\n",
    "    n_output = 10\n",
    "    n_samples = np.shape(ppc_test['out'])[0]\n",
    "    \n",
    "    # make one-hot matrix\n",
    "    one_hot = np.zeros((n_samples, n_test, n_output))\n",
    "    for i in range(n_samples):\n",
    "        one_hot[i][np.arange(n_test), ppc_test['out'][i]] = 1\n",
    "    \n",
    "    # make histograms \n",
    "    y_test_dist = np.histogram(y_test, bins=n_output)[0]\n",
    "    cat_hist = np.zeros((n_output, n_output))\n",
    "    cat_entropy = np.zeros(n_output)\n",
    "    cat_KL = np.zeros(n_output)\n",
    "    histograms = np.sum(one_hot, axis=0)\n",
    "    for i in range(n_output):\n",
    "        cat_hist[i,:] = np.sum(histograms[y_test == i], axis=0)\n",
    "        cat_entropy[i] = sp.stats.entropy(cat_hist[i,:])\n",
    "        cat_KL[i] = sp.stats.entropy(cat_hist[i,:], y_test_dist)\n",
    "#         cat_KL[i] = sp.stats.entropy(y_test_dist, cat_hist[i,:])\n",
    "    return one_hot, cat_hist, cat_entropy, cat_KL"
   ]
  },
  {
   "cell_type": "markdown",
   "metadata": {},
   "source": [
    "#### Train Network on subset of data"
   ]
  },
  {
   "cell_type": "code",
   "execution_count": null,
   "metadata": {},
   "outputs": [],
   "source": [
    "(n_train, n_input) = np.shape(X_train)\n",
    "n_samples = 200\n",
    "X_train_subset, y_train_subset = get_training_subset(X_train, y_train, n_samples)\n",
    "NN_model = make_1layer_bbb_network(X_train_subset, y_train_subset, n_input, n_output, n_samples, n_hidden_1=128,use_bias=False)"
   ]
  },
  {
   "cell_type": "code",
   "execution_count": null,
   "metadata": {},
   "outputs": [],
   "source": [
    "n_approx_iter = 10000\n",
    "with NN_model:\n",
    "    advi = pm.ADVI()\n",
    "    approx = advi.fit(n=n_approx_iter)"
   ]
  },
  {
   "cell_type": "code",
   "execution_count": null,
   "metadata": {},
   "outputs": [],
   "source": [
    "# plotting the training progress\n",
    "elbo_1 = -advi.hist\n",
    "\n",
    "figsize = (8,3); fontsize = 16;\n",
    "f, ax = plt.subplots(1,1,figsize=figsize);\n",
    "\n",
    "ax.plot(elbo_1,label='1')\n",
    "ax.set_ylabel('ELBO',fontsize=fontsize)\n",
    "ax.set_xlabel('iteration',fontsize=fontsize);\n",
    "sns.despine();"
   ]
  },
  {
   "cell_type": "markdown",
   "metadata": {},
   "source": [
    "#### Test this network performance on test set"
   ]
  },
  {
   "cell_type": "code",
   "execution_count": null,
   "metadata": {},
   "outputs": [],
   "source": [
    "# Draw samples from variational posterior (the weights in the network)\n",
    "n_draws = 500 # > 2k hangs for almost all network sizes on my 2018 MBP -SH\n",
    "trace = approx.sample(draws=n_draws)"
   ]
  },
  {
   "cell_type": "code",
   "execution_count": null,
   "metadata": {},
   "outputs": [],
   "source": [
    "# network at performance on the test set\n",
    "(n_test,n_input) = X_test.shape\n",
    "test_x = theano.shared(X_test)\n",
    "test_y = theano.shared(y_test)\n",
    "NN_model_test = make_1layer_bbb_network(test_x, test_y, n_input, n_output, n_test, n_hidden_1=128,use_bias=False)\n",
    "n_samples = 100\n",
    "with NN_model_test:\n",
    "    ppc_test = pm.sample_ppc(trace, samples=n_samples)"
   ]
  },
  {
   "cell_type": "code",
   "execution_count": null,
   "metadata": {},
   "outputs": [],
   "source": [
    "# Prediction is mode of each\n",
    "test_y_pred = sp.stats.mode(ppc_test['out'], axis=0).mode[0,:]\n",
    "mean_test_perf = np.mean(test_y_pred==y_test)\n",
    "print(\"Network Test Set Performance: {:f}\".format(mean_test_perf))"
   ]
  },
  {
   "cell_type": "markdown",
   "metadata": {},
   "source": [
    "#### Evaluate uncertainty within each category\n",
    "\n",
    "Here we are measurign uncertainty as the KL between the network categorization and the actual distribution of y labels. If the training set is balance, the distribution of y labels will be a uniform distibution. A category that outputs almost a unifrom distribution is very uncertain (low KL), while a network that outputs something close to a one-hot vector is very certain (high KL). Consequently, a category with low KL has high uncertainty, and a category with high KL has low uncertainty."
   ]
  },
  {
   "cell_type": "code",
   "execution_count": null,
   "metadata": {},
   "outputs": [],
   "source": [
    "fig, ax = plt.subplots(1,2, figsize=(12,4))\n",
    "\n",
    "one_hot, cat_hist, cat_entropy, cat_KL = get_cat_entropy(X_test, y_test, ppc_test)\n",
    "ax[0].imshow(cat_hist)\n",
    "ax[0].set_title('Confusion Matrix')\n",
    "ax[1].bar(np.arange(10), cat_KL, color='blue', alpha=.25)\n",
    "# plt.legend()\n",
    "ax[1].set_xlabel('category')\n",
    "ax[1].set_ylabel('KL')\n",
    "\n",
    "plt.show()"
   ]
  },
  {
   "cell_type": "markdown",
   "metadata": {},
   "source": [
    "#### Conclusion from Part 2\n",
    "These results are pretty interesting. We already get pretty good performance (70%), but it is clear that some categories (e.g. 4: coat, 5: sandals, 6: shirt), are much more uncertain than other categories (e.g. 7: sneaker, or 9: ankle boot). We will see if we can remedy this with active learning. "
   ]
  },
  {
   "cell_type": "markdown",
   "metadata": {},
   "source": [
    "### 3) Full example"
   ]
  },
  {
   "cell_type": "markdown",
   "metadata": {},
   "source": [
    "#### Pseudocode\n",
    "\n",
    "- Train network on subset of training data\n",
    "- while i < n_iterations:\n",
    "    - assess category uncertainty of network\n",
    "    - choose 5 training samples from  category with largest uncertainty \n",
    "    - choose 50 already seen samples from training data to replay proportional to category uncertainty\n",
    "    - train network using replay and new data\n",
    "    - i += 1"
   ]
  },
  {
   "cell_type": "markdown",
   "metadata": {},
   "source": [
    "**1) How to assess uncertainty while training?** In order to assess the uncertainty of the network we are going to test the network on training data that it has already seen. We want to assess this prior to feeding the network more data. If we were to assess the uncertainty on all seen data, this would take a long time. The benefit of the BBN is that we can get a measure of uncertainty for a single data point. This is still a bit noisy if we want to find the overal category with the highest uncertainty. We choose to assess the uncertainty using 3 data points from each category. \n",
    "\n",
    "**2) How many data points should we feed the network after assessing the uncertainty?** We want to avoid overfitting by feeding the network tons of data in a row from the same category. In order to avoid this we will feed the network data in chunks of 5. Also, since the uncertainty assessment is bound to be slightly noisy, we will probably not consistently identify one category as the most uncertain. This will also help avoid overfitting. \n",
    "\n",
    "**3) How to use multiple epochs with active learning?** One complication that comes up with active learning is how to adapt the idea of training over multiple epochs of the data. The example aboce runs through about 8 epochs of the training set subset. If it only does 1 epoch, performance is much worse. In order to mimic going though multiple epochs, we will introduce experience replay in conjunction with active learning. For expereince replay, we will choose 10 already seen training points in proportion to the uncertainty of each category.  "
   ]
  },
  {
   "cell_type": "markdown",
   "metadata": {},
   "source": [
    "#### Code for active learning"
   ]
  },
  {
   "cell_type": "markdown",
   "metadata": {},
   "source": [
    "**Neural network for active learning** (This network is identical to the BNN used above, except that we are no longer using minibatches.)"
   ]
  },
  {
   "cell_type": "code",
   "execution_count": null,
   "metadata": {},
   "outputs": [],
   "source": [
    "def construct_nn_active_learning(ann_input, ann_output, n_input, n_output, n_hidden=128):\n",
    "    \n",
    "    # Initialize random weights between each layer\n",
    "    init_w_1 = np.random.randn(n_input, n_hidden).astype(theano.config.floatX)\n",
    "    init_out = np.random.randn(n_hidden,n_output).astype(theano.config.floatX)\n",
    "    \n",
    "    with pm.Model() as neural_network:\n",
    "        # Weights from input to hidden layer\n",
    "        w_0_1 = pm.Normal('w_0_1', 0, sd=1, shape=(n_input, n_hidden), testval=init_w_1)\n",
    "     \n",
    "        # Weights from hidden layer to output\n",
    "        w_1_out = pm.Normal('w_2_out', 0, sd=1,shape=(n_hidden,n_output),testval=init_out)\n",
    "\n",
    "        # Build neural-network using tanh activation function\n",
    "        act_1 = pm.Deterministic('act_1',var=pm.math.tanh(pm.math.dot(ann_input,w_0_1)))#+b_1))\n",
    "        \n",
    "        # Softmax is required at last layer\n",
    "        act_out = pm.Deterministic('act_out',var=tt.nnet.softmax(pm.math.dot(act_1,w_1_out)))\n",
    "    \n",
    "        # Classification\n",
    "        out = pm.Categorical('out',act_out,observed=ann_output)\n",
    "        \n",
    "    return neural_network"
   ]
  },
  {
   "cell_type": "markdown",
   "metadata": {},
   "source": [
    "**Functions for running active learning and control network**"
   ]
  },
  {
   "cell_type": "code",
   "execution_count": null,
   "metadata": {},
   "outputs": [],
   "source": [
    "def initialize_network(X_train, y_train, n_samples, n_epochs, n_hidden):\n",
    "    X_train_init, y_train_init, ind_used, ind_remaining = get_training_subset_init(X_train, y_train, n_samples)\n",
    "    shared_x = theano.shared(X_train_init)\n",
    "    shared_y = theano.shared(y_train_init)\n",
    "\n",
    "    # make neural network\n",
    "    (n_train,n_input) = X_train_init.shape\n",
    "    n_output = 10\n",
    "    NN_model = construct_nn_active_learning(shared_x, shared_y, n_input, n_output, n_hidden=n_hidden)\n",
    "\n",
    "    # train network on initial subset of data\n",
    "    n_approx_iter = n_samples*n_epochs\n",
    "    with NN_model:\n",
    "        advi = pm.ADVI()\n",
    "        approx = advi.fit(n=n_approx_iter)\n",
    "        \n",
    "    return NN_model, advi, approx, ind_used, ind_remaining\n",
    "\n",
    "def run_active_learning(NN_model_active, advi_active, ind_used, ind_remaining, n_active_learning_iterations, n_test_uncertainty,\n",
    "                        n_cat_data_points, n_replay_data_points):\n",
    "    i = 1\n",
    "    replay_ind_list = ()\n",
    "    while i < n_active_learning_iterations: #samples_remaining:\n",
    "        print(i)\n",
    "        # evaluate current uncertainty and find category with max uncertainty\n",
    "        cat_KL, cat = get_max_uncertainty(X_train, y_train, ind_used, n_test_uncertainty)\n",
    "        # get n_cat_data_points new training data from that category\n",
    "        X_train_cat, y_train_cat, ind_used, ind_remaining = \\\n",
    "                get_cat_subset(X_train, y_train, ind_used, ind_remaining, n_cat_data_points, cat)\n",
    "        # get replay training data proportional to current uncertainty\n",
    "        X_train_replay, y_train_replay, replay_ind_list = \\\n",
    "            get_replay_subset(X_train, y_train, ind_used, cat_KL, n_replay_data_points, replay_ind_list)\n",
    "        # concatenate training data for this active learning iteration\n",
    "        X_train_subset = np.vstack((X_train_cat, X_train_replay))\n",
    "        y_train_subset = np.append(y_train_cat, y_train_replay)\n",
    "        # continue training network on this data\n",
    "        shared_x.set_value(X_train_subset)\n",
    "        shared_y.set_value(y_train_subset)\n",
    "        n_iterations = len(y_train_subset)\n",
    "        with NN_model_active:\n",
    "            approx_active = advi_active.fit(n=n_iterations)\n",
    "        i += 1\n",
    "    return advi_active, approx_active, ind_used, replay_ind_list\n",
    "                        \n",
    "def run_active_learning_control(NN_model_control, advi_control, ind_used, ind_remaining, n_active_learning_iterations,\n",
    "                                n_cat_data_points, n_replay_data_points):\n",
    "    i = 1\n",
    "    replay_ind_list = list()\n",
    "    while i < n_active_learning_iterations: #samples_remaining:\n",
    "        print(i)\n",
    "        # choose random category to feed data\n",
    "        cat = np.random.choice(n_output)\n",
    "        # get n_cat_data_points new training data from that category\n",
    "        X_train_cat, y_train_cat, ind_used, ind_remaining = \\\n",
    "                get_cat_subset(X_train, y_train, ind_used, ind_remaining, n_cat_data_points, cat)\n",
    "        # get balanced replay training data\n",
    "        X_train_replay, y_train_replay, replay_ind_list = \\\n",
    "            get_replay_subset_balanced(X_train, y_train, ind_used, n_replay_data_points, replay_ind_list)\n",
    "        # concatenate training data for this active learning iteration\n",
    "        X_train_subset = np.vstack((X_train_cat, X_train_replay))\n",
    "        y_train_subset = np.append(y_train_cat, y_train_replay)\n",
    "        # continue training network on this data\n",
    "        shared_x.set_value(X_train_subset)\n",
    "        shared_y.set_value(y_train_subset)\n",
    "        n_iterations = len(y_train_subset)\n",
    "        with NN_model_control:\n",
    "            approx_control = advi_control.fit(n=n_iterations)\n",
    "        i += 1\n",
    "    return advi_control, approx_control, ind_used, replay_ind_list"
   ]
  },
  {
   "cell_type": "markdown",
   "metadata": {},
   "source": [
    "**Helper functions**"
   ]
  },
  {
   "cell_type": "code",
   "execution_count": null,
   "metadata": {},
   "outputs": [],
   "source": [
    "def get_training_subset_init(X_train, y_train, n_samples):\n",
    "    # make n_samples a multiple of 10 for ease of balancing the dataset\n",
    "    n_cat = 10\n",
    "    n_cat_samples = int(n_samples/10)\n",
    "    n_train = np.shape(X_train)[0]\n",
    "    ind_array = np.arange(n_train)\n",
    "    \n",
    "    # make cat list\n",
    "    ind_remaining = list()\n",
    "    for i in range(10):\n",
    "        ind_remaining.append(ind_array[y_train == i])\n",
    "    \n",
    "    ind_used = [[]]*n_cat\n",
    "    ind_subset = list()\n",
    "    for cat in range(n_cat):\n",
    "        cat_ind = np.random.choice(ind_remaining[cat], size=n_cat_samples, replace=False).astype(int)\n",
    "        ind_remaining[cat] = np.delete(ind_remaining[cat], np.argwhere(np.in1d(ind_remaining[cat], cat_ind)))\n",
    "        ind_used[cat] = np.append(ind_used[cat], cat_ind)\n",
    "        ind_subset = np.append(ind_subset, cat_ind)\n",
    "    ind_subset = ind_subset.astype(int)\n",
    "    np.random.shuffle(ind_subset)\n",
    "    X_train_subset = X_train[ind_subset]\n",
    "    y_train_subset = y_train[ind_subset]\n",
    "    return X_train_subset, y_train_subset, ind_used, ind_remaining\n",
    "\n",
    "def get_cat_subset(X_train, y_train, ind_used, ind_remaining, n_samples, cat):\n",
    "    # get appropraite number of samples from given category\n",
    "    cat_ind = np.random.choice(ind_remaining[cat], size=n_samples, replace=False).astype(int)\n",
    "    ind_used[cat] = np.append(ind_used[cat], cat_ind)\n",
    "    ind_remaining[cat] = np.delete(ind_remaining[cat], np.argwhere(np.in1d(ind_remaining[cat], cat_ind)))\n",
    "    X_train_subset = X_train[cat_ind]\n",
    "    y_train_subset = y_train[cat_ind]\n",
    "    return X_train_subset, y_train_subset, ind_used, ind_remaining\n",
    "\n",
    "def get_used_subset(X_train, y_train, ind_used, n_samples):\n",
    "    n_cat = 10\n",
    "    n_cat_samples = int(n_samples/n_cat)\n",
    "    cat_ind_list = list()\n",
    "    for cat in range(n_cat):\n",
    "        cat_ind = np.random.choice(ind_used[cat], size=n_cat_samples, replace=False)\n",
    "        cat_ind_list = np.append(cat_ind_list, cat_ind)\n",
    "    cat_ind_list = cat_ind_list.astype(int)\n",
    "    X_used_subset = X_train[cat_ind_list]\n",
    "    y_used_subset = y_train[cat_ind_list]\n",
    "    return X_used_subset, y_used_subset\n",
    "\n",
    "def get_max_uncertainty(X_train, y_train, ind_used, n_samples):\n",
    "    X_used_subset, y_used_subset = get_used_subset(X_train, y_train, ind_used, n_samples)\n",
    "    (n_test,n_input) = X_test.shape\n",
    "    X_used_shared = theano.shared(X_used_subset)\n",
    "    y_used_shared = theano.shared(y_used_subset)\n",
    "    n_input = 28*28\n",
    "    n_output = 10\n",
    "    NN_model_test = construct_nn_active_learning(X_used_shared, y_used_shared, n_input, n_output, n_hidden=128)\n",
    "    n_samples = 100\n",
    "    with NN_model_test:\n",
    "        ppc_test = pm.sample_ppc(trace, samples=n_samples)\n",
    "    one_hot, cat_hist, cat_entropy, cat_KL = get_cat_entropy(X_used_subset, y_used_subset, ppc_test)\n",
    "    return cat_KL, np.argmin(cat_KL)\n",
    "\n",
    "def get_replay_subset(X_train, y_train, ind_used, cat_KL, n_samples, replay_ind_list):\n",
    "    cat_KL_scaled = ((cat_KL - np.min(cat_KL))/(np.max(cat_KL) - np.min(cat_KL)))\n",
    "    p_vals = (1 - cat_KL_scaled)/np.sum(cat_KL_scaled)\n",
    "    p_vals /= np.sum(p_vals)\n",
    "    n_cat_samples = np.round((p_vals*n_samples)).astype(int)\n",
    "    cat_ind_list = list()\n",
    "    for cat, n_cat_samp in enumerate(n_cat_samples):\n",
    "        if n_cat_samp < len(ind_used[cat]):\n",
    "            cat_ind = np.random.choice(ind_used[cat], size=n_cat_samp, replace=False)\n",
    "        elif n_cat_samp > len(ind_used[cat]):\n",
    "            cat_ind = ind_used[cat]\n",
    "            n_ind_left = n_cat_samp - len(ind_used[cat])\n",
    "            ind_used_list = [item for cat_used in ind_used for item in cat_used]\n",
    "            extra_ind = np.random.choice(ind_used_list, size=n_ind_left, replace=False)\n",
    "            cat_ind = np.append(cat_ind, extra_ind)\n",
    "        elif n_cat_samp == len(ind_used[cat]):\n",
    "            cat_ind = ind_used[cat]\n",
    "        cat_ind_list = np.append(cat_ind_list, cat_ind)\n",
    "    if len(cat_ind_list) != n_samples:\n",
    "        n_diff = np.abs(len(cat_ind_list)-n_samples)\n",
    "        if len(cat_ind_list) > n_samples:\n",
    "            rand_ind = np.random.choice(len(cat_ind_list), size=n_diff)\n",
    "            cat_ind_list = np.delete(cat_ind_list, rand_ind)\n",
    "        elif len(cat_ind_list) < n_samples:\n",
    "            ind_used_list = [item for cat_used in ind_used for item in cat_used]\n",
    "            extra_ind = np.random.choice(ind_used_list, size=n_diff, replace=False)\n",
    "            cat_ind_list = np.append(cat_ind_list, extra_ind)\n",
    "    cat_ind_list = cat_ind_list.astype(int)\n",
    "    X_replay_subset = X_train[cat_ind_list]\n",
    "    y_replay_subset = y_train[cat_ind_list]\n",
    "    replay_ind_list = np.append(replay_ind_list, cat_ind_list)\n",
    "    return X_replay_subset, y_replay_subset, replay_ind_list\n",
    "\n",
    "def get_replay_subset_balanced(X_train, y_train, ind_used, n_samples, replay_ind_list):\n",
    "    n_cat = 10\n",
    "    n_cat_samp = int(n_samples/n_cat)\n",
    "    cat_ind_list = list()\n",
    "    for cat in range(n_cat):\n",
    "        if n_cat_samp < len(ind_used[cat]):\n",
    "            cat_ind = np.random.choice(ind_used[cat], size=n_cat_samp, replace=False)\n",
    "        elif n_cat_samp >= len(ind_used[cat]):\n",
    "            cat_ind = ind_used[cat]\n",
    "        cat_ind_list = np.append(cat_ind_list, cat_ind)\n",
    "    cat_ind_list = cat_ind_list.astype(int)\n",
    "    X_replay_subset = X_train[cat_ind_list]\n",
    "    y_replay_subset = y_train[cat_ind_list]\n",
    "    replay_ind_list = np.append(replay_ind_list, cat_ind_list)\n",
    "    return X_replay_subset, y_replay_subset, replay_ind_list"
   ]
  },
  {
   "cell_type": "markdown",
   "metadata": {},
   "source": [
    "#### Run active learning and active learning control"
   ]
  },
  {
   "cell_type": "code",
   "execution_count": null,
   "metadata": {},
   "outputs": [],
   "source": [
    "load_pickle = True\n",
    "if load_pickle == True:\n",
    "    with open('active_learning_new_data.pickle', 'rb') as f:\n",
    "        results = pickle.load(f)\n",
    "else: \n",
    "    n_initial_samples = 50\n",
    "    n_epochs = 4\n",
    "    n_hidden = 128\n",
    "\n",
    "    n_active_learning_iterations = 100\n",
    "    n_test_uncertainty = 20\n",
    "    n_cat_data_points = 5\n",
    "    n_replay_data_points = 50\n",
    "\n",
    "    print('RUNNING ACTIVE LEARNING')\n",
    "    # initialize model\n",
    "    NN_model_active, advi_active, approx_active, ind_used, ind_remaining = \\\n",
    "        initialize_network(X_train, y_train, n_initial_samples, n_epochs, n_hidden)\n",
    "    # run active learning\n",
    "    advi_active, approx_active, ind_used_active, replay_ind_list_active = run_active_learning(\n",
    "        NN_model_active, advi_active, ind_used, ind_remaining, n_active_learning_iterations, \n",
    "        n_test_uncertainty, n_cat_data_points, n_replay_data_points)\n",
    "\n",
    "    print('RUNNING ACTIVE LEARNING CONTROL')\n",
    "    # initialize model\n",
    "    NN_model_control, advi_control, approx_control, ind_used, ind_remaining = \\\n",
    "        initialize_network(X_train, y_train, n_initial_samples, n_epochs, n_hidden)\n",
    "    # run active learning control\n",
    "    advi_control, approx_control, ind_used_control, replay_ind_list_control = run_active_learning_control(\n",
    "        NN_model_control, advi_control, ind_used, ind_remaining, n_active_learning_iterations,\n",
    "        n_cat_data_points, n_replay_data_points)\n",
    "\n",
    "    # organize results and pickle\n",
    "    results = dict()\n",
    "    results['params'] = {'n_initial_samples':n_initial_samples,\n",
    "                         'n_epochs':n_epochs, \n",
    "                         'n_hidden':n_hidden, \n",
    "                         'n_active_learning_iterations': n_active_learning_iterations, \n",
    "                         'n_test_uncertainty':n_test_uncertainty ,\n",
    "                         'n_cat_data_points':n_cat_data_points, \n",
    "                         'n_replay_data_points': n_replay_data_points}\n",
    "    results['active'] = {'NN_model':NN_model_active,\n",
    "                         'approx': approx_active,\n",
    "                         'advi':advi_active,\n",
    "                         'ind_used':ind_used_active,\n",
    "                         'replay_ind_used':replay_ind_list_active.astype(int)}\n",
    "\n",
    "    results['control'] = {'NN_model':NN_model_control,\n",
    "                         'approx':approx_control,\n",
    "                         'advi':advi_control,\n",
    "                         'ind_used':ind_used_control,\n",
    "                         'replay_ind_used':replay_ind_list_control.astype(int)}\n",
    "\n",
    "    with open('active_learning_new_data.pickle_v2', 'wb') as f:\n",
    "        pickle.dump(results, f)"
   ]
  },
  {
   "cell_type": "markdown",
   "metadata": {},
   "source": [
    "#### Compare active learning to control"
   ]
  },
  {
   "cell_type": "code",
   "execution_count": null,
   "metadata": {},
   "outputs": [],
   "source": [
    "elbo_1 = -results['active']['advi'].hist\n",
    "elbo_2 = -results['control']['advi'].hist\n",
    "\n",
    "figsize = (8,3); fontsize = 16;\n",
    "f, ax = plt.subplots(1,1,figsize=figsize);\n",
    "\n",
    "ax.plot(elbo_1,label='active')\n",
    "ax.plot(elbo_2,label='control')\n",
    "ax.legend()\n",
    "ax.set_ylabel('ELBO',fontsize=fontsize)\n",
    "ax.set_xlabel('iteration',fontsize=fontsize);\n",
    "sns.despine();"
   ]
  },
  {
   "cell_type": "code",
   "execution_count": null,
   "metadata": {},
   "outputs": [],
   "source": [
    "fig, ax = plt.subplots(1, 2, figsize=(12,4))\n",
    "\n",
    "cat_used_active = [y_train[x.astype(int)] for x in results['active']['ind_used']]\n",
    "cat_used_active = [item for cat in cat_used_active for item in cat]\n",
    "cat_used_control = [y_train[x.astype(int)] for x in results['control']['ind_used']]\n",
    "cat_used_control = [item for cat in cat_used_control for item in cat]\n",
    "\n",
    "ax[0].hist(cat_used_active, bins=10, color='blue', alpha=.25, label='active')\n",
    "ax[0].hist(cat_used_control, bins=10, color='green', alpha=.25, label='control')\n",
    "ax[0].set_title('Training Data Subset by Category')\n",
    "ax[0].set_xlabel('category')\n",
    "ax[0].set_ylabel('num training data used')\n",
    "ax[0].legend()\n",
    "\n",
    "ax[1].hist(y_train[results['active']['replay_ind_used']], bins=10, color='blue', alpha=.25, label='active')\n",
    "ax[1].hist(y_train[results['control']['replay_ind_used']], bins=10, color='green', alpha=.25, label='control')\n",
    "ax[1].set_title('Replay Data by Category')\n",
    "ax[1].set_xlabel('category')\n",
    "ax[1].set_ylabel('num replay data used')\n",
    "fig.show()"
   ]
  },
  {
   "cell_type": "markdown",
   "metadata": {},
   "source": [
    "Here we are plotting the number of training samples from each category that are used, and we can see that more samples are used from less certain categories, and more samples are replayed from uncertain categories."
   ]
  },
  {
   "cell_type": "markdown",
   "metadata": {},
   "source": [
    "### Assess test performance"
   ]
  },
  {
   "cell_type": "code",
   "execution_count": null,
   "metadata": {},
   "outputs": [],
   "source": [
    "# Draw samples from variational posterior (the weights in the network)\n",
    "n_draws = 200 # > 2k hangs for almost all network sizes on my 2018 MBP -SH\n",
    "trace_active = results['active']['approx'].sample(draws=n_draws)\n",
    "trace_control = results['control']['approx'].sample(draws=n_draws)\n",
    "\n",
    "(n_test,n_input) = X_test.shape\n",
    "test_x = theano.shared(X_test)\n",
    "test_y = theano.shared(y_test)\n",
    "\n",
    "# test active learning \n",
    "NN_model_test = make_1layer_bbb_network(test_x, test_y, n_input, n_output, n_test, n_hidden_1=128,use_bias=False)\n",
    "n_samples = 100\n",
    "with NN_model_test:\n",
    "    ppc_test_active = pm.sample_ppc(trace_active, samples=n_samples)\n",
    "\n",
    "# test control\n",
    "NN_model_test = make_1layer_bbb_network(test_x, test_y, n_input, n_output, n_test, n_hidden_1=128,use_bias=False)\n",
    "n_samples = 100\n",
    "with NN_model_test:\n",
    "    ppc_test_control = pm.sample_ppc(trace_control, samples=n_samples)"
   ]
  },
  {
   "cell_type": "code",
   "execution_count": null,
   "metadata": {},
   "outputs": [],
   "source": [
    "# Prediction is mode of each\n",
    "test_y_pred_active = sp.stats.mode(ppc_test_active['out'], axis=0).mode[0,:]\n",
    "test_y_pred_control = sp.stats.mode(ppc_test_control['out'], axis=0).mode[0,:]\n",
    "\n",
    "mean_test_perf = np.mean(test_y_pred_active==y_test)\n",
    "print(\"Network Test Set Performance Active Learning: {:f}\".format(mean_test_perf))\n",
    "mean_test_perf = np.mean(test_y_pred_control==y_test)\n",
    "print(\"Network Test Szet Performance Control: {:f}\".format(mean_test_perf))"
   ]
  },
  {
   "cell_type": "code",
   "execution_count": null,
   "metadata": {},
   "outputs": [],
   "source": [
    "fig, ax = plt.subplots(2, 2, figsize=(12,10))\n",
    "\n",
    "one_hot, cat_hist, cat_entropy, cat_KL = get_cat_entropy(X_test, y_test, ppc_test_active)\n",
    "act_diff_identity = np.sum((cat_hist/np.sum(cat_hist) - np.eye(10)/10)**2)\n",
    "ax[0,0].imshow(cat_hist)\n",
    "ax[0,0].set_title('Confusion Matrix Active Learning')\n",
    "\n",
    "ax[0,1].bar(np.arange(10), cat_KL, color='blue', alpha=.25)\n",
    "ax[0,1].set_xlabel('category')\n",
    "ax[0,1].set_ylabel('KL')\n",
    "ax[0,1].set_title('Active Learning KL')\n",
    "\n",
    "one_hot, cat_hist, cat_entropy, cat_KL = get_cat_entropy(X_test, y_test, ppc_test_control)\n",
    "cont_diff_identity = np.sum((cat_hist/np.sum(cat_hist) - np.eye(10)/10)**2)\n",
    "ax[1,0].imshow(cat_hist)\n",
    "ax[1,0].set_title('Confusion Matrix Control')\n",
    "ax[1,1].bar(np.arange(10), cat_KL, color='blue', alpha=.25)\n",
    "ax[1,1].set_xlabel('category')\n",
    "ax[1,1].set_ylabel('KL')\n",
    "ax[1,1].set_title('Control KL')\n",
    "\n",
    "fig.show()\n",
    "\n",
    "print('active error = ', act_diff_identity)\n",
    "print('control error = ', cont_diff_identity)"
   ]
  },
  {
   "cell_type": "markdown",
   "metadata": {},
   "source": [
    "#### Conclusion from Active Learning Part 3\n",
    "\n",
    "Looking at the evolution of the ELBO across iterations and comparing the test performance, we see almost no difference between the active learning dataset and the control network. The confusion matrices are also very similar, and the KL shows that the same categories are still most uncertain."
   ]
  },
  {
   "cell_type": "markdown",
   "metadata": {},
   "source": [
    "#### Active Learning Summary\n",
    "\n",
    "\n",
    "Unfortunately, we don't see an effect of active learning with this example. Because the rise in performance to almost assymptotic performance happens very rapidly with increasing data, it might be hard to increase this speed further. If we comapre the confusion matrix after training on only 200 training points to the confusion matrix after training on all 60K training points, we can see that it is much better with all of the training data. However, this only raises the percent correct less than 10%. It could be that for this dataset the key in reducing that uncertainty lies in having MANY more training examples for each category, and that simply shifting the balance toward training on more uncertain categories at the beginning on learning is not enough. \n",
    "\n",
    "This is a relatively contrived example of using active learning, but it is a very useful concept. It is particularly useful when computation time is a limited resource relative to the data available. In this case it is very important to choose training data that will be most useful for improving performance. For example, in reinforcement learning type problems, an agent interacts witht the world in order to learn how to maximize its reward. Uncertainty can be used in this type of problem as a principled method for driving exploration. It is important for the agent to explore to avoid getting stuck in local minima, but once it is sufficiently certain about the environment it is better for the agent to reduce its exploration and increase its exploitation the strategy that it has found to be best. Usually this is done by reducing an expoloration parameter over time (e.g. epsilon in epsilon-greedy). However, this strategy does not target specific uncertain regions, and consequently does not"
   ]
  }
 ],
 "metadata": {
  "kernelspec": {
   "display_name": "Python [conda env:bbb_models]",
   "language": "python",
   "name": "conda-env-bbb_models-py"
  },
  "language_info": {
   "codemirror_mode": {
    "name": "ipython",
    "version": 3
   },
   "file_extension": ".py",
   "mimetype": "text/x-python",
   "name": "python",
   "nbconvert_exporter": "python",
   "pygments_lexer": "ipython3",
   "version": "3.6.7"
  }
 },
 "nbformat": 4,
 "nbformat_minor": 2
}
