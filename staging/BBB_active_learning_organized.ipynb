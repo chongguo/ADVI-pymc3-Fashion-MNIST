{
 "cells": [
  {
   "cell_type": "markdown",
   "metadata": {},
   "source": [
    "BBB Project Part 2\n",
    "===\n",
    "\n",
    "- Shows performance of bayes by backprop, a method using Variational Inference on a network"
   ]
  },
  {
   "cell_type": "markdown",
   "metadata": {},
   "source": [
    "## Import files: same as other BBB project parts"
   ]
  },
  {
   "cell_type": "code",
   "execution_count": 2,
   "metadata": {},
   "outputs": [],
   "source": [
    "# Add local folders to path\n",
    "import os, sys\n",
    "sys.path.insert(1, os.path.join(sys.path[0], '..'))"
   ]
  },
  {
   "cell_type": "code",
   "execution_count": 3,
   "metadata": {},
   "outputs": [],
   "source": [
    "from collections import OrderedDict\n",
    "\n",
    "import pymc3 as pm\n",
    "import theano\n",
    "import theano.tensor as tt\n",
    "\n",
    "import matplotlib.pyplot as plt\n",
    "import seaborn as sns\n",
    "import numpy as np\n",
    "\n",
    "from scipy.stats import mode\n",
    "from pymc3.theanof import set_tt_rng, MRG_RandomStreams\n",
    "\n",
    "%matplotlib inline"
   ]
  },
  {
   "cell_type": "code",
   "execution_count": 4,
   "metadata": {},
   "outputs": [
    {
     "name": "stdout",
     "output_type": "stream",
     "text": [
      "PyMC3 v3.5\n",
      "Theano v1.0.3\n"
     ]
    }
   ],
   "source": [
    "print('PyMC3 v{}\\nTheano v{}'.format(pm.__version__,theano.__version__))"
   ]
  },
  {
   "cell_type": "code",
   "execution_count": 5,
   "metadata": {},
   "outputs": [],
   "source": [
    "# Set random seeds\n",
    "np.random.seed(42)\n",
    "pm.set_tt_rng(42)"
   ]
  },
  {
   "cell_type": "code",
   "execution_count": 6,
   "metadata": {},
   "outputs": [],
   "source": [
    "# Avoid warnings on batches below\n",
    "from warnings import filterwarnings\n",
    "filterwarnings('ignore')"
   ]
  },
  {
   "cell_type": "code",
   "execution_count": 7,
   "metadata": {},
   "outputs": [
    {
     "name": "stdout",
     "output_type": "stream",
     "text": [
      "N Input for fashion_mnist = 784\n"
     ]
    }
   ],
   "source": [
    "# Use tensorflow to import image datasets\n",
    "import tensorflow as tf\n",
    "\n",
    "reshape_train_imgs = lambda img : img.reshape(img.shape[0],-1)\n",
    "imgvec2img = lambda vec : vec.reshape((np.sqrt(vec.shape[0]).astype(int),np.sqrt(vec.shape[0]).astype(int)))\n",
    "floatX = theano.config.floatX\n",
    "\n",
    "dataset = 'fashion_mnist'\n",
    "\n",
    "if dataset == 'mnist':\n",
    "    (X_train, y_train), (X_test, y_test) = tf.keras.datasets.mnist.load_data()\n",
    "    X_train,X_test = reshape_train_imgs(X_train),reshape_train_imgs(X_test)\n",
    "    label_dict = OrderedDict({i:str(i) for i in range(10)})\n",
    "    \n",
    "    X_train = X_train.astype(floatX)/255\n",
    "    y_train = y_train.astype(np.int)\n",
    "    X_test = X_test.astype(floatX)/255\n",
    "    y_test = y_test.astype(np.int)\n",
    "    \n",
    "    n_output = len(label_dict)\n",
    "    \n",
    "elif dataset == 'fashion_mnist':\n",
    "    (X_train, y_train), (X_test, y_test) = tf.keras.datasets.fashion_mnist.load_data()\n",
    "    X_train,X_test = reshape_train_imgs(X_train),reshape_train_imgs(X_test)\n",
    "    label_dict = OrderedDict({0: 'T-shirt/top',\n",
    "                              1: 'Trouser',\n",
    "                              2: 'Pullover',\n",
    "                              3: 'Dress',\n",
    "                              4: 'Coat',\n",
    "                              5: 'Sandal',\n",
    "                              6: 'Shirt',\n",
    "                              7: 'Sneaker',\n",
    "                              8: 'Bag',\n",
    "                              9: 'Ankle boot'})\n",
    "    X_train = X_train.astype(floatX)/255\n",
    "    y_train = y_train.astype(np.int)\n",
    "    X_test = X_test.astype(floatX)/255\n",
    "    y_test = y_test.astype(np.int)\n",
    "    \n",
    "    n_output = len(label_dict)\n",
    "\n",
    "(n_train,n_input) = X_train.shape\n",
    "print(\"N Input for {} = {}\".format(dataset,n_input))"
   ]
  },
  {
   "cell_type": "code",
   "execution_count": 8,
   "metadata": {},
   "outputs": [
    {
     "data": {
      "image/png": "[encoded data removed]",
      "text/plain": [
       "<matplotlib.figure.Figure at 0x1c38f0e748>"
      ]
     },
     "metadata": {
      "needs_background": "light"
     },
     "output_type": "display_data"
    }
   ],
   "source": [
    "# PLot random subset of images\n",
    "n_plot_samples = 5\n",
    "rand_samps = np.random.choice(X_train.shape[0],size=n_plot_samples)\n",
    "\n",
    "figsize = (10,3); fontsize = 16;\n",
    "f, axs = plt.subplots(1,n_plot_samples,sharex=True,figsize=figsize);\n",
    "for rs,ax in zip(rand_samps,axs):\n",
    "    ax.imshow(imgvec2img(X_train[rs]),cmap='gray');\n",
    "    ax.axis('off')\n",
    "    ax.set_title(label_dict[y_train[rs]]);\n",
    "    sns.despine();\n",
    "f.suptitle(\"Example Images\",fontsize=fontsize+4);"
   ]
  },
  {
   "cell_type": "markdown",
   "metadata": {},
   "source": [
    "Use %load magic here to load `bbb_nn.py`. Delete are re-run a cell as below for updates:\n",
    "```python\n",
    "%load bbb_nn.py\n",
    "```"
   ]
  },
  {
   "cell_type": "code",
   "execution_count": 238,
   "metadata": {},
   "outputs": [],
   "source": [
    "# %load bbb_nn.py\n",
    "def construct_nn(ann_input, ann_output, n_input, n_output, n_train, n_hidden_1=128):\n",
    "    \n",
    "    # Initialize random weights between each layer\n",
    "    init_w_1 = np.random.randn(n_input, n_hidden_1).astype(theano.config.floatX)\n",
    "    init_out = np.random.randn(n_hidden_1,n_output).astype(theano.config.floatX)\n",
    "    \n",
    "    with pm.Model() as neural_network:\n",
    "        # Weights from input to hidden layer\n",
    "        w_0_1 = pm.Normal('w_0_1', 0, sd=1, shape=(n_input, n_hidden_1), testval=init_w_1)\n",
    "     \n",
    "        # Weights from hidden layer to output\n",
    "        w_1_out = pm.Normal('w_2_out', 0, sd=1,shape=(n_hidden_1,n_output),testval=init_out)\n",
    "\n",
    "        # Build neural-network using tanh activation function\n",
    "        act_1 = pm.Deterministic('act_1',var=pm.math.tanh(pm.math.dot(ann_input,w_0_1)))#+b_1))\n",
    "        \n",
    "        # Softmax is required at last layer\n",
    "        act_out = pm.Deterministic('act_out',var=tt.nnet.softmax(pm.math.dot(act_1,w_1_out)))\n",
    "    \n",
    "        # Classification\n",
    "        out = pm.Categorical('out',act_out,observed=ann_output,total_size=n_train)\n",
    "        \n",
    "    return neural_network"
   ]
  },
  {
   "cell_type": "markdown",
   "metadata": {},
   "source": [
    "## Application: Active Learning with fashion_mnist"
   ]
  },
  {
   "cell_type": "markdown",
   "metadata": {},
   "source": [
    "One of the main benefits of using a Bayesian Neural Network is that it is possile to drive learning online accoring to where the network is most uncertain. This is often referred to as active learning. We are going to apply active learning to training a BNN for classification on the fashion_mnist dataset. Our hope is that we can speed up learning by feeding the network data according to which categories it is the most uncertain about. \n",
    "\n",
    "**Brief Overview**\n",
    "\n",
    "When we started working on this problem we were suprised to see that with a very small fraction of the training dataset we still got decent performance on the test set with our BNN. For example, with the full training dataset (60,000 images) we get a test set performance of 77%, while with only 300 data points we still get 71% performance. This was based on 10K iterations (~8 epochs), so it is possible that the assymptoic performance of the networks with this amount of data would be more different. In any case, these findings made us interested in how performance depends on the number of data points. \n",
    "\n",
    "In order to investigate this we trained a network on varying amounts of training data. This would have taken a very long time with our BNN, so instead we used a network with the same structure, but trained with adam in tensorflow. We found that the learning curve as a function of training data is highly nonlinear. Specifically, there is a large increase in performance between 50 and 200 training data points, and then a linear increase between 200 and 60000. \n",
    "\n",
    "For the purpose of exploring active learning with this example dataset, we are going to focus on speeding up the improvement in performance within the first ~500 training data points seen. \n",
    "\n",
    "**Outline**\n",
    "\n",
    "1. Get an idea the learning curve as a function of the amount of training data\n",
    "2. Example of training on subset of data and assessing uncertainty\n",
    "3. Active learning application"
   ]
  },
  {
   "cell_type": "markdown",
   "metadata": {},
   "source": [
    "### 1) Assess test performance as a function of number of training data points\n",
    "\n",
    "Before moving on with active learning, we want to get a sense of how test set performace depends on the number of training samples. It would be pretty slow to look at this with out pymc3 model, but we can use Adam optimization in tensorflow to get an idea of the learning curve on an ANN. "
   ]
  },
  {
   "cell_type": "code",
   "execution_count": 234,
   "metadata": {},
   "outputs": [
    {
     "name": "stdout",
     "output_type": "stream",
     "text": [
      "Epoch 1/5\n",
      "60000/60000 [==============================] - 9s 144us/step - loss: 0.4764 - acc: 0.8297\n",
      "Epoch 2/5\n",
      "60000/60000 [==============================] - 6s 104us/step - loss: 0.3677 - acc: 0.8671\n",
      "Epoch 3/5\n",
      "60000/60000 [==============================] - 6s 97us/step - loss: 0.3338 - acc: 0.8777\n",
      "Epoch 4/5\n",
      "60000/60000 [==============================] - 6s 92us/step - loss: 0.3112 - acc: 0.8851\n",
      "Epoch 5/5\n",
      "60000/60000 [==============================] - 6s 93us/step - loss: 0.2925 - acc: 0.8911\n",
      "10000/10000 [==============================] - 0s 49us/step\n",
      "Test accuracy: 0.8777\n"
     ]
    }
   ],
   "source": [
    "from tensorflow import keras\n",
    "\n",
    "def tf_model(X_train, y_train):\n",
    "    model = keras.Sequential([\n",
    "        keras.layers.Dense(128, activation=tf.nn.tanh),\n",
    "        keras.layers.Dense(n_output, activation=tf.nn.softmax)\n",
    "    ])\n",
    "\n",
    "    model.compile(optimizer=tf.train.AdamOptimizer(), \n",
    "                  loss='sparse_categorical_crossentropy',\n",
    "                  metrics=['accuracy'])\n",
    "\n",
    "    model.fit(X_train, y_train, epochs=5)\n",
    "    test_loss, test_acc = model.evaluate(X_test, y_test)\n",
    "    \n",
    "    return test_acc\n",
    "    \n",
    "test_acc = tf_model(X_train, y_train)\n",
    "print('Test accuracy:', test_acc)"
   ]
  },
  {
   "cell_type": "code",
   "execution_count": 252,
   "metadata": {},
   "outputs": [
    {
     "name": "stdout",
     "output_type": "stream",
     "text": [
      "10000\n",
      "Epoch 1/5\n",
      "10000/10000 [==============================] - 44s 4ms/step - loss: 0.6745 - acc: 0.7623\n",
      "Epoch 2/5\n",
      "10000/10000 [==============================] - 10s 958us/step - loss: 0.4704 - acc: 0.8378\n",
      "Epoch 3/5\n",
      "10000/10000 [==============================] - 9s 887us/step - loss: 0.4229 - acc: 0.8474\n",
      "Epoch 4/5\n",
      "10000/10000 [==============================] - 9s 882us/step - loss: 0.3876 - acc: 0.8654\n",
      "Epoch 5/5\n",
      "10000/10000 [==============================] - 8s 850us/step - loss: 0.3569 - acc: 0.8707\n",
      "10000/10000 [==============================] - 27s 3ms/step\n",
      "Epoch 1/5\n",
      "10000/10000 [==============================] - 43s 4ms/step - loss: 0.6624 - acc: 0.7684\n",
      "Epoch 2/5\n",
      "10000/10000 [==============================] - 8s 830us/step - loss: 0.4697 - acc: 0.8303\n",
      "Epoch 3/5\n",
      "10000/10000 [==============================] - 9s 926us/step - loss: 0.4237 - acc: 0.8475\n",
      "Epoch 4/5\n",
      "10000/10000 [==============================] - 9s 947us/step - loss: 0.3832 - acc: 0.8631\n",
      "Epoch 5/5\n",
      "10000/10000 [==============================] - 9s 859us/step - loss: 0.3688 - acc: 0.8642\n",
      "10000/10000 [==============================] - 23s 2ms/step\n",
      "Epoch 1/5\n",
      "10000/10000 [==============================] - 36s 4ms/step - loss: 0.6766 - acc: 0.7644\n",
      "Epoch 2/5\n",
      "10000/10000 [==============================] - 9s 924us/step - loss: 0.4595 - acc: 0.8330\n",
      "Epoch 3/5\n",
      "10000/10000 [==============================] - 9s 852us/step - loss: 0.4076 - acc: 0.8541\n",
      "Epoch 4/5\n",
      "10000/10000 [==============================] - 9s 863us/step - loss: 0.3762 - acc: 0.8641\n",
      "Epoch 5/5\n",
      "10000/10000 [==============================] - 8s 833us/step - loss: 0.3519 - acc: 0.8720\n",
      "10000/10000 [==============================] - 21s 2ms/step\n",
      "Epoch 1/5\n",
      "10000/10000 [==============================] - 35s 3ms/step - loss: 0.6664 - acc: 0.7660\n",
      "Epoch 2/5\n",
      "10000/10000 [==============================] - 9s 872us/step - loss: 0.4736 - acc: 0.8268\n",
      "Epoch 3/5\n",
      "10000/10000 [==============================] - 9s 918us/step - loss: 0.4164 - acc: 0.8507\n",
      "Epoch 4/5\n",
      "10000/10000 [==============================] - 8s 826us/step - loss: 0.3864 - acc: 0.8591\n",
      "Epoch 5/5\n",
      "10000/10000 [==============================] - 8s 850us/step - loss: 0.3617 - acc: 0.8716\n",
      "10000/10000 [==============================] - 25s 3ms/step\n",
      "Epoch 1/5\n",
      "10000/10000 [==============================] - 42s 4ms/step - loss: 0.6621 - acc: 0.7698\n",
      "Epoch 2/5\n",
      "10000/10000 [==============================] - 9s 898us/step - loss: 0.4641 - acc: 0.8343\n",
      "Epoch 3/5\n",
      "10000/10000 [==============================] - 11s 1ms/step - loss: 0.4152 - acc: 0.8491\n",
      "Epoch 4/5\n",
      "10000/10000 [==============================] - 9s 927us/step - loss: 0.3815 - acc: 0.8641\n",
      "Epoch 5/5\n",
      "10000/10000 [==============================] - 9s 879us/step - loss: 0.3536 - acc: 0.8731\n",
      "10000/10000 [==============================] - 21s 2ms/step\n",
      "60000\n",
      "Epoch 1/5\n",
      "60000/60000 [==============================] - 77s 1ms/step - loss: 0.4767 - acc: 0.8283\n",
      "Epoch 2/5\n",
      "60000/60000 [==============================] - 52s 869us/step - loss: 0.3679 - acc: 0.8654\n",
      "Epoch 3/5\n",
      "60000/60000 [==============================] - 53s 876us/step - loss: 0.3362 - acc: 0.8765\n",
      "Epoch 4/5\n",
      "60000/60000 [==============================] - 51s 855us/step - loss: 0.3134 - acc: 0.8845\n",
      "Epoch 5/5\n",
      "60000/60000 [==============================] - 51s 844us/step - loss: 0.2968 - acc: 0.8892\n",
      "10000/10000 [==============================] - 22s 2ms/step\n",
      "Epoch 1/5\n",
      "60000/60000 [==============================] - 75s 1ms/step - loss: 0.4754 - acc: 0.8301\n",
      "Epoch 2/5\n",
      "60000/60000 [==============================] - 54s 897us/step - loss: 0.3678 - acc: 0.8657\n",
      "Epoch 3/5\n",
      "60000/60000 [==============================] - 52s 872us/step - loss: 0.3337 - acc: 0.8779\n",
      "Epoch 4/5\n",
      "60000/60000 [==============================] - 53s 890us/step - loss: 0.3107 - acc: 0.8850\n",
      "Epoch 5/5\n",
      "60000/60000 [==============================] - 53s 884us/step - loss: 0.2954 - acc: 0.8906\n",
      "10000/10000 [==============================] - 21s 2ms/step\n",
      "Epoch 1/5\n",
      "60000/60000 [==============================] - 81s 1ms/step - loss: 0.4764 - acc: 0.8280\n",
      "Epoch 2/5\n",
      "60000/60000 [==============================] - 51s 847us/step - loss: 0.3703 - acc: 0.8652\n",
      "Epoch 3/5\n",
      "60000/60000 [==============================] - 48s 796us/step - loss: 0.3343 - acc: 0.8769\n",
      "Epoch 4/5\n",
      "60000/60000 [==============================] - 50s 827us/step - loss: 0.3142 - acc: 0.8843\n",
      "Epoch 5/5\n",
      "60000/60000 [==============================] - 47s 781us/step - loss: 0.2966 - acc: 0.8899\n",
      "10000/10000 [==============================] - 20s 2ms/step\n",
      "Epoch 1/5\n",
      "60000/60000 [==============================] - 78s 1ms/step - loss: 0.4747 - acc: 0.8286\n",
      "Epoch 2/5\n",
      "60000/60000 [==============================] - 277s 5ms/step - loss: 0.3686 - acc: 0.8669\n",
      "Epoch 3/5\n",
      "60000/60000 [==============================] - 54s 893us/step - loss: 0.3329 - acc: 0.8782\n",
      "Epoch 4/5\n",
      "60000/60000 [==============================] - 51s 858us/step - loss: 0.3113 - acc: 0.8860\n",
      "Epoch 5/5\n",
      "60000/60000 [==============================] - 49s 813us/step - loss: 0.2955 - acc: 0.8901\n",
      "10000/10000 [==============================] - 25s 2ms/step\n",
      "Epoch 1/5\n",
      "60000/60000 [==============================] - 84s 1ms/step - loss: 0.4793 - acc: 0.8283\n",
      "Epoch 2/5\n",
      "60000/60000 [==============================] - 51s 845us/step - loss: 0.3677 - acc: 0.8658\n",
      "Epoch 3/5\n",
      "60000/60000 [==============================] - 49s 813us/step - loss: 0.3338 - acc: 0.8768\n",
      "Epoch 4/5\n",
      "60000/60000 [==============================] - 52s 859us/step - loss: 0.3137 - acc: 0.8846\n",
      "Epoch 5/5\n",
      "60000/60000 [==============================] - 52s 861us/step - loss: 0.2958 - acc: 0.8905\n",
      "10000/10000 [==============================] - 21s 2ms/step\n"
     ]
    }
   ],
   "source": [
    "# n_samples_vec = [10,20, 30, 40, 50, 70, 100, 150, 200, 500, 1000, 10000, 60000]\n",
    "\n",
    "# n_trials = 10\n",
    "# test_acc_results = np.zeros((len(n_samples_vec), n_trials))\n",
    "# for i, n_samples in enumerate(n_samples_vec):\n",
    "#     print(n_samples)\n",
    "#     for j in range(n_trials):\n",
    "#         X_train_subset, y_train_subset = get_training_subset(X_train, y_train, n_samples)\n",
    "#         test_acc = tf_model(X_train_subset, y_train_subset)\n",
    "#         test_acc_results[i,j] = test_acc\n",
    "\n",
    "# mean_perf = np.mean(test_acc_results, axis=1)\n",
    "# std_perf = np.std(test_acc_results, axis=1)\n",
    "# num_points_plot = 11\n",
    "# plt.plot(n_samples_vec[:], mean_perf[:], c='blue')\n",
    "# plt.fill_between(n_samples_vec[:], mean_perf[:num_points_plot]+std_perf[:], mean_perf[:num_points_plot]-std_perf[:], color='blue', alpha=.25)\n",
    "# plt.show()"
   ]
  },
  {
   "cell_type": "code",
   "execution_count": 273,
   "metadata": {},
   "outputs": [
    {
     "data": {
      "image/png": "[encoded data removed]",
      "text/plain": [
       "<matplotlib.figure.Figure at 0x2115f835f8>"
      ]
     },
     "metadata": {
      "needs_background": "light"
     },
     "output_type": "display_data"
    }
   ],
   "source": [
    "with open('perf_training_subset_v2.pickle', 'rb') as f:\n",
    "    perf_training_subset = pickle.load(f)\n",
    "\n",
    "plt.plot(perf_training_subset['num_training'], perf_training_subset['mean'], c='blue')\n",
    "plt.fill_between(perf_training_subset['num_training'], \n",
    "                 perf_training_subset['mean'] + perf_training_subset['std'],\n",
    "                 perf_training_subset['mean'] -  perf_training_subset['std'],\n",
    "                 color='blue' , alpha=.25)\n",
    "plt.show()\n"
   ]
  },
  {
   "cell_type": "markdown",
   "metadata": {},
   "source": [
    "The relationship between the number of training data points and test set performance is highly nonlinear. We see a large jump in performance between 10 and 200 training data points, and then a slight increase from then on. As mentioned abve, we are going to focus on increasing the speed of learning at the beginning of training (~500 training points). "
   ]
  },
  {
   "cell_type": "markdown",
   "metadata": {},
   "source": [
    "### 2) Example of training network on subset of data and assessing uncertainty\n"
   ]
  },
  {
   "cell_type": "markdown",
   "metadata": {},
   "source": [
    "We will now go through an example of training a BNN on a subset of the data. We will used a balanced subset of 200 training data points. As we will from the confusion matrix, there is an uneven distribution of uncertainty across categories. Hopefully by using active learning, we can give the network appropraite data during training to efficiently reduce the uncertainty.  "
   ]
  },
  {
   "cell_type": "markdown",
   "metadata": {},
   "source": [
    "#### Functions for trainining on subset and assessing uncertainty"
   ]
  },
  {
   "cell_type": "code",
   "execution_count": 20,
   "metadata": {},
   "outputs": [],
   "source": [
    "import scipy as sp\n",
    "\n",
    "def get_training_subset(X_train, y_train, n_samples):\n",
    "    (n_train, n_input) = np.shape(X_train)\n",
    "    n_cat = 10\n",
    "    if n_train == n_samples:\n",
    "        return X_train, y_train\n",
    "    # make n_samples a multiple of 10 for ease of balancing the dataset\n",
    "    n_cat_samples = int(n_samples/10)\n",
    "    # get appropraite number of samples from each category\n",
    "    cat_ind = list()\n",
    "    ind_array = np.arange(n_train)\n",
    "    for cat in range(n_cat):\n",
    "        cat_ind = np.append(cat_ind, np.random.choice(ind_array[y_train == cat], size=n_cat_samples, replace=False))\n",
    "    np.random.shuffle(cat_ind)\n",
    "    X_train_subset = X_train[cat_ind.astype(int)]\n",
    "    y_train_subset = y_train[cat_ind.astype(int)]\n",
    "    return X_train_subset, y_train_subset\n",
    "\n",
    "def get_cat_entropy(X_test, y_test, ppc_test):\n",
    "    # get other parameters that need\n",
    "    (n_test,n_input) = X_test.shape\n",
    "    n_output = 10\n",
    "    n_samples = np.shape(ppc_test['out'])[0]\n",
    "    \n",
    "    # make one-hot matrix\n",
    "    one_hot = np.zeros((n_samples, n_test, n_output))\n",
    "    for i in range(n_samples):\n",
    "        one_hot[i][np.arange(n_test), ppc_test['out'][i]] = 1\n",
    "    \n",
    "    # make histograms \n",
    "    y_test_dist = np.histogram(y_test, bins=n_output)[0]\n",
    "    cat_hist = np.zeros((n_output, n_output))\n",
    "    cat_entropy = np.zeros(n_output)\n",
    "    cat_KL = np.zeros(n_output)\n",
    "    histograms = np.sum(one_hot, axis=0)\n",
    "    for i in range(n_output):\n",
    "        cat_hist[i,:] = np.sum(histograms[y_test == i], axis=0)\n",
    "        cat_entropy[i] = sp.stats.entropy(cat_hist[i,:])\n",
    "        cat_KL[i] = sp.stats.entropy(cat_hist[i,:], y_test_dist)\n",
    "#         cat_KL[i] = sp.stats.entropy(y_test_dist, cat_hist[i,:])\n",
    "    return one_hot, cat_hist, cat_entropy, cat_KL"
   ]
  },
  {
   "cell_type": "markdown",
   "metadata": {},
   "source": [
    "#### Train Network on subset of data"
   ]
  },
  {
   "cell_type": "code",
   "execution_count": 11,
   "metadata": {},
   "outputs": [],
   "source": [
    "n_samples = 200\n",
    "X_train_subset, y_train_subset = get_training_subset(X_train, y_train, n_samples)\n",
    "\n",
    "NN_model = construct_nn(X_train_subset, y_train_subset, n_input, n_output, n_samples, n_hidden_1=128)"
   ]
  },
  {
   "cell_type": "code",
   "execution_count": 12,
   "metadata": {},
   "outputs": [
    {
     "name": "stdout",
     "output_type": "stream",
     "text": [
      "{'mu': mu, 'rho': rho}\n"
     ]
    },
    {
     "name": "stderr",
     "output_type": "stream",
     "text": [
      "Average Loss = 5,215.8: 100%|██████████| 10000/10000 [02:51<00:00, 67.64it/s]\n",
      "Finished [100%]: Average Loss = 5,207.9\n"
     ]
    }
   ],
   "source": [
    "# convergence not great, use a different method for conv check after:\n",
    "# https://docs.pymc.io/notebooks/variational_api_quickstart.html\n",
    "with NN_model:\n",
    "    advi = pm.ADVI()\n",
    "    \n",
    "# After the bayes by BackProp paper!\n",
    "print(advi.approx.shared_params)\n",
    "\n",
    "n_approx_iter = 10000\n",
    "with NN_model:\n",
    "    approx = advi.fit(n=n_approx_iter)"
   ]
  },
  {
   "cell_type": "code",
   "execution_count": 13,
   "metadata": {},
   "outputs": [
    {
     "data": {
      "image/png": "[encoded data removed]",
      "text/plain": [
       "<matplotlib.figure.Figure at 0x1c6188f5c0>"
      ]
     },
     "metadata": {
      "needs_background": "light"
     },
     "output_type": "display_data"
    }
   ],
   "source": [
    "# plotting the training progress\n",
    "elbo_1 = -advi.hist\n",
    "\n",
    "figsize = (8,3); fontsize = 16;\n",
    "f, ax = plt.subplots(1,1,figsize=figsize);\n",
    "\n",
    "ax.plot(elbo_1,label='1')\n",
    "ax.set_ylabel('ELBO',fontsize=fontsize)\n",
    "ax.set_xlabel('iteration',fontsize=fontsize);\n",
    "sns.despine();"
   ]
  },
  {
   "cell_type": "markdown",
   "metadata": {},
   "source": [
    "#### Test this network performance on test set"
   ]
  },
  {
   "cell_type": "code",
   "execution_count": 14,
   "metadata": {},
   "outputs": [],
   "source": [
    "# Draw samples from variational posterior (the weights in the network)\n",
    "n_draws = 500 # > 2k hangs for almost all network sizes on my 2018 MBP -SH\n",
    "trace = approx.sample(draws=n_draws)"
   ]
  },
  {
   "cell_type": "code",
   "execution_count": 15,
   "metadata": {},
   "outputs": [
    {
     "name": "stderr",
     "output_type": "stream",
     "text": [
      "100%|██████████| 100/100 [00:51<00:00,  2.01it/s]\n"
     ]
    }
   ],
   "source": [
    "# network at performance on the test set\n",
    "(n_test,n_input) = X_test.shape\n",
    "test_x = theano.shared(X_test)\n",
    "test_y = theano.shared(y_test)\n",
    "NN_model_test = construct_nn(test_x, test_y, n_input, n_output, n_test, n_hidden_1=128)\n",
    "n_samples = 100\n",
    "with NN_model_test:\n",
    "    ppc_test = pm.sample_ppc(trace, samples=n_samples)"
   ]
  },
  {
   "cell_type": "code",
   "execution_count": 16,
   "metadata": {},
   "outputs": [
    {
     "name": "stdout",
     "output_type": "stream",
     "text": [
      "Network Test Set Performance: 0.704600\n"
     ]
    }
   ],
   "source": [
    "# Prediction is mode of each\n",
    "test_y_pred = mode(ppc_test['out'], axis=0).mode[0,:]\n",
    "\n",
    "mean_test_perf = np.mean(test_y_pred==y_test)\n",
    "print(\"Network Test Set Performance: {:f}\".format(mean_test_perf))"
   ]
  },
  {
   "cell_type": "code",
   "execution_count": 17,
   "metadata": {},
   "outputs": [
    {
     "data": {
      "image/png": "[encoded data removed]",
      "text/plain": [
       "<matplotlib.figure.Figure at 0x1c6a371668>"
      ]
     },
     "metadata": {
      "needs_background": "light"
     },
     "output_type": "display_data"
    }
   ],
   "source": [
    "# PLot random subset of images\n",
    "n_plot_samples = 10\n",
    "rand_samps = np.random.choice(X_test.shape[0],size=n_plot_samples)\n",
    "\n",
    "figsize = (18,3); fontsize = 16;\n",
    "f, axs = plt.subplots(1, n_plot_samples, figsize=figsize);\n",
    "\n",
    "for rs,ax in zip(rand_samps,axs):\n",
    "    ax.imshow(imgvec2img(X_train[rs]),cmap='gray');\n",
    "    tl = \"{}: {},\\n{}: {}\".format(test_y_pred[rs],label_dict[test_y_pred[rs]],y_test[rs],label_dict[y_test[rs]])\n",
    "    if test_y_pred[rs] == y_test[rs]:\n",
    "        ax.set_title(tl,color='k');\n",
    "    else:\n",
    "        ax.set_title(tl,color='r');\n",
    "    ax.axis('off');\n",
    "    sns.despine();\n",
    "    \n",
    "f.suptitle(\"Example BBB Classification\",fontsize=fontsize+4);"
   ]
  },
  {
   "cell_type": "markdown",
   "metadata": {},
   "source": [
    "#### Evaluate uncertainty within each category"
   ]
  },
  {
   "cell_type": "markdown",
   "metadata": {},
   "source": [
    "Here we are measurign uncertainty as the KL between the network categorization and the actual distribution of y labels. If the training set is balance, the distribution of y labels will be a uniform distibution. A category that outputs almost a unifrom distribution is very uncertain (low KL), while a network that outputs something close to a one-hot vector is very certain (high KL). Consequently, a category with low KL has high uncertainty, and a category with high KL has low uncertainty."
   ]
  },
  {
   "cell_type": "code",
   "execution_count": 368,
   "metadata": {},
   "outputs": [
    {
     "data": {
      "image/png": "[encoded data removed]",
      "text/plain": [
       "<matplotlib.figure.Figure at 0x2192cc1828>"
      ]
     },
     "metadata": {
      "needs_background": "light"
     },
     "output_type": "display_data"
    }
   ],
   "source": [
    "fig, ax = plt.subplots(1,2, figsize=(12,4))\n",
    "\n",
    "one_hot, cat_hist, cat_entropy, cat_KL = get_cat_entropy(X_test, y_test, ppc_test)\n",
    "ax[0].imshow(cat_hist)\n",
    "ax[0].set_title('Confusion Matrix')\n",
    "ax[1].bar(np.arange(10), cat_KL, color='blue', alpha=.25)\n",
    "# plt.legend()\n",
    "ax[1].set_xlabel('category')\n",
    "ax[1].set_ylabel('KL')\n",
    "\n",
    "plt.show()"
   ]
  },
  {
   "cell_type": "markdown",
   "metadata": {},
   "source": [
    "These results are pretty interesting. We already get pretty good performance (70%), but it is clear that the middle categories are much more uncertain than the outer categories. We will see if we can remedy this with active learning. "
   ]
  },
  {
   "cell_type": "markdown",
   "metadata": {},
   "source": [
    "### 3) Full example"
   ]
  },
  {
   "cell_type": "markdown",
   "metadata": {},
   "source": [
    "#### Pseudocode\n",
    "\n",
    "- Train network on subset of training data\n",
    "- while num_training_data_used < 500\n",
    "    - assess category uncertainty of network\n",
    "    - choose 5 training samples from  category with largest uncertainty \n",
    "    - choose already seen training data to replay proportional to category uncertainty\n",
    "    - train network using replay plus new data"
   ]
  },
  {
   "cell_type": "markdown",
   "metadata": {},
   "source": [
    "**1) How to assess uncertainty while training?** In order to assess the uncertainty of the network we are going to test the network on training data that it has already seen. We want to assess this prior to feeding the network more data. If we were to assess the uncertainty on all seen data, this would take a long time. The benefit of the BBN is that we can get a measure of uncertainty for a single data point. This is still a bit noisy if we want to find the overal category with the highest uncertainty. We choose to assess the uncertainty using 3 data points from each category. \n",
    "\n",
    "**2) How many data points should we feed the network after assessing the uncertainty?** We want to avoid overfitting by feeding the network tons of data in a row from the same category. In order to avoid this we will feed the network data in chunks of 5. Also, since the uncertainty assessment is bound to be slightly noisy, we will probably not consistently identify one category as the most uncertain. This will also help avoid overfitting. \n",
    "\n",
    "**3) How to use multiple epochs with active learning?** One complication that comes up with active learning is how to adapt the idea of training over multiple epochs of the data. The example aboce runs through about 8 epochs of the training set subset. If it only does 1 epoch, performance is much worse. In order to mimic going though multiple epochs, we will introduce experience replay in conjunction with active learning. For expereince replay, we will choose 10 already seen training points in proportion to the uncertainty of each category.  "
   ]
  },
  {
   "cell_type": "markdown",
   "metadata": {},
   "source": [
    "#### Helper functions for active learning\n",
    "\n",
    "Variables to keep track of: \n",
    "- ind_used: nested list of used training samples\n",
    "- ind_remaining: nested list of remaining training samples\n"
   ]
  },
  {
   "cell_type": "code",
   "execution_count": 341,
   "metadata": {},
   "outputs": [],
   "source": [
    "def get_training_subset_init(X_train, y_train, n_samples):\n",
    "    # make n_samples a multiple of 10 for ease of balancing the dataset\n",
    "    n_cat = 10\n",
    "    n_cat_samples = int(n_samples/10)\n",
    "    n_train = np.shape(X_train)[0]\n",
    "    ind_array = np.arange(n_train)\n",
    "    \n",
    "    # make cat list\n",
    "    ind_remaining = list()\n",
    "    for i in range(10):\n",
    "        ind_remaining.append(ind_array[y_train == i])\n",
    "    \n",
    "    ind_used = [[]]*n_cat\n",
    "    ind_subset = list()\n",
    "    for cat in range(n_cat):\n",
    "        cat_ind = np.random.choice(ind_remaining[cat], size=n_cat_samples, replace=False).astype(int)\n",
    "        ind_remaining[cat] = np.delete(ind_remaining[cat], np.argwhere(np.in1d(ind_remaining[cat], cat_ind)))\n",
    "        ind_used[cat] = np.append(ind_used[cat], cat_ind)\n",
    "        ind_subset = np.append(ind_subset, cat_ind)\n",
    "    ind_subset = ind_subset.astype(int)\n",
    "    np.random.shuffle(ind_subset)\n",
    "    X_train_subset = X_train[ind_subset]\n",
    "    y_train_subset = y_train[ind_subset]\n",
    "    return X_train_subset, y_train_subset, ind_used, ind_remaining\n",
    "\n",
    "def get_cat_subset(X_train, y_train, ind_used, ind_remaining, n_samples, cat):\n",
    "    # get appropraite number of samples from given category\n",
    "    cat_ind = np.random.choice(ind_remaining[cat], size=n_samples, replace=False).astype(int)\n",
    "    ind_used[cat] = np.append(ind_used[cat], cat_ind)\n",
    "    ind_remaining[cat] = np.delete(ind_remaining[cat], np.argwhere(np.in1d(ind_remaining[cat], cat_ind)))\n",
    "    X_train_subset = X_train[cat_ind]\n",
    "    y_train_subset = y_train[cat_ind]\n",
    "    return X_train_subset, y_train_subset, ind_used, ind_remaining\n",
    "\n",
    "def get_used_subset(X_train, y_train, ind_used, n_samples):\n",
    "    n_cat = 10\n",
    "    n_cat_samples = int(n_samples/n_cat)\n",
    "    cat_ind_list = list()\n",
    "    for cat in range(n_cat):\n",
    "        cat_ind = np.random.choice(ind_used[cat], size=n_cat_samples, replace=False)\n",
    "        cat_ind_list = np.append(cat_ind_list, cat_ind)\n",
    "    cat_ind_list = cat_ind_list.astype(int)\n",
    "    X_used_subset = X_train[cat_ind_list]\n",
    "    y_used_subset = y_train[cat_ind_list]\n",
    "    return X_used_subset, y_used_subset\n",
    "\n",
    "def get_max_uncertainty(X_train, y_train, ind_used, n_samples):\n",
    "    X_used_subset, y_used_subset = get_used_subset(X_train, y_train, ind_used, n_samples)\n",
    "    (n_test,n_input) = X_test.shape\n",
    "    X_used_shared = theano.shared(X_used_subset)\n",
    "    y_used_shared = theano.shared(y_used_subset)\n",
    "    n_input = 28*28\n",
    "    n_output = 10\n",
    "    NN_model_test = construct_nn_active_learning(X_used_shared, y_used_shared, n_input, n_output, n_hidden=128)\n",
    "    n_samples = 100\n",
    "    with NN_model_test:\n",
    "        ppc_test = pm.sample_ppc(trace, samples=n_samples)\n",
    "    one_hot, cat_hist, cat_entropy, cat_KL = get_cat_entropy(X_used_subset, y_used_subset, ppc_test)\n",
    "    return cat_KL, np.argmin(cat_KL)\n",
    "\n",
    "def get_replay_subset(X_train, y_train, ind_used, cat_KL, n_samples, replay_ind_list):\n",
    "    cat_KL_scaled = ((cat_KL - np.min(cat_KL))/(np.max(cat_KL) - np.min(cat_KL)))\n",
    "    p_vals = (1 - cat_KL_scaled)/np.sum(cat_KL_scaled)\n",
    "    p_vals /= np.sum(p_vals)\n",
    "    n_cat_samples = np.round((p_vals*n_samples)).astype(int)\n",
    "    cat_ind_list = list()\n",
    "    for cat, n_cat_samp in enumerate(n_cat_samples):\n",
    "        if n_cat_samp < len(ind_used[cat]):\n",
    "            cat_ind = np.random.choice(ind_used[cat], size=n_cat_samp, replace=False)\n",
    "        elif n_cat_samp > len(ind_used[cat]):\n",
    "            cat_ind = ind_used[cat]\n",
    "            n_ind_left = n_cat_samp - len(ind_used[cat])\n",
    "            ind_used_list = [item for cat_used in ind_used for item in cat_used]\n",
    "            extra_ind = np.random.choice(ind_used_list, size=n_ind_left, replace=False)\n",
    "            cat_ind = np.append(cat_ind, extra_ind[0])\n",
    "        elif n_cat_samp == len(ind_used[cat]):\n",
    "            cat_ind = ind_used[cat]\n",
    "        cat_ind_list = np.append(cat_ind_list, cat_ind)\n",
    "    cat_ind_list = cat_ind_list.astype(int)\n",
    "    X_replay_subset = X_train[cat_ind_list]\n",
    "    y_replay_subset = y_train[cat_ind_list]\n",
    "    replay_ind_list = np.append(replay_ind_list, cat_ind_list)\n",
    "    return X_replay_subset, y_replay_subset, replay_ind_list\n",
    "\n",
    "def get_replay_subset_balanced(X_train, y_train, ind_used, n_samples, replay_ind_list):\n",
    "    n_cat = 10\n",
    "    n_cat_samp = int(n_samples/n_cat)\n",
    "    cat_ind_list = list()\n",
    "    for cat in range(n_cat):\n",
    "        if n_cat_samp < len(ind_used[cat]):\n",
    "            cat_ind = np.random.choice(ind_used[cat], size=n_cat_samp, replace=False)\n",
    "        elif n_cat_samp >= len(ind_used[cat]):\n",
    "            cat_ind = ind_used[cat]\n",
    "        cat_ind_list = np.append(cat_ind_list, cat_ind)\n",
    "    cat_ind_list = cat_ind_list.astype(int)\n",
    "    X_replay_subset = X_train[cat_ind_list]\n",
    "    y_replay_subset = y_train[cat_ind_list]\n",
    "    replay_ind_list = np.append(replay_ind_list, cat_ind_list)\n",
    "    return X_replay_subset, y_replay_subset, replay_ind_list"
   ]
  },
  {
   "cell_type": "markdown",
   "metadata": {},
   "source": [
    "#### Neural network for active learning\n",
    "\n",
    "This network is identical to the BNN used above, expect that we are no longer using minibatches"
   ]
  },
  {
   "cell_type": "code",
   "execution_count": 202,
   "metadata": {},
   "outputs": [],
   "source": [
    "# %load bbb_nn.py\n",
    "def construct_nn_active_learning(ann_input, ann_output, n_input, n_output, n_hidden=128):\n",
    "    \n",
    "    # Initialize random weights between each layer\n",
    "    init_w_1 = np.random.randn(n_input, n_hidden).astype(theano.config.floatX)\n",
    "    init_out = np.random.randn(n_hidden,n_output).astype(theano.config.floatX)\n",
    "    \n",
    "    with pm.Model() as neural_network:\n",
    "        # Weights from input to hidden layer\n",
    "        w_0_1 = pm.Normal('w_0_1', 0, sd=1, shape=(n_input, n_hidden), testval=init_w_1)\n",
    "     \n",
    "        # Weights from hidden layer to output\n",
    "        w_1_out = pm.Normal('w_2_out', 0, sd=1,shape=(n_hidden,n_output),testval=init_out)\n",
    "\n",
    "        # Build neural-network using tanh activation function\n",
    "        act_1 = pm.Deterministic('act_1',var=pm.math.tanh(pm.math.dot(ann_input,w_0_1)))#+b_1))\n",
    "        \n",
    "        # Softmax is required at last layer\n",
    "        act_out = pm.Deterministic('act_out',var=tt.nnet.softmax(pm.math.dot(act_1,w_1_out)))\n",
    "    \n",
    "        # Classification\n",
    "        out = pm.Categorical('out',act_out,observed=ann_output)\n",
    "        \n",
    "    return neural_network"
   ]
  },
  {
   "cell_type": "markdown",
   "metadata": {},
   "source": [
    "#### Active learning functions"
   ]
  },
  {
   "cell_type": "code",
   "execution_count": 264,
   "metadata": {},
   "outputs": [],
   "source": [
    "def initialize_network(X_train, y_train, n_samples, n_epochs, n_hidden):\n",
    "    X_train_init, y_train_init, ind_used, ind_remaining = get_training_subset_init(X_train, y_train, n_samples)\n",
    "    shared_x = theano.shared(X_train_init)\n",
    "    shared_y = theano.shared(y_train_init)\n",
    "\n",
    "    # make neural network\n",
    "    (n_train,n_input) = X_train_init.shape\n",
    "    n_output = 10\n",
    "    NN_model = construct_nn_active_learning(shared_x, shared_y, n_input, n_output, n_hidden=n_hidden)\n",
    "\n",
    "    # train network on initial subset of data\n",
    "    n_approx_iter = n_samples*n_epochs\n",
    "    with NN_model:\n",
    "        advi = pm.ADVI()\n",
    "        approx = advi.fit(n=n_approx_iter)\n",
    "        \n",
    "    return NN_model, advi, approx, ind_used, ind_remaining\n",
    "\n",
    "def run_active_learning(NN_model_active, advi_active, ind_used, ind_remaining, n_active_learning_iterations, n_test_uncertainty,\n",
    "                        n_cat_data_points, n_replay_data_points):\n",
    "    i = 1\n",
    "    replay_ind_list = ()\n",
    "    while i < n_active_learning_iterations: #samples_remaining:\n",
    "        print(i)\n",
    "        # evaluate current uncertainty and find category with max uncertainty\n",
    "        cat_KL, cat = get_max_uncertainty(X_train, y_train, ind_used, n_test_uncertainty)\n",
    "        # get n_cat_data_points new training data from that category\n",
    "        X_train_cat, y_train_cat, ind_used, ind_remaining = \\\n",
    "                get_cat_subset(X_train, y_train, ind_used, ind_remaining, n_cat_data_points, cat)\n",
    "        # get replay training data proportional to current uncertainty\n",
    "        X_train_replay, y_train_replay, replay_ind_list = \\\n",
    "            get_replay_subset(X_train, y_train, ind_used, cat_KL, n_replay_data_points, replay_ind_list)\n",
    "        # concatenate training data for this active learning iteration\n",
    "        X_train_subset = np.vstack((X_train_cat, X_train_replay))\n",
    "        y_train_subset = np.append(y_train_cat, y_train_replay)\n",
    "        # continue training network on this data\n",
    "        shared_x.set_value(X_train_subset)\n",
    "        shared_y.set_value(y_train_subset)\n",
    "        n_iterations = len(y_train_subset)\n",
    "        with NN_model_active:\n",
    "            approx_active = advi_active.fit(n=n_iterations)\n",
    "        i += 1\n",
    "    return advi_active, approx_active, ind_used, replay_ind_list\n",
    "                        \n",
    "def run_active_learning_control(NN_model_control, advi_control, ind_used, ind_remaining, n_active_learning_iterations,\n",
    "                                n_cat_data_points, n_replay_data_points):\n",
    "    i = 1\n",
    "    replay_ind_list = list()\n",
    "    while i < n_active_learning_iterations: #samples_remaining:\n",
    "        print(i)\n",
    "        # choose random category to feed data\n",
    "        cat = np.random.choice(n_output)\n",
    "        # get n_cat_data_points new training data from that category\n",
    "        X_train_cat, y_train_cat, ind_used, ind_remaining = \\\n",
    "                get_cat_subset(X_train, y_train, ind_used, ind_remaining, n_cat_data_points, cat)\n",
    "        # get balanced replay training data\n",
    "        X_train_replay, y_train_replay, replay_ind_list = \\\n",
    "            get_replay_subset_balanced(X_train, y_train, ind_used, n_replay_data_points, replay_ind_list)\n",
    "        # concatenate training data for this active learning iteration\n",
    "        X_train_subset = np.vstack((X_train_cat, X_train_replay))\n",
    "        y_train_subset = np.append(y_train_cat, y_train_replay)\n",
    "        # continue training network on this data\n",
    "        shared_x.set_value(X_train_subset)\n",
    "        shared_y.set_value(y_train_subset)\n",
    "        n_iterations = len(y_train_subset)\n",
    "        with NN_model_control:\n",
    "            approx_control = advi_control.fit(n=n_iterations)\n",
    "        i += 1\n",
    "    return advi_control, approx_control, ind_used, replay_ind_list"
   ]
  },
  {
   "cell_type": "markdown",
   "metadata": {},
   "source": [
    "#### Run active learning and active learning control"
   ]
  },
  {
   "cell_type": "code",
   "execution_count": 342,
   "metadata": {},
   "outputs": [
    {
     "name": "stdout",
     "output_type": "stream",
     "text": [
      "RUNNING ACTIVE LEARNING\n"
     ]
    },
    {
     "name": "stderr",
     "output_type": "stream",
     "text": [
      "Average Loss = 60,193: 100%|██████████| 200/200 [00:02<00:00, 69.73it/s]\n",
      "Finished [100%]: Average Loss = 60,087\n"
     ]
    },
    {
     "name": "stdout",
     "output_type": "stream",
     "text": [
      "1\n"
     ]
    },
    {
     "name": "stderr",
     "output_type": "stream",
     "text": [
      "100%|██████████| 100/100 [00:01<00:00, 82.14it/s]\n",
      "Average Loss = 57,071: 100%|██████████| 53/53 [00:00<00:00, 72.95it/s]\n",
      "Finished [100%]: Average Loss = 57,052\n"
     ]
    },
    {
     "name": "stdout",
     "output_type": "stream",
     "text": [
      "2\n"
     ]
    },
    {
     "name": "stderr",
     "output_type": "stream",
     "text": [
      "100%|██████████| 100/100 [00:01<00:00, 81.18it/s]\n",
      "Average Loss = 55,867: 100%|██████████| 52/52 [00:00<00:00, 69.29it/s]\n",
      "Finished [100%]: Average Loss = 55,858\n"
     ]
    },
    {
     "name": "stdout",
     "output_type": "stream",
     "text": [
      "3\n"
     ]
    },
    {
     "name": "stderr",
     "output_type": "stream",
     "text": [
      "100%|██████████| 100/100 [00:01<00:00, 81.62it/s]\n",
      "Average Loss = 54,585: 100%|██████████| 52/52 [00:00<00:00, 71.63it/s]\n",
      "Finished [100%]: Average Loss = 54,573\n"
     ]
    },
    {
     "name": "stdout",
     "output_type": "stream",
     "text": [
      "4\n"
     ]
    },
    {
     "name": "stderr",
     "output_type": "stream",
     "text": [
      "100%|██████████| 100/100 [00:01<00:00, 80.58it/s]\n",
      "Average Loss = 53,408: 100%|██████████| 53/53 [00:00<00:00, 71.42it/s]\n",
      "Finished [100%]: Average Loss = 53,401\n"
     ]
    },
    {
     "name": "stdout",
     "output_type": "stream",
     "text": [
      "5\n"
     ]
    },
    {
     "name": "stderr",
     "output_type": "stream",
     "text": [
      "100%|██████████| 100/100 [00:01<00:00, 80.93it/s]\n",
      "Average Loss = 52,182: 100%|██████████| 53/53 [00:00<00:00, 75.86it/s]\n",
      "Finished [100%]: Average Loss = 52,162\n"
     ]
    },
    {
     "name": "stdout",
     "output_type": "stream",
     "text": [
      "6\n"
     ]
    },
    {
     "name": "stderr",
     "output_type": "stream",
     "text": [
      "100%|██████████| 100/100 [00:01<00:00, 69.55it/s]\n",
      "Average Loss = 51,077: 100%|██████████| 54/54 [00:00<00:00, 69.76it/s]\n",
      "Finished [100%]: Average Loss = 51,037\n"
     ]
    },
    {
     "name": "stdout",
     "output_type": "stream",
     "text": [
      "7\n"
     ]
    },
    {
     "name": "stderr",
     "output_type": "stream",
     "text": [
      "100%|██████████| 100/100 [00:01<00:00, 82.92it/s]\n",
      "Average Loss = 49,871: 100%|██████████| 53/53 [00:01<00:00, 42.23it/s]\n",
      "Finished [100%]: Average Loss = 49,847\n"
     ]
    },
    {
     "name": "stdout",
     "output_type": "stream",
     "text": [
      "8\n"
     ]
    },
    {
     "name": "stderr",
     "output_type": "stream",
     "text": [
      "100%|██████████| 100/100 [00:01<00:00, 62.24it/s]\n",
      "Average Loss = 48,647: 100%|██████████| 54/54 [00:00<00:00, 58.94it/s]\n",
      "Finished [100%]: Average Loss = 48,622\n"
     ]
    },
    {
     "name": "stdout",
     "output_type": "stream",
     "text": [
      "9\n"
     ]
    },
    {
     "name": "stderr",
     "output_type": "stream",
     "text": [
      "100%|██████████| 100/100 [00:01<00:00, 81.45it/s]\n",
      "Average Loss = 47,626: 100%|██████████| 53/53 [00:00<00:00, 70.50it/s]\n",
      "Finished [100%]: Average Loss = 47,601\n"
     ]
    },
    {
     "name": "stdout",
     "output_type": "stream",
     "text": [
      "10\n"
     ]
    },
    {
     "name": "stderr",
     "output_type": "stream",
     "text": [
      "100%|██████████| 100/100 [00:01<00:00, 77.84it/s]\n",
      "Average Loss = 46,534: 100%|██████████| 54/54 [00:00<00:00, 64.65it/s]\n",
      "Finished [100%]: Average Loss = 46,504\n"
     ]
    },
    {
     "name": "stdout",
     "output_type": "stream",
     "text": [
      "11\n"
     ]
    },
    {
     "name": "stderr",
     "output_type": "stream",
     "text": [
      "100%|██████████| 100/100 [00:01<00:00, 74.65it/s]\n",
      "Average Loss = 45,444: 100%|██████████| 54/54 [00:00<00:00, 68.31it/s]\n",
      "Finished [100%]: Average Loss = 45,432\n"
     ]
    },
    {
     "name": "stdout",
     "output_type": "stream",
     "text": [
      "12\n"
     ]
    },
    {
     "name": "stderr",
     "output_type": "stream",
     "text": [
      "100%|██████████| 100/100 [00:01<00:00, 81.15it/s]\n",
      "Average Loss = 44,389: 100%|██████████| 53/53 [00:00<00:00, 74.48it/s]\n",
      "Finished [100%]: Average Loss = 44,363\n"
     ]
    },
    {
     "name": "stdout",
     "output_type": "stream",
     "text": [
      "13\n"
     ]
    },
    {
     "name": "stderr",
     "output_type": "stream",
     "text": [
      "100%|██████████| 100/100 [00:01<00:00, 68.40it/s]\n",
      "Average Loss = 43,368: 100%|██████████| 52/52 [00:00<00:00, 70.93it/s]\n",
      "Finished [100%]: Average Loss = 43,363\n"
     ]
    },
    {
     "name": "stdout",
     "output_type": "stream",
     "text": [
      "14\n"
     ]
    },
    {
     "name": "stderr",
     "output_type": "stream",
     "text": [
      "100%|██████████| 100/100 [00:01<00:00, 74.02it/s]\n",
      "Average Loss = 42,389: 100%|██████████| 54/54 [00:00<00:00, 67.39it/s]\n",
      "Finished [100%]: Average Loss = 42,357\n"
     ]
    },
    {
     "name": "stdout",
     "output_type": "stream",
     "text": [
      "15\n"
     ]
    },
    {
     "name": "stderr",
     "output_type": "stream",
     "text": [
      "100%|██████████| 100/100 [00:01<00:00, 82.35it/s]\n",
      "Average Loss = 41,444: 100%|██████████| 54/54 [00:00<00:00, 55.25it/s]\n",
      "Finished [100%]: Average Loss = 41,407\n"
     ]
    },
    {
     "name": "stdout",
     "output_type": "stream",
     "text": [
      "16\n"
     ]
    },
    {
     "name": "stderr",
     "output_type": "stream",
     "text": [
      "100%|██████████| 100/100 [00:01<00:00, 62.21it/s]\n",
      "Average Loss = 40,389: 100%|██████████| 54/54 [00:00<00:00, 67.94it/s]\n",
      "Finished [100%]: Average Loss = 40,364\n"
     ]
    },
    {
     "name": "stdout",
     "output_type": "stream",
     "text": [
      "17\n"
     ]
    },
    {
     "name": "stderr",
     "output_type": "stream",
     "text": [
      "100%|██████████| 100/100 [00:01<00:00, 64.25it/s]\n",
      "Average Loss = 39,495: 100%|██████████| 52/52 [00:00<00:00, 70.13it/s]\n",
      "Finished [100%]: Average Loss = 39,483\n"
     ]
    },
    {
     "name": "stdout",
     "output_type": "stream",
     "text": [
      "18\n"
     ]
    },
    {
     "name": "stderr",
     "output_type": "stream",
     "text": [
      "100%|██████████| 100/100 [00:01<00:00, 70.27it/s]\n",
      "Average Loss = 38,529: 100%|██████████| 52/52 [00:00<00:00, 62.24it/s]\n",
      "Finished [100%]: Average Loss = 38,527\n"
     ]
    },
    {
     "name": "stdout",
     "output_type": "stream",
     "text": [
      "19\n"
     ]
    },
    {
     "name": "stderr",
     "output_type": "stream",
     "text": [
      "100%|██████████| 100/100 [00:01<00:00, 62.43it/s]\n",
      "Average Loss = 37,577: 100%|██████████| 52/52 [00:00<00:00, 71.67it/s]\n",
      "Finished [100%]: Average Loss = 37,568\n"
     ]
    },
    {
     "name": "stdout",
     "output_type": "stream",
     "text": [
      "20\n"
     ]
    },
    {
     "name": "stderr",
     "output_type": "stream",
     "text": [
      "100%|██████████| 100/100 [00:01<00:00, 69.48it/s]\n",
      "Average Loss = 36,843: 100%|██████████| 57/57 [00:00<00:00, 67.80it/s]\n",
      "Finished [100%]: Average Loss = 36,792\n"
     ]
    },
    {
     "name": "stdout",
     "output_type": "stream",
     "text": [
      "21\n"
     ]
    },
    {
     "name": "stderr",
     "output_type": "stream",
     "text": [
      "100%|██████████| 100/100 [00:01<00:00, 77.67it/s]\n",
      "Average Loss = 35,950: 100%|██████████| 50/50 [00:00<00:00, 68.58it/s]\n",
      "Finished [100%]: Average Loss = 35,885\n"
     ]
    },
    {
     "name": "stdout",
     "output_type": "stream",
     "text": [
      "22\n"
     ]
    },
    {
     "name": "stderr",
     "output_type": "stream",
     "text": [
      "100%|██████████| 100/100 [00:01<00:00, 77.20it/s]\n",
      "Average Loss = 35,113: 100%|██████████| 51/51 [00:00<00:00, 70.53it/s]\n",
      "Finished [100%]: Average Loss = 35,113\n"
     ]
    },
    {
     "name": "stdout",
     "output_type": "stream",
     "text": [
      "23\n"
     ]
    },
    {
     "name": "stderr",
     "output_type": "stream",
     "text": [
      "100%|██████████| 100/100 [00:01<00:00, 65.40it/s]\n",
      "Average Loss = 34,264: 100%|██████████| 54/54 [00:00<00:00, 72.93it/s]\n",
      "Finished [100%]: Average Loss = 34,248\n"
     ]
    },
    {
     "name": "stdout",
     "output_type": "stream",
     "text": [
      "24\n"
     ]
    },
    {
     "name": "stderr",
     "output_type": "stream",
     "text": [
      "100%|██████████| 100/100 [00:01<00:00, 78.44it/s]\n",
      "Average Loss = 33,424: 100%|██████████| 52/52 [00:00<00:00, 65.98it/s]\n",
      "Finished [100%]: Average Loss = 33,416\n"
     ]
    },
    {
     "name": "stdout",
     "output_type": "stream",
     "text": [
      "25\n"
     ]
    },
    {
     "name": "stderr",
     "output_type": "stream",
     "text": [
      "100%|██████████| 100/100 [00:01<00:00, 74.11it/s]\n",
      "Average Loss = 32,634: 100%|██████████| 51/51 [00:00<00:00, 70.83it/s]\n",
      "Finished [100%]: Average Loss = 32,634\n"
     ]
    },
    {
     "name": "stdout",
     "output_type": "stream",
     "text": [
      "26\n"
     ]
    },
    {
     "name": "stderr",
     "output_type": "stream",
     "text": [
      "100%|██████████| 100/100 [00:01<00:00, 68.23it/s]\n",
      "Average Loss = 31,974: 100%|██████████| 53/53 [00:00<00:00, 57.94it/s]\n",
      "Finished [100%]: Average Loss = 31,973\n"
     ]
    },
    {
     "name": "stdout",
     "output_type": "stream",
     "text": [
      "27\n"
     ]
    },
    {
     "name": "stderr",
     "output_type": "stream",
     "text": [
      "100%|██████████| 100/100 [00:01<00:00, 81.97it/s]\n",
      "Average Loss = 31,232: 100%|██████████| 55/55 [00:00<00:00, 75.50it/s]\n",
      "Finished [100%]: Average Loss = 31,207\n"
     ]
    },
    {
     "name": "stdout",
     "output_type": "stream",
     "text": [
      "28\n"
     ]
    },
    {
     "name": "stderr",
     "output_type": "stream",
     "text": [
      "100%|██████████| 100/100 [00:01<00:00, 56.87it/s]\n",
      "Average Loss = 30,381: 100%|██████████| 51/51 [00:00<00:00, 54.42it/s]\n",
      "Finished [100%]: Average Loss = 30,381\n"
     ]
    },
    {
     "name": "stdout",
     "output_type": "stream",
     "text": [
      "29\n"
     ]
    },
    {
     "name": "stderr",
     "output_type": "stream",
     "text": [
      "100%|██████████| 100/100 [00:01<00:00, 60.40it/s]\n",
      "Average Loss = 29,703: 100%|██████████| 53/53 [00:00<00:00, 64.07it/s]\n",
      "Finished [100%]: Average Loss = 29,692\n"
     ]
    },
    {
     "name": "stdout",
     "output_type": "stream",
     "text": [
      "30\n"
     ]
    },
    {
     "name": "stderr",
     "output_type": "stream",
     "text": [
      "100%|██████████| 100/100 [00:01<00:00, 74.97it/s]\n",
      "Average Loss = 28,996: 100%|██████████| 52/52 [00:01<00:00, 51.69it/s]\n",
      "Finished [100%]: Average Loss = 28,996\n"
     ]
    },
    {
     "name": "stdout",
     "output_type": "stream",
     "text": [
      "31\n"
     ]
    },
    {
     "name": "stderr",
     "output_type": "stream",
     "text": [
      "100%|██████████| 100/100 [00:01<00:00, 72.40it/s]\n",
      "Average Loss = 28,344: 100%|██████████| 55/55 [00:00<00:00, 58.58it/s]\n",
      "Finished [100%]: Average Loss = 28,310\n"
     ]
    },
    {
     "name": "stdout",
     "output_type": "stream",
     "text": [
      "32\n"
     ]
    },
    {
     "name": "stderr",
     "output_type": "stream",
     "text": [
      "100%|██████████| 100/100 [00:01<00:00, 69.66it/s]\n",
      "Average Loss = 27,589: 100%|██████████| 55/55 [00:00<00:00, 71.96it/s]\n",
      "Finished [100%]: Average Loss = 27,559\n"
     ]
    },
    {
     "name": "stdout",
     "output_type": "stream",
     "text": [
      "33\n"
     ]
    },
    {
     "name": "stderr",
     "output_type": "stream",
     "text": [
      "100%|██████████| 100/100 [00:01<00:00, 63.46it/s]\n",
      "Average Loss = 26,906: 100%|██████████| 54/54 [00:00<00:00, 66.87it/s]\n",
      "Finished [100%]: Average Loss = 26,902\n"
     ]
    },
    {
     "name": "stdout",
     "output_type": "stream",
     "text": [
      "34\n"
     ]
    },
    {
     "name": "stderr",
     "output_type": "stream",
     "text": [
      "100%|██████████| 100/100 [00:01<00:00, 77.83it/s]\n",
      "Average Loss = 26,292: 100%|██████████| 54/54 [00:00<00:00, 54.65it/s]\n",
      "Finished [100%]: Average Loss = 26,276\n"
     ]
    },
    {
     "name": "stdout",
     "output_type": "stream",
     "text": [
      "35\n"
     ]
    },
    {
     "name": "stderr",
     "output_type": "stream",
     "text": [
      "100%|██████████| 100/100 [00:01<00:00, 74.19it/s]\n",
      "Average Loss = 25,635: 100%|██████████| 54/54 [00:00<00:00, 69.75it/s]\n",
      "Finished [100%]: Average Loss = 25,623\n"
     ]
    },
    {
     "name": "stdout",
     "output_type": "stream",
     "text": [
      "36\n"
     ]
    },
    {
     "name": "stderr",
     "output_type": "stream",
     "text": [
      "100%|██████████| 100/100 [00:01<00:00, 72.49it/s]\n",
      "Average Loss = 25,057: 100%|██████████| 52/52 [00:00<00:00, 72.10it/s]\n",
      "Finished [100%]: Average Loss = 25,059\n"
     ]
    },
    {
     "name": "stdout",
     "output_type": "stream",
     "text": [
      "37\n"
     ]
    },
    {
     "name": "stderr",
     "output_type": "stream",
     "text": [
      "100%|██████████| 100/100 [00:01<00:00, 81.63it/s]\n",
      "Average Loss = 24,475: 100%|██████████| 53/53 [00:00<00:00, 74.18it/s]\n",
      "Finished [100%]: Average Loss = 24,462\n"
     ]
    },
    {
     "name": "stdout",
     "output_type": "stream",
     "text": [
      "38\n"
     ]
    },
    {
     "name": "stderr",
     "output_type": "stream",
     "text": [
      "100%|██████████| 100/100 [00:01<00:00, 77.01it/s]\n",
      "Average Loss = 23,870: 100%|██████████| 53/53 [00:00<00:00, 71.12it/s]\n",
      "Finished [100%]: Average Loss = 23,853\n"
     ]
    },
    {
     "name": "stdout",
     "output_type": "stream",
     "text": [
      "39\n"
     ]
    },
    {
     "name": "stderr",
     "output_type": "stream",
     "text": [
      "100%|██████████| 100/100 [00:01<00:00, 80.70it/s]\n",
      "Average Loss = 23,286: 100%|██████████| 55/55 [00:00<00:00, 68.66it/s]\n",
      "Finished [100%]: Average Loss = 23,255\n"
     ]
    },
    {
     "name": "stdout",
     "output_type": "stream",
     "text": [
      "40\n"
     ]
    },
    {
     "name": "stderr",
     "output_type": "stream",
     "text": [
      "100%|██████████| 100/100 [00:01<00:00, 75.87it/s]\n",
      "Average Loss = 22,709: 100%|██████████| 51/51 [00:00<00:00, 65.76it/s]\n",
      "Finished [100%]: Average Loss = 22,709\n"
     ]
    },
    {
     "name": "stdout",
     "output_type": "stream",
     "text": [
      "41\n"
     ]
    },
    {
     "name": "stderr",
     "output_type": "stream",
     "text": [
      "100%|██████████| 100/100 [00:01<00:00, 80.38it/s]\n",
      "Average Loss = 22,186: 100%|██████████| 55/55 [00:00<00:00, 71.43it/s]\n",
      "Finished [100%]: Average Loss = 22,172\n"
     ]
    },
    {
     "name": "stdout",
     "output_type": "stream",
     "text": [
      "42\n"
     ]
    },
    {
     "name": "stderr",
     "output_type": "stream",
     "text": [
      "100%|██████████| 100/100 [00:01<00:00, 80.86it/s]\n",
      "Average Loss = 21,636: 100%|██████████| 53/53 [00:01<00:00, 46.16it/s]\n",
      "Finished [100%]: Average Loss = 21,620\n"
     ]
    },
    {
     "name": "stdout",
     "output_type": "stream",
     "text": [
      "43\n"
     ]
    },
    {
     "name": "stderr",
     "output_type": "stream",
     "text": [
      "100%|██████████| 100/100 [00:01<00:00, 72.33it/s]\n",
      "Average Loss = 21,112: 100%|██████████| 55/55 [00:00<00:00, 72.86it/s]\n",
      "Finished [100%]: Average Loss = 21,093\n"
     ]
    },
    {
     "name": "stdout",
     "output_type": "stream",
     "text": [
      "44\n"
     ]
    },
    {
     "name": "stderr",
     "output_type": "stream",
     "text": [
      "100%|██████████| 100/100 [00:01<00:00, 63.00it/s]\n",
      "Average Loss = 20,600: 100%|██████████| 54/54 [00:00<00:00, 59.42it/s]\n",
      "Finished [100%]: Average Loss = 20,585\n"
     ]
    },
    {
     "name": "stdout",
     "output_type": "stream",
     "text": [
      "45\n"
     ]
    },
    {
     "name": "stderr",
     "output_type": "stream",
     "text": [
      "100%|██████████| 100/100 [00:01<00:00, 56.93it/s]\n",
      "Average Loss = 20,071: 100%|██████████| 53/53 [00:00<00:00, 54.26it/s]\n",
      "Finished [100%]: Average Loss = 20,066\n"
     ]
    },
    {
     "name": "stdout",
     "output_type": "stream",
     "text": [
      "46\n"
     ]
    },
    {
     "name": "stderr",
     "output_type": "stream",
     "text": [
      "100%|██████████| 100/100 [00:01<00:00, 67.10it/s]\n",
      "Average Loss = 19,642: 100%|██████████| 56/56 [00:00<00:00, 71.44it/s]\n",
      "Finished [100%]: Average Loss = 19,616\n"
     ]
    },
    {
     "name": "stdout",
     "output_type": "stream",
     "text": [
      "47\n"
     ]
    },
    {
     "name": "stderr",
     "output_type": "stream",
     "text": [
      "100%|██████████| 100/100 [00:01<00:00, 79.55it/s]\n",
      "Average Loss = 19,070: 100%|██████████| 55/55 [00:00<00:00, 71.21it/s]\n",
      "Finished [100%]: Average Loss = 19,067\n"
     ]
    },
    {
     "name": "stdout",
     "output_type": "stream",
     "text": [
      "48\n"
     ]
    },
    {
     "name": "stderr",
     "output_type": "stream",
     "text": [
      "100%|██████████| 100/100 [00:01<00:00, 83.35it/s]\n",
      "Average Loss = 18,633: 100%|██████████| 52/52 [00:00<00:00, 72.12it/s]\n",
      "Finished [100%]: Average Loss = 18,632\n"
     ]
    },
    {
     "name": "stdout",
     "output_type": "stream",
     "text": [
      "49\n"
     ]
    },
    {
     "name": "stderr",
     "output_type": "stream",
     "text": [
      "100%|██████████| 100/100 [00:01<00:00, 71.18it/s]\n",
      "Average Loss = 18,193: 100%|██████████| 55/55 [00:00<00:00, 76.08it/s]\n",
      "Finished [100%]: Average Loss = 18,177\n"
     ]
    },
    {
     "name": "stdout",
     "output_type": "stream",
     "text": [
      "50\n"
     ]
    },
    {
     "name": "stderr",
     "output_type": "stream",
     "text": [
      "100%|██████████| 100/100 [00:01<00:00, 83.66it/s]\n",
      "Average Loss = 17,702: 100%|██████████| 53/53 [00:00<00:00, 69.85it/s]\n",
      "Finished [100%]: Average Loss = 17,691\n"
     ]
    },
    {
     "name": "stdout",
     "output_type": "stream",
     "text": [
      "51\n"
     ]
    },
    {
     "name": "stderr",
     "output_type": "stream",
     "text": [
      "100%|██████████| 100/100 [00:01<00:00, 75.13it/s]\n",
      "Average Loss = 17,317: 100%|██████████| 54/54 [00:01<00:00, 47.98it/s]\n",
      "Finished [100%]: Average Loss = 17,311\n"
     ]
    },
    {
     "name": "stdout",
     "output_type": "stream",
     "text": [
      "52\n"
     ]
    },
    {
     "name": "stderr",
     "output_type": "stream",
     "text": [
      "100%|██████████| 100/100 [00:01<00:00, 64.56it/s]\n",
      "Average Loss = 16,852: 100%|██████████| 54/54 [00:00<00:00, 68.01it/s]\n",
      "Finished [100%]: Average Loss = 16,844\n"
     ]
    },
    {
     "name": "stdout",
     "output_type": "stream",
     "text": [
      "53\n"
     ]
    },
    {
     "name": "stderr",
     "output_type": "stream",
     "text": [
      "100%|██████████| 100/100 [00:01<00:00, 85.14it/s]\n",
      "Average Loss = 16,461: 100%|██████████| 53/53 [00:00<00:00, 74.66it/s]\n",
      "Finished [100%]: Average Loss = 16,449\n"
     ]
    },
    {
     "name": "stdout",
     "output_type": "stream",
     "text": [
      "54\n"
     ]
    },
    {
     "name": "stderr",
     "output_type": "stream",
     "text": [
      "100%|██████████| 100/100 [00:01<00:00, 81.13it/s]\n",
      "Average Loss = 16,049: 100%|██████████| 53/53 [00:00<00:00, 68.75it/s]\n",
      "Finished [100%]: Average Loss = 16,052\n"
     ]
    },
    {
     "name": "stdout",
     "output_type": "stream",
     "text": [
      "55\n"
     ]
    },
    {
     "name": "stderr",
     "output_type": "stream",
     "text": [
      "100%|██████████| 100/100 [00:01<00:00, 67.12it/s]\n",
      "Average Loss = 15,664: 100%|██████████| 56/56 [00:00<00:00, 73.96it/s]\n",
      "Finished [100%]: Average Loss = 15,660\n"
     ]
    },
    {
     "name": "stdout",
     "output_type": "stream",
     "text": [
      "56\n"
     ]
    },
    {
     "name": "stderr",
     "output_type": "stream",
     "text": [
      "100%|██████████| 100/100 [00:01<00:00, 81.17it/s]\n",
      "Average Loss = 15,260: 100%|██████████| 53/53 [00:00<00:00, 68.53it/s]\n",
      "Finished [100%]: Average Loss = 15,248\n"
     ]
    },
    {
     "name": "stdout",
     "output_type": "stream",
     "text": [
      "57\n"
     ]
    },
    {
     "name": "stderr",
     "output_type": "stream",
     "text": [
      "100%|██████████| 100/100 [00:01<00:00, 78.92it/s]\n",
      "Average Loss = 14,904: 100%|██████████| 54/54 [00:00<00:00, 70.37it/s]\n",
      "Finished [100%]: Average Loss = 14,886\n"
     ]
    },
    {
     "name": "stdout",
     "output_type": "stream",
     "text": [
      "58\n"
     ]
    },
    {
     "name": "stderr",
     "output_type": "stream",
     "text": [
      "100%|██████████| 100/100 [00:01<00:00, 79.74it/s]\n",
      "Average Loss = 14,578: 100%|██████████| 55/55 [00:00<00:00, 72.87it/s]\n",
      "Finished [100%]: Average Loss = 14,561\n"
     ]
    },
    {
     "name": "stdout",
     "output_type": "stream",
     "text": [
      "59\n"
     ]
    },
    {
     "name": "stderr",
     "output_type": "stream",
     "text": [
      "100%|██████████| 100/100 [00:01<00:00, 74.18it/s]\n",
      "Average Loss = 14,283: 100%|██████████| 49/49 [00:00<00:00, 66.42it/s]\n",
      "Finished [100%]: Average Loss = 14,228\n"
     ]
    },
    {
     "name": "stdout",
     "output_type": "stream",
     "text": [
      "60\n"
     ]
    },
    {
     "name": "stderr",
     "output_type": "stream",
     "text": [
      "100%|██████████| 100/100 [00:01<00:00, 67.63it/s]\n",
      "Average Loss = 13,878: 100%|██████████| 55/55 [00:00<00:00, 63.82it/s]\n",
      "Finished [100%]: Average Loss = 13,870\n"
     ]
    },
    {
     "name": "stdout",
     "output_type": "stream",
     "text": [
      "61\n"
     ]
    },
    {
     "name": "stderr",
     "output_type": "stream",
     "text": [
      "100%|██████████| 100/100 [00:01<00:00, 81.83it/s]\n",
      "Average Loss = 13,540: 100%|██████████| 54/54 [00:00<00:00, 74.03it/s]\n",
      "Finished [100%]: Average Loss = 13,528\n"
     ]
    },
    {
     "name": "stdout",
     "output_type": "stream",
     "text": [
      "62\n"
     ]
    },
    {
     "name": "stderr",
     "output_type": "stream",
     "text": [
      "100%|██████████| 100/100 [00:01<00:00, 74.12it/s]\n",
      "Average Loss = 13,191: 100%|██████████| 55/55 [00:00<00:00, 68.09it/s]\n",
      "Finished [100%]: Average Loss = 13,178\n"
     ]
    },
    {
     "name": "stdout",
     "output_type": "stream",
     "text": [
      "63\n"
     ]
    },
    {
     "name": "stderr",
     "output_type": "stream",
     "text": [
      "100%|██████████| 100/100 [00:01<00:00, 80.12it/s]\n",
      "Average Loss = 12,890: 100%|██████████| 54/54 [00:00<00:00, 70.92it/s]\n",
      "Finished [100%]: Average Loss = 12,876\n"
     ]
    },
    {
     "name": "stdout",
     "output_type": "stream",
     "text": [
      "64\n"
     ]
    },
    {
     "name": "stderr",
     "output_type": "stream",
     "text": [
      "100%|██████████| 100/100 [00:01<00:00, 79.94it/s]\n",
      "Average Loss = 12,600: 100%|██████████| 54/54 [00:00<00:00, 70.92it/s]\n",
      "Finished [100%]: Average Loss = 12,592\n"
     ]
    },
    {
     "name": "stdout",
     "output_type": "stream",
     "text": [
      "65\n"
     ]
    },
    {
     "name": "stderr",
     "output_type": "stream",
     "text": [
      "100%|██████████| 100/100 [00:01<00:00, 74.15it/s]\n",
      "Average Loss = 12,255: 100%|██████████| 52/52 [00:00<00:00, 73.10it/s]\n",
      "Finished [100%]: Average Loss = 12,249\n"
     ]
    },
    {
     "name": "stdout",
     "output_type": "stream",
     "text": [
      "66\n"
     ]
    },
    {
     "name": "stderr",
     "output_type": "stream",
     "text": [
      "100%|██████████| 100/100 [00:01<00:00, 74.68it/s]\n",
      "Average Loss = 11,921: 100%|██████████| 53/53 [00:00<00:00, 67.16it/s]\n",
      "Finished [100%]: Average Loss = 11,926\n"
     ]
    },
    {
     "name": "stdout",
     "output_type": "stream",
     "text": [
      "67\n"
     ]
    },
    {
     "name": "stderr",
     "output_type": "stream",
     "text": [
      "100%|██████████| 100/100 [00:01<00:00, 76.66it/s]\n",
      "Average Loss = 11,674: 100%|██████████| 53/53 [00:00<00:00, 71.69it/s]\n",
      "Finished [100%]: Average Loss = 11,671\n"
     ]
    },
    {
     "name": "stdout",
     "output_type": "stream",
     "text": [
      "68\n"
     ]
    },
    {
     "name": "stderr",
     "output_type": "stream",
     "text": [
      "100%|██████████| 100/100 [00:01<00:00, 73.02it/s]\n",
      "Average Loss = 11,389: 100%|██████████| 55/55 [00:00<00:00, 59.59it/s]\n",
      "Finished [100%]: Average Loss = 11,372\n"
     ]
    },
    {
     "name": "stdout",
     "output_type": "stream",
     "text": [
      "69\n"
     ]
    },
    {
     "name": "stderr",
     "output_type": "stream",
     "text": [
      "100%|██████████| 100/100 [00:01<00:00, 78.23it/s]\n",
      "Average Loss = 11,143: 100%|██████████| 53/53 [00:00<00:00, 66.54it/s]\n",
      "Finished [100%]: Average Loss = 11,146\n"
     ]
    },
    {
     "name": "stdout",
     "output_type": "stream",
     "text": [
      "70\n"
     ]
    },
    {
     "name": "stderr",
     "output_type": "stream",
     "text": [
      "100%|██████████| 100/100 [00:01<00:00, 57.76it/s]\n",
      "Average Loss = 10,860: 100%|██████████| 54/54 [00:00<00:00, 64.56it/s]\n",
      "Finished [100%]: Average Loss = 10,852\n"
     ]
    },
    {
     "name": "stdout",
     "output_type": "stream",
     "text": [
      "71\n"
     ]
    },
    {
     "name": "stderr",
     "output_type": "stream",
     "text": [
      "100%|██████████| 100/100 [00:01<00:00, 63.66it/s]\n",
      "Average Loss = 10,594: 100%|██████████| 51/51 [00:00<00:00, 58.39it/s]\n",
      "Finished [100%]: Average Loss = 10,594\n"
     ]
    },
    {
     "name": "stdout",
     "output_type": "stream",
     "text": [
      "72\n"
     ]
    },
    {
     "name": "stderr",
     "output_type": "stream",
     "text": [
      "100%|██████████| 100/100 [00:01<00:00, 61.51it/s]\n",
      "Average Loss = 10,402: 100%|██████████| 55/55 [00:00<00:00, 69.03it/s]\n",
      "Finished [100%]: Average Loss = 10,387\n"
     ]
    },
    {
     "name": "stdout",
     "output_type": "stream",
     "text": [
      "73\n"
     ]
    },
    {
     "name": "stderr",
     "output_type": "stream",
     "text": [
      "100%|██████████| 100/100 [00:01<00:00, 72.64it/s]\n",
      "Average Loss = 10,112: 100%|██████████| 54/54 [00:00<00:00, 64.47it/s]\n",
      "Finished [100%]: Average Loss = 10,109\n"
     ]
    },
    {
     "name": "stdout",
     "output_type": "stream",
     "text": [
      "74\n"
     ]
    },
    {
     "name": "stderr",
     "output_type": "stream",
     "text": [
      "100%|██████████| 100/100 [00:01<00:00, 77.24it/s]\n",
      "Average Loss = 9,867.2: 100%|██████████| 52/52 [00:00<00:00, 54.77it/s]\n",
      "Finished [100%]: Average Loss = 9,862\n"
     ]
    },
    {
     "name": "stdout",
     "output_type": "stream",
     "text": [
      "75\n"
     ]
    },
    {
     "name": "stderr",
     "output_type": "stream",
     "text": [
      "100%|██████████| 100/100 [00:01<00:00, 77.65it/s]\n",
      "Average Loss = 9,641.3: 100%|██████████| 53/53 [00:01<00:00, 50.48it/s]\n",
      "Finished [100%]: Average Loss = 9,638.5\n"
     ]
    },
    {
     "name": "stdout",
     "output_type": "stream",
     "text": [
      "76\n"
     ]
    },
    {
     "name": "stderr",
     "output_type": "stream",
     "text": [
      "100%|██████████| 100/100 [00:01<00:00, 68.33it/s]\n",
      "Average Loss = 9,416.2: 100%|██████████| 54/54 [00:00<00:00, 57.19it/s]\n",
      "Finished [100%]: Average Loss = 9,410.9\n"
     ]
    },
    {
     "name": "stdout",
     "output_type": "stream",
     "text": [
      "77\n"
     ]
    },
    {
     "name": "stderr",
     "output_type": "stream",
     "text": [
      "100%|██████████| 100/100 [00:01<00:00, 65.42it/s]\n",
      "Average Loss = 9,235.1: 100%|██████████| 52/52 [00:00<00:00, 64.68it/s]\n",
      "Finished [100%]: Average Loss = 9,231.7\n"
     ]
    },
    {
     "name": "stdout",
     "output_type": "stream",
     "text": [
      "78\n"
     ]
    },
    {
     "name": "stderr",
     "output_type": "stream",
     "text": [
      "100%|██████████| 100/100 [00:01<00:00, 54.14it/s]\n",
      "Average Loss = 8,987.7: 100%|██████████| 55/55 [00:01<00:00, 37.36it/s]\n",
      "Finished [100%]: Average Loss = 8,987.5\n"
     ]
    },
    {
     "name": "stdout",
     "output_type": "stream",
     "text": [
      "79\n"
     ]
    },
    {
     "name": "stderr",
     "output_type": "stream",
     "text": [
      "100%|██████████| 100/100 [00:01<00:00, 70.71it/s]\n",
      "Average Loss = 8,768: 100%|██████████| 55/55 [00:01<00:00, 53.37it/s]\n",
      "Finished [100%]: Average Loss = 8,769.7\n"
     ]
    },
    {
     "name": "stdout",
     "output_type": "stream",
     "text": [
      "80\n"
     ]
    },
    {
     "name": "stderr",
     "output_type": "stream",
     "text": [
      "100%|██████████| 100/100 [00:01<00:00, 62.98it/s]\n",
      "Average Loss = 8,586.7: 100%|██████████| 55/55 [00:00<00:00, 70.33it/s]\n",
      "Finished [100%]: Average Loss = 8,577.2\n"
     ]
    },
    {
     "name": "stdout",
     "output_type": "stream",
     "text": [
      "81\n"
     ]
    },
    {
     "name": "stderr",
     "output_type": "stream",
     "text": [
      "100%|██████████| 100/100 [00:01<00:00, 70.03it/s]\n",
      "Average Loss = 8,380.9: 100%|██████████| 53/53 [00:00<00:00, 73.62it/s]\n",
      "Finished [100%]: Average Loss = 8,384.3\n"
     ]
    },
    {
     "name": "stdout",
     "output_type": "stream",
     "text": [
      "82\n"
     ]
    },
    {
     "name": "stderr",
     "output_type": "stream",
     "text": [
      "100%|██████████| 100/100 [00:01<00:00, 81.04it/s]\n",
      "Average Loss = 8,211.2: 100%|██████████| 49/49 [00:00<00:00, 51.82it/s]\n",
      "Finished [100%]: Average Loss = 8,209.1\n"
     ]
    },
    {
     "name": "stdout",
     "output_type": "stream",
     "text": [
      "83\n"
     ]
    },
    {
     "name": "stderr",
     "output_type": "stream",
     "text": [
      "100%|██████████| 100/100 [00:01<00:00, 62.63it/s]\n",
      "Average Loss = 8,010.7: 100%|██████████| 56/56 [00:00<00:00, 69.66it/s]\n",
      "Finished [100%]: Average Loss = 7,997.5\n"
     ]
    },
    {
     "name": "stdout",
     "output_type": "stream",
     "text": [
      "84\n"
     ]
    },
    {
     "name": "stderr",
     "output_type": "stream",
     "text": [
      "100%|██████████| 100/100 [00:01<00:00, 75.02it/s]\n",
      "Average Loss = 7,782.5: 100%|██████████| 54/54 [00:00<00:00, 60.94it/s]\n",
      "Finished [100%]: Average Loss = 7,780.7\n"
     ]
    },
    {
     "name": "stdout",
     "output_type": "stream",
     "text": [
      "85\n"
     ]
    },
    {
     "name": "stderr",
     "output_type": "stream",
     "text": [
      "100%|██████████| 100/100 [00:01<00:00, 74.08it/s]\n",
      "Average Loss = 7,639.4: 100%|██████████| 55/55 [00:00<00:00, 73.04it/s]\n",
      "Finished [100%]: Average Loss = 7,634.3\n"
     ]
    },
    {
     "name": "stdout",
     "output_type": "stream",
     "text": [
      "86\n"
     ]
    },
    {
     "name": "stderr",
     "output_type": "stream",
     "text": [
      "100%|██████████| 100/100 [00:01<00:00, 81.51it/s]\n",
      "Average Loss = 7,491.6: 100%|██████████| 53/53 [00:00<00:00, 70.65it/s]\n",
      "Finished [100%]: Average Loss = 7,487.7\n"
     ]
    },
    {
     "name": "stdout",
     "output_type": "stream",
     "text": [
      "87\n"
     ]
    },
    {
     "name": "stderr",
     "output_type": "stream",
     "text": [
      "100%|██████████| 100/100 [00:01<00:00, 80.20it/s]\n",
      "Average Loss = 7,324.9: 100%|██████████| 56/56 [00:00<00:00, 71.31it/s]\n",
      "Finished [100%]: Average Loss = 7,317.4\n"
     ]
    },
    {
     "name": "stdout",
     "output_type": "stream",
     "text": [
      "88\n"
     ]
    },
    {
     "name": "stderr",
     "output_type": "stream",
     "text": [
      "100%|██████████| 100/100 [00:01<00:00, 79.66it/s]\n",
      "Average Loss = 7,126.8: 100%|██████████| 52/52 [00:00<00:00, 73.05it/s]\n",
      "Finished [100%]: Average Loss = 7,124.4\n"
     ]
    },
    {
     "name": "stdout",
     "output_type": "stream",
     "text": [
      "89\n"
     ]
    },
    {
     "name": "stderr",
     "output_type": "stream",
     "text": [
      "100%|██████████| 100/100 [00:01<00:00, 81.08it/s]\n",
      "Average Loss = 6,938.1: 100%|██████████| 51/51 [00:00<00:00, 72.11it/s]\n",
      "Finished [100%]: Average Loss = 6,938.1\n"
     ]
    },
    {
     "name": "stdout",
     "output_type": "stream",
     "text": [
      "90\n"
     ]
    },
    {
     "name": "stderr",
     "output_type": "stream",
     "text": [
      "100%|██████████| 100/100 [00:01<00:00, 78.04it/s]\n",
      "Average Loss = 6,826.9: 100%|██████████| 54/54 [00:00<00:00, 70.18it/s]\n",
      "Finished [100%]: Average Loss = 6,823.4\n"
     ]
    },
    {
     "name": "stdout",
     "output_type": "stream",
     "text": [
      "91\n"
     ]
    },
    {
     "name": "stderr",
     "output_type": "stream",
     "text": [
      "100%|██████████| 100/100 [00:01<00:00, 80.75it/s]\n",
      "Average Loss = 6,667.3: 100%|██████████| 56/56 [00:00<00:00, 73.55it/s]\n",
      "Finished [100%]: Average Loss = 6,663\n"
     ]
    },
    {
     "name": "stdout",
     "output_type": "stream",
     "text": [
      "92\n"
     ]
    },
    {
     "name": "stderr",
     "output_type": "stream",
     "text": [
      "100%|██████████| 100/100 [00:01<00:00, 67.41it/s]\n",
      "Average Loss = 6,509.4: 100%|██████████| 53/53 [00:00<00:00, 71.57it/s]\n",
      "Finished [100%]: Average Loss = 6,511.5\n"
     ]
    },
    {
     "name": "stdout",
     "output_type": "stream",
     "text": [
      "93\n"
     ]
    },
    {
     "name": "stderr",
     "output_type": "stream",
     "text": [
      "100%|██████████| 100/100 [00:01<00:00, 79.02it/s]\n",
      "Average Loss = 6,410.2: 100%|██████████| 53/53 [00:00<00:00, 74.85it/s]\n",
      "Finished [100%]: Average Loss = 6,407.6\n"
     ]
    },
    {
     "name": "stdout",
     "output_type": "stream",
     "text": [
      "94\n"
     ]
    },
    {
     "name": "stderr",
     "output_type": "stream",
     "text": [
      "100%|██████████| 100/100 [00:01<00:00, 79.90it/s]\n",
      "Average Loss = 6,206.4: 100%|██████████| 53/53 [00:00<00:00, 72.69it/s]\n",
      "Finished [100%]: Average Loss = 6,204.6\n"
     ]
    },
    {
     "name": "stdout",
     "output_type": "stream",
     "text": [
      "95\n"
     ]
    },
    {
     "name": "stderr",
     "output_type": "stream",
     "text": [
      "100%|██████████| 100/100 [00:01<00:00, 75.32it/s]\n",
      "Average Loss = 6,109.5: 100%|██████████| 54/54 [00:00<00:00, 72.46it/s]\n",
      "Finished [100%]: Average Loss = 6,115.5\n"
     ]
    },
    {
     "name": "stdout",
     "output_type": "stream",
     "text": [
      "96\n"
     ]
    },
    {
     "name": "stderr",
     "output_type": "stream",
     "text": [
      "100%|██████████| 100/100 [00:01<00:00, 53.64it/s]\n",
      "Average Loss = 5,988.6: 100%|██████████| 48/48 [00:00<00:00, 66.92it/s]\n",
      "Finished [100%]: Average Loss = 5,985.1\n"
     ]
    },
    {
     "name": "stdout",
     "output_type": "stream",
     "text": [
      "97\n"
     ]
    },
    {
     "name": "stderr",
     "output_type": "stream",
     "text": [
      "100%|██████████| 100/100 [00:01<00:00, 76.75it/s]\n",
      "Average Loss = 5,836.7: 100%|██████████| 54/54 [00:00<00:00, 66.68it/s]\n",
      "Finished [100%]: Average Loss = 5,834.8\n"
     ]
    },
    {
     "name": "stdout",
     "output_type": "stream",
     "text": [
      "98\n"
     ]
    },
    {
     "name": "stderr",
     "output_type": "stream",
     "text": [
      "100%|██████████| 100/100 [00:01<00:00, 74.12it/s]\n",
      "Average Loss = 5,741.7: 100%|██████████| 54/54 [00:00<00:00, 74.90it/s]\n",
      "Finished [100%]: Average Loss = 5,737.2\n"
     ]
    },
    {
     "name": "stdout",
     "output_type": "stream",
     "text": [
      "99\n"
     ]
    },
    {
     "name": "stderr",
     "output_type": "stream",
     "text": [
      "100%|██████████| 100/100 [00:01<00:00, 82.38it/s]\n",
      "Average Loss = 5,645.9: 100%|██████████| 55/55 [00:00<00:00, 75.75it/s]\n",
      "Finished [100%]: Average Loss = 5,635.8\n"
     ]
    },
    {
     "name": "stdout",
     "output_type": "stream",
     "text": [
      "100\n"
     ]
    },
    {
     "name": "stderr",
     "output_type": "stream",
     "text": [
      "100%|██████████| 100/100 [00:01<00:00, 83.53it/s]\n",
      "Average Loss = 5,524.1: 100%|██████████| 54/54 [00:00<00:00, 74.47it/s]\n",
      "Finished [100%]: Average Loss = 5,523.5\n"
     ]
    },
    {
     "name": "stdout",
     "output_type": "stream",
     "text": [
      "101\n"
     ]
    },
    {
     "name": "stderr",
     "output_type": "stream",
     "text": [
      "100%|██████████| 100/100 [00:01<00:00, 82.47it/s]\n",
      "Average Loss = 5,377.2: 100%|██████████| 55/55 [00:00<00:00, 74.95it/s]\n",
      "Finished [100%]: Average Loss = 5,379.9\n"
     ]
    },
    {
     "name": "stdout",
     "output_type": "stream",
     "text": [
      "102\n"
     ]
    },
    {
     "name": "stderr",
     "output_type": "stream",
     "text": [
      "100%|██████████| 100/100 [00:01<00:00, 83.21it/s]\n",
      "Average Loss = 5,253.2: 100%|██████████| 54/54 [00:00<00:00, 75.39it/s]\n",
      "Finished [100%]: Average Loss = 5,253.9\n"
     ]
    },
    {
     "name": "stdout",
     "output_type": "stream",
     "text": [
      "103\n"
     ]
    },
    {
     "name": "stderr",
     "output_type": "stream",
     "text": [
      "100%|██████████| 100/100 [00:01<00:00, 82.67it/s]\n",
      "Average Loss = 5,162.8: 100%|██████████| 56/56 [00:00<00:00, 76.68it/s]\n",
      "Finished [100%]: Average Loss = 5,156.5\n"
     ]
    },
    {
     "name": "stdout",
     "output_type": "stream",
     "text": [
      "104\n"
     ]
    },
    {
     "name": "stderr",
     "output_type": "stream",
     "text": [
      "100%|██████████| 100/100 [00:01<00:00, 79.82it/s]\n",
      "Average Loss = 5,040.2: 100%|██████████| 53/53 [00:00<00:00, 75.94it/s]\n",
      "Finished [100%]: Average Loss = 5,038.1\n"
     ]
    },
    {
     "name": "stdout",
     "output_type": "stream",
     "text": [
      "105\n"
     ]
    },
    {
     "name": "stderr",
     "output_type": "stream",
     "text": [
      "100%|██████████| 100/100 [00:01<00:00, 84.43it/s]\n",
      "Average Loss = 4,997.5: 100%|██████████| 54/54 [00:01<00:00, 49.23it/s]\n",
      "Finished [100%]: Average Loss = 4,995\n"
     ]
    },
    {
     "name": "stdout",
     "output_type": "stream",
     "text": [
      "106\n"
     ]
    },
    {
     "name": "stderr",
     "output_type": "stream",
     "text": [
      "100%|██████████| 100/100 [00:01<00:00, 54.65it/s]\n",
      "Average Loss = 4,835.6: 100%|██████████| 55/55 [00:00<00:00, 71.79it/s]\n",
      "Finished [100%]: Average Loss = 4,838.6\n"
     ]
    },
    {
     "name": "stdout",
     "output_type": "stream",
     "text": [
      "107\n"
     ]
    },
    {
     "name": "stderr",
     "output_type": "stream",
     "text": [
      "100%|██████████| 100/100 [00:01<00:00, 79.27it/s]\n",
      "Average Loss = 4,755.2: 100%|██████████| 43/43 [00:00<00:00, 72.45it/s]\n",
      "Finished [100%]: Average Loss = 4,755.6\n"
     ]
    },
    {
     "name": "stdout",
     "output_type": "stream",
     "text": [
      "108\n"
     ]
    },
    {
     "name": "stderr",
     "output_type": "stream",
     "text": [
      "100%|██████████| 100/100 [00:01<00:00, 79.37it/s]\n",
      "Average Loss = 4,661.9: 100%|██████████| 51/51 [00:00<00:00, 72.44it/s]\n",
      "Finished [100%]: Average Loss = 4,661.9\n"
     ]
    },
    {
     "name": "stdout",
     "output_type": "stream",
     "text": [
      "109\n"
     ]
    },
    {
     "name": "stderr",
     "output_type": "stream",
     "text": [
      "100%|██████████| 100/100 [00:01<00:00, 82.61it/s]\n",
      "Average Loss = 4,598.5: 100%|██████████| 51/51 [00:00<00:00, 69.45it/s]\n",
      "Finished [100%]: Average Loss = 4,598.5\n"
     ]
    },
    {
     "name": "stdout",
     "output_type": "stream",
     "text": [
      "110\n"
     ]
    },
    {
     "name": "stderr",
     "output_type": "stream",
     "text": [
      "100%|██████████| 100/100 [00:01<00:00, 80.32it/s]\n",
      "Average Loss = 4,500.3: 100%|██████████| 51/51 [00:00<00:00, 74.79it/s]\n",
      "Finished [100%]: Average Loss = 4,500.3\n"
     ]
    },
    {
     "name": "stdout",
     "output_type": "stream",
     "text": [
      "111\n"
     ]
    },
    {
     "name": "stderr",
     "output_type": "stream",
     "text": [
      "100%|██████████| 100/100 [00:01<00:00, 82.37it/s]\n",
      "Average Loss = 4,383.2: 100%|██████████| 54/54 [00:00<00:00, 75.75it/s]\n",
      "Finished [100%]: Average Loss = 4,380\n"
     ]
    },
    {
     "name": "stdout",
     "output_type": "stream",
     "text": [
      "112\n"
     ]
    },
    {
     "name": "stderr",
     "output_type": "stream",
     "text": [
      "100%|██████████| 100/100 [00:01<00:00, 83.41it/s]\n",
      "Average Loss = 4,297.4: 100%|██████████| 48/48 [00:00<00:00, 74.10it/s]\n",
      "Finished [100%]: Average Loss = 4,308.3\n"
     ]
    },
    {
     "name": "stdout",
     "output_type": "stream",
     "text": [
      "113\n"
     ]
    },
    {
     "name": "stderr",
     "output_type": "stream",
     "text": [
      "100%|██████████| 100/100 [00:01<00:00, 81.46it/s]\n",
      "Average Loss = 4,253.3: 100%|██████████| 51/51 [00:00<00:00, 72.84it/s]\n",
      "Finished [100%]: Average Loss = 4,253.3\n"
     ]
    },
    {
     "name": "stdout",
     "output_type": "stream",
     "text": [
      "114\n"
     ]
    },
    {
     "name": "stderr",
     "output_type": "stream",
     "text": [
      "100%|██████████| 100/100 [00:01<00:00, 77.95it/s]\n",
      "Average Loss = 4,184.9: 100%|██████████| 55/55 [00:00<00:00, 70.99it/s]\n",
      "Finished [100%]: Average Loss = 4,182.8\n"
     ]
    },
    {
     "name": "stdout",
     "output_type": "stream",
     "text": [
      "115\n"
     ]
    },
    {
     "name": "stderr",
     "output_type": "stream",
     "text": [
      "100%|██████████| 100/100 [00:01<00:00, 65.77it/s]\n",
      "Average Loss = 4,066.9: 100%|██████████| 52/52 [00:00<00:00, 62.66it/s]\n",
      "Finished [100%]: Average Loss = 4,069.4\n"
     ]
    },
    {
     "name": "stdout",
     "output_type": "stream",
     "text": [
      "116\n"
     ]
    },
    {
     "name": "stderr",
     "output_type": "stream",
     "text": [
      "100%|██████████| 100/100 [00:01<00:00, 66.95it/s]\n",
      "Average Loss = 4,013.5: 100%|██████████| 57/57 [00:00<00:00, 70.03it/s]\n",
      "Finished [100%]: Average Loss = 4,007.7\n"
     ]
    },
    {
     "name": "stdout",
     "output_type": "stream",
     "text": [
      "117\n"
     ]
    },
    {
     "name": "stderr",
     "output_type": "stream",
     "text": [
      "100%|██████████| 100/100 [00:01<00:00, 74.22it/s]\n",
      "Average Loss = 3,946.7: 100%|██████████| 55/55 [00:00<00:00, 59.31it/s]\n",
      "Finished [100%]: Average Loss = 3,949.9\n"
     ]
    },
    {
     "name": "stdout",
     "output_type": "stream",
     "text": [
      "118\n"
     ]
    },
    {
     "name": "stderr",
     "output_type": "stream",
     "text": [
      "100%|██████████| 100/100 [00:01<00:00, 74.18it/s]\n",
      "Average Loss = 3,904.1: 100%|██████████| 54/54 [00:00<00:00, 74.32it/s]\n",
      "Finished [100%]: Average Loss = 3,901.2\n"
     ]
    },
    {
     "name": "stdout",
     "output_type": "stream",
     "text": [
      "119\n"
     ]
    },
    {
     "name": "stderr",
     "output_type": "stream",
     "text": [
      "100%|██████████| 100/100 [00:01<00:00, 74.39it/s]\n",
      "Average Loss = 3,765.6: 100%|██████████| 52/52 [00:00<00:00, 74.58it/s]\n",
      "Finished [100%]: Average Loss = 3,767.7\n"
     ]
    },
    {
     "name": "stdout",
     "output_type": "stream",
     "text": [
      "120\n"
     ]
    },
    {
     "name": "stderr",
     "output_type": "stream",
     "text": [
      "100%|██████████| 100/100 [00:01<00:00, 77.68it/s]\n",
      "Average Loss = 3,739.7: 100%|██████████| 55/55 [00:00<00:00, 74.47it/s]\n",
      "Finished [100%]: Average Loss = 3,737.2\n"
     ]
    },
    {
     "name": "stdout",
     "output_type": "stream",
     "text": [
      "121\n"
     ]
    },
    {
     "name": "stderr",
     "output_type": "stream",
     "text": [
      "100%|██████████| 100/100 [00:01<00:00, 74.52it/s]\n",
      "Average Loss = 3,662.9: 100%|██████████| 55/55 [00:00<00:00, 67.34it/s]\n",
      "Finished [100%]: Average Loss = 3,653.6\n"
     ]
    },
    {
     "name": "stdout",
     "output_type": "stream",
     "text": [
      "122\n"
     ]
    },
    {
     "name": "stderr",
     "output_type": "stream",
     "text": [
      "100%|██████████| 100/100 [00:01<00:00, 74.65it/s]\n",
      "Average Loss = 3,634.7: 100%|██████████| 56/56 [00:00<00:00, 75.86it/s]\n",
      "Finished [100%]: Average Loss = 3,636.5\n"
     ]
    },
    {
     "name": "stdout",
     "output_type": "stream",
     "text": [
      "123\n"
     ]
    },
    {
     "name": "stderr",
     "output_type": "stream",
     "text": [
      "100%|██████████| 100/100 [00:01<00:00, 76.39it/s]\n",
      "Average Loss = 3,540.9: 100%|██████████| 53/53 [00:00<00:00, 73.90it/s]\n",
      "Finished [100%]: Average Loss = 3,539.2\n"
     ]
    },
    {
     "name": "stdout",
     "output_type": "stream",
     "text": [
      "124\n"
     ]
    },
    {
     "name": "stderr",
     "output_type": "stream",
     "text": [
      "100%|██████████| 100/100 [00:01<00:00, 75.35it/s]\n",
      "Average Loss = 3,523.1: 100%|██████████| 55/55 [00:00<00:00, 67.63it/s]\n",
      "Finished [100%]: Average Loss = 3,522.8\n"
     ]
    },
    {
     "name": "stdout",
     "output_type": "stream",
     "text": [
      "125\n"
     ]
    },
    {
     "name": "stderr",
     "output_type": "stream",
     "text": [
      "100%|██████████| 100/100 [00:01<00:00, 77.17it/s]\n",
      "Average Loss = 3,403.9: 100%|██████████| 54/54 [00:00<00:00, 68.15it/s]\n",
      "Finished [100%]: Average Loss = 3,403.2\n"
     ]
    },
    {
     "name": "stdout",
     "output_type": "stream",
     "text": [
      "126\n"
     ]
    },
    {
     "name": "stderr",
     "output_type": "stream",
     "text": [
      "100%|██████████| 100/100 [00:01<00:00, 71.36it/s]\n",
      "Average Loss = 3,371.8: 100%|██████████| 55/55 [00:00<00:00, 74.60it/s]\n",
      "Finished [100%]: Average Loss = 3,372.4\n"
     ]
    },
    {
     "name": "stdout",
     "output_type": "stream",
     "text": [
      "127\n"
     ]
    },
    {
     "name": "stderr",
     "output_type": "stream",
     "text": [
      "100%|██████████| 100/100 [00:01<00:00, 81.19it/s]\n",
      "Average Loss = 3,343.4: 100%|██████████| 55/55 [00:00<00:00, 75.34it/s]\n",
      "Finished [100%]: Average Loss = 3,338.9\n"
     ]
    },
    {
     "name": "stdout",
     "output_type": "stream",
     "text": [
      "128\n"
     ]
    },
    {
     "name": "stderr",
     "output_type": "stream",
     "text": [
      "100%|██████████| 100/100 [00:01<00:00, 83.08it/s]\n",
      "Average Loss = 3,290.9: 100%|██████████| 54/54 [00:00<00:00, 73.60it/s]\n",
      "Finished [100%]: Average Loss = 3,289.2\n"
     ]
    },
    {
     "name": "stdout",
     "output_type": "stream",
     "text": [
      "129\n"
     ]
    },
    {
     "name": "stderr",
     "output_type": "stream",
     "text": [
      "100%|██████████| 100/100 [00:01<00:00, 82.08it/s]\n",
      "Average Loss = 3,207.3: 100%|██████████| 55/55 [00:00<00:00, 59.80it/s]\n",
      "Finished [100%]: Average Loss = 3,202.9\n"
     ]
    },
    {
     "name": "stdout",
     "output_type": "stream",
     "text": [
      "130\n"
     ]
    },
    {
     "name": "stderr",
     "output_type": "stream",
     "text": [
      "100%|██████████| 100/100 [00:01<00:00, 73.21it/s]\n",
      "Average Loss = 3,165.7: 100%|██████████| 53/53 [00:00<00:00, 71.90it/s]\n",
      "Finished [100%]: Average Loss = 3,166.4\n"
     ]
    },
    {
     "name": "stdout",
     "output_type": "stream",
     "text": [
      "131\n"
     ]
    },
    {
     "name": "stderr",
     "output_type": "stream",
     "text": [
      "100%|██████████| 100/100 [00:01<00:00, 56.47it/s]\n",
      "Average Loss = 3,114.6: 100%|██████████| 55/55 [00:01<00:00, 50.23it/s]\n",
      "Finished [100%]: Average Loss = 3,109.8\n"
     ]
    },
    {
     "name": "stdout",
     "output_type": "stream",
     "text": [
      "132\n"
     ]
    },
    {
     "name": "stderr",
     "output_type": "stream",
     "text": [
      "100%|██████████| 100/100 [00:01<00:00, 79.74it/s]\n",
      "Average Loss = 3,055.9: 100%|██████████| 54/54 [00:00<00:00, 75.34it/s]\n",
      "Finished [100%]: Average Loss = 3,060\n"
     ]
    },
    {
     "name": "stdout",
     "output_type": "stream",
     "text": [
      "133\n"
     ]
    },
    {
     "name": "stderr",
     "output_type": "stream",
     "text": [
      "100%|██████████| 100/100 [00:01<00:00, 80.47it/s]\n",
      "Average Loss = 3,023.5: 100%|██████████| 52/52 [00:00<00:00, 73.42it/s]\n",
      "Finished [100%]: Average Loss = 3,025.5\n"
     ]
    },
    {
     "name": "stdout",
     "output_type": "stream",
     "text": [
      "134\n"
     ]
    },
    {
     "name": "stderr",
     "output_type": "stream",
     "text": [
      "100%|██████████| 100/100 [00:01<00:00, 76.34it/s]\n",
      "Average Loss = 3,025.8: 100%|██████████| 52/52 [00:00<00:00, 69.50it/s]\n",
      "Finished [100%]: Average Loss = 3,023.5\n"
     ]
    },
    {
     "name": "stdout",
     "output_type": "stream",
     "text": [
      "135\n"
     ]
    },
    {
     "name": "stderr",
     "output_type": "stream",
     "text": [
      "100%|██████████| 100/100 [00:01<00:00, 78.76it/s]\n",
      "Average Loss = 2,941.9: 100%|██████████| 53/53 [00:00<00:00, 71.13it/s]\n",
      "Finished [100%]: Average Loss = 2,940.9\n"
     ]
    },
    {
     "name": "stdout",
     "output_type": "stream",
     "text": [
      "136\n"
     ]
    },
    {
     "name": "stderr",
     "output_type": "stream",
     "text": [
      "100%|██████████| 100/100 [00:01<00:00, 71.96it/s]\n",
      "Average Loss = 2,932.1: 100%|██████████| 54/54 [00:00<00:00, 72.70it/s]\n",
      "Finished [100%]: Average Loss = 2,928.1\n"
     ]
    },
    {
     "name": "stdout",
     "output_type": "stream",
     "text": [
      "137\n"
     ]
    },
    {
     "name": "stderr",
     "output_type": "stream",
     "text": [
      "100%|██████████| 100/100 [00:01<00:00, 73.15it/s]\n",
      "Average Loss = 2,877.6: 100%|██████████| 55/55 [00:00<00:00, 66.42it/s]\n",
      "Finished [100%]: Average Loss = 2,872.2\n"
     ]
    },
    {
     "name": "stdout",
     "output_type": "stream",
     "text": [
      "138\n"
     ]
    },
    {
     "name": "stderr",
     "output_type": "stream",
     "text": [
      "100%|██████████| 100/100 [00:01<00:00, 59.01it/s]\n",
      "Average Loss = 2,834.5: 100%|██████████| 55/55 [00:00<00:00, 67.14it/s]\n",
      "Finished [100%]: Average Loss = 2,834.2\n"
     ]
    },
    {
     "name": "stdout",
     "output_type": "stream",
     "text": [
      "139\n"
     ]
    },
    {
     "name": "stderr",
     "output_type": "stream",
     "text": [
      "100%|██████████| 100/100 [00:01<00:00, 75.76it/s]\n",
      "Average Loss = 2,785.4: 100%|██████████| 53/53 [00:00<00:00, 67.55it/s]\n",
      "Finished [100%]: Average Loss = 2,788.9\n"
     ]
    },
    {
     "name": "stdout",
     "output_type": "stream",
     "text": [
      "140\n"
     ]
    },
    {
     "name": "stderr",
     "output_type": "stream",
     "text": [
      "100%|██████████| 100/100 [00:01<00:00, 74.73it/s]\n",
      "Average Loss = 2,763.7: 100%|██████████| 53/53 [00:00<00:00, 71.18it/s]\n",
      "Finished [100%]: Average Loss = 2,763.6\n"
     ]
    },
    {
     "name": "stdout",
     "output_type": "stream",
     "text": [
      "141\n"
     ]
    },
    {
     "name": "stderr",
     "output_type": "stream",
     "text": [
      "100%|██████████| 100/100 [00:01<00:00, 78.18it/s]\n",
      "Average Loss = 2,706.4: 100%|██████████| 54/54 [00:00<00:00, 71.78it/s]\n",
      "Finished [100%]: Average Loss = 2,704.7\n"
     ]
    },
    {
     "name": "stdout",
     "output_type": "stream",
     "text": [
      "142\n"
     ]
    },
    {
     "name": "stderr",
     "output_type": "stream",
     "text": [
      "100%|██████████| 100/100 [00:01<00:00, 76.10it/s]\n",
      "Average Loss = 2,665: 100%|██████████| 54/54 [00:00<00:00, 70.70it/s]\n",
      "Finished [100%]: Average Loss = 2,661.3\n"
     ]
    },
    {
     "name": "stdout",
     "output_type": "stream",
     "text": [
      "143\n"
     ]
    },
    {
     "name": "stderr",
     "output_type": "stream",
     "text": [
      "100%|██████████| 100/100 [00:01<00:00, 77.52it/s]\n",
      "Average Loss = 2,633.6: 100%|██████████| 53/53 [00:00<00:00, 67.13it/s]\n",
      "Finished [100%]: Average Loss = 2,635.2\n"
     ]
    },
    {
     "name": "stdout",
     "output_type": "stream",
     "text": [
      "144\n"
     ]
    },
    {
     "name": "stderr",
     "output_type": "stream",
     "text": [
      "100%|██████████| 100/100 [00:01<00:00, 74.43it/s]\n",
      "Average Loss = 2,630.3: 100%|██████████| 51/51 [00:00<00:00, 71.90it/s]\n",
      "Finished [100%]: Average Loss = 2,630.3\n"
     ]
    },
    {
     "name": "stdout",
     "output_type": "stream",
     "text": [
      "145\n"
     ]
    },
    {
     "name": "stderr",
     "output_type": "stream",
     "text": [
      "100%|██████████| 100/100 [00:01<00:00, 80.32it/s]\n",
      "Average Loss = 2,603.2: 100%|██████████| 55/55 [00:00<00:00, 69.50it/s]\n",
      "Finished [100%]: Average Loss = 2,602.2\n"
     ]
    },
    {
     "name": "stdout",
     "output_type": "stream",
     "text": [
      "146\n"
     ]
    },
    {
     "name": "stderr",
     "output_type": "stream",
     "text": [
      "100%|██████████| 100/100 [00:01<00:00, 81.37it/s]\n",
      "Average Loss = 2,562.4: 100%|██████████| 54/54 [00:00<00:00, 68.37it/s]\n",
      "Finished [100%]: Average Loss = 2,560.7\n"
     ]
    },
    {
     "name": "stdout",
     "output_type": "stream",
     "text": [
      "147\n"
     ]
    },
    {
     "name": "stderr",
     "output_type": "stream",
     "text": [
      "100%|██████████| 100/100 [00:01<00:00, 77.14it/s]\n",
      "Average Loss = 2,547.9: 100%|██████████| 54/54 [00:00<00:00, 66.60it/s]\n",
      "Finished [100%]: Average Loss = 2,549.6\n"
     ]
    },
    {
     "name": "stdout",
     "output_type": "stream",
     "text": [
      "148\n"
     ]
    },
    {
     "name": "stderr",
     "output_type": "stream",
     "text": [
      "100%|██████████| 100/100 [00:01<00:00, 78.53it/s]\n",
      "Average Loss = 2,541.2: 100%|██████████| 54/54 [00:00<00:00, 60.32it/s]\n",
      "Finished [100%]: Average Loss = 2,534.6\n"
     ]
    },
    {
     "name": "stdout",
     "output_type": "stream",
     "text": [
      "149\n"
     ]
    },
    {
     "name": "stderr",
     "output_type": "stream",
     "text": [
      "100%|██████████| 100/100 [00:01<00:00, 64.69it/s]\n",
      "Average Loss = 2,497.6: 100%|██████████| 55/55 [00:00<00:00, 70.44it/s]\n",
      "Finished [100%]: Average Loss = 2,492.3\n"
     ]
    },
    {
     "name": "stdout",
     "output_type": "stream",
     "text": [
      "150\n"
     ]
    },
    {
     "name": "stderr",
     "output_type": "stream",
     "text": [
      "100%|██████████| 100/100 [00:01<00:00, 76.28it/s]\n",
      "Average Loss = 2,453.3: 100%|██████████| 54/54 [00:00<00:00, 72.24it/s]\n",
      "Finished [100%]: Average Loss = 2,452.7\n"
     ]
    },
    {
     "name": "stdout",
     "output_type": "stream",
     "text": [
      "151\n"
     ]
    },
    {
     "name": "stderr",
     "output_type": "stream",
     "text": [
      "100%|██████████| 100/100 [00:01<00:00, 76.27it/s]\n",
      "Average Loss = 2,454.5: 100%|██████████| 54/54 [00:00<00:00, 73.74it/s]\n",
      "Finished [100%]: Average Loss = 2,457.5\n"
     ]
    },
    {
     "name": "stdout",
     "output_type": "stream",
     "text": [
      "152\n"
     ]
    },
    {
     "name": "stderr",
     "output_type": "stream",
     "text": [
      "100%|██████████| 100/100 [00:01<00:00, 75.64it/s]\n",
      "Average Loss = 2,409.5: 100%|██████████| 54/54 [00:00<00:00, 69.50it/s]\n",
      "Finished [100%]: Average Loss = 2,407.6\n"
     ]
    },
    {
     "name": "stdout",
     "output_type": "stream",
     "text": [
      "153\n"
     ]
    },
    {
     "name": "stderr",
     "output_type": "stream",
     "text": [
      "100%|██████████| 100/100 [00:01<00:00, 78.32it/s]\n",
      "Average Loss = 2,384.3: 100%|██████████| 52/52 [00:00<00:00, 68.80it/s]\n",
      "Finished [100%]: Average Loss = 2,384.2\n"
     ]
    },
    {
     "name": "stdout",
     "output_type": "stream",
     "text": [
      "154\n"
     ]
    },
    {
     "name": "stderr",
     "output_type": "stream",
     "text": [
      "100%|██████████| 100/100 [00:01<00:00, 79.47it/s]\n",
      "Average Loss = 2,370.2: 100%|██████████| 53/53 [00:00<00:00, 70.77it/s]\n",
      "Finished [100%]: Average Loss = 2,367.5\n"
     ]
    },
    {
     "name": "stdout",
     "output_type": "stream",
     "text": [
      "155\n"
     ]
    },
    {
     "name": "stderr",
     "output_type": "stream",
     "text": [
      "100%|██████████| 100/100 [00:01<00:00, 74.82it/s]\n",
      "Average Loss = 2,336.5: 100%|██████████| 53/53 [00:00<00:00, 71.91it/s]\n",
      "Finished [100%]: Average Loss = 2,334.8\n"
     ]
    },
    {
     "name": "stdout",
     "output_type": "stream",
     "text": [
      "156\n"
     ]
    },
    {
     "name": "stderr",
     "output_type": "stream",
     "text": [
      "100%|██████████| 100/100 [00:01<00:00, 80.42it/s]\n",
      "Average Loss = 2,346.1: 100%|██████████| 55/55 [00:00<00:00, 75.12it/s]\n",
      "Finished [100%]: Average Loss = 2,342.5\n"
     ]
    },
    {
     "name": "stdout",
     "output_type": "stream",
     "text": [
      "157\n"
     ]
    },
    {
     "name": "stderr",
     "output_type": "stream",
     "text": [
      "100%|██████████| 100/100 [00:01<00:00, 79.12it/s]\n",
      "Average Loss = 2,308.2: 100%|██████████| 51/51 [00:00<00:00, 72.00it/s]\n",
      "Finished [100%]: Average Loss = 2,308.2\n"
     ]
    },
    {
     "name": "stdout",
     "output_type": "stream",
     "text": [
      "158\n"
     ]
    },
    {
     "name": "stderr",
     "output_type": "stream",
     "text": [
      "100%|██████████| 100/100 [00:01<00:00, 74.80it/s]\n",
      "Average Loss = 2,328: 100%|██████████| 55/55 [00:00<00:00, 74.03it/s]\n",
      "Finished [100%]: Average Loss = 2,331.3\n"
     ]
    },
    {
     "name": "stdout",
     "output_type": "stream",
     "text": [
      "159\n"
     ]
    },
    {
     "name": "stderr",
     "output_type": "stream",
     "text": [
      "100%|██████████| 100/100 [00:01<00:00, 76.38it/s]\n",
      "Average Loss = 2,254.1: 100%|██████████| 56/56 [00:00<00:00, 71.39it/s]\n",
      "Finished [100%]: Average Loss = 2,261.9\n"
     ]
    },
    {
     "name": "stdout",
     "output_type": "stream",
     "text": [
      "160\n"
     ]
    },
    {
     "name": "stderr",
     "output_type": "stream",
     "text": [
      "100%|██████████| 100/100 [00:01<00:00, 81.48it/s]\n",
      "Average Loss = 2,250.6: 100%|██████████| 53/53 [00:00<00:00, 68.17it/s]\n",
      "Finished [100%]: Average Loss = 2,248.1\n"
     ]
    },
    {
     "name": "stdout",
     "output_type": "stream",
     "text": [
      "161\n"
     ]
    },
    {
     "name": "stderr",
     "output_type": "stream",
     "text": [
      "100%|██████████| 100/100 [00:01<00:00, 79.53it/s]\n",
      "Average Loss = 2,229.3: 100%|██████████| 55/55 [00:00<00:00, 72.10it/s]\n",
      "Finished [100%]: Average Loss = 2,226.2\n"
     ]
    },
    {
     "name": "stdout",
     "output_type": "stream",
     "text": [
      "162\n"
     ]
    },
    {
     "name": "stderr",
     "output_type": "stream",
     "text": [
      "100%|██████████| 100/100 [00:01<00:00, 80.40it/s]\n",
      "Average Loss = 2,235.7: 100%|██████████| 53/53 [00:00<00:00, 73.61it/s]\n",
      "Finished [100%]: Average Loss = 2,227.2\n"
     ]
    },
    {
     "name": "stdout",
     "output_type": "stream",
     "text": [
      "163\n"
     ]
    },
    {
     "name": "stderr",
     "output_type": "stream",
     "text": [
      "100%|██████████| 100/100 [00:01<00:00, 81.35it/s]\n",
      "Average Loss = 2,211.6: 100%|██████████| 55/55 [00:00<00:00, 71.33it/s]\n",
      "Finished [100%]: Average Loss = 2,214.5\n"
     ]
    },
    {
     "name": "stdout",
     "output_type": "stream",
     "text": [
      "164\n"
     ]
    },
    {
     "name": "stderr",
     "output_type": "stream",
     "text": [
      "100%|██████████| 100/100 [00:01<00:00, 77.89it/s]\n",
      "Average Loss = 2,169.5: 100%|██████████| 52/52 [00:00<00:00, 70.75it/s]\n",
      "Finished [100%]: Average Loss = 2,170.5\n"
     ]
    },
    {
     "name": "stdout",
     "output_type": "stream",
     "text": [
      "165\n"
     ]
    },
    {
     "name": "stderr",
     "output_type": "stream",
     "text": [
      "100%|██████████| 100/100 [00:01<00:00, 76.86it/s]\n",
      "Average Loss = 2,172.9: 100%|██████████| 55/55 [00:00<00:00, 72.43it/s]\n",
      "Finished [100%]: Average Loss = 2,177.3\n"
     ]
    },
    {
     "name": "stdout",
     "output_type": "stream",
     "text": [
      "166\n"
     ]
    },
    {
     "name": "stderr",
     "output_type": "stream",
     "text": [
      "100%|██████████| 100/100 [00:01<00:00, 76.25it/s]\n",
      "Average Loss = 2,185.5: 100%|██████████| 54/54 [00:00<00:00, 70.46it/s]\n",
      "Finished [100%]: Average Loss = 2,202\n"
     ]
    },
    {
     "name": "stdout",
     "output_type": "stream",
     "text": [
      "167\n"
     ]
    },
    {
     "name": "stderr",
     "output_type": "stream",
     "text": [
      "100%|██████████| 100/100 [00:01<00:00, 76.13it/s]\n",
      "Average Loss = 2,165.9: 100%|██████████| 54/54 [00:00<00:00, 69.64it/s]\n",
      "Finished [100%]: Average Loss = 2,161.1\n"
     ]
    },
    {
     "name": "stdout",
     "output_type": "stream",
     "text": [
      "168\n"
     ]
    },
    {
     "name": "stderr",
     "output_type": "stream",
     "text": [
      "100%|██████████| 100/100 [00:01<00:00, 71.63it/s]\n",
      "Average Loss = 2,122.1: 100%|██████████| 55/55 [00:00<00:00, 72.46it/s]\n",
      "Finished [100%]: Average Loss = 2,117\n"
     ]
    },
    {
     "name": "stdout",
     "output_type": "stream",
     "text": [
      "169\n"
     ]
    },
    {
     "name": "stderr",
     "output_type": "stream",
     "text": [
      "100%|██████████| 100/100 [00:01<00:00, 69.05it/s]\n",
      "Average Loss = 2,100.9: 100%|██████████| 54/54 [00:00<00:00, 69.99it/s]\n",
      "Finished [100%]: Average Loss = 2,101.8\n"
     ]
    },
    {
     "name": "stdout",
     "output_type": "stream",
     "text": [
      "170\n"
     ]
    },
    {
     "name": "stderr",
     "output_type": "stream",
     "text": [
      "100%|██████████| 100/100 [00:01<00:00, 66.47it/s]\n",
      "Average Loss = 2,073.3: 100%|██████████| 49/49 [00:00<00:00, 69.14it/s]\n",
      "Finished [100%]: Average Loss = 2,070.7\n"
     ]
    },
    {
     "name": "stdout",
     "output_type": "stream",
     "text": [
      "171\n"
     ]
    },
    {
     "name": "stderr",
     "output_type": "stream",
     "text": [
      "100%|██████████| 100/100 [00:01<00:00, 72.52it/s]\n",
      "Average Loss = 2,079.9: 100%|██████████| 55/55 [00:00<00:00, 74.41it/s]\n",
      "Finished [100%]: Average Loss = 2,088.9\n"
     ]
    },
    {
     "name": "stdout",
     "output_type": "stream",
     "text": [
      "172\n"
     ]
    },
    {
     "name": "stderr",
     "output_type": "stream",
     "text": [
      "100%|██████████| 100/100 [00:01<00:00, 80.40it/s]\n",
      "Average Loss = 2,077.2: 100%|██████████| 53/53 [00:00<00:00, 73.59it/s]\n",
      "Finished [100%]: Average Loss = 2,072.1\n"
     ]
    },
    {
     "name": "stdout",
     "output_type": "stream",
     "text": [
      "173\n"
     ]
    },
    {
     "name": "stderr",
     "output_type": "stream",
     "text": [
      "100%|██████████| 100/100 [00:01<00:00, 74.96it/s]\n",
      "Average Loss = 2,032.4: 100%|██████████| 54/54 [00:00<00:00, 71.19it/s]\n",
      "Finished [100%]: Average Loss = 2,031.5\n"
     ]
    },
    {
     "name": "stdout",
     "output_type": "stream",
     "text": [
      "174\n"
     ]
    },
    {
     "name": "stderr",
     "output_type": "stream",
     "text": [
      "100%|██████████| 100/100 [00:01<00:00, 78.23it/s]\n",
      "Average Loss = 2,057.2: 100%|██████████| 54/54 [00:00<00:00, 74.04it/s]\n",
      "Finished [100%]: Average Loss = 2,059.4\n"
     ]
    },
    {
     "name": "stdout",
     "output_type": "stream",
     "text": [
      "175\n"
     ]
    },
    {
     "name": "stderr",
     "output_type": "stream",
     "text": [
      "100%|██████████| 100/100 [00:01<00:00, 75.22it/s]\n",
      "Average Loss = 2,064.1: 100%|██████████| 49/49 [00:00<00:00, 74.08it/s]\n",
      "Finished [100%]: Average Loss = 2,069.8\n"
     ]
    },
    {
     "name": "stdout",
     "output_type": "stream",
     "text": [
      "176\n"
     ]
    },
    {
     "name": "stderr",
     "output_type": "stream",
     "text": [
      "100%|██████████| 100/100 [00:01<00:00, 76.33it/s]\n",
      "Average Loss = 2,037.9: 100%|██████████| 54/54 [00:00<00:00, 71.55it/s]\n",
      "Finished [100%]: Average Loss = 2,036\n"
     ]
    },
    {
     "name": "stdout",
     "output_type": "stream",
     "text": [
      "177\n"
     ]
    },
    {
     "name": "stderr",
     "output_type": "stream",
     "text": [
      "100%|██████████| 100/100 [00:01<00:00, 73.78it/s]\n",
      "Average Loss = 2,027: 100%|██████████| 54/54 [00:00<00:00, 70.89it/s]\n",
      "Finished [100%]: Average Loss = 2,024.8\n"
     ]
    },
    {
     "name": "stdout",
     "output_type": "stream",
     "text": [
      "178\n"
     ]
    },
    {
     "name": "stderr",
     "output_type": "stream",
     "text": [
      "100%|██████████| 100/100 [00:01<00:00, 76.16it/s]\n",
      "Average Loss = 2,035.5: 100%|██████████| 54/54 [00:00<00:00, 72.53it/s]\n",
      "Finished [100%]: Average Loss = 2,031\n"
     ]
    },
    {
     "name": "stdout",
     "output_type": "stream",
     "text": [
      "179\n"
     ]
    },
    {
     "name": "stderr",
     "output_type": "stream",
     "text": [
      "100%|██████████| 100/100 [00:01<00:00, 70.13it/s]\n",
      "Average Loss = 1,978.5: 100%|██████████| 56/56 [00:00<00:00, 69.09it/s]\n",
      "Finished [100%]: Average Loss = 1,975.7\n"
     ]
    },
    {
     "name": "stdout",
     "output_type": "stream",
     "text": [
      "180\n"
     ]
    },
    {
     "name": "stderr",
     "output_type": "stream",
     "text": [
      "100%|██████████| 100/100 [00:01<00:00, 68.92it/s]\n",
      "Average Loss = 2,029.6: 100%|██████████| 54/54 [00:00<00:00, 75.22it/s]\n",
      "Finished [100%]: Average Loss = 2,025.2\n"
     ]
    },
    {
     "name": "stdout",
     "output_type": "stream",
     "text": [
      "181\n"
     ]
    },
    {
     "name": "stderr",
     "output_type": "stream",
     "text": [
      "100%|██████████| 100/100 [00:01<00:00, 58.65it/s]\n",
      "Average Loss = 2,002.5: 100%|██████████| 57/57 [00:00<00:00, 63.58it/s]\n",
      "Finished [100%]: Average Loss = 1,993.2\n"
     ]
    },
    {
     "name": "stdout",
     "output_type": "stream",
     "text": [
      "182\n"
     ]
    },
    {
     "name": "stderr",
     "output_type": "stream",
     "text": [
      "100%|██████████| 100/100 [00:01<00:00, 77.23it/s]\n",
      "Average Loss = 1,968.9: 100%|██████████| 52/52 [00:00<00:00, 74.95it/s]\n",
      "Finished [100%]: Average Loss = 1,967.1\n"
     ]
    },
    {
     "name": "stdout",
     "output_type": "stream",
     "text": [
      "183\n"
     ]
    },
    {
     "name": "stderr",
     "output_type": "stream",
     "text": [
      "100%|██████████| 100/100 [00:01<00:00, 78.43it/s]\n",
      "Average Loss = 1,976.6: 100%|██████████| 54/54 [00:00<00:00, 66.92it/s]\n",
      "Finished [100%]: Average Loss = 1,972.7\n"
     ]
    },
    {
     "name": "stdout",
     "output_type": "stream",
     "text": [
      "184\n"
     ]
    },
    {
     "name": "stderr",
     "output_type": "stream",
     "text": [
      "100%|██████████| 100/100 [00:01<00:00, 74.36it/s]\n",
      "Average Loss = 1,970.2: 100%|██████████| 55/55 [00:00<00:00, 63.61it/s]\n",
      "Finished [100%]: Average Loss = 1,964.2\n"
     ]
    },
    {
     "name": "stdout",
     "output_type": "stream",
     "text": [
      "185\n"
     ]
    },
    {
     "name": "stderr",
     "output_type": "stream",
     "text": [
      "100%|██████████| 100/100 [00:01<00:00, 78.21it/s]\n",
      "Average Loss = 1,991.3: 100%|██████████| 55/55 [00:00<00:00, 67.87it/s]\n",
      "Finished [100%]: Average Loss = 1,984.7\n"
     ]
    },
    {
     "name": "stdout",
     "output_type": "stream",
     "text": [
      "186\n"
     ]
    },
    {
     "name": "stderr",
     "output_type": "stream",
     "text": [
      "100%|██████████| 100/100 [00:01<00:00, 67.11it/s]\n",
      "Average Loss = 1,940.4: 100%|██████████| 52/52 [00:00<00:00, 71.85it/s]\n",
      "Finished [100%]: Average Loss = 1,943.6\n"
     ]
    },
    {
     "name": "stdout",
     "output_type": "stream",
     "text": [
      "187\n"
     ]
    },
    {
     "name": "stderr",
     "output_type": "stream",
     "text": [
      "100%|██████████| 100/100 [00:01<00:00, 77.32it/s]\n",
      "Average Loss = 1,932.4: 100%|██████████| 55/55 [00:00<00:00, 68.37it/s]\n",
      "Finished [100%]: Average Loss = 1,933\n"
     ]
    },
    {
     "name": "stdout",
     "output_type": "stream",
     "text": [
      "188\n"
     ]
    },
    {
     "name": "stderr",
     "output_type": "stream",
     "text": [
      "100%|██████████| 100/100 [00:01<00:00, 70.79it/s]\n",
      "Average Loss = 1,960.4: 100%|██████████| 54/54 [00:00<00:00, 65.56it/s]\n",
      "Finished [100%]: Average Loss = 1,965.1\n"
     ]
    },
    {
     "name": "stdout",
     "output_type": "stream",
     "text": [
      "189\n"
     ]
    },
    {
     "name": "stderr",
     "output_type": "stream",
     "text": [
      "100%|██████████| 100/100 [00:01<00:00, 77.99it/s]\n",
      "Average Loss = 1,945.5: 100%|██████████| 54/54 [00:00<00:00, 74.58it/s]\n",
      "Finished [100%]: Average Loss = 1,948.8\n"
     ]
    },
    {
     "name": "stdout",
     "output_type": "stream",
     "text": [
      "190\n"
     ]
    },
    {
     "name": "stderr",
     "output_type": "stream",
     "text": [
      "100%|██████████| 100/100 [00:01<00:00, 76.67it/s]\n",
      "Average Loss = 1,934.9: 100%|██████████| 55/55 [00:00<00:00, 69.81it/s]\n",
      "Finished [100%]: Average Loss = 1,934.9\n"
     ]
    },
    {
     "name": "stdout",
     "output_type": "stream",
     "text": [
      "191\n"
     ]
    },
    {
     "name": "stderr",
     "output_type": "stream",
     "text": [
      "100%|██████████| 100/100 [00:01<00:00, 80.04it/s]\n",
      "Average Loss = 1,939.7: 100%|██████████| 55/55 [00:00<00:00, 62.09it/s]\n",
      "Finished [100%]: Average Loss = 1,936.4\n"
     ]
    },
    {
     "name": "stdout",
     "output_type": "stream",
     "text": [
      "192\n"
     ]
    },
    {
     "name": "stderr",
     "output_type": "stream",
     "text": [
      "100%|██████████| 100/100 [00:01<00:00, 74.05it/s]\n",
      "Average Loss = 1,946.2: 100%|██████████| 51/51 [00:00<00:00, 71.52it/s]\n",
      "Finished [100%]: Average Loss = 1,946.2\n"
     ]
    },
    {
     "name": "stdout",
     "output_type": "stream",
     "text": [
      "193\n"
     ]
    },
    {
     "name": "stderr",
     "output_type": "stream",
     "text": [
      "100%|██████████| 100/100 [00:01<00:00, 81.88it/s]\n",
      "Average Loss = 1,944.6: 100%|██████████| 55/55 [00:00<00:00, 76.16it/s]\n",
      "Finished [100%]: Average Loss = 1,943.8\n"
     ]
    },
    {
     "name": "stdout",
     "output_type": "stream",
     "text": [
      "194\n"
     ]
    },
    {
     "name": "stderr",
     "output_type": "stream",
     "text": [
      "100%|██████████| 100/100 [00:01<00:00, 69.30it/s]\n",
      "Average Loss = 1,920: 100%|██████████| 54/54 [00:01<00:00, 50.85it/s]\n",
      "Finished [100%]: Average Loss = 1,928.1\n"
     ]
    },
    {
     "name": "stdout",
     "output_type": "stream",
     "text": [
      "195\n"
     ]
    },
    {
     "name": "stderr",
     "output_type": "stream",
     "text": [
      "100%|██████████| 100/100 [00:01<00:00, 68.51it/s]\n",
      "Average Loss = 1,912.5: 100%|██████████| 54/54 [00:00<00:00, 73.81it/s]\n",
      "Finished [100%]: Average Loss = 1,909\n"
     ]
    },
    {
     "name": "stdout",
     "output_type": "stream",
     "text": [
      "196\n"
     ]
    },
    {
     "name": "stderr",
     "output_type": "stream",
     "text": [
      "100%|██████████| 100/100 [00:01<00:00, 69.48it/s]\n",
      "Average Loss = 1,879.9: 100%|██████████| 54/54 [00:01<00:00, 44.80it/s]\n",
      "Finished [100%]: Average Loss = 1,879.3\n"
     ]
    },
    {
     "name": "stdout",
     "output_type": "stream",
     "text": [
      "197\n"
     ]
    },
    {
     "name": "stderr",
     "output_type": "stream",
     "text": [
      "100%|██████████| 100/100 [00:01<00:00, 66.17it/s]\n",
      "Average Loss = 1,899.2: 100%|██████████| 54/54 [00:00<00:00, 72.33it/s]\n",
      "Finished [100%]: Average Loss = 1,900.3\n"
     ]
    },
    {
     "name": "stdout",
     "output_type": "stream",
     "text": [
      "198\n"
     ]
    },
    {
     "name": "stderr",
     "output_type": "stream",
     "text": [
      "100%|██████████| 100/100 [00:01<00:00, 74.97it/s]\n",
      "Average Loss = 1,888.8: 100%|██████████| 55/55 [00:00<00:00, 72.21it/s]\n",
      "Finished [100%]: Average Loss = 1,893.2\n"
     ]
    },
    {
     "name": "stdout",
     "output_type": "stream",
     "text": [
      "199\n"
     ]
    },
    {
     "name": "stderr",
     "output_type": "stream",
     "text": [
      "100%|██████████| 100/100 [00:01<00:00, 81.78it/s]\n",
      "Average Loss = 1,885.2: 100%|██████████| 54/54 [00:00<00:00, 67.17it/s]\n",
      "Finished [100%]: Average Loss = 1,890.4\n"
     ]
    },
    {
     "name": "stdout",
     "output_type": "stream",
     "text": [
      "RUNNING ACTIVE LEARNING CONTROL\n"
     ]
    },
    {
     "name": "stderr",
     "output_type": "stream",
     "text": [
      "Average Loss = 60,532: 100%|██████████| 200/200 [00:02<00:00, 71.48it/s]\n",
      "Finished [100%]: Average Loss = 60,425\n"
     ]
    },
    {
     "name": "stdout",
     "output_type": "stream",
     "text": [
      "1\n"
     ]
    },
    {
     "name": "stderr",
     "output_type": "stream",
     "text": [
      "Average Loss = 57,421: 100%|██████████| 55/55 [00:00<00:00, 67.47it/s]\n",
      "Finished [100%]: Average Loss = 57,377\n"
     ]
    },
    {
     "name": "stdout",
     "output_type": "stream",
     "text": [
      "2\n"
     ]
    },
    {
     "name": "stderr",
     "output_type": "stream",
     "text": [
      "Average Loss = 56,049: 100%|██████████| 55/55 [00:00<00:00, 67.93it/s]\n",
      "Finished [100%]: Average Loss = 55,999\n"
     ]
    },
    {
     "name": "stdout",
     "output_type": "stream",
     "text": [
      "3\n"
     ]
    },
    {
     "name": "stderr",
     "output_type": "stream",
     "text": [
      "Average Loss = 54,662: 100%|██████████| 55/55 [00:00<00:00, 61.44it/s]\n",
      "Finished [100%]: Average Loss = 54,643\n"
     ]
    },
    {
     "name": "stdout",
     "output_type": "stream",
     "text": [
      "4\n"
     ]
    },
    {
     "name": "stderr",
     "output_type": "stream",
     "text": [
      "Average Loss = 53,374: 100%|██████████| 55/55 [00:00<00:00, 67.64it/s]\n",
      "Finished [100%]: Average Loss = 53,337\n"
     ]
    },
    {
     "name": "stdout",
     "output_type": "stream",
     "text": [
      "5\n"
     ]
    },
    {
     "name": "stderr",
     "output_type": "stream",
     "text": [
      "Average Loss = 52,154: 100%|██████████| 55/55 [00:00<00:00, 67.54it/s]\n",
      "Finished [100%]: Average Loss = 52,105\n"
     ]
    },
    {
     "name": "stdout",
     "output_type": "stream",
     "text": [
      "6\n"
     ]
    },
    {
     "name": "stderr",
     "output_type": "stream",
     "text": [
      "Average Loss = 50,956: 100%|██████████| 55/55 [00:00<00:00, 70.25it/s]\n",
      "Finished [100%]: Average Loss = 50,919\n"
     ]
    },
    {
     "name": "stdout",
     "output_type": "stream",
     "text": [
      "7\n"
     ]
    },
    {
     "name": "stderr",
     "output_type": "stream",
     "text": [
      "Average Loss = 49,725: 100%|██████████| 55/55 [00:00<00:00, 71.49it/s]\n",
      "Finished [100%]: Average Loss = 49,676\n"
     ]
    },
    {
     "name": "stdout",
     "output_type": "stream",
     "text": [
      "8\n"
     ]
    },
    {
     "name": "stderr",
     "output_type": "stream",
     "text": [
      "Average Loss = 48,456: 100%|██████████| 55/55 [00:00<00:00, 69.66it/s]\n",
      "Finished [100%]: Average Loss = 48,428\n"
     ]
    },
    {
     "name": "stdout",
     "output_type": "stream",
     "text": [
      "9\n"
     ]
    },
    {
     "name": "stderr",
     "output_type": "stream",
     "text": [
      "Average Loss = 47,380: 100%|██████████| 55/55 [00:00<00:00, 66.65it/s]\n",
      "Finished [100%]: Average Loss = 47,341\n"
     ]
    },
    {
     "name": "stdout",
     "output_type": "stream",
     "text": [
      "10\n"
     ]
    },
    {
     "name": "stderr",
     "output_type": "stream",
     "text": [
      "Average Loss = 46,222: 100%|██████████| 55/55 [00:00<00:00, 67.99it/s]\n",
      "Finished [100%]: Average Loss = 46,196\n"
     ]
    },
    {
     "name": "stdout",
     "output_type": "stream",
     "text": [
      "11\n"
     ]
    },
    {
     "name": "stderr",
     "output_type": "stream",
     "text": [
      "Average Loss = 45,186: 100%|██████████| 55/55 [00:00<00:00, 70.99it/s]\n",
      "Finished [100%]: Average Loss = 45,143\n"
     ]
    },
    {
     "name": "stdout",
     "output_type": "stream",
     "text": [
      "12\n"
     ]
    },
    {
     "name": "stderr",
     "output_type": "stream",
     "text": [
      "Average Loss = 44,090: 100%|██████████| 55/55 [00:00<00:00, 71.42it/s]\n",
      "Finished [100%]: Average Loss = 44,056\n"
     ]
    },
    {
     "name": "stdout",
     "output_type": "stream",
     "text": [
      "13\n"
     ]
    },
    {
     "name": "stderr",
     "output_type": "stream",
     "text": [
      "Average Loss = 42,983: 100%|██████████| 55/55 [00:00<00:00, 70.84it/s]\n",
      "Finished [100%]: Average Loss = 42,964\n"
     ]
    },
    {
     "name": "stdout",
     "output_type": "stream",
     "text": [
      "14\n"
     ]
    },
    {
     "name": "stderr",
     "output_type": "stream",
     "text": [
      "Average Loss = 41,995: 100%|██████████| 55/55 [00:00<00:00, 70.21it/s]\n",
      "Finished [100%]: Average Loss = 41,954\n"
     ]
    },
    {
     "name": "stdout",
     "output_type": "stream",
     "text": [
      "15\n"
     ]
    },
    {
     "name": "stderr",
     "output_type": "stream",
     "text": [
      "Average Loss = 40,991: 100%|██████████| 55/55 [00:00<00:00, 70.95it/s]\n",
      "Finished [100%]: Average Loss = 40,938\n"
     ]
    },
    {
     "name": "stdout",
     "output_type": "stream",
     "text": [
      "16\n"
     ]
    },
    {
     "name": "stderr",
     "output_type": "stream",
     "text": [
      "Average Loss = 39,960: 100%|██████████| 55/55 [00:00<00:00, 71.78it/s]\n",
      "Finished [100%]: Average Loss = 39,936\n"
     ]
    },
    {
     "name": "stdout",
     "output_type": "stream",
     "text": [
      "17\n"
     ]
    },
    {
     "name": "stderr",
     "output_type": "stream",
     "text": [
      "Average Loss = 38,978: 100%|██████████| 55/55 [00:00<00:00, 67.56it/s]\n",
      "Finished [100%]: Average Loss = 38,962\n"
     ]
    },
    {
     "name": "stdout",
     "output_type": "stream",
     "text": [
      "18\n"
     ]
    },
    {
     "name": "stderr",
     "output_type": "stream",
     "text": [
      "Average Loss = 38,130: 100%|██████████| 55/55 [00:00<00:00, 72.06it/s]\n",
      "Finished [100%]: Average Loss = 38,080\n"
     ]
    },
    {
     "name": "stdout",
     "output_type": "stream",
     "text": [
      "19\n"
     ]
    },
    {
     "name": "stderr",
     "output_type": "stream",
     "text": [
      "Average Loss = 37,072: 100%|██████████| 55/55 [00:00<00:00, 70.06it/s]\n",
      "Finished [100%]: Average Loss = 37,046\n"
     ]
    },
    {
     "name": "stdout",
     "output_type": "stream",
     "text": [
      "20\n"
     ]
    },
    {
     "name": "stderr",
     "output_type": "stream",
     "text": [
      "Average Loss = 36,203: 100%|██████████| 55/55 [00:00<00:00, 67.48it/s]\n",
      "Finished [100%]: Average Loss = 36,177\n"
     ]
    },
    {
     "name": "stdout",
     "output_type": "stream",
     "text": [
      "21\n"
     ]
    },
    {
     "name": "stderr",
     "output_type": "stream",
     "text": [
      "Average Loss = 35,312: 100%|██████████| 55/55 [00:00<00:00, 71.70it/s]\n",
      "Finished [100%]: Average Loss = 35,294\n"
     ]
    },
    {
     "name": "stdout",
     "output_type": "stream",
     "text": [
      "22\n"
     ]
    },
    {
     "name": "stderr",
     "output_type": "stream",
     "text": [
      "Average Loss = 34,485: 100%|██████████| 55/55 [00:00<00:00, 71.23it/s]\n",
      "Finished [100%]: Average Loss = 34,450\n"
     ]
    },
    {
     "name": "stdout",
     "output_type": "stream",
     "text": [
      "23\n"
     ]
    },
    {
     "name": "stderr",
     "output_type": "stream",
     "text": [
      "Average Loss = 33,607: 100%|██████████| 55/55 [00:00<00:00, 55.28it/s]\n",
      "Finished [100%]: Average Loss = 33,572\n"
     ]
    },
    {
     "name": "stdout",
     "output_type": "stream",
     "text": [
      "24\n"
     ]
    },
    {
     "name": "stderr",
     "output_type": "stream",
     "text": [
      "Average Loss = 32,769: 100%|██████████| 55/55 [00:00<00:00, 68.67it/s]\n",
      "Finished [100%]: Average Loss = 32,747\n"
     ]
    },
    {
     "name": "stdout",
     "output_type": "stream",
     "text": [
      "25\n"
     ]
    },
    {
     "name": "stderr",
     "output_type": "stream",
     "text": [
      "Average Loss = 32,009: 100%|██████████| 55/55 [00:00<00:00, 59.39it/s]\n",
      "Finished [100%]: Average Loss = 31,998\n"
     ]
    },
    {
     "name": "stdout",
     "output_type": "stream",
     "text": [
      "26\n"
     ]
    },
    {
     "name": "stderr",
     "output_type": "stream",
     "text": [
      "Average Loss = 31,192: 100%|██████████| 55/55 [00:00<00:00, 71.14it/s]\n",
      "Finished [100%]: Average Loss = 31,165\n"
     ]
    },
    {
     "name": "stdout",
     "output_type": "stream",
     "text": [
      "27\n"
     ]
    },
    {
     "name": "stderr",
     "output_type": "stream",
     "text": [
      "Average Loss = 30,330: 100%|██████████| 55/55 [00:00<00:00, 73.56it/s]\n",
      "Finished [100%]: Average Loss = 30,301\n"
     ]
    },
    {
     "name": "stdout",
     "output_type": "stream",
     "text": [
      "28\n"
     ]
    },
    {
     "name": "stderr",
     "output_type": "stream",
     "text": [
      "Average Loss = 29,673: 100%|██████████| 55/55 [00:00<00:00, 73.04it/s]\n",
      "Finished [100%]: Average Loss = 29,651\n"
     ]
    },
    {
     "name": "stdout",
     "output_type": "stream",
     "text": [
      "29\n"
     ]
    },
    {
     "name": "stderr",
     "output_type": "stream",
     "text": [
      "Average Loss = 28,945: 100%|██████████| 55/55 [00:00<00:00, 73.96it/s]\n",
      "Finished [100%]: Average Loss = 28,919\n"
     ]
    },
    {
     "name": "stdout",
     "output_type": "stream",
     "text": [
      "30\n"
     ]
    },
    {
     "name": "stderr",
     "output_type": "stream",
     "text": [
      "Average Loss = 28,241: 100%|██████████| 55/55 [00:00<00:00, 72.21it/s]\n",
      "Finished [100%]: Average Loss = 28,216\n"
     ]
    },
    {
     "name": "stdout",
     "output_type": "stream",
     "text": [
      "31\n"
     ]
    },
    {
     "name": "stderr",
     "output_type": "stream",
     "text": [
      "Average Loss = 27,492: 100%|██████████| 55/55 [00:00<00:00, 69.11it/s]\n",
      "Finished [100%]: Average Loss = 27,470\n"
     ]
    },
    {
     "name": "stdout",
     "output_type": "stream",
     "text": [
      "32\n"
     ]
    },
    {
     "name": "stderr",
     "output_type": "stream",
     "text": [
      "Average Loss = 26,813: 100%|██████████| 55/55 [00:00<00:00, 70.88it/s]\n",
      "Finished [100%]: Average Loss = 26,809\n"
     ]
    },
    {
     "name": "stdout",
     "output_type": "stream",
     "text": [
      "33\n"
     ]
    },
    {
     "name": "stderr",
     "output_type": "stream",
     "text": [
      "Average Loss = 26,138: 100%|██████████| 55/55 [00:00<00:00, 68.86it/s]\n",
      "Finished [100%]: Average Loss = 26,124\n"
     ]
    },
    {
     "name": "stdout",
     "output_type": "stream",
     "text": [
      "34\n"
     ]
    },
    {
     "name": "stderr",
     "output_type": "stream",
     "text": [
      "Average Loss = 25,558: 100%|██████████| 55/55 [00:00<00:00, 73.57it/s]\n",
      "Finished [100%]: Average Loss = 25,532\n"
     ]
    },
    {
     "name": "stdout",
     "output_type": "stream",
     "text": [
      "35\n"
     ]
    },
    {
     "name": "stderr",
     "output_type": "stream",
     "text": [
      "Average Loss = 24,870: 100%|██████████| 55/55 [00:00<00:00, 72.53it/s]\n",
      "Finished [100%]: Average Loss = 24,847\n"
     ]
    },
    {
     "name": "stdout",
     "output_type": "stream",
     "text": [
      "36\n"
     ]
    },
    {
     "name": "stderr",
     "output_type": "stream",
     "text": [
      "Average Loss = 24,307: 100%|██████████| 55/55 [00:00<00:00, 69.39it/s]\n",
      "Finished [100%]: Average Loss = 24,273\n"
     ]
    },
    {
     "name": "stdout",
     "output_type": "stream",
     "text": [
      "37\n"
     ]
    },
    {
     "name": "stderr",
     "output_type": "stream",
     "text": [
      "Average Loss = 23,665: 100%|██████████| 55/55 [00:00<00:00, 69.50it/s]\n",
      "Finished [100%]: Average Loss = 23,645\n"
     ]
    },
    {
     "name": "stdout",
     "output_type": "stream",
     "text": [
      "38\n"
     ]
    },
    {
     "name": "stderr",
     "output_type": "stream",
     "text": [
      "Average Loss = 23,071: 100%|██████████| 55/55 [00:00<00:00, 71.53it/s]\n",
      "Finished [100%]: Average Loss = 23,029\n"
     ]
    },
    {
     "name": "stdout",
     "output_type": "stream",
     "text": [
      "39\n"
     ]
    },
    {
     "name": "stderr",
     "output_type": "stream",
     "text": [
      "Average Loss = 22,514: 100%|██████████| 55/55 [00:00<00:00, 68.98it/s]\n",
      "Finished [100%]: Average Loss = 22,487\n"
     ]
    },
    {
     "name": "stdout",
     "output_type": "stream",
     "text": [
      "40\n"
     ]
    },
    {
     "name": "stderr",
     "output_type": "stream",
     "text": [
      "Average Loss = 21,940: 100%|██████████| 55/55 [00:00<00:00, 70.28it/s]\n",
      "Finished [100%]: Average Loss = 21,936\n"
     ]
    },
    {
     "name": "stdout",
     "output_type": "stream",
     "text": [
      "41\n"
     ]
    },
    {
     "name": "stderr",
     "output_type": "stream",
     "text": [
      "Average Loss = 21,395: 100%|██████████| 55/55 [00:00<00:00, 69.02it/s]\n",
      "Finished [100%]: Average Loss = 21,379\n"
     ]
    },
    {
     "name": "stdout",
     "output_type": "stream",
     "text": [
      "42\n"
     ]
    },
    {
     "name": "stderr",
     "output_type": "stream",
     "text": [
      "Average Loss = 20,884: 100%|██████████| 55/55 [00:00<00:00, 70.34it/s]\n",
      "Finished [100%]: Average Loss = 20,867\n"
     ]
    },
    {
     "name": "stdout",
     "output_type": "stream",
     "text": [
      "43\n"
     ]
    },
    {
     "name": "stderr",
     "output_type": "stream",
     "text": [
      "Average Loss = 20,317: 100%|██████████| 55/55 [00:00<00:00, 70.52it/s]\n",
      "Finished [100%]: Average Loss = 20,305\n"
     ]
    },
    {
     "name": "stdout",
     "output_type": "stream",
     "text": [
      "44\n"
     ]
    },
    {
     "name": "stderr",
     "output_type": "stream",
     "text": [
      "Average Loss = 19,791: 100%|██████████| 55/55 [00:00<00:00, 70.87it/s]\n",
      "Finished [100%]: Average Loss = 19,762\n"
     ]
    },
    {
     "name": "stdout",
     "output_type": "stream",
     "text": [
      "45\n"
     ]
    },
    {
     "name": "stderr",
     "output_type": "stream",
     "text": [
      "Average Loss = 19,302: 100%|██████████| 55/55 [00:00<00:00, 74.12it/s]\n",
      "Finished [100%]: Average Loss = 19,287\n"
     ]
    },
    {
     "name": "stdout",
     "output_type": "stream",
     "text": [
      "46\n"
     ]
    },
    {
     "name": "stderr",
     "output_type": "stream",
     "text": [
      "Average Loss = 18,877: 100%|██████████| 55/55 [00:00<00:00, 72.85it/s]\n",
      "Finished [100%]: Average Loss = 18,857\n"
     ]
    },
    {
     "name": "stdout",
     "output_type": "stream",
     "text": [
      "47\n"
     ]
    },
    {
     "name": "stderr",
     "output_type": "stream",
     "text": [
      "Average Loss = 18,331: 100%|██████████| 55/55 [00:00<00:00, 66.85it/s]\n",
      "Finished [100%]: Average Loss = 18,324\n"
     ]
    },
    {
     "name": "stdout",
     "output_type": "stream",
     "text": [
      "48\n"
     ]
    },
    {
     "name": "stderr",
     "output_type": "stream",
     "text": [
      "Average Loss = 17,892: 100%|██████████| 55/55 [00:00<00:00, 61.17it/s]\n",
      "Finished [100%]: Average Loss = 17,874\n"
     ]
    },
    {
     "name": "stdout",
     "output_type": "stream",
     "text": [
      "49\n"
     ]
    },
    {
     "name": "stderr",
     "output_type": "stream",
     "text": [
      "Average Loss = 17,469: 100%|██████████| 55/55 [00:00<00:00, 62.62it/s]\n",
      "Finished [100%]: Average Loss = 17,453\n"
     ]
    },
    {
     "name": "stdout",
     "output_type": "stream",
     "text": [
      "50\n"
     ]
    },
    {
     "name": "stderr",
     "output_type": "stream",
     "text": [
      "Average Loss = 16,969: 100%|██████████| 55/55 [00:00<00:00, 69.26it/s]\n",
      "Finished [100%]: Average Loss = 16,958\n"
     ]
    },
    {
     "name": "stdout",
     "output_type": "stream",
     "text": [
      "51\n"
     ]
    },
    {
     "name": "stderr",
     "output_type": "stream",
     "text": [
      "Average Loss = 16,585: 100%|██████████| 55/55 [00:00<00:00, 71.49it/s]\n",
      "Finished [100%]: Average Loss = 16,573\n"
     ]
    },
    {
     "name": "stdout",
     "output_type": "stream",
     "text": [
      "52\n"
     ]
    },
    {
     "name": "stderr",
     "output_type": "stream",
     "text": [
      "Average Loss = 16,207: 100%|██████████| 55/55 [00:00<00:00, 64.67it/s]\n",
      "Finished [100%]: Average Loss = 16,184\n"
     ]
    },
    {
     "name": "stdout",
     "output_type": "stream",
     "text": [
      "53\n"
     ]
    },
    {
     "name": "stderr",
     "output_type": "stream",
     "text": [
      "Average Loss = 15,816: 100%|██████████| 55/55 [00:00<00:00, 70.80it/s]\n",
      "Finished [100%]: Average Loss = 15,803\n"
     ]
    },
    {
     "name": "stdout",
     "output_type": "stream",
     "text": [
      "54\n"
     ]
    },
    {
     "name": "stderr",
     "output_type": "stream",
     "text": [
      "Average Loss = 15,366: 100%|██████████| 55/55 [00:00<00:00, 73.80it/s]\n",
      "Finished [100%]: Average Loss = 15,359\n"
     ]
    },
    {
     "name": "stdout",
     "output_type": "stream",
     "text": [
      "55\n"
     ]
    },
    {
     "name": "stderr",
     "output_type": "stream",
     "text": [
      "Average Loss = 15,041: 100%|██████████| 55/55 [00:00<00:00, 71.53it/s]\n",
      "Finished [100%]: Average Loss = 15,033\n"
     ]
    },
    {
     "name": "stdout",
     "output_type": "stream",
     "text": [
      "56\n"
     ]
    },
    {
     "name": "stderr",
     "output_type": "stream",
     "text": [
      "Average Loss = 14,635: 100%|██████████| 55/55 [00:00<00:00, 70.93it/s]\n",
      "Finished [100%]: Average Loss = 14,619\n"
     ]
    },
    {
     "name": "stdout",
     "output_type": "stream",
     "text": [
      "57\n"
     ]
    },
    {
     "name": "stderr",
     "output_type": "stream",
     "text": [
      "Average Loss = 14,273: 100%|██████████| 55/55 [00:00<00:00, 70.66it/s]\n",
      "Finished [100%]: Average Loss = 14,251\n"
     ]
    },
    {
     "name": "stdout",
     "output_type": "stream",
     "text": [
      "58\n"
     ]
    },
    {
     "name": "stderr",
     "output_type": "stream",
     "text": [
      "Average Loss = 13,910: 100%|██████████| 55/55 [00:00<00:00, 69.41it/s]\n",
      "Finished [100%]: Average Loss = 13,897\n"
     ]
    },
    {
     "name": "stdout",
     "output_type": "stream",
     "text": [
      "59\n"
     ]
    },
    {
     "name": "stderr",
     "output_type": "stream",
     "text": [
      "Average Loss = 13,558: 100%|██████████| 55/55 [00:00<00:00, 68.30it/s]\n",
      "Finished [100%]: Average Loss = 13,549\n"
     ]
    },
    {
     "name": "stdout",
     "output_type": "stream",
     "text": [
      "60\n"
     ]
    },
    {
     "name": "stderr",
     "output_type": "stream",
     "text": [
      "Average Loss = 13,212: 100%|██████████| 55/55 [00:00<00:00, 72.15it/s]\n",
      "Finished [100%]: Average Loss = 13,201\n"
     ]
    },
    {
     "name": "stdout",
     "output_type": "stream",
     "text": [
      "61\n"
     ]
    },
    {
     "name": "stderr",
     "output_type": "stream",
     "text": [
      "Average Loss = 12,908: 100%|██████████| 55/55 [00:00<00:00, 70.85it/s]\n",
      "Finished [100%]: Average Loss = 12,892\n"
     ]
    },
    {
     "name": "stdout",
     "output_type": "stream",
     "text": [
      "62\n"
     ]
    },
    {
     "name": "stderr",
     "output_type": "stream",
     "text": [
      "Average Loss = 12,545: 100%|██████████| 55/55 [00:00<00:00, 72.36it/s]\n",
      "Finished [100%]: Average Loss = 12,554\n"
     ]
    },
    {
     "name": "stdout",
     "output_type": "stream",
     "text": [
      "63\n"
     ]
    },
    {
     "name": "stderr",
     "output_type": "stream",
     "text": [
      "Average Loss = 12,279: 100%|██████████| 55/55 [00:00<00:00, 67.54it/s]\n",
      "Finished [100%]: Average Loss = 12,267\n"
     ]
    },
    {
     "name": "stdout",
     "output_type": "stream",
     "text": [
      "64\n"
     ]
    },
    {
     "name": "stderr",
     "output_type": "stream",
     "text": [
      "Average Loss = 11,977: 100%|██████████| 55/55 [00:00<00:00, 70.90it/s]\n",
      "Finished [100%]: Average Loss = 11,961\n"
     ]
    },
    {
     "name": "stdout",
     "output_type": "stream",
     "text": [
      "65\n"
     ]
    },
    {
     "name": "stderr",
     "output_type": "stream",
     "text": [
      "Average Loss = 11,624: 100%|██████████| 55/55 [00:00<00:00, 56.84it/s]\n",
      "Finished [100%]: Average Loss = 11,613\n"
     ]
    },
    {
     "name": "stdout",
     "output_type": "stream",
     "text": [
      "66\n"
     ]
    },
    {
     "name": "stderr",
     "output_type": "stream",
     "text": [
      "Average Loss = 11,331: 100%|██████████| 55/55 [00:01<00:00, 27.13it/s]\n",
      "Finished [100%]: Average Loss = 11,330\n"
     ]
    },
    {
     "name": "stdout",
     "output_type": "stream",
     "text": [
      "67\n"
     ]
    },
    {
     "name": "stderr",
     "output_type": "stream",
     "text": [
      "Average Loss = 11,062: 100%|██████████| 55/55 [00:00<00:00, 71.34it/s]\n",
      "Finished [100%]: Average Loss = 11,054\n"
     ]
    },
    {
     "name": "stdout",
     "output_type": "stream",
     "text": [
      "68\n"
     ]
    },
    {
     "name": "stderr",
     "output_type": "stream",
     "text": [
      "Average Loss = 10,792: 100%|██████████| 55/55 [00:00<00:00, 66.29it/s]\n",
      "Finished [100%]: Average Loss = 10,779\n"
     ]
    },
    {
     "name": "stdout",
     "output_type": "stream",
     "text": [
      "69\n"
     ]
    },
    {
     "name": "stderr",
     "output_type": "stream",
     "text": [
      "Average Loss = 10,522: 100%|██████████| 55/55 [00:00<00:00, 74.85it/s]\n",
      "Finished [100%]: Average Loss = 10,521\n"
     ]
    },
    {
     "name": "stdout",
     "output_type": "stream",
     "text": [
      "70\n"
     ]
    },
    {
     "name": "stderr",
     "output_type": "stream",
     "text": [
      "Average Loss = 10,289: 100%|██████████| 55/55 [00:00<00:00, 65.49it/s]\n",
      "Finished [100%]: Average Loss = 10,274\n"
     ]
    },
    {
     "name": "stdout",
     "output_type": "stream",
     "text": [
      "71\n"
     ]
    },
    {
     "name": "stderr",
     "output_type": "stream",
     "text": [
      "Average Loss = 10,031: 100%|██████████| 55/55 [00:00<00:00, 73.77it/s]\n",
      "Finished [100%]: Average Loss = 10,024\n"
     ]
    },
    {
     "name": "stdout",
     "output_type": "stream",
     "text": [
      "72\n"
     ]
    },
    {
     "name": "stderr",
     "output_type": "stream",
     "text": [
      "Average Loss = 9,809.3: 100%|██████████| 55/55 [00:00<00:00, 69.92it/s]\n",
      "Finished [100%]: Average Loss = 9,813.9\n"
     ]
    },
    {
     "name": "stdout",
     "output_type": "stream",
     "text": [
      "73\n"
     ]
    },
    {
     "name": "stderr",
     "output_type": "stream",
     "text": [
      "Average Loss = 9,537.6: 100%|██████████| 55/55 [00:00<00:00, 71.03it/s]\n",
      "Finished [100%]: Average Loss = 9,534.1\n"
     ]
    },
    {
     "name": "stdout",
     "output_type": "stream",
     "text": [
      "74\n"
     ]
    },
    {
     "name": "stderr",
     "output_type": "stream",
     "text": [
      "Average Loss = 9,365.7: 100%|██████████| 55/55 [00:00<00:00, 43.64it/s]\n",
      "Finished [100%]: Average Loss = 9,352.7\n"
     ]
    },
    {
     "name": "stdout",
     "output_type": "stream",
     "text": [
      "75\n"
     ]
    },
    {
     "name": "stderr",
     "output_type": "stream",
     "text": [
      "Average Loss = 9,094.3: 100%|██████████| 55/55 [00:00<00:00, 54.34it/s]\n",
      "Finished [100%]: Average Loss = 9,086.3\n"
     ]
    },
    {
     "name": "stdout",
     "output_type": "stream",
     "text": [
      "76\n"
     ]
    },
    {
     "name": "stderr",
     "output_type": "stream",
     "text": [
      "Average Loss = 8,891.4: 100%|██████████| 55/55 [00:01<00:00, 51.76it/s]\n",
      "Finished [100%]: Average Loss = 8,884.1\n"
     ]
    },
    {
     "name": "stdout",
     "output_type": "stream",
     "text": [
      "77\n"
     ]
    },
    {
     "name": "stderr",
     "output_type": "stream",
     "text": [
      "Average Loss = 8,630.8: 100%|██████████| 55/55 [00:01<00:00, 43.21it/s]\n",
      "Finished [100%]: Average Loss = 8,622.6\n"
     ]
    },
    {
     "name": "stdout",
     "output_type": "stream",
     "text": [
      "78\n"
     ]
    },
    {
     "name": "stderr",
     "output_type": "stream",
     "text": [
      "Average Loss = 8,488.2: 100%|██████████| 55/55 [00:01<00:00, 45.50it/s]\n",
      "Finished [100%]: Average Loss = 8,477.9\n"
     ]
    },
    {
     "name": "stdout",
     "output_type": "stream",
     "text": [
      "79\n"
     ]
    },
    {
     "name": "stderr",
     "output_type": "stream",
     "text": [
      "Average Loss = 8,296: 100%|██████████| 55/55 [00:00<00:00, 70.61it/s]\n",
      "Finished [100%]: Average Loss = 8,285.7\n"
     ]
    },
    {
     "name": "stdout",
     "output_type": "stream",
     "text": [
      "80\n"
     ]
    },
    {
     "name": "stderr",
     "output_type": "stream",
     "text": [
      "Average Loss = 8,077.3: 100%|██████████| 55/55 [00:00<00:00, 74.87it/s]\n",
      "Finished [100%]: Average Loss = 8,074.4\n"
     ]
    },
    {
     "name": "stdout",
     "output_type": "stream",
     "text": [
      "81\n"
     ]
    },
    {
     "name": "stderr",
     "output_type": "stream",
     "text": [
      "Average Loss = 7,879.7: 100%|██████████| 55/55 [00:00<00:00, 76.48it/s]\n",
      "Finished [100%]: Average Loss = 7,873.8\n"
     ]
    },
    {
     "name": "stdout",
     "output_type": "stream",
     "text": [
      "82\n"
     ]
    },
    {
     "name": "stderr",
     "output_type": "stream",
     "text": [
      "Average Loss = 7,673.8: 100%|██████████| 55/55 [00:00<00:00, 75.58it/s]\n",
      "Finished [100%]: Average Loss = 7,671.2\n"
     ]
    },
    {
     "name": "stdout",
     "output_type": "stream",
     "text": [
      "83\n"
     ]
    },
    {
     "name": "stderr",
     "output_type": "stream",
     "text": [
      "Average Loss = 7,551.2: 100%|██████████| 55/55 [00:00<00:00, 60.38it/s]\n",
      "Finished [100%]: Average Loss = 7,546.9\n"
     ]
    },
    {
     "name": "stdout",
     "output_type": "stream",
     "text": [
      "84\n"
     ]
    },
    {
     "name": "stderr",
     "output_type": "stream",
     "text": [
      "Average Loss = 7,342.1: 100%|██████████| 55/55 [00:00<00:00, 73.14it/s]\n",
      "Finished [100%]: Average Loss = 7,337.1\n"
     ]
    },
    {
     "name": "stdout",
     "output_type": "stream",
     "text": [
      "85\n"
     ]
    },
    {
     "name": "stderr",
     "output_type": "stream",
     "text": [
      "Average Loss = 7,136.2: 100%|██████████| 55/55 [00:00<00:00, 76.30it/s]\n",
      "Finished [100%]: Average Loss = 7,128.8\n"
     ]
    },
    {
     "name": "stdout",
     "output_type": "stream",
     "text": [
      "86\n"
     ]
    },
    {
     "name": "stderr",
     "output_type": "stream",
     "text": [
      "Average Loss = 6,993.5: 100%|██████████| 55/55 [00:00<00:00, 76.75it/s]\n",
      "Finished [100%]: Average Loss = 6,987.9\n"
     ]
    },
    {
     "name": "stdout",
     "output_type": "stream",
     "text": [
      "87\n"
     ]
    },
    {
     "name": "stderr",
     "output_type": "stream",
     "text": [
      "Average Loss = 6,802.1: 100%|██████████| 55/55 [00:00<00:00, 70.85it/s]\n",
      "Finished [100%]: Average Loss = 6,802.6\n"
     ]
    },
    {
     "name": "stdout",
     "output_type": "stream",
     "text": [
      "88\n"
     ]
    },
    {
     "name": "stderr",
     "output_type": "stream",
     "text": [
      "Average Loss = 6,717.4: 100%|██████████| 55/55 [00:00<00:00, 76.67it/s]\n",
      "Finished [100%]: Average Loss = 6,703.2\n"
     ]
    },
    {
     "name": "stdout",
     "output_type": "stream",
     "text": [
      "89\n"
     ]
    },
    {
     "name": "stderr",
     "output_type": "stream",
     "text": [
      "Average Loss = 6,540.5: 100%|██████████| 55/55 [00:00<00:00, 76.99it/s]\n",
      "Finished [100%]: Average Loss = 6,528.1\n"
     ]
    },
    {
     "name": "stdout",
     "output_type": "stream",
     "text": [
      "90\n"
     ]
    },
    {
     "name": "stderr",
     "output_type": "stream",
     "text": [
      "Average Loss = 6,343.3: 100%|██████████| 55/55 [00:00<00:00, 76.15it/s]\n",
      "Finished [100%]: Average Loss = 6,349.4\n"
     ]
    },
    {
     "name": "stdout",
     "output_type": "stream",
     "text": [
      "91\n"
     ]
    },
    {
     "name": "stderr",
     "output_type": "stream",
     "text": [
      "Average Loss = 6,255.3: 100%|██████████| 55/55 [00:00<00:00, 74.36it/s]\n",
      "Finished [100%]: Average Loss = 6,253.5\n"
     ]
    },
    {
     "name": "stdout",
     "output_type": "stream",
     "text": [
      "92\n"
     ]
    },
    {
     "name": "stderr",
     "output_type": "stream",
     "text": [
      "Average Loss = 6,103: 100%|██████████| 55/55 [00:00<00:00, 76.56it/s]\n",
      "Finished [100%]: Average Loss = 6,094.3\n"
     ]
    },
    {
     "name": "stdout",
     "output_type": "stream",
     "text": [
      "93\n"
     ]
    },
    {
     "name": "stderr",
     "output_type": "stream",
     "text": [
      "Average Loss = 5,948.6: 100%|██████████| 55/55 [00:00<00:00, 75.94it/s]\n",
      "Finished [100%]: Average Loss = 5,943.9\n"
     ]
    },
    {
     "name": "stdout",
     "output_type": "stream",
     "text": [
      "94\n"
     ]
    },
    {
     "name": "stderr",
     "output_type": "stream",
     "text": [
      "Average Loss = 5,800: 100%|██████████| 55/55 [00:00<00:00, 76.18it/s]\n",
      "Finished [100%]: Average Loss = 5,798.6\n"
     ]
    },
    {
     "name": "stdout",
     "output_type": "stream",
     "text": [
      "95\n"
     ]
    },
    {
     "name": "stderr",
     "output_type": "stream",
     "text": [
      "Average Loss = 5,671: 100%|██████████| 55/55 [00:00<00:00, 69.05it/s]\n",
      "Finished [100%]: Average Loss = 5,656.5\n"
     ]
    },
    {
     "name": "stdout",
     "output_type": "stream",
     "text": [
      "96\n"
     ]
    },
    {
     "name": "stderr",
     "output_type": "stream",
     "text": [
      "Average Loss = 5,596.6: 100%|██████████| 55/55 [00:00<00:00, 44.62it/s]\n",
      "Finished [100%]: Average Loss = 5,587.4\n"
     ]
    },
    {
     "name": "stdout",
     "output_type": "stream",
     "text": [
      "97\n"
     ]
    },
    {
     "name": "stderr",
     "output_type": "stream",
     "text": [
      "Average Loss = 5,444.6: 100%|██████████| 55/55 [00:00<00:00, 60.29it/s]\n",
      "Finished [100%]: Average Loss = 5,432.5\n"
     ]
    },
    {
     "name": "stdout",
     "output_type": "stream",
     "text": [
      "98\n"
     ]
    },
    {
     "name": "stderr",
     "output_type": "stream",
     "text": [
      "Average Loss = 5,349.8: 100%|██████████| 55/55 [00:00<00:00, 66.81it/s]\n",
      "Finished [100%]: Average Loss = 5,354.7\n"
     ]
    },
    {
     "name": "stdout",
     "output_type": "stream",
     "text": [
      "99\n"
     ]
    },
    {
     "name": "stderr",
     "output_type": "stream",
     "text": [
      "Average Loss = 5,218.2: 100%|██████████| 55/55 [00:00<00:00, 75.61it/s]\n",
      "Finished [100%]: Average Loss = 5,210.3\n"
     ]
    },
    {
     "name": "stdout",
     "output_type": "stream",
     "text": [
      "100\n"
     ]
    },
    {
     "name": "stderr",
     "output_type": "stream",
     "text": [
      "Average Loss = 5,122.2: 100%|██████████| 55/55 [00:00<00:00, 58.27it/s]\n",
      "Finished [100%]: Average Loss = 5,130.5\n"
     ]
    },
    {
     "name": "stdout",
     "output_type": "stream",
     "text": [
      "101\n"
     ]
    },
    {
     "name": "stderr",
     "output_type": "stream",
     "text": [
      "Average Loss = 5,016.6: 100%|██████████| 55/55 [00:00<00:00, 71.91it/s]\n",
      "Finished [100%]: Average Loss = 5,005.7\n"
     ]
    },
    {
     "name": "stdout",
     "output_type": "stream",
     "text": [
      "102\n"
     ]
    },
    {
     "name": "stderr",
     "output_type": "stream",
     "text": [
      "Average Loss = 4,890.8: 100%|██████████| 55/55 [00:00<00:00, 74.87it/s]\n",
      "Finished [100%]: Average Loss = 4,891.6\n"
     ]
    },
    {
     "name": "stdout",
     "output_type": "stream",
     "text": [
      "103\n"
     ]
    },
    {
     "name": "stderr",
     "output_type": "stream",
     "text": [
      "Average Loss = 4,791.9: 100%|██████████| 55/55 [00:00<00:00, 74.56it/s]\n",
      "Finished [100%]: Average Loss = 4,788.4\n"
     ]
    },
    {
     "name": "stdout",
     "output_type": "stream",
     "text": [
      "104\n"
     ]
    },
    {
     "name": "stderr",
     "output_type": "stream",
     "text": [
      "Average Loss = 4,696.8: 100%|██████████| 55/55 [00:00<00:00, 56.73it/s]\n",
      "Finished [100%]: Average Loss = 4,693.8\n"
     ]
    },
    {
     "name": "stdout",
     "output_type": "stream",
     "text": [
      "105\n"
     ]
    },
    {
     "name": "stderr",
     "output_type": "stream",
     "text": [
      "Average Loss = 4,623.8: 100%|██████████| 55/55 [00:00<00:00, 73.31it/s]\n",
      "Finished [100%]: Average Loss = 4,616.9\n"
     ]
    },
    {
     "name": "stdout",
     "output_type": "stream",
     "text": [
      "106\n"
     ]
    },
    {
     "name": "stderr",
     "output_type": "stream",
     "text": [
      "Average Loss = 4,531.1: 100%|██████████| 55/55 [00:01<00:00, 44.35it/s]\n",
      "Finished [100%]: Average Loss = 4,519.9\n"
     ]
    },
    {
     "name": "stdout",
     "output_type": "stream",
     "text": [
      "107\n"
     ]
    },
    {
     "name": "stderr",
     "output_type": "stream",
     "text": [
      "Average Loss = 4,421.5: 100%|██████████| 55/55 [00:00<00:00, 66.89it/s]\n",
      "Finished [100%]: Average Loss = 4,419.4\n"
     ]
    },
    {
     "name": "stdout",
     "output_type": "stream",
     "text": [
      "108\n"
     ]
    },
    {
     "name": "stderr",
     "output_type": "stream",
     "text": [
      "Average Loss = 4,374.6: 100%|██████████| 55/55 [00:00<00:00, 63.36it/s]\n",
      "Finished [100%]: Average Loss = 4,366.1\n"
     ]
    },
    {
     "name": "stdout",
     "output_type": "stream",
     "text": [
      "109\n"
     ]
    },
    {
     "name": "stderr",
     "output_type": "stream",
     "text": [
      "Average Loss = 4,281.4: 100%|██████████| 55/55 [00:00<00:00, 55.49it/s]\n",
      "Finished [100%]: Average Loss = 4,279\n"
     ]
    },
    {
     "name": "stdout",
     "output_type": "stream",
     "text": [
      "110\n"
     ]
    },
    {
     "name": "stderr",
     "output_type": "stream",
     "text": [
      "Average Loss = 4,162: 100%|██████████| 55/55 [00:01<00:00, 48.25it/s]\n",
      "Finished [100%]: Average Loss = 4,161.6\n"
     ]
    },
    {
     "name": "stdout",
     "output_type": "stream",
     "text": [
      "111\n"
     ]
    },
    {
     "name": "stderr",
     "output_type": "stream",
     "text": [
      "Average Loss = 4,095.6: 100%|██████████| 55/55 [00:00<00:00, 58.43it/s]\n",
      "Finished [100%]: Average Loss = 4,087.7\n"
     ]
    },
    {
     "name": "stdout",
     "output_type": "stream",
     "text": [
      "112\n"
     ]
    },
    {
     "name": "stderr",
     "output_type": "stream",
     "text": [
      "Average Loss = 4,024.2: 100%|██████████| 55/55 [00:00<00:00, 61.20it/s]\n",
      "Finished [100%]: Average Loss = 4,031.1\n"
     ]
    },
    {
     "name": "stdout",
     "output_type": "stream",
     "text": [
      "113\n"
     ]
    },
    {
     "name": "stderr",
     "output_type": "stream",
     "text": [
      "Average Loss = 3,938.4: 100%|██████████| 55/55 [00:00<00:00, 63.61it/s]\n",
      "Finished [100%]: Average Loss = 3,934.4\n"
     ]
    },
    {
     "name": "stdout",
     "output_type": "stream",
     "text": [
      "114\n"
     ]
    },
    {
     "name": "stderr",
     "output_type": "stream",
     "text": [
      "Average Loss = 3,867.5: 100%|██████████| 55/55 [00:00<00:00, 68.53it/s]\n",
      "Finished [100%]: Average Loss = 3,870.8\n"
     ]
    },
    {
     "name": "stdout",
     "output_type": "stream",
     "text": [
      "115\n"
     ]
    },
    {
     "name": "stderr",
     "output_type": "stream",
     "text": [
      "Average Loss = 3,778.6: 100%|██████████| 55/55 [00:01<00:00, 48.66it/s]\n",
      "Finished [100%]: Average Loss = 3,782.9\n"
     ]
    },
    {
     "name": "stdout",
     "output_type": "stream",
     "text": [
      "116\n"
     ]
    },
    {
     "name": "stderr",
     "output_type": "stream",
     "text": [
      "Average Loss = 3,769.5: 100%|██████████| 55/55 [00:01<00:00, 53.33it/s]\n",
      "Finished [100%]: Average Loss = 3,762.3\n"
     ]
    },
    {
     "name": "stdout",
     "output_type": "stream",
     "text": [
      "117\n"
     ]
    },
    {
     "name": "stderr",
     "output_type": "stream",
     "text": [
      "Average Loss = 3,672.1: 100%|██████████| 55/55 [00:00<00:00, 72.63it/s]\n",
      "Finished [100%]: Average Loss = 3,665.3\n"
     ]
    },
    {
     "name": "stdout",
     "output_type": "stream",
     "text": [
      "118\n"
     ]
    },
    {
     "name": "stderr",
     "output_type": "stream",
     "text": [
      "Average Loss = 3,591.8: 100%|██████████| 55/55 [00:01<00:00, 45.10it/s]\n",
      "Finished [100%]: Average Loss = 3,586.1\n"
     ]
    },
    {
     "name": "stdout",
     "output_type": "stream",
     "text": [
      "119\n"
     ]
    },
    {
     "name": "stderr",
     "output_type": "stream",
     "text": [
      "Average Loss = 3,518.9: 100%|██████████| 55/55 [00:00<00:00, 64.46it/s]\n",
      "Finished [100%]: Average Loss = 3,523.3\n"
     ]
    },
    {
     "name": "stdout",
     "output_type": "stream",
     "text": [
      "120\n"
     ]
    },
    {
     "name": "stderr",
     "output_type": "stream",
     "text": [
      "Average Loss = 3,469.5: 100%|██████████| 55/55 [00:00<00:00, 65.38it/s]\n",
      "Finished [100%]: Average Loss = 3,461.9\n"
     ]
    },
    {
     "name": "stdout",
     "output_type": "stream",
     "text": [
      "121\n"
     ]
    },
    {
     "name": "stderr",
     "output_type": "stream",
     "text": [
      "Average Loss = 3,401.7: 100%|██████████| 55/55 [00:00<00:00, 73.95it/s]\n",
      "Finished [100%]: Average Loss = 3,401.5\n"
     ]
    },
    {
     "name": "stdout",
     "output_type": "stream",
     "text": [
      "122\n"
     ]
    },
    {
     "name": "stderr",
     "output_type": "stream",
     "text": [
      "Average Loss = 3,349: 100%|██████████| 55/55 [00:00<00:00, 65.39it/s]\n",
      "Finished [100%]: Average Loss = 3,350.9\n"
     ]
    },
    {
     "name": "stdout",
     "output_type": "stream",
     "text": [
      "123\n"
     ]
    },
    {
     "name": "stderr",
     "output_type": "stream",
     "text": [
      "Average Loss = 3,292.2: 100%|██████████| 55/55 [00:00<00:00, 70.66it/s]\n",
      "Finished [100%]: Average Loss = 3,291.5\n"
     ]
    },
    {
     "name": "stdout",
     "output_type": "stream",
     "text": [
      "124\n"
     ]
    },
    {
     "name": "stderr",
     "output_type": "stream",
     "text": [
      "Average Loss = 3,239.3: 100%|██████████| 55/55 [00:00<00:00, 72.07it/s]\n",
      "Finished [100%]: Average Loss = 3,235.4\n"
     ]
    },
    {
     "name": "stdout",
     "output_type": "stream",
     "text": [
      "125\n"
     ]
    },
    {
     "name": "stderr",
     "output_type": "stream",
     "text": [
      "Average Loss = 3,202.7: 100%|██████████| 55/55 [00:00<00:00, 71.92it/s]\n",
      "Finished [100%]: Average Loss = 3,197.5\n"
     ]
    },
    {
     "name": "stdout",
     "output_type": "stream",
     "text": [
      "126\n"
     ]
    },
    {
     "name": "stderr",
     "output_type": "stream",
     "text": [
      "Average Loss = 3,146.6: 100%|██████████| 55/55 [00:00<00:00, 66.56it/s]\n",
      "Finished [100%]: Average Loss = 3,148.4\n"
     ]
    },
    {
     "name": "stdout",
     "output_type": "stream",
     "text": [
      "127\n"
     ]
    },
    {
     "name": "stderr",
     "output_type": "stream",
     "text": [
      "Average Loss = 3,109.9: 100%|██████████| 55/55 [00:00<00:00, 70.16it/s]\n",
      "Finished [100%]: Average Loss = 3,109.5\n"
     ]
    },
    {
     "name": "stdout",
     "output_type": "stream",
     "text": [
      "128\n"
     ]
    },
    {
     "name": "stderr",
     "output_type": "stream",
     "text": [
      "Average Loss = 3,039.3: 100%|██████████| 55/55 [00:00<00:00, 71.50it/s]\n",
      "Finished [100%]: Average Loss = 3,031.1\n"
     ]
    },
    {
     "name": "stdout",
     "output_type": "stream",
     "text": [
      "129\n"
     ]
    },
    {
     "name": "stderr",
     "output_type": "stream",
     "text": [
      "Average Loss = 3,024.2: 100%|██████████| 55/55 [00:00<00:00, 69.21it/s]\n",
      "Finished [100%]: Average Loss = 3,020.2\n"
     ]
    },
    {
     "name": "stdout",
     "output_type": "stream",
     "text": [
      "130\n"
     ]
    },
    {
     "name": "stderr",
     "output_type": "stream",
     "text": [
      "Average Loss = 2,960.3: 100%|██████████| 55/55 [00:00<00:00, 70.94it/s]\n",
      "Finished [100%]: Average Loss = 2,959.4\n"
     ]
    },
    {
     "name": "stdout",
     "output_type": "stream",
     "text": [
      "131\n"
     ]
    },
    {
     "name": "stderr",
     "output_type": "stream",
     "text": [
      "Average Loss = 2,934.1: 100%|██████████| 55/55 [00:00<00:00, 71.37it/s]\n",
      "Finished [100%]: Average Loss = 2,933.1\n"
     ]
    },
    {
     "name": "stdout",
     "output_type": "stream",
     "text": [
      "132\n"
     ]
    },
    {
     "name": "stderr",
     "output_type": "stream",
     "text": [
      "Average Loss = 2,884.2: 100%|██████████| 55/55 [00:00<00:00, 69.03it/s]\n",
      "Finished [100%]: Average Loss = 2,881.7\n"
     ]
    },
    {
     "name": "stdout",
     "output_type": "stream",
     "text": [
      "133\n"
     ]
    },
    {
     "name": "stderr",
     "output_type": "stream",
     "text": [
      "Average Loss = 2,839.7: 100%|██████████| 55/55 [00:00<00:00, 70.15it/s]\n",
      "Finished [100%]: Average Loss = 2,836.5\n"
     ]
    },
    {
     "name": "stdout",
     "output_type": "stream",
     "text": [
      "134\n"
     ]
    },
    {
     "name": "stderr",
     "output_type": "stream",
     "text": [
      "Average Loss = 2,823.9: 100%|██████████| 55/55 [00:00<00:00, 75.53it/s]\n",
      "Finished [100%]: Average Loss = 2,819.6\n"
     ]
    },
    {
     "name": "stdout",
     "output_type": "stream",
     "text": [
      "135\n"
     ]
    },
    {
     "name": "stderr",
     "output_type": "stream",
     "text": [
      "Average Loss = 2,833.5: 100%|██████████| 55/55 [00:00<00:00, 74.74it/s]\n",
      "Finished [100%]: Average Loss = 2,825.1\n"
     ]
    },
    {
     "name": "stdout",
     "output_type": "stream",
     "text": [
      "136\n"
     ]
    },
    {
     "name": "stderr",
     "output_type": "stream",
     "text": [
      "Average Loss = 2,724.4: 100%|██████████| 55/55 [00:00<00:00, 75.64it/s]\n",
      "Finished [100%]: Average Loss = 2,717.5\n"
     ]
    },
    {
     "name": "stdout",
     "output_type": "stream",
     "text": [
      "137\n"
     ]
    },
    {
     "name": "stderr",
     "output_type": "stream",
     "text": [
      "Average Loss = 2,691.5: 100%|██████████| 55/55 [00:00<00:00, 72.88it/s]\n",
      "Finished [100%]: Average Loss = 2,683.8\n"
     ]
    },
    {
     "name": "stdout",
     "output_type": "stream",
     "text": [
      "138\n"
     ]
    },
    {
     "name": "stderr",
     "output_type": "stream",
     "text": [
      "Average Loss = 2,644.6: 100%|██████████| 55/55 [00:00<00:00, 72.16it/s]\n",
      "Finished [100%]: Average Loss = 2,651\n"
     ]
    },
    {
     "name": "stdout",
     "output_type": "stream",
     "text": [
      "139\n"
     ]
    },
    {
     "name": "stderr",
     "output_type": "stream",
     "text": [
      "Average Loss = 2,636.2: 100%|██████████| 55/55 [00:00<00:00, 69.20it/s]\n",
      "Finished [100%]: Average Loss = 2,647\n"
     ]
    },
    {
     "name": "stdout",
     "output_type": "stream",
     "text": [
      "140\n"
     ]
    },
    {
     "name": "stderr",
     "output_type": "stream",
     "text": [
      "Average Loss = 2,585.1: 100%|██████████| 55/55 [00:00<00:00, 73.19it/s]\n",
      "Finished [100%]: Average Loss = 2,586.7\n"
     ]
    },
    {
     "name": "stdout",
     "output_type": "stream",
     "text": [
      "141\n"
     ]
    },
    {
     "name": "stderr",
     "output_type": "stream",
     "text": [
      "Average Loss = 2,579.8: 100%|██████████| 55/55 [00:00<00:00, 70.52it/s]\n",
      "Finished [100%]: Average Loss = 2,576.6\n"
     ]
    },
    {
     "name": "stdout",
     "output_type": "stream",
     "text": [
      "142\n"
     ]
    },
    {
     "name": "stderr",
     "output_type": "stream",
     "text": [
      "Average Loss = 2,515.2: 100%|██████████| 55/55 [00:00<00:00, 59.80it/s]\n",
      "Finished [100%]: Average Loss = 2,514.3\n"
     ]
    },
    {
     "name": "stdout",
     "output_type": "stream",
     "text": [
      "143\n"
     ]
    },
    {
     "name": "stderr",
     "output_type": "stream",
     "text": [
      "Average Loss = 2,532.7: 100%|██████████| 55/55 [00:00<00:00, 69.12it/s]\n",
      "Finished [100%]: Average Loss = 2,530\n"
     ]
    },
    {
     "name": "stdout",
     "output_type": "stream",
     "text": [
      "144\n"
     ]
    },
    {
     "name": "stderr",
     "output_type": "stream",
     "text": [
      "Average Loss = 2,482.3: 100%|██████████| 55/55 [00:00<00:00, 70.29it/s]\n",
      "Finished [100%]: Average Loss = 2,483.1\n"
     ]
    },
    {
     "name": "stdout",
     "output_type": "stream",
     "text": [
      "145\n"
     ]
    },
    {
     "name": "stderr",
     "output_type": "stream",
     "text": [
      "Average Loss = 2,451: 100%|██████████| 55/55 [00:00<00:00, 65.41it/s]\n",
      "Finished [100%]: Average Loss = 2,445.7\n"
     ]
    },
    {
     "name": "stdout",
     "output_type": "stream",
     "text": [
      "146\n"
     ]
    },
    {
     "name": "stderr",
     "output_type": "stream",
     "text": [
      "Average Loss = 2,444.1: 100%|██████████| 55/55 [00:00<00:00, 56.21it/s]\n",
      "Finished [100%]: Average Loss = 2,443.9\n"
     ]
    },
    {
     "name": "stdout",
     "output_type": "stream",
     "text": [
      "147\n"
     ]
    },
    {
     "name": "stderr",
     "output_type": "stream",
     "text": [
      "Average Loss = 2,427.1: 100%|██████████| 55/55 [00:00<00:00, 65.42it/s]\n",
      "Finished [100%]: Average Loss = 2,427.4\n"
     ]
    },
    {
     "name": "stdout",
     "output_type": "stream",
     "text": [
      "148\n"
     ]
    },
    {
     "name": "stderr",
     "output_type": "stream",
     "text": [
      "Average Loss = 2,374.2: 100%|██████████| 55/55 [00:01<00:00, 49.44it/s]\n",
      "Finished [100%]: Average Loss = 2,376.7\n"
     ]
    },
    {
     "name": "stdout",
     "output_type": "stream",
     "text": [
      "149\n"
     ]
    },
    {
     "name": "stderr",
     "output_type": "stream",
     "text": [
      "Average Loss = 2,364.8: 100%|██████████| 55/55 [00:01<00:00, 44.01it/s]\n",
      "Finished [100%]: Average Loss = 2,368.3\n"
     ]
    },
    {
     "name": "stdout",
     "output_type": "stream",
     "text": [
      "150\n"
     ]
    },
    {
     "name": "stderr",
     "output_type": "stream",
     "text": [
      "Average Loss = 2,332.9: 100%|██████████| 55/55 [00:00<00:00, 67.39it/s]\n",
      "Finished [100%]: Average Loss = 2,340\n"
     ]
    },
    {
     "name": "stdout",
     "output_type": "stream",
     "text": [
      "151\n"
     ]
    },
    {
     "name": "stderr",
     "output_type": "stream",
     "text": [
      "Average Loss = 2,311.7: 100%|██████████| 55/55 [00:01<00:00, 50.83it/s]\n",
      "Finished [100%]: Average Loss = 2,317.1\n"
     ]
    },
    {
     "name": "stdout",
     "output_type": "stream",
     "text": [
      "152\n"
     ]
    },
    {
     "name": "stderr",
     "output_type": "stream",
     "text": [
      "Average Loss = 2,313.1: 100%|██████████| 55/55 [00:01<00:00, 50.10it/s]\n",
      "Finished [100%]: Average Loss = 2,310.1\n"
     ]
    },
    {
     "name": "stdout",
     "output_type": "stream",
     "text": [
      "153\n"
     ]
    },
    {
     "name": "stderr",
     "output_type": "stream",
     "text": [
      "Average Loss = 2,266.4: 100%|██████████| 55/55 [00:00<00:00, 69.51it/s]\n",
      "Finished [100%]: Average Loss = 2,264.2\n"
     ]
    },
    {
     "name": "stdout",
     "output_type": "stream",
     "text": [
      "154\n"
     ]
    },
    {
     "name": "stderr",
     "output_type": "stream",
     "text": [
      "Average Loss = 2,236.7: 100%|██████████| 55/55 [00:00<00:00, 69.31it/s]\n",
      "Finished [100%]: Average Loss = 2,238.6\n"
     ]
    },
    {
     "name": "stdout",
     "output_type": "stream",
     "text": [
      "155\n"
     ]
    },
    {
     "name": "stderr",
     "output_type": "stream",
     "text": [
      "Average Loss = 2,255.3: 100%|██████████| 55/55 [00:00<00:00, 70.04it/s]\n",
      "Finished [100%]: Average Loss = 2,246.7\n"
     ]
    },
    {
     "name": "stdout",
     "output_type": "stream",
     "text": [
      "156\n"
     ]
    },
    {
     "name": "stderr",
     "output_type": "stream",
     "text": [
      "Average Loss = 2,227.5: 100%|██████████| 55/55 [00:00<00:00, 69.15it/s]\n",
      "Finished [100%]: Average Loss = 2,220.6\n"
     ]
    },
    {
     "name": "stdout",
     "output_type": "stream",
     "text": [
      "157\n"
     ]
    },
    {
     "name": "stderr",
     "output_type": "stream",
     "text": [
      "Average Loss = 2,187.2: 100%|██████████| 55/55 [00:00<00:00, 68.57it/s]\n",
      "Finished [100%]: Average Loss = 2,184\n"
     ]
    },
    {
     "name": "stdout",
     "output_type": "stream",
     "text": [
      "158\n"
     ]
    },
    {
     "name": "stderr",
     "output_type": "stream",
     "text": [
      "Average Loss = 2,158.2: 100%|██████████| 55/55 [00:00<00:00, 70.08it/s]\n",
      "Finished [100%]: Average Loss = 2,160.3\n"
     ]
    },
    {
     "name": "stdout",
     "output_type": "stream",
     "text": [
      "159\n"
     ]
    },
    {
     "name": "stderr",
     "output_type": "stream",
     "text": [
      "Average Loss = 2,162.3: 100%|██████████| 55/55 [00:00<00:00, 74.88it/s]\n",
      "Finished [100%]: Average Loss = 2,156.3\n"
     ]
    },
    {
     "name": "stdout",
     "output_type": "stream",
     "text": [
      "160\n"
     ]
    },
    {
     "name": "stderr",
     "output_type": "stream",
     "text": [
      "Average Loss = 2,117.9: 100%|██████████| 55/55 [00:00<00:00, 74.42it/s]\n",
      "Finished [100%]: Average Loss = 2,119.2\n"
     ]
    },
    {
     "name": "stdout",
     "output_type": "stream",
     "text": [
      "161\n"
     ]
    },
    {
     "name": "stderr",
     "output_type": "stream",
     "text": [
      "Average Loss = 2,115.6: 100%|██████████| 55/55 [00:00<00:00, 73.66it/s]\n",
      "Finished [100%]: Average Loss = 2,116.5\n"
     ]
    },
    {
     "name": "stdout",
     "output_type": "stream",
     "text": [
      "162\n"
     ]
    },
    {
     "name": "stderr",
     "output_type": "stream",
     "text": [
      "Average Loss = 2,141.3: 100%|██████████| 55/55 [00:00<00:00, 75.22it/s]\n",
      "Finished [100%]: Average Loss = 2,138.6\n"
     ]
    },
    {
     "name": "stdout",
     "output_type": "stream",
     "text": [
      "163\n"
     ]
    },
    {
     "name": "stderr",
     "output_type": "stream",
     "text": [
      "Average Loss = 2,122.7: 100%|██████████| 55/55 [00:00<00:00, 74.67it/s]\n",
      "Finished [100%]: Average Loss = 2,123\n"
     ]
    },
    {
     "name": "stdout",
     "output_type": "stream",
     "text": [
      "164\n"
     ]
    },
    {
     "name": "stderr",
     "output_type": "stream",
     "text": [
      "Average Loss = 2,078.3: 100%|██████████| 55/55 [00:00<00:00, 73.60it/s]\n",
      "Finished [100%]: Average Loss = 2,080\n"
     ]
    },
    {
     "name": "stdout",
     "output_type": "stream",
     "text": [
      "165\n"
     ]
    },
    {
     "name": "stderr",
     "output_type": "stream",
     "text": [
      "Average Loss = 2,119.9: 100%|██████████| 55/55 [00:00<00:00, 74.69it/s]\n",
      "Finished [100%]: Average Loss = 2,114.1\n"
     ]
    },
    {
     "name": "stdout",
     "output_type": "stream",
     "text": [
      "166\n"
     ]
    },
    {
     "name": "stderr",
     "output_type": "stream",
     "text": [
      "Average Loss = 2,104.2: 100%|██████████| 55/55 [00:00<00:00, 74.54it/s]\n",
      "Finished [100%]: Average Loss = 2,106.2\n"
     ]
    },
    {
     "name": "stdout",
     "output_type": "stream",
     "text": [
      "167\n"
     ]
    },
    {
     "name": "stderr",
     "output_type": "stream",
     "text": [
      "Average Loss = 2,057.3: 100%|██████████| 55/55 [00:00<00:00, 73.92it/s]\n",
      "Finished [100%]: Average Loss = 2,052.7\n"
     ]
    },
    {
     "name": "stdout",
     "output_type": "stream",
     "text": [
      "168\n"
     ]
    },
    {
     "name": "stderr",
     "output_type": "stream",
     "text": [
      "Average Loss = 2,029.3: 100%|██████████| 55/55 [00:00<00:00, 74.37it/s]\n",
      "Finished [100%]: Average Loss = 2,028.3\n"
     ]
    },
    {
     "name": "stdout",
     "output_type": "stream",
     "text": [
      "169\n"
     ]
    },
    {
     "name": "stderr",
     "output_type": "stream",
     "text": [
      "Average Loss = 2,026: 100%|██████████| 55/55 [00:00<00:00, 74.27it/s]\n",
      "Finished [100%]: Average Loss = 2,031.5\n"
     ]
    },
    {
     "name": "stdout",
     "output_type": "stream",
     "text": [
      "170\n"
     ]
    },
    {
     "name": "stderr",
     "output_type": "stream",
     "text": [
      "Average Loss = 2,026.8: 100%|██████████| 55/55 [00:00<00:00, 74.73it/s]\n",
      "Finished [100%]: Average Loss = 2,025.3\n"
     ]
    },
    {
     "name": "stdout",
     "output_type": "stream",
     "text": [
      "171\n"
     ]
    },
    {
     "name": "stderr",
     "output_type": "stream",
     "text": [
      "Average Loss = 2,021.3: 100%|██████████| 55/55 [00:00<00:00, 73.57it/s]\n",
      "Finished [100%]: Average Loss = 2,021.9\n"
     ]
    },
    {
     "name": "stdout",
     "output_type": "stream",
     "text": [
      "172\n"
     ]
    },
    {
     "name": "stderr",
     "output_type": "stream",
     "text": [
      "Average Loss = 2,044.7: 100%|██████████| 55/55 [00:00<00:00, 74.23it/s]\n",
      "Finished [100%]: Average Loss = 2,041.5\n"
     ]
    },
    {
     "name": "stdout",
     "output_type": "stream",
     "text": [
      "173\n"
     ]
    },
    {
     "name": "stderr",
     "output_type": "stream",
     "text": [
      "Average Loss = 1,993.7: 100%|██████████| 55/55 [00:00<00:00, 74.84it/s]\n",
      "Finished [100%]: Average Loss = 1,989.9\n"
     ]
    },
    {
     "name": "stdout",
     "output_type": "stream",
     "text": [
      "174\n"
     ]
    },
    {
     "name": "stderr",
     "output_type": "stream",
     "text": [
      "Average Loss = 1,990.9: 100%|██████████| 55/55 [00:00<00:00, 74.03it/s]\n",
      "Finished [100%]: Average Loss = 1,993.7\n"
     ]
    },
    {
     "name": "stdout",
     "output_type": "stream",
     "text": [
      "175\n"
     ]
    },
    {
     "name": "stderr",
     "output_type": "stream",
     "text": [
      "Average Loss = 2,011.6: 100%|██████████| 55/55 [00:00<00:00, 74.24it/s]\n",
      "Finished [100%]: Average Loss = 2,011.6\n"
     ]
    },
    {
     "name": "stdout",
     "output_type": "stream",
     "text": [
      "176\n"
     ]
    },
    {
     "name": "stderr",
     "output_type": "stream",
     "text": [
      "Average Loss = 2,007: 100%|██████████| 55/55 [00:00<00:00, 73.70it/s]\n",
      "Finished [100%]: Average Loss = 2,013.7\n"
     ]
    },
    {
     "name": "stdout",
     "output_type": "stream",
     "text": [
      "177\n"
     ]
    },
    {
     "name": "stderr",
     "output_type": "stream",
     "text": [
      "Average Loss = 1,980.2: 100%|██████████| 55/55 [00:00<00:00, 74.89it/s]\n",
      "Finished [100%]: Average Loss = 1,978.1\n"
     ]
    },
    {
     "name": "stdout",
     "output_type": "stream",
     "text": [
      "178\n"
     ]
    },
    {
     "name": "stderr",
     "output_type": "stream",
     "text": [
      "Average Loss = 1,937.4: 100%|██████████| 55/55 [00:00<00:00, 74.66it/s]\n",
      "Finished [100%]: Average Loss = 1,941.9\n"
     ]
    },
    {
     "name": "stdout",
     "output_type": "stream",
     "text": [
      "179\n"
     ]
    },
    {
     "name": "stderr",
     "output_type": "stream",
     "text": [
      "Average Loss = 1,939: 100%|██████████| 55/55 [00:00<00:00, 74.71it/s]\n",
      "Finished [100%]: Average Loss = 1,932.4\n"
     ]
    },
    {
     "name": "stdout",
     "output_type": "stream",
     "text": [
      "180\n"
     ]
    },
    {
     "name": "stderr",
     "output_type": "stream",
     "text": [
      "Average Loss = 1,958.8: 100%|██████████| 55/55 [00:00<00:00, 74.64it/s]\n",
      "Finished [100%]: Average Loss = 1,956.9\n"
     ]
    },
    {
     "name": "stdout",
     "output_type": "stream",
     "text": [
      "181\n"
     ]
    },
    {
     "name": "stderr",
     "output_type": "stream",
     "text": [
      "Average Loss = 1,934.8: 100%|██████████| 55/55 [00:00<00:00, 75.06it/s]\n",
      "Finished [100%]: Average Loss = 1,934.4\n"
     ]
    },
    {
     "name": "stdout",
     "output_type": "stream",
     "text": [
      "182\n"
     ]
    },
    {
     "name": "stderr",
     "output_type": "stream",
     "text": [
      "Average Loss = 1,906.1: 100%|██████████| 55/55 [00:00<00:00, 73.13it/s]\n",
      "Finished [100%]: Average Loss = 1,905.1\n"
     ]
    },
    {
     "name": "stdout",
     "output_type": "stream",
     "text": [
      "183\n"
     ]
    },
    {
     "name": "stderr",
     "output_type": "stream",
     "text": [
      "Average Loss = 1,917.2: 100%|██████████| 55/55 [00:00<00:00, 74.54it/s]\n",
      "Finished [100%]: Average Loss = 1,922.3\n"
     ]
    },
    {
     "name": "stdout",
     "output_type": "stream",
     "text": [
      "184\n"
     ]
    },
    {
     "name": "stderr",
     "output_type": "stream",
     "text": [
      "Average Loss = 1,922.1: 100%|██████████| 55/55 [00:00<00:00, 74.95it/s]\n",
      "Finished [100%]: Average Loss = 1,924.7\n"
     ]
    },
    {
     "name": "stdout",
     "output_type": "stream",
     "text": [
      "185\n"
     ]
    },
    {
     "name": "stderr",
     "output_type": "stream",
     "text": [
      "Average Loss = 1,899.3: 100%|██████████| 55/55 [00:00<00:00, 74.72it/s]\n",
      "Finished [100%]: Average Loss = 1,905.7\n"
     ]
    },
    {
     "name": "stdout",
     "output_type": "stream",
     "text": [
      "186\n"
     ]
    },
    {
     "name": "stderr",
     "output_type": "stream",
     "text": [
      "Average Loss = 1,882.3: 100%|██████████| 55/55 [00:00<00:00, 74.43it/s]\n",
      "Finished [100%]: Average Loss = 1,887.6\n"
     ]
    },
    {
     "name": "stdout",
     "output_type": "stream",
     "text": [
      "187\n"
     ]
    },
    {
     "name": "stderr",
     "output_type": "stream",
     "text": [
      "Average Loss = 1,937.3: 100%|██████████| 55/55 [00:00<00:00, 74.90it/s]\n",
      "Finished [100%]: Average Loss = 1,926.5\n"
     ]
    },
    {
     "name": "stdout",
     "output_type": "stream",
     "text": [
      "188\n"
     ]
    },
    {
     "name": "stderr",
     "output_type": "stream",
     "text": [
      "Average Loss = 1,891.4: 100%|██████████| 55/55 [00:00<00:00, 73.52it/s]\n",
      "Finished [100%]: Average Loss = 1,895.6\n"
     ]
    },
    {
     "name": "stdout",
     "output_type": "stream",
     "text": [
      "189\n"
     ]
    },
    {
     "name": "stderr",
     "output_type": "stream",
     "text": [
      "Average Loss = 1,910.7: 100%|██████████| 55/55 [00:00<00:00, 73.88it/s]\n",
      "Finished [100%]: Average Loss = 1,916.8\n"
     ]
    },
    {
     "name": "stdout",
     "output_type": "stream",
     "text": [
      "190\n"
     ]
    },
    {
     "name": "stderr",
     "output_type": "stream",
     "text": [
      "Average Loss = 1,895.6: 100%|██████████| 55/55 [00:00<00:00, 74.63it/s]\n",
      "Finished [100%]: Average Loss = 1,891.9\n"
     ]
    },
    {
     "name": "stdout",
     "output_type": "stream",
     "text": [
      "191\n"
     ]
    },
    {
     "name": "stderr",
     "output_type": "stream",
     "text": [
      "Average Loss = 1,905.4: 100%|██████████| 55/55 [00:00<00:00, 72.27it/s]\n",
      "Finished [100%]: Average Loss = 1,898.5\n"
     ]
    },
    {
     "name": "stdout",
     "output_type": "stream",
     "text": [
      "192\n"
     ]
    },
    {
     "name": "stderr",
     "output_type": "stream",
     "text": [
      "Average Loss = 1,889: 100%|██████████| 55/55 [00:00<00:00, 70.10it/s]\n",
      "Finished [100%]: Average Loss = 1,889.6\n"
     ]
    },
    {
     "name": "stdout",
     "output_type": "stream",
     "text": [
      "193\n"
     ]
    },
    {
     "name": "stderr",
     "output_type": "stream",
     "text": [
      "Average Loss = 1,899.3: 100%|██████████| 55/55 [00:00<00:00, 70.86it/s]\n",
      "Finished [100%]: Average Loss = 1,896.8\n"
     ]
    },
    {
     "name": "stdout",
     "output_type": "stream",
     "text": [
      "194\n"
     ]
    },
    {
     "name": "stderr",
     "output_type": "stream",
     "text": [
      "Average Loss = 1,861.8: 100%|██████████| 55/55 [00:00<00:00, 73.65it/s]\n",
      "Finished [100%]: Average Loss = 1,856.8\n"
     ]
    },
    {
     "name": "stdout",
     "output_type": "stream",
     "text": [
      "195\n"
     ]
    },
    {
     "name": "stderr",
     "output_type": "stream",
     "text": [
      "Average Loss = 1,872: 100%|██████████| 55/55 [00:00<00:00, 74.50it/s]\n",
      "Finished [100%]: Average Loss = 1,871.8\n"
     ]
    },
    {
     "name": "stdout",
     "output_type": "stream",
     "text": [
      "196\n"
     ]
    },
    {
     "name": "stderr",
     "output_type": "stream",
     "text": [
      "Average Loss = 1,915.3: 100%|██████████| 55/55 [00:00<00:00, 74.86it/s]\n",
      "Finished [100%]: Average Loss = 1,908.7\n"
     ]
    },
    {
     "name": "stdout",
     "output_type": "stream",
     "text": [
      "197\n"
     ]
    },
    {
     "name": "stderr",
     "output_type": "stream",
     "text": [
      "Average Loss = 1,859.2: 100%|██████████| 55/55 [00:00<00:00, 74.94it/s]\n",
      "Finished [100%]: Average Loss = 1,861.2\n"
     ]
    },
    {
     "name": "stdout",
     "output_type": "stream",
     "text": [
      "198\n"
     ]
    },
    {
     "name": "stderr",
     "output_type": "stream",
     "text": [
      "Average Loss = 1,861.5: 100%|██████████| 55/55 [00:00<00:00, 74.02it/s]\n",
      "Finished [100%]: Average Loss = 1,856.7\n"
     ]
    },
    {
     "name": "stdout",
     "output_type": "stream",
     "text": [
      "199\n"
     ]
    },
    {
     "name": "stderr",
     "output_type": "stream",
     "text": [
      "Average Loss = 1,871.3: 100%|██████████| 55/55 [00:00<00:00, 74.64it/s]\n",
      "Finished [100%]: Average Loss = 1,875.2\n"
     ]
    }
   ],
   "source": [
    "n_initial_samples = 50\n",
    "n_epochs = 4\n",
    "n_hidden = 128\n",
    "\n",
    "n_active_learning_iterations = 200\n",
    "n_test_uncertainty = 50\n",
    "n_cat_data_points = 5\n",
    "n_replay_data_points = 50\n",
    "\n",
    "print('RUNNING ACTIVE LEARNING')\n",
    "# initialize model\n",
    "NN_model_active, advi_active, approx_active, ind_used, ind_remaining = \\\n",
    "    initialize_network(X_train, y_train, n_initial_samples, n_epochs, n_hidden)\n",
    "# run active learning\n",
    "advi_active, approx_active, ind_used_active, replay_ind_list_active = run_active_learning(\n",
    "    NN_model_active, advi_active, ind_used, ind_remaining, n_active_learning_iterations, \n",
    "    n_test_uncertainty, n_cat_data_points, n_replay_data_points)\n",
    "\n",
    "print('RUNNING ACTIVE LEARNING CONTROL')\n",
    "# initialize model\n",
    "NN_model_control, advi_control, approx_control, ind_used, ind_remaining = \\\n",
    "    initialize_network(X_train, y_train, n_initial_samples, n_epochs, n_hidden)\n",
    "# run active learning control\n",
    "advi_control, approx_control, ind_used_control, replay_ind_list_control = run_active_learning_control(\n",
    "    NN_model_control, advi_control, ind_used, ind_remaining, n_active_learning_iterations,\n",
    "    n_cat_data_points, n_replay_data_points)"
   ]
  },
  {
   "cell_type": "markdown",
   "metadata": {},
   "source": [
    "#### Compare active learning to control"
   ]
  },
  {
   "cell_type": "code",
   "execution_count": 343,
   "metadata": {},
   "outputs": [
    {
     "data": {
      "image/png": "[encoded data removed]",
      "text/plain": [
       "<matplotlib.figure.Figure at 0x21344a2e48>"
      ]
     },
     "metadata": {
      "needs_background": "light"
     },
     "output_type": "display_data"
    }
   ],
   "source": [
    "elbo_1 = -advi_active.hist\n",
    "elbo_2 = -advi_control.hist\n",
    "\n",
    "figsize = (8,3); fontsize = 16;\n",
    "f, ax = plt.subplots(1,1,figsize=figsize);\n",
    "\n",
    "ax.plot(elbo_1,label='active')\n",
    "ax.plot(elbo_2,label='control')\n",
    "ax.legend()\n",
    "ax.set_ylabel('ELBO',fontsize=fontsize)\n",
    "ax.set_xlabel('iteration',fontsize=fontsize);\n",
    "sns.despine();"
   ]
  },
  {
   "cell_type": "markdown",
   "metadata": {},
   "source": [
    "### Assess test performance"
   ]
  },
  {
   "cell_type": "code",
   "execution_count": 344,
   "metadata": {},
   "outputs": [
    {
     "name": "stderr",
     "output_type": "stream",
     "text": [
      "100%|██████████| 100/100 [00:50<00:00,  2.03it/s]\n",
      "100%|██████████| 100/100 [00:57<00:00,  2.03it/s]\n"
     ]
    }
   ],
   "source": [
    "# Draw samples from variational posterior (the weights in the network)\n",
    "n_draws = 200 # > 2k hangs for almost all network sizes on my 2018 MBP -SH\n",
    "trace_control = approx_control.sample(draws=n_draws)\n",
    "trace_active = approx_active.sample(draws=n_draws)\n",
    "\n",
    "(n_test,n_input) = X_test.shape\n",
    "test_x = theano.shared(X_test)\n",
    "test_y = theano.shared(y_test)\n",
    "\n",
    "# test active learning \n",
    "NN_model_test = construct_nn(test_x, test_y, n_input, n_output, n_test, n_hidden_1=128)\n",
    "n_samples = 100\n",
    "with NN_model_test:\n",
    "    ppc_test_active = pm.sample_ppc(trace_active, samples=n_samples)\n",
    "\n",
    "# test control\n",
    "NN_model_test = construct_nn(test_x, test_y, n_input, n_output, n_test, n_hidden_1=128)\n",
    "n_samples = 100\n",
    "with NN_model_test:\n",
    "    ppc_test_control = pm.sample_ppc(trace_control, samples=n_samples)"
   ]
  },
  {
   "cell_type": "code",
   "execution_count": 345,
   "metadata": {},
   "outputs": [
    {
     "name": "stdout",
     "output_type": "stream",
     "text": [
      "Network Test Set Performance Active Learning: 0.498600\n",
      "Network Test Set Performance Control: 0.531900\n"
     ]
    }
   ],
   "source": [
    "# Prediction is mode of each\n",
    "test_y_pred_active = mode(ppc_test_active['out'], axis=0).mode[0,:]\n",
    "test_y_pred_control = mode(ppc_test_control['out'], axis=0).mode[0,:]\n",
    "\n",
    "mean_test_perf = np.mean(test_y_pred_active==y_test)\n",
    "print(\"Network Test Set Performance Active Learning: {:f}\".format(mean_test_perf))\n",
    "mean_test_perf = np.mean(test_y_pred_control==y_test)\n",
    "print(\"Network Test Set Performance Control: {:f}\".format(mean_test_perf))"
   ]
  },
  {
   "cell_type": "markdown",
   "metadata": {},
   "source": [
    "Comparing the test performance, we see a tiny improvement with active learning relative to the control network. Below, we are plotting the number of training samples from each category that are used, and we can see that more samples are used from less certain categories. The error between the confusion matrix and the identity matrix is also very slightly lower with active learning and without. "
   ]
  },
  {
   "cell_type": "code",
   "execution_count": 362,
   "metadata": {},
   "outputs": [
    {
     "name": "stdout",
     "output_type": "stream",
     "text": [
      "9658\n",
      "9950\n"
     ]
    },
    {
     "data": {
      "image/png": "[encoded data removed]",
      "text/plain": [
       "<matplotlib.figure.Figure at 0x21b4fbaac8>"
      ]
     },
     "metadata": {
      "needs_background": "light"
     },
     "output_type": "display_data"
    }
   ],
   "source": [
    "fig, ax = plt.subplots(1, 2, figsize=(12,4))\n",
    "\n",
    "len_ind_used_active = [len(x) for x in ind_used_active]\n",
    "len_ind_used_control = [len(x) for x in ind_used_control]\n",
    "\n",
    "cat_used_active = [y_train[x.astype(int)] for x in ind_used_active]\n",
    "cat_used_active = [item for cat in cat_used_active for item in cat]\n",
    "cat_used_control = [y_train[x.astype(int)] for x in ind_used_control]\n",
    "cat_used_control = [item for cat in cat_used_control for item in cat]\n",
    "\n",
    "ax[0].hist(cat_used_active, bins=10, color='blue', alpha=.25, label='active')\n",
    "ax[0].hist(cat_used_control, bins=10, color='green', alpha=.25, label='control')\n",
    "ax[0].set_title('Training Data Subset by Category')\n",
    "ax[0].set_xlabel('category')\n",
    "ax[0].set_ylabel('num training data used')\n",
    "ax[0].legend()\n",
    "\n",
    "ax[1].hist(y_train[replay_ind_list_active.astype(int)], bins=10, color='blue', alpha=.25, label='active')\n",
    "ax[1].hist(y_train[replay_ind_list_control.astype(int)], bins=10, color='green', alpha=.25, label='control')\n",
    "ax[1].set_title('Replay Data by Category')\n",
    "ax[1].set_xlabel('category')\n",
    "ax[1].set_ylabel('num replay data used')\n",
    "fig.show()\n",
    "\n",
    "print(len(replay_ind_list_active))\n",
    "print(len(replay_ind_list_control))"
   ]
  },
  {
   "cell_type": "code",
   "execution_count": 363,
   "metadata": {},
   "outputs": [
    {
     "name": "stdout",
     "output_type": "stream",
     "text": [
      "active error =  0.066549949732\n",
      "control error =  0.068745160728\n"
     ]
    },
    {
     "data": {
      "image/png": "[encoded data removed]",
      "text/plain": [
       "<matplotlib.figure.Figure at 0x20f79a0390>"
      ]
     },
     "metadata": {
      "needs_background": "light"
     },
     "output_type": "display_data"
    }
   ],
   "source": [
    "fig, ax = plt.subplots(1, 2, figsize=(12,4))\n",
    "\n",
    "one_hot, cat_hist, cat_entropy, cat_KL = get_cat_entropy(X_test, y_test, ppc_test_active)\n",
    "act_diff_identity = np.sum((cat_hist/np.sum(cat_hist) - np.eye(10)/10)**2)\n",
    "ax[0].imshow(cat_hist)\n",
    "ax[0].set_title('Confusion Matrix Active Learning')\n",
    "\n",
    "one_hot, cat_hist, cat_entropy, cat_KL = get_cat_entropy(X_test, y_test, ppc_test_control)\n",
    "cont_diff_identity = np.sum((cat_hist/np.sum(cat_hist) - np.eye(10)/10)**2)\n",
    "ax[1].imshow(cat_hist)\n",
    "ax[1].set_title('Confusion Matrix Control')\n",
    "\n",
    "fig.show()\n",
    "\n",
    "print('active error = ', act_diff_identity)\n",
    "print('control error = ', cont_diff_identity)"
   ]
  },
  {
   "cell_type": "markdown",
   "metadata": {},
   "source": [
    "Unfortunately, we really don't see an effect of active learning with this example. \n",
    "\n",
    "Though it is disappointing not to see a large effect of active learning in this example, it is not very surprising. This is a pretty contrived example, where we make the network intentionally less powerful by eliminating minibatches. It could be that this performance is jsut as well as it can do at this point. \n",
    "\n",
    "1) Larger data set\n",
    "2) More complex task \n",
    "\n",
    "This is a relatively contrived example of using active learning, but it is a very useful concept. It is particularly useful when computation time is a limited resource relative to the data available. In this case it is very important to choose training data that will be most useful for improving performance. For example, in reinforcement learning type problems, an agent interacts witht the world in order to learn how to maximize its reward. Uncertainty can be used in this type of problem as a principled method for driving exploration. It is important for the agent to explore to avoid getting stuck in local minima, but one it is sufficiently certain about the environment it is better for the agent to reduce exploring and exploit the strategy that it has found to be best. "
   ]
  },
  {
   "cell_type": "markdown",
   "metadata": {},
   "source": [
    "Notes: \n",
    "- amount of data replayed from each category\n",
    "- Need to deal with getting enough replay point at beginning, or at least making sure the control is the same"
   ]
  }
 ],
 "metadata": {
  "kernelspec": {
   "display_name": "Python 3",
   "language": "python",
   "name": "python3"
  },
  "language_info": {
   "codemirror_mode": {
    "name": "ipython",
    "version": 3
   },
   "file_extension": ".py",
   "mimetype": "text/x-python",
   "name": "python",
   "nbconvert_exporter": "python",
   "pygments_lexer": "ipython3",
   "version": "3.6.2"
  }
 },
 "nbformat": 4,
 "nbformat_minor": 2
}
